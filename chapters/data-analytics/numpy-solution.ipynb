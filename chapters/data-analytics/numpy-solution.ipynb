{
 "cells": [
  {
   "cell_type": "markdown",
   "id": "5202ee2c",
   "metadata": {},
   "source": [
    "# NumPy Solution"
   ]
  },
  {
   "cell_type": "markdown",
   "id": "fe90719f",
   "metadata": {},
   "source": [
    "## Task\n",
    "In machine learning tasks, when we deal with data from different features, it is very common that we need to normalize data so that the different units among features would not affect the performances of machine learning algorithms.\n",
    "\n",
    "Now we have temperature and precipitation observations from 7 sites. Write a line of code to accomplish Min-Max normalization for each feature.\n",
    "\n",
    "Hint: The equation of Min-Max normalization to $x$ is \n",
    "$\n",
    "\\begin{align}\n",
    "x_{norm} = \\frac{x-\\min(x)}{\\max(x)-\\min(x)}\n",
    "\\end{align}\n",
    "$"
   ]
  },
  {
   "cell_type": "code",
   "execution_count": 4,
   "id": "3ae47cdd",
   "metadata": {},
   "outputs": [
    {
     "data": {
      "text/plain": [
       "array([[0.08860759, 0.39240506, 1.        , 0.        , 0.48101266,\n",
       "        0.6835443 , 0.72151899],\n",
       "       [0.69892473, 0.07168459, 0.28673835, 0.34050179, 0.        ,\n",
       "        1.        , 0.43010753]])"
      ]
     },
     "execution_count": 4,
     "metadata": {},
     "output_type": "execute_result"
    }
   ],
   "source": [
    "import numpy as np\n",
    "data = np.array([[25.1, 27.5, 32.3, 24.4, 28.2, 29.8, 30.1],  # a row of temperature\n",
    "                 [20.0,  2.5,  8.5, 10.0,  0.5, 28.4, 12.5]]) # a row of precipitation\n",
    "\n",
    "# Your solution goes here.\n",
    "norm = (data - np.min(data, axis=1).reshape(2, 1)) / np.ptp(data, axis=1).reshape(2, 1)"
   ]
  }
 ],
 "metadata": {
  "kernelspec": {
   "display_name": "Python 3 (ipykernel)",
   "language": "python",
   "name": "python3"
  },
  "language_info": {
   "codemirror_mode": {
    "name": "ipython",
    "version": 3
   },
   "file_extension": ".py",
   "mimetype": "text/x-python",
   "name": "python",
   "nbconvert_exporter": "python",
   "pygments_lexer": "ipython3",
   "version": "3.9.12"
  },
  "varInspector": {
   "cols": {
    "lenName": 16,
    "lenType": 16,
    "lenVar": 40
   },
   "kernels_config": {
    "python": {
     "delete_cmd_postfix": "",
     "delete_cmd_prefix": "del ",
     "library": "var_list.py",
     "varRefreshCmd": "print(var_dic_list())"
    },
    "r": {
     "delete_cmd_postfix": ") ",
     "delete_cmd_prefix": "rm(",
     "library": "var_list.r",
     "varRefreshCmd": "cat(var_dic_list()) "
    }
   },
   "types_to_exclude": [
    "module",
    "function",
    "builtin_function_or_method",
    "instance",
    "_Feature"
   ],
   "window_display": false
  }
 },
 "nbformat": 4,
 "nbformat_minor": 5
}
