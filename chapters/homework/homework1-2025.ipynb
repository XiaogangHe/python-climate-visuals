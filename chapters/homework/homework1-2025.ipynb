{
 "cells": [
  {
   "cell_type": "markdown",
   "id": "ea863e05",
   "metadata": {},
   "source": [
    "# HW#1: Extreme Rainfall Deficit in Singapore \n",
    "\n",
    "```{admonition} Objectives\n",
    ":class: tip\n",
    "\n",
    "This homework will help you gain a better understanding in terms of the ways how to:\n",
    "* Fit Generalized Extreme Value (GEV) distribution \n",
    "* Estimate the return level of extreme rainfall deficit\n",
    "\n",
    "Happy coding!\n",
    "```"
   ]
  },
  {
   "cell_type": "markdown",
   "id": "af48d568",
   "metadata": {},
   "source": [
    "```{admonition} Submission Guide\n",
    "\n",
    "Deadline: **Sunday 11:59 pm, 2nd November 2025** \n",
    "(Note: Late submissions will not be accepted). \n",
    "\n",
    "Please upload your solutions to [Canvas](https://canvas.nus.edu.sg/courses/77993/assignments) in a Jupyter Notebook format with the name \"Homework1_StudentID.ipynb\". Make sure to write down your student ID and full name in the cell below. \n",
    "\n",
    "For any questions, feel free to contact Prof. Xiaogang HE ([hexg@nus.edu.sg](mailto:hexg@nus.edu.sg)), Kewei ZHANG ([kewei_zhang@u.nus.edu](mailto:kewei_zhang@u.nus.edu)) or Yifan LU ([yifan_lu@u.nus.edu](mailto:yifan_lu@u.nus.edu)).\n",
    "\n",
    "```"
   ]
  },
  {
   "cell_type": "code",
   "execution_count": 1,
   "id": "c8ae81f2",
   "metadata": {},
   "outputs": [],
   "source": [
    "## Fill your student ID and full name below.\n",
    "\n",
    "# Student ID:\n",
    "# Full name:"
   ]
  },
  {
   "cell_type": "markdown",
   "id": "5abc96cb",
   "metadata": {},
   "source": [
    "**Data**:\n",
    "You will need to use the historical (1981-2020) daily total rainfall at Singapore's Changi station for this homework. \n",
    "You can create a DataFrame using Pandas by reading file \"../../assets/data/Changi_daily_rainfall.csv\"."
   ]
  },
  {
   "cell_type": "markdown",
   "id": "89af3af8",
   "metadata": {},
   "source": [
    "## Q1: Calculate daily rainfall statistics (10 marks)\n",
    "\n",
    "Calculate the following statistics for daily rainfall during DJF (**D**ecember-**J**anuary-**F**ebruary): (i) mean, (ii) variance, (iii) skewness, and (iv) kurtosis.\n",
    "\n",
    "Hint: \n",
    "- You can filter the daily rainfall time series for DJF using Pandas' boolean filtering method. Details on filtering values can be found in the [Pandas tutorial](https://xiaoganghe.github.io/python-climate-visuals/chapters/data-analytics/pandas-basic.html).\n",
    "- DJF spans across two calendar years. Make sure you only include complete DJF seasons. For the period 1891 to 2020, this results in 39 complete DJF seasons, from DJF 1981-1982 to DJF 2019-2020."
   ]
  },
  {
   "cell_type": "code",
   "execution_count": 2,
   "id": "92d51020",
   "metadata": {},
   "outputs": [],
   "source": [
    "# Your solutions go here.\n",
    "# using the + icon in the toolbar to add a cell."
   ]
  },
  {
   "cell_type": "markdown",
   "id": "e4c4f3d3-1258-46b6-9e66-1eb350c0f927",
   "metadata": {},
   "source": [
    "## Q2: Preprocess daily rainfall data (20 marks)\n",
    "\n",
    "Find the seasonal maximum rainfall deficit for DJF, based on the 15-day centered moving average rainfall deficit.\n",
    "\n",
    "To do this: \n",
    "- Compute the 15-day centered moving average of daily rainfall. (10 marks)\n",
    "- Calculate the daily rainfall deficit by subtracting the 15-day moving average rainfall from the mean rainfall calculated in Q1. This will be used in Q6. (5 marks)\n",
    "- For each DJF season, take the maximum deficit (one value per season). This yields 39 seasonal maxima that are used for Q3–Q5 (block-maxima approach). (5 marks)"
   ]
  },
  {
   "cell_type": "code",
   "execution_count": 4,
   "id": "b5d70366-349a-458d-8093-42890a47e453",
   "metadata": {},
   "outputs": [],
   "source": [
    "# Your solutions go here.\n",
    "# using the + icon in the toolbar to add a cell."
   ]
  },
  {
   "cell_type": "markdown",
   "id": "c03f010a",
   "metadata": {},
   "source": [
    "## Q3: Fit the GEV distribution (20 marks)\n",
    "\n",
    "Fit a GEV distribution to the time series of seasonal maximum rainfall deficits. To do this, estimate the GEV parameters using (i) Maximum Likelihood and (ii) L-Moments, respectively. (Details on fitting a GEV distribution can be found in the [Scipy tutorial](https://xiaoganghe.github.io/python-climate-visuals/chapters/data-analytics/scipy-basic.html))"
   ]
  },
  {
   "cell_type": "code",
   "execution_count": 6,
   "id": "1fc8bc93",
   "metadata": {},
   "outputs": [],
   "source": [
    "# Your solutions go here.\n",
    "# using the + icon in the toolbar to add a cell."
   ]
  },
  {
   "cell_type": "markdown",
   "id": "3ddc466e",
   "metadata": {},
   "source": [
    "## Q4: Estimate the return level of the extreme events (20 marks)\n",
    "\n",
    "Using the GEV parameters estimated with L-Moments in Q3, estimate the rainfall deficit for events with return periods of 10 years, 50 years, 100 years, and 1000 years."
   ]
  },
  {
   "cell_type": "code",
   "execution_count": 14,
   "id": "43c2f39c",
   "metadata": {},
   "outputs": [],
   "source": [
    "# Your solutions go here.\n",
    "# using the + icon in the toolbar to add a cell."
   ]
  },
  {
   "cell_type": "markdown",
   "id": "0006273e",
   "metadata": {},
   "source": [
    "## Q5: Test the goodness-of-fit (20 marks)\n",
    "\n",
    "In this task, you will compare how different distributions fit the same dataset and interpret the results using statistical analyses. \n",
    "- Repeat the distribution fitting as in Q3, but this time using a [normal distribution](https://docs.scipy.org/doc/scipy/reference/generated/scipy.stats.norm.html) and the Maximum Likelihood method. (5 marks)\n",
    "- Use the Kolmogorov-Smirnov (KS) test to evaluate the goodness-of-fit for both the normal distribution and the GEV distribution you obtained in Q3. (Details on the KS test can be found in the [Scipy tutorial](https://xiaoganghe.github.io/python-climate-visuals/chapters/data-analytics/scipy-basic.html)) (5 marks)\n",
    "- Based on the KS test results, discuss how well each distribution (Normal and GEV) fits the data. (10 marks)\n",
    "\n",
    "**Bonus (5 marks):**\n",
    "- Plot the CDF (Cumulative Distribution Function) to visually compare the fitted normal distribution, the GEV distribution, and the empirical distribution derived from the data. Compare the behavior of the two distributions at different return periods. Are the KS statistic results consistent with your observations from the CDF plot?\n",
    "\n",
    "\n",
    "Hint: You can recycle the empirical distribution estimation and CDF plotting code from the [Scipy tutorial](https://xiaoganghe.github.io/python-climate-visuals/chapters/data-analytics/scipy-basic.html)."
   ]
  },
  {
   "cell_type": "code",
   "execution_count": 16,
   "id": "80ee34d7",
   "metadata": {},
   "outputs": [],
   "source": [
    "# Your solutions go here.\n",
    "# using the + icon in the toolbar to add a cell."
   ]
  },
  {
   "cell_type": "markdown",
   "id": "0600bec4-58c7-4286-946f-e7108a2fffbe",
   "metadata": {},
   "source": [
    "## Q6: Simple peaks over threshold & histogram (10 marks)\n",
    "\n",
    "Using the same 15-day centered moving-average deficit obtained in Q2:\n",
    "- Compute the 95th percentile of the pooled DJF moving-average deficit and set this as the threshold 𝑢. Report the numeric value of 𝑢. (5 marks)\n",
    "- Plot a histogram of the seasonal exceedance counts $𝑘_s$ in 39 years, with a 1-2 line caption describing the distribution. Day $i$ is considered as an exceedance if the deficit is larger than the threshold ($x_i-u>0$). (5 marks)\n",
    "\n",
    "**Bonus (5 marks):**\n",
    "- Show the polyline of the seasonal mean exceedance magnitude ($𝑦_s​ = \\frac{1}{k_s}\\sum_i \\max\\{x_i-u,0\\}$) as well in the graph."
   ]
  },
  {
   "cell_type": "code",
   "execution_count": null,
   "id": "30f8f606-be7a-4327-8521-e325b88bb786",
   "metadata": {},
   "outputs": [],
   "source": [
    "# Your solutions go here.\n",
    "# using the + icon in the toolbar to add a cell."
   ]
  }
 ],
 "metadata": {
  "kernelspec": {
   "display_name": "Python 3 (ipykernel)",
   "language": "python",
   "name": "python3"
  },
  "language_info": {
   "codemirror_mode": {
    "name": "ipython",
    "version": 3
   },
   "file_extension": ".py",
   "mimetype": "text/x-python",
   "name": "python",
   "nbconvert_exporter": "python",
   "pygments_lexer": "ipython3",
   "version": "3.10.13"
  },
  "toc": {
   "base_numbering": 1,
   "nav_menu": {},
   "number_sections": true,
   "sideBar": true,
   "skip_h1_title": false,
   "title_cell": "Table of Contents",
   "title_sidebar": "Contents",
   "toc_cell": false,
   "toc_position": {},
   "toc_section_display": true,
   "toc_window_display": false
  }
 },
 "nbformat": 4,
 "nbformat_minor": 5
}
