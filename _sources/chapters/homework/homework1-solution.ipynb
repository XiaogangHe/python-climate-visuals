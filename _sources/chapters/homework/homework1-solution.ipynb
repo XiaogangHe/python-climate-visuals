{
 "cells": [
  {
   "cell_type": "markdown",
   "id": "ea863e05",
   "metadata": {},
   "source": [
    "# HW#1: Extreme Rainfall Deficit in Singapore \n",
    "\n",
    "```{admonition} Objectives\n",
    ":class: tip\n",
    "\n",
    "This homework will help you gain a better understanding in terms of the ways how to:\n",
    "* Fit Generalized Extreme Value (GEV) distribution \n",
    "* Estimate the return level of extreme rainfall deficit\n",
    "\n",
    "Happy coding!\n",
    "```"
   ]
  },
  {
   "cell_type": "markdown",
   "id": "af48d568",
   "metadata": {},
   "source": [
    "```{admonition} Submission Guide\n",
    "\n",
    "Deadline: **Sunday 11:59 pm, 3rd November 2024** \n",
    "(Note: Late submissions will not be accepted). \n",
    "\n",
    "Please upload your solutions to [Canvas](https://canvas.nus.edu.sg/courses/61921/assignments) in a Jupyter Notebook format with the name \"Homework1_StudentID.ipynb\". Make sure to write down your student ID and full name in the cell below. \n",
    "\n",
    "For any questions, feel free to contact Prof. Xiaogang HE ([hexg@nus.edu.sg](mailto:hexg@nus.edu.sg)), Haoling CHEN ([h.chen@u.nus.edu](mailto:h.chen@u.nus.edu)) or Meilian LI ([limeilian@u.nus.edu](mailto:limeilian@u.nus.edu)).\n",
    "\n",
    "```"
   ]
  },
  {
   "cell_type": "code",
   "execution_count": 1,
   "id": "c8ae81f2",
   "metadata": {},
   "outputs": [],
   "source": [
    "## Fill your student ID and full name below.\n",
    "\n",
    "# Student ID:\n",
    "# Full name:"
   ]
  },
  {
   "cell_type": "markdown",
   "id": "5abc96cb",
   "metadata": {},
   "source": [
    "**Data**:\n",
    "You will need to use the historical (1981-2020) daily total rainfall at Singapore's Changi station for this homework. \n",
    "You can create a DataFrame using Pandas by reading file \"../../assets/data/Changi_daily_rainfall.csv\"."
   ]
  },
  {
   "cell_type": "markdown",
   "id": "89af3af8",
   "metadata": {},
   "source": [
    "## Q1: Calculate daily rainfall statistics (10 marks)\n",
    "\n",
    "Calculate the following statistics for daily rainfall during DJF (**D**ecember-**J**anuary-**F**ebruary): (i) mean, (ii) variance, (iii) skewness, and (iv) kurtosis.\n",
    "\n",
    "Hint: \n",
    "- You can filter the daily rainfall time series for DJF using Pandas' boolean filtering method. Details on filtering values can be found in the [Pandas tutorial](https://xiaoganghe.github.io/python-climate-visuals/chapters/data-analytics/pandas-basic.html).\n",
    "- DJF spans across two calendar years. Make sure you only include complete DJF seasons. For the period 1891 to 2020, this results in 39 complete DJF seasons, from DJF 1981-1982 to DJF 2019-2020."
   ]
  },
  {
   "cell_type": "code",
   "execution_count": 2,
   "id": "92d51020",
   "metadata": {},
   "outputs": [],
   "source": [
    "# Your solutions go here.\n",
    "# using the + icon in the toolbar to add a cell."
   ]
  },
  {
   "cell_type": "code",
   "execution_count": 1,
   "id": "d6f7205c",
   "metadata": {},
   "outputs": [],
   "source": [
    "import math\n",
    "import numpy as np\n",
    "import pandas as pd\n",
    "import matplotlib.pyplot as plt\n",
    "\n",
    "from scipy.optimize import fsolve\n",
    "from scipy.stats import genextreme as gev"
   ]
  },
  {
   "cell_type": "code",
   "execution_count": 9,
   "id": "36f1211e",
   "metadata": {},
   "outputs": [
    {
     "data": {
      "text/html": [
       "<div>\n",
       "<style scoped>\n",
       "    .dataframe tbody tr th:only-of-type {\n",
       "        vertical-align: middle;\n",
       "    }\n",
       "\n",
       "    .dataframe tbody tr th {\n",
       "        vertical-align: top;\n",
       "    }\n",
       "\n",
       "    .dataframe thead th {\n",
       "        text-align: right;\n",
       "    }\n",
       "</style>\n",
       "<table border=\"1\" class=\"dataframe\">\n",
       "  <thead>\n",
       "    <tr style=\"text-align: right;\">\n",
       "      <th></th>\n",
       "      <th>Daily Rainfall Total (mm)</th>\n",
       "    </tr>\n",
       "    <tr>\n",
       "      <th>Date</th>\n",
       "      <th></th>\n",
       "    </tr>\n",
       "  </thead>\n",
       "  <tbody>\n",
       "    <tr>\n",
       "      <th>1981-01-01</th>\n",
       "      <td>0.0</td>\n",
       "    </tr>\n",
       "    <tr>\n",
       "      <th>1981-01-02</th>\n",
       "      <td>0.0</td>\n",
       "    </tr>\n",
       "    <tr>\n",
       "      <th>1981-01-03</th>\n",
       "      <td>0.0</td>\n",
       "    </tr>\n",
       "    <tr>\n",
       "      <th>1981-01-04</th>\n",
       "      <td>0.0</td>\n",
       "    </tr>\n",
       "    <tr>\n",
       "      <th>1981-01-05</th>\n",
       "      <td>0.0</td>\n",
       "    </tr>\n",
       "    <tr>\n",
       "      <th>1981-01-06</th>\n",
       "      <td>0.3</td>\n",
       "    </tr>\n",
       "    <tr>\n",
       "      <th>1981-01-07</th>\n",
       "      <td>51.4</td>\n",
       "    </tr>\n",
       "    <tr>\n",
       "      <th>1981-01-08</th>\n",
       "      <td>0.0</td>\n",
       "    </tr>\n",
       "    <tr>\n",
       "      <th>1981-01-09</th>\n",
       "      <td>4.4</td>\n",
       "    </tr>\n",
       "    <tr>\n",
       "      <th>1981-01-10</th>\n",
       "      <td>0.0</td>\n",
       "    </tr>\n",
       "  </tbody>\n",
       "</table>\n",
       "</div>"
      ],
      "text/plain": [
       "            Daily Rainfall Total (mm)\n",
       "Date                                 \n",
       "1981-01-01                        0.0\n",
       "1981-01-02                        0.0\n",
       "1981-01-03                        0.0\n",
       "1981-01-04                        0.0\n",
       "1981-01-05                        0.0\n",
       "1981-01-06                        0.3\n",
       "1981-01-07                       51.4\n",
       "1981-01-08                        0.0\n",
       "1981-01-09                        4.4\n",
       "1981-01-10                        0.0"
      ]
     },
     "metadata": {},
     "output_type": "display_data"
    }
   ],
   "source": [
    "rain = pd.read_csv('../../assets/data/Changi_daily_rainfall.csv', index_col = 0, header = 0, parse_dates = True)\n",
    "display(rain.head(10))"
   ]
  },
  {
   "cell_type": "code",
   "execution_count": 3,
   "id": "f3718d42",
   "metadata": {},
   "outputs": [
    {
     "data": {
      "text/plain": [
       "Mean          7.203409\n",
       "Variance    340.698022\n",
       "Skewness      4.909512\n",
       "Kurtosis     33.412606\n",
       "dtype: float64"
      ]
     },
     "metadata": {},
     "output_type": "display_data"
    }
   ],
   "source": [
    "# Filter daily rainfall for December-January-February (DJF)\n",
    "DJF_rain = rain.loc[(rain.index.month < 3) | (rain.index.month > 11)]\n",
    "# Select the complete DJF periods\n",
    "DJF_rain = DJF_rain.loc['19811201':'20200301']\n",
    "# Calculate the following statistics for daily rainfall during DJF: (i) mean; (ii) variance; (iii) skewness; and (iv) kurtosis.\n",
    "DJF_rain_stats = pd.Series([\n",
    "                            DJF_rain.mean().values[0], \n",
    "                            DJF_rain.var().values[0], \n",
    "                            DJF_rain.skew().values[0], \n",
    "                            DJF_rain.kurtosis().values[0]],\n",
    "                            index=['Mean', 'Variance', 'Skewness', 'Kurtosis']\n",
    "                            )\n",
    "display(DJF_rain_stats)"
   ]
  },
  {
   "cell_type": "markdown",
   "id": "c03f010a",
   "metadata": {},
   "source": [
    "## Q2: Fit the GEV distribution (40 marks)\n",
    "\n",
    "Find the seasonal maximum rainfall deficit for DJF, based on the 30-day centered moving average rainfall deficit. This will result in a data set of 39 values, one value for each year. Fit a GEV distribution to the time series of seasonal maximum rainfall deficits. To do this, estimate the GEV parameters using (i) Maximum Likelihood and (ii) L-Moments, respectively. (Details on fitting a GEV distribution can be found in the [Scipy tutorial](https://xiaoganghe.github.io/python-climate-visuals/chapters/data-analytics/scipy-basic.html))\n",
    "\n",
    "Hint: The rainfall deficit is calculated by subtracting the 30-day moving average rainfall from the mean rainfall calculated in Q1.\n"
   ]
  },
  {
   "cell_type": "code",
   "execution_count": 6,
   "id": "1fc8bc93",
   "metadata": {},
   "outputs": [],
   "source": [
    "# Your solutions go here.\n",
    "# using the + icon in the toolbar to add a cell."
   ]
  },
  {
   "cell_type": "code",
   "execution_count": 11,
   "id": "714372c8",
   "metadata": {},
   "outputs": [],
   "source": [
    "# Add 'Year' column to denote the year of the days\n",
    "DJF_rain['Year'] = np.where(DJF_rain.index.month==12, DJF_rain.index.year.values, DJF_rain.index.year.values-1)\n",
    "# Calculate the 30-day moving average for each year\n",
    "DJF_rain_ma = DJF_rain.groupby(['Year']).rolling(30, center=True).mean()\n",
    "DJF_rain_ma = DJF_rain_ma.dropna(subset='Daily Rainfall Total (mm)')\n",
    "DJF_rain_ma.rename(columns={'Daily Rainfall Total (mm)': '30-day Moving Average Rainfall (mm)'}, inplace=True)\n"
   ]
  },
  {
   "cell_type": "code",
   "execution_count": 65,
   "id": "fda7c3f2",
   "metadata": {},
   "outputs": [
    {
     "data": {
      "text/html": [
       "<div>\n",
       "<style scoped>\n",
       "    .dataframe tbody tr th:only-of-type {\n",
       "        vertical-align: middle;\n",
       "    }\n",
       "\n",
       "    .dataframe tbody tr th {\n",
       "        vertical-align: top;\n",
       "    }\n",
       "\n",
       "    .dataframe thead th {\n",
       "        text-align: right;\n",
       "    }\n",
       "</style>\n",
       "<table border=\"1\" class=\"dataframe\">\n",
       "  <thead>\n",
       "    <tr style=\"text-align: right;\">\n",
       "      <th></th>\n",
       "      <th></th>\n",
       "      <th>30-day Moving Average Rainfall Deficit (mm)</th>\n",
       "    </tr>\n",
       "    <tr>\n",
       "      <th>Year</th>\n",
       "      <th>Date</th>\n",
       "      <th></th>\n",
       "    </tr>\n",
       "  </thead>\n",
       "  <tbody>\n",
       "    <tr>\n",
       "      <th rowspan=\"5\" valign=\"top\">1981</th>\n",
       "      <th>1981-12-16</th>\n",
       "      <td>-5.286591</td>\n",
       "    </tr>\n",
       "    <tr>\n",
       "      <th>1981-12-17</th>\n",
       "      <td>-5.099924</td>\n",
       "    </tr>\n",
       "    <tr>\n",
       "      <th>1981-12-18</th>\n",
       "      <td>-5.616591</td>\n",
       "    </tr>\n",
       "    <tr>\n",
       "      <th>1981-12-19</th>\n",
       "      <td>-6.663258</td>\n",
       "    </tr>\n",
       "    <tr>\n",
       "      <th>1981-12-20</th>\n",
       "      <td>-4.976591</td>\n",
       "    </tr>\n",
       "    <tr>\n",
       "      <th>...</th>\n",
       "      <th>...</th>\n",
       "      <td>...</td>\n",
       "    </tr>\n",
       "    <tr>\n",
       "      <th rowspan=\"5\" valign=\"top\">2019</th>\n",
       "      <th>2020-02-11</th>\n",
       "      <td>3.170076</td>\n",
       "    </tr>\n",
       "    <tr>\n",
       "      <th>2020-02-12</th>\n",
       "      <td>4.436742</td>\n",
       "    </tr>\n",
       "    <tr>\n",
       "      <th>2020-02-13</th>\n",
       "      <td>4.436742</td>\n",
       "    </tr>\n",
       "    <tr>\n",
       "      <th>2020-02-14</th>\n",
       "      <td>5.036742</td>\n",
       "    </tr>\n",
       "    <tr>\n",
       "      <th>2020-02-15</th>\n",
       "      <td>5.036742</td>\n",
       "    </tr>\n",
       "  </tbody>\n",
       "</table>\n",
       "<p>2389 rows × 1 columns</p>\n",
       "</div>"
      ],
      "text/plain": [
       "                 30-day Moving Average Rainfall Deficit (mm)\n",
       "Year Date                                                   \n",
       "1981 1981-12-16                                    -5.286591\n",
       "     1981-12-17                                    -5.099924\n",
       "     1981-12-18                                    -5.616591\n",
       "     1981-12-19                                    -6.663258\n",
       "     1981-12-20                                    -4.976591\n",
       "...                                                      ...\n",
       "2019 2020-02-11                                     3.170076\n",
       "     2020-02-12                                     4.436742\n",
       "     2020-02-13                                     4.436742\n",
       "     2020-02-14                                     5.036742\n",
       "     2020-02-15                                     5.036742\n",
       "\n",
       "[2389 rows x 1 columns]"
      ]
     },
     "metadata": {},
     "output_type": "display_data"
    }
   ],
   "source": [
    "# Calculate the 30-day moving average rainfall deficit\n",
    "DJF_rain_def = DJF_rain['Daily Rainfall Total (mm)'].mean() - DJF_rain_ma \n",
    "DJF_rain_def.columns = ['30-day Moving Average Rainfall Deficit (mm)'] \n",
    "display(DJF_rain_def)"
   ]
  },
  {
   "cell_type": "code",
   "execution_count": 64,
   "id": "181db785",
   "metadata": {},
   "outputs": [
    {
     "data": {
      "text/html": [
       "<div>\n",
       "<style scoped>\n",
       "    .dataframe tbody tr th:only-of-type {\n",
       "        vertical-align: middle;\n",
       "    }\n",
       "\n",
       "    .dataframe tbody tr th {\n",
       "        vertical-align: top;\n",
       "    }\n",
       "\n",
       "    .dataframe thead th {\n",
       "        text-align: right;\n",
       "    }\n",
       "</style>\n",
       "<table border=\"1\" class=\"dataframe\">\n",
       "  <thead>\n",
       "    <tr style=\"text-align: right;\">\n",
       "      <th></th>\n",
       "      <th>DJF Maximum Rainfall Deficit (mm)</th>\n",
       "    </tr>\n",
       "    <tr>\n",
       "      <th>Year</th>\n",
       "      <th></th>\n",
       "    </tr>\n",
       "  </thead>\n",
       "  <tbody>\n",
       "    <tr>\n",
       "      <th>1981</th>\n",
       "      <td>7.040076</td>\n",
       "    </tr>\n",
       "    <tr>\n",
       "      <th>1982</th>\n",
       "      <td>7.016742</td>\n",
       "    </tr>\n",
       "    <tr>\n",
       "      <th>1983</th>\n",
       "      <td>2.786742</td>\n",
       "    </tr>\n",
       "    <tr>\n",
       "      <th>1984</th>\n",
       "      <td>5.956742</td>\n",
       "    </tr>\n",
       "    <tr>\n",
       "      <th>1985</th>\n",
       "      <td>6.306742</td>\n",
       "    </tr>\n",
       "  </tbody>\n",
       "</table>\n",
       "</div>"
      ],
      "text/plain": [
       "      DJF Maximum Rainfall Deficit (mm)\n",
       "Year                                   \n",
       "1981                           7.040076\n",
       "1982                           7.016742\n",
       "1983                           2.786742\n",
       "1984                           5.956742\n",
       "1985                           6.306742"
      ]
     },
     "execution_count": 64,
     "metadata": {},
     "output_type": "execute_result"
    }
   ],
   "source": [
    "# Calculate the maximum deficit for each year\n",
    "DJF_max_def = pd.DataFrame(DJF_rain_def['30-day Moving Average Rainfall Deficit (mm)'].groupby('Year').max())\n",
    "DJF_max_def.columns = ['DJF Maximum Rainfall Deficit (mm)']\n",
    "DJF_max_def.head()"
   ]
  },
  {
   "cell_type": "code",
   "execution_count": 66,
   "id": "a8c4b8fe",
   "metadata": {},
   "outputs": [],
   "source": [
    "# Fit the distribution using MLE\n",
    "cMLE, locMLE, scaleMLE = gev.fit(DJF_max_def, method = \"MLE\")\n",
    "MLEGEV = gev(cMLE, loc = locMLE, scale = scaleMLE) "
   ]
  },
  {
   "cell_type": "code",
   "execution_count": 67,
   "id": "af85744e",
   "metadata": {},
   "outputs": [],
   "source": [
    "# Calculate L-moments based on samples\n",
    "def samlmom3(sample):\n",
    "    \"\"\"\n",
    "    samlmom3 returns the first three L-moments of samples\n",
    "    sample is the 1-d array\n",
    "    n is the total number of the samples, j is the j_th sample\n",
    "    \"\"\"\n",
    "    n = len(sample)\n",
    "    sample = np.sort(sample.reshape(n))[::-1]\n",
    "    b0 = np.mean(sample)\n",
    "    b1 = np.array([(n - j - 1) * sample[j] / n / (n - 1)\n",
    "                   for j in range(n)]).sum()\n",
    "    b2 = np.array([(n - j - 1) * (n - j - 2) * sample[j] / n / (n - 1) / (n - 2)\n",
    "                   for j in range(n - 1)]).sum()\n",
    "    lmom1 = b0\n",
    "    lmom2 = 2 * b1 - b0\n",
    "    lmom3 = 6 * (b2 - b1) + b0\n",
    "\n",
    "    return lmom1, lmom2, lmom3\n",
    "\n",
    "def pargev_fsolve(lmom):\n",
    "    \"\"\"\n",
    "    pargev_fsolve estimates the parameters of the Generalized Extreme Value \n",
    "    distribution given the L-moments of samples\n",
    "    \"\"\"\n",
    "    lmom_ratios = [lmom[0], lmom[1], lmom[2] / lmom[1]]\n",
    "    f = lambda x, t: 2 * (1 - 3**(-x)) / (1 - 2**(-x)) - 3 - t\n",
    "    G = fsolve(f, 0.01, lmom_ratios[2])[0]\n",
    "    para3 = G\n",
    "    GAM = math.gamma(1 + G)\n",
    "    para2 = lmom_ratios[1] * G / (GAM * (1 - 2**-G))\n",
    "    para1 = lmom_ratios[0] - para2 * (1 - GAM) / G\n",
    "    return para1, para2, para3"
   ]
  },
  {
   "cell_type": "code",
   "execution_count": 68,
   "id": "d495faf9",
   "metadata": {},
   "outputs": [],
   "source": [
    "# Fit the distribution using LMM\n",
    "LMM = samlmom3(DJF_max_def.values)\n",
    "locLMM, scaleLMM, cLMM = pargev_fsolve(LMM)\n",
    "LMMGEV = gev(cLMM, loc=locLMM, scale=scaleLMM) "
   ]
  },
  {
   "cell_type": "code",
   "execution_count": 69,
   "id": "df8166ac",
   "metadata": {},
   "outputs": [
    {
     "name": "stdout",
     "output_type": "stream",
     "text": [
      "Parameters fitted by Maximum Likelihood: shape=1.082, loc=5.252, scale=2.104\n",
      "\n",
      "Parameters fitted by L-Moments: shape=0.945, loc=5.164, scale=2.052\n",
      "\n"
     ]
    }
   ],
   "source": [
    "print('Parameters fitted by Maximum Likelihood: shape={:.3f}, loc={:.3f}, scale={:.3f}\\n'\n",
    "      .format(cMLE, locMLE, scaleMLE,))\n",
    "print('Parameters fitted by L-Moments: shape={:.3f}, loc={:.3f}, scale={:.3f}\\n'\n",
    "      .format(cLMM, locLMM, scaleLMM))"
   ]
  },
  {
   "cell_type": "markdown",
   "id": "3ddc466e",
   "metadata": {},
   "source": [
    "## Q3: Estimate the return level of the extreme events (20 marks)\n",
    "\n",
    "Using the GEV parameters estimated with L-Moments in Q2, estimate the rainfall deficit for events with return periods of 50 years, 100 years, and 1000 years."
   ]
  },
  {
   "cell_type": "code",
   "execution_count": 14,
   "id": "43c2f39c",
   "metadata": {},
   "outputs": [],
   "source": [
    "# Your solutions go here.\n",
    "# using the + icon in the toolbar to add a cell."
   ]
  },
  {
   "cell_type": "code",
   "execution_count": 70,
   "id": "af770e8b",
   "metadata": {},
   "outputs": [
    {
     "data": {
      "text/html": [
       "<div>\n",
       "<style scoped>\n",
       "    .dataframe tbody tr th:only-of-type {\n",
       "        vertical-align: middle;\n",
       "    }\n",
       "\n",
       "    .dataframe tbody tr th {\n",
       "        vertical-align: top;\n",
       "    }\n",
       "\n",
       "    .dataframe thead th {\n",
       "        text-align: right;\n",
       "    }\n",
       "</style>\n",
       "<table border=\"1\" class=\"dataframe\">\n",
       "  <thead>\n",
       "    <tr style=\"text-align: right;\">\n",
       "      <th></th>\n",
       "      <th>DJF Maximum Rainfall Deficit (mm)</th>\n",
       "    </tr>\n",
       "    <tr>\n",
       "      <th>Return period</th>\n",
       "      <th></th>\n",
       "    </tr>\n",
       "  </thead>\n",
       "  <tbody>\n",
       "    <tr>\n",
       "      <th>50</th>\n",
       "      <td>7.281076</td>\n",
       "    </tr>\n",
       "    <tr>\n",
       "      <th>100</th>\n",
       "      <td>7.307344</td>\n",
       "    </tr>\n",
       "    <tr>\n",
       "      <th>1000</th>\n",
       "      <td>7.332279</td>\n",
       "    </tr>\n",
       "  </tbody>\n",
       "</table>\n",
       "</div>"
      ],
      "text/plain": [
       "               DJF Maximum Rainfall Deficit (mm)\n",
       "Return period                                   \n",
       "50                                      7.281076\n",
       "100                                     7.307344\n",
       "1000                                    7.332279"
      ]
     },
     "metadata": {},
     "output_type": "display_data"
    }
   ],
   "source": [
    "T = np.arange(2, 1001)\n",
    "rainDef_lmm = LMMGEV.ppf(1 - 1.0 / T)\n",
    "rainDef_lmm = pd.DataFrame(rainDef_lmm, index = T, \n",
    "                      columns = [\"DJF Maximum Rainfall Deficit (mm)\"])\n",
    "rainDef_lmm.index.name = \"Return period\"\n",
    "\n",
    "display(rainDef_lmm.loc[[50, 100, 1000]])"
   ]
  },
  {
   "cell_type": "markdown",
   "id": "0006273e",
   "metadata": {},
   "source": [
    "## Q4: Test the goodness-of-fit (30 marks)\n",
    "\n",
    "In this task, you will compare how different distributions fit the same dataset and interpret the results using both statistical analyses. \n",
    "- Repeat the distribution fitting as in Q2, but this time using a [normal distribution](https://docs.scipy.org/doc/scipy/reference/generated/scipy.stats.norm.html) and the Maximum Likelihood method. (5 marks)\n",
    "- Use the Kolmogorov-Smirnov (KS) test to evaluate the goodness-of-fit for both the normal distribution and the GEV distribution you obtained in Q2. (Details on the KS test can be found in the [Scipy tutorial](https://xiaoganghe.github.io/python-climate-visuals/chapters/data-analytics/scipy-basic.html)) (10 marks)\n",
    "- Based on the KS test results, discuss how well each distribution (Normal and GEV) fits the data. (15 marks)\n",
    "\n",
    "**Bonus (10 marks):**\n",
    "- Plot the CDF (Cumulative Distribution Function) to visually compare the fitted normal distribution, the GEV distribution from Q2, and the empirical distribution derived from the data. Compare the behavior of the two distributions at different return periods. Are the KS statistic results consistent with your observations from the CDF plot?\n",
    "\n",
    "\n",
    "Hint: You can reuse the empirical distribution estimation and CDF plotting code from the [Scipy tutorial](https://xiaoganghe.github.io/python-climate-visuals/chapters/data-analytics/scipy-basic.html)."
   ]
  },
  {
   "cell_type": "code",
   "execution_count": 16,
   "id": "80ee34d7",
   "metadata": {},
   "outputs": [],
   "source": [
    "# Your solutions go here.\n",
    "# using the + icon in the toolbar to add a cell."
   ]
  },
  {
   "cell_type": "code",
   "execution_count": 17,
   "id": "587e1357",
   "metadata": {},
   "outputs": [],
   "source": [
    "# Fit the normal distribution using MLE\n",
    "from scipy.stats import norm\n",
    "locMLE, scaleMLE = norm.fit(DJF_max_def, method = \"MLE\")\n",
    "MLEnorm = norm(loc = locMLE, scale = scaleMLE) "
   ]
  },
  {
   "cell_type": "code",
   "execution_count": 18,
   "id": "f7dd7bfa",
   "metadata": {},
   "outputs": [
    {
     "name": "stdout",
     "output_type": "stream",
     "text": [
      "Goodness-of-fit for GEV distribution: statisic is 0.077, pvalue is 0.961\n",
      "Goodness-of-fit for Normal dirstribution: statisic is 0.164, pvalue is 0.217\n"
     ]
    }
   ],
   "source": [
    "from scipy.stats import kstest\n",
    "GEVKS = kstest(DJF_max_def[\"DJF Maximum Rainfall Deficit (mm)\"], MLEGEV.cdf)\n",
    "print('Goodness-of-fit for GEV distribution: statisic is {:.3f}, pvalue is {:.3f}'.format(GEVKS.statistic, GEVKS.pvalue))\n",
    "NORMKS = kstest(DJF_max_def[\"DJF Maximum Rainfall Deficit (mm)\"], MLEnorm.cdf)\n",
    "print('Goodness-of-fit for Normal dirstribution: statisic is {:.3f}, pvalue is {:.3f}'.format(NORMKS.statistic, NORMKS.pvalue))\n"
   ]
  },
  {
   "cell_type": "code",
   "execution_count": 19,
   "id": "9b35c747",
   "metadata": {},
   "outputs": [
    {
     "data": {
      "image/png": "[encoded data removed]",
      "text/plain": [
       "<Figure size 640x480 with 1 Axes>"
      ]
     },
     "metadata": {},
     "output_type": "display_data"
    }
   ],
   "source": [
    "# Plot empirical CDF\n",
    "plt.scatter(DJF_max_def.sort_values(by = [\"DJF Maximum Rainfall Deficit (mm)\"]),\n",
    "            np.arange(1, DJF_max_def.size+1, dtype=float)/DJF_max_def.size,\n",
    "            color = 'k', facecolors='none', label='Empirical CDF')\n",
    "\n",
    "# Plot estimated PDF based on maximum likelihood method\n",
    "bins = np.linspace(MLEGEV.ppf(0.01), MLEGEV.ppf(0.99), 100)\n",
    "plt.plot(bins, MLEGEV.cdf(bins), \n",
    "        lw=2, label='Estimated CDF (GEV)')\n",
    "# Plot estimated PDF based on the method of L-moments\n",
    "bins = np.linspace(MLEnorm.ppf(0.01), MLEnorm.ppf(0.99), 100)\n",
    "plt.plot(bins, MLEnorm.cdf(bins), \n",
    "         lw=2, label='Estimated CDF (Normal)')\n",
    "\n",
    "plt.xlabel(\"DJF Maximum Rainfall Deficit (mm)\")\n",
    "plt.legend(loc='best', frameon=False)\n",
    "plt.show()"
   ]
  },
  {
   "cell_type": "code",
   "execution_count": 71,
   "id": "3a789edb",
   "metadata": {},
   "outputs": [],
   "source": [
    "# GEV distribution describes the data better than the normal distribution. \n",
    "# The Kolmogorov-Smirnov test confirms that the GEV distribution fits the data better than the normal distribution, \n",
    "# as indicated by a lower KS statistic and a higher p-value.\n",
    "# The CDF plot provides a visual confirmation of these findings.\n",
    "# Especially, the normal distribution overestimates the probability of occurrence for moderate rainfall deficits (around 4-6 mm).\n",
    "# When we move towards longer return periods (more extreme events), the two curves diverge, with GEV distribution providing a better fit."
   ]
  }
 ],
 "metadata": {
  "kernelspec": {
   "display_name": "base",
   "language": "python",
   "name": "python3"
  },
  "language_info": {
   "codemirror_mode": {
    "name": "ipython",
    "version": 3
   },
   "file_extension": ".py",
   "mimetype": "text/x-python",
   "name": "python",
   "nbconvert_exporter": "python",
   "pygments_lexer": "ipython3",
   "version": "3.11.0"
  },
  "toc": {
   "base_numbering": 1,
   "nav_menu": {},
   "number_sections": true,
   "sideBar": true,
   "skip_h1_title": false,
   "title_cell": "Table of Contents",
   "title_sidebar": "Contents",
   "toc_cell": false,
   "toc_position": {},
   "toc_section_display": true,
   "toc_window_display": false
  }
 },
 "nbformat": 4,
 "nbformat_minor": 5
}
