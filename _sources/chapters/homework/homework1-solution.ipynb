{
 "cells": [
  {
   "cell_type": "markdown",
   "id": "ea863e05",
   "metadata": {},
   "source": [
    "## HW#1: Extreme Rainfall in Singapore \n",
    "\n",
    "```{admonition} Objectives\n",
    ":class: tip\n",
    "\n",
    "This homework will help you gain a better understanding in terms of the ways how to:\n",
    "* Fit Generalized Extreme Value (GEV) distribution \n",
    "* Estimate the return period and return level of extreme rainfall\n",
    "\n",
    "Happy coding!\n",
    "```"
   ]
  },
  {
   "cell_type": "markdown",
   "id": "af48d568",
   "metadata": {},
   "source": [
    "```{admonition} Submission Guide\n",
    "\n",
    "Deadline: **Sunday 11:59 pm, 30th October 2022** \n",
    "(Note: Late submissions will not be accepted). \n",
    "\n",
    "Please upload your solutions to LumiNUS in a Jupyter Notebook format with the name \"Homework1_StudentID.ipynb\". Make sure to write down your student ID and full name in the cell below. \n",
    "\n",
    "For any questions, feel free to contact Prof. Xiaogang HE ([hexg@nus.edu.sg](mailto:hexg@nus.edu.sg)), Haoling CHEN ([h.chen@u.nus.edu](mailto:h.chen@u.nus.edu)) or Meilian LI ([limeilian@u.nus.edu](mailto:limeilian@u.nus.edu)).\n",
    "\n",
    "```"
   ]
  },
  {
   "cell_type": "code",
   "execution_count": null,
   "id": "c8ae81f2",
   "metadata": {},
   "outputs": [],
   "source": [
    "### Fill your student ID and full name below.\n",
    "\n",
    "# Student ID:\n",
    "# Full name:"
   ]
  },
  {
   "cell_type": "markdown",
   "id": "5abc96cb",
   "metadata": {},
   "source": [
    "**Data**:\n",
    "You will need to use the historical (1981-2020) daily total rainfall at Singapore's Changi station for this homework. \n",
    "You can create a DataFrame using Pandas by reading file \"../../assets/data/Changi_daily_rainfall.csv\"."
   ]
  },
  {
   "cell_type": "markdown",
   "id": "89af3af8",
   "metadata": {},
   "source": [
    "### Q1: Fit the GEV distribution\n",
    "\n",
    "Find the annual maximum rainfall based on the daily rainfall. This will result in a data set of 40 values - one per year. Fit the GEV distribution to the time series of annual maximum rainfall. To do this, estimate the GEV parameters using (i) Maximum Likelihood and (ii) L-Moments, respectively. Based on your results, discuss whether extreme rainfall in Singapore is bounded above or not. (Details on fitting a GEV distribution can be found in the [Scipy tutorial](https://xiaoganghe.github.io/python-climate-visuals/chapters/data-analytics/scipy-basic.html)). (40 marks)"
   ]
  },
  {
   "cell_type": "code",
   "execution_count": 1,
   "id": "a6aa6f17",
   "metadata": {},
   "outputs": [],
   "source": [
    "# Your solutions go here.\n",
    "# using the + icon in the toolbar to add a cell.\n",
    "from scipy.stats import genextreme as gev\n",
    "from scipy.optimize import fsolve\n",
    "import numpy as np\n",
    "import pandas as pd\n",
    "import math\n",
    "\n",
    "# Calculate L-moments based on samples\n",
    "def samlmom3(sample):\n",
    "    \"\"\"\n",
    "    samlmom3 returns the first three L-moments of samples\n",
    "    sample is the 1-d array\n",
    "    n is the total number of the samples, j is the j_th sample\n",
    "    \"\"\"\n",
    "    n = len(sample)\n",
    "    sample = np.sort(sample)[::-1]\n",
    "    b0 = np.mean(sample)\n",
    "    b1 = np.array([(n - j - 1) * sample[j] / n / (n - 1)\n",
    "                   for j in range(n)]).sum()\n",
    "    b2 = np.array([(n - j - 1) * (n - j - 2) * sample[j] / n / (n - 1) / (n - 2)\n",
    "                   for j in range(n - 1)]).sum()\n",
    "    lmom1 = b0\n",
    "    lmom2 = 2 * b1 - b0\n",
    "    lmom3 = 6 * (b2 - b1) + b0\n",
    "\n",
    "    return lmom1, lmom2, lmom3\n",
    "\n",
    "def pargev_fsolve(lmom):\n",
    "    \"\"\"\n",
    "    pargev_fsolve estimates the parameters of the Generalized Extreme Value \n",
    "    distribution given the L-moments of the data\n",
    "    \"\"\"\n",
    "    lmom_ratios = [lmom[0], lmom[1], lmom[2]/lmom[1]]\n",
    "    f = lambda x, t: 2 * (1 - 3**(-x))/(1 - 2**(-x)) - 3 - t \n",
    "    G = fsolve(f, 0.01, lmom_ratios[2])\n",
    "    para3 = G\n",
    "    GAM = math.gamma(1 + G)\n",
    "    para2 = lmom_ratios[1] * G / (GAM * (1 - 2 ** -G))\n",
    "    para1 = lmom_ratios[0] - para2 * (1 - GAM) / G\n",
    "    return para1[0], para2[0], para3[0]"
   ]
  },
  {
   "cell_type": "code",
   "execution_count": 3,
   "id": "ea759a2f",
   "metadata": {},
   "outputs": [
    {
     "name": "stdout",
     "output_type": "stream",
     "text": [
      "Maximum Likelihood: loc_LME=101.1678211072257, sca_LME=39.24690874747871, shp_LME=0.02668390757775726\n",
      "L-Moments: loc_LMM=101.88198201624115, sca_LMM=43.00458155155795, shp_LMM=0.08500214105957563\n"
     ]
    }
   ],
   "source": [
    "df = pd.read_csv(\"../../assets/data/Changi_daily_rainfall.csv\", \n",
    "                 index_col=0, header=0, parse_dates=True)\n",
    "samples = df.resample('Y').max().values.flatten()\n",
    "\n",
    "shp_LME, loc_LME, sca_LME = gev.fit(samples)\n",
    "\n",
    "LMM = samlmom3(samples)\n",
    "loc_LMM, sca_LMM, shp_LMM = pargev_fsolve(LMM)\n",
    "LMMGEV = gev(shp_LMM, loc=loc_LMM, scale=sca_LMM)\n",
    "print('Maximum Likelihood: loc_LME={}, sca_LME={}, shp_LME={}'.format(loc_LME, sca_LME, shp_LME))\n",
    "print('L-Moments: loc_LMM={}, sca_LMM={}, shp_LMM={}'.format(loc_LMM, sca_LMM, shp_LMM))"
   ]
  },
  {
   "cell_type": "code",
   "execution_count": null,
   "id": "8f4b95f8",
   "metadata": {},
   "outputs": [],
   "source": [
    "# According to the estimated parameters, both shp_LME and shp_LMM are positive. \n",
    "# Therefore, extreme rainfall distribution in Singapore is characterized as “heavy” tailed\n",
    "# that is unbounded above. （Refer to Slide 19 of Week 10's lecture.）"
   ]
  },
  {
   "cell_type": "markdown",
   "id": "c03f010a",
   "metadata": {},
   "source": [
    "### Q2: Estimate the return period\n",
    "\n",
    "Based on the estimated GEV parameters using L-Moments in Q1, (1) estimate the return period of an event with 300 mm daily rainfall, and (2) calculate the difference in magnitude between this event and a 100-year event (30 marks)."
   ]
  },
  {
   "cell_type": "code",
   "execution_count": 4,
   "id": "a782552a",
   "metadata": {},
   "outputs": [
    {
     "name": "stdout",
     "output_type": "stream",
     "text": [
      "Return period of 300 mm is: 346.327754435381 year, and it is 34.38 mm larger than a 100-year event\n"
     ]
    }
   ],
   "source": [
    "# Your solutions go here.\n",
    "# using the + icon in the toolbar to add a cell.\n",
    "def get_return_level(return_period, ppf):\n",
    "    \"\"\"\n",
    "    calculate return level using ppf given the return period.\n",
    "    \n",
    "    \"\"\"\n",
    "    \n",
    "    prob = 1 - 1 / return_period\n",
    "    return_level = ppf(prob)\n",
    "    \n",
    "    return return_level\n",
    "\n",
    "\n",
    "def get_return_period(return_level, cdf):\n",
    "    \"\"\"\n",
    "    calculate return period using CDF given the return level.\n",
    "    \n",
    "    \"\"\"\n",
    "    \n",
    "    prob = cdf(return_level)\n",
    "    return_period = 1 / (1 - prob)\n",
    "    \n",
    "    return return_period\n",
    "\n",
    "return_period = get_return_period(300, LMMGEV.cdf)\n",
    "\n",
    "LMMGEV = gev(shp_LMM, loc=loc_LMM, scale=sca_LMM)\n",
    "level100 = get_return_level(100, LMMGEV.ppf)\n",
    "differences = 300 - level100\n",
    "compare = 'larger' if differences > 0 else 'less'\n",
    "print('Return period of 300 mm is: {} year,'\n",
    "      ' and it is {:.2f} mm {} than a 100-year event'.format(return_period, abs(differences), compare))"
   ]
  },
  {
   "cell_type": "markdown",
   "id": "43a25e7c",
   "metadata": {},
   "source": [
    "### Q3: Identify seasonality\n",
    "Take a careful look at the annual maximum rainfall series identified in Q1. Which month does the annual maximum rainfall event occur most frequently? If a GEV fit is applied to monthly maximum rainfall events for this particular month (40 values - one per year but extracted only from that month), will the  distribution statistically different from that estimated by annual maximum values? (Hint: You can use the KS test to compare the underlying distributions of two samples) (30 marks)"
   ]
  },
  {
   "cell_type": "code",
   "execution_count": 4,
   "id": "39b394e4",
   "metadata": {},
   "outputs": [
    {
     "name": "stdout",
     "output_type": "stream",
     "text": [
      "Annual maximum rainfall events occur in December most frequently\n"
     ]
    }
   ],
   "source": [
    "# Your solutions go here.\n",
    "# using the + icon in the toolbar to add a cell.\n",
    "months = ['January', 'February', 'March', 'April', 'May', 'June', \n",
    "          'July', 'August', 'September', 'October', 'November', 'December']\n",
    "\n",
    "date4max_rainfall = df.resample('Y')['Daily Rainfall Total (mm)'].idxmax().values\n",
    "month, counts = np.unique(pd.to_datetime(date4max_rainfall).month, return_counts=True)\n",
    "print('Annual maximum rainfall events occur in %s most frequently' % months[counts.argmax()])"
   ]
  },
  {
   "cell_type": "code",
   "execution_count": 5,
   "id": "ea65aa0a",
   "metadata": {},
   "outputs": [
    {
     "name": "stdout",
     "output_type": "stream",
     "text": [
      "The ks statistics is 0.42 and the pvalue is less than 0.05. These two samples are statistically significantly different from each other.\n"
     ]
    }
   ],
   "source": [
    "from scipy.stats import kstest\n",
    "monthly_samples = df.resample('M').max()\n",
    "Dec_samples = monthly_samples[monthly_samples.index.month == 12].values.flatten()\n",
    "\n",
    "kstest_rslt = kstest(Dec_samples, samples)\n",
    "\n",
    "if kstest_rslt.pvalue < 0.05:\n",
    "    print('The ks statistics is %.2f and the pvalue is less than 0.05.'\n",
    "          ' These two samples are statistically different from each other.' % kstest_rslt.statistic)\n",
    "else:\n",
    "     print('The KS statistics is %.2f and the pvalue is larger than 0.05.'\n",
    "          ' These two samples are not statistically different from each other' % kstest_rslt.statistic)"
   ]
  }
 ],
 "metadata": {
  "kernelspec": {
   "display_name": "Python 3 (ipykernel)",
   "language": "python",
   "name": "python3"
  },
  "language_info": {
   "codemirror_mode": {
    "name": "ipython",
    "version": 3
   },
   "file_extension": ".py",
   "mimetype": "text/x-python",
   "name": "python",
   "nbconvert_exporter": "python",
   "pygments_lexer": "ipython3",
   "version": "3.9.12"
  },
  "toc": {
   "base_numbering": 1,
   "nav_menu": {},
   "number_sections": true,
   "sideBar": true,
   "skip_h1_title": false,
   "title_cell": "Table of Contents",
   "title_sidebar": "Contents",
   "toc_cell": false,
   "toc_position": {},
   "toc_section_display": true,
   "toc_window_display": false
  }
 },
 "nbformat": 4,
 "nbformat_minor": 5
}
