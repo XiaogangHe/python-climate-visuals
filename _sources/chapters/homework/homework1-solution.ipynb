{
 "cells": [
  {
   "cell_type": "markdown",
   "metadata": {},
   "source": [
    "## HW#1: Extreme Rainfall in Singapore \n",
    "\n",
    "```{admonition} Objectives\n",
    ":class: tip\n",
    "\n",
    "This homework will help you gain a better understanding in terms of how to:\n",
    "* Fit Generalized Extreme Value (GEV) distribution \n",
    "* Estimate the return period and return level of extreme rainfall\n",
    "\n",
    "Happy coding!\n",
    "```"
   ]
  },
  {
   "cell_type": "markdown",
   "metadata": {},
   "source": [
    "```{admonition} Submission Guide\n",
    "\n",
    "Deadline: **Sunday, 31st October 2021** \n",
    "(Note: Late submissions will not be accepted). \n",
    "\n",
    "Please upload your solutions to LumiNUS in a Jupyter Notebook format with the name \"Homework1_StudentID.ipynb\". Make sure to write down your student ID and full name in the cell below. \n",
    "\n",
    "For any questions, feel free to contact Prof. Xiaogang HE ([hexg@nus.edu.sg](mailto:hexg@nus.edu.sg)), Huimin WANG ([wanghuimin@u.nus.edu](mailto:wanghuimin@u.nus.edu)) or Zhanwei LIU ([liuzhanwei@u.nus.edu](mailto:liuzhanwei@u.nus.edu)).\n",
    "\n",
    "```"
   ]
  },
  {
   "cell_type": "code",
   "execution_count": 1,
   "metadata": {},
   "outputs": [],
   "source": [
    "### Fill your student ID and full name below.\n",
    "\n",
    "# Student ID:\n",
    "# Full name:"
   ]
  },
  {
   "cell_type": "markdown",
   "metadata": {},
   "source": [
    "**Data**:\n",
    "You will need to use the histrocial (1981-2020) daily total rainfall at Singapore's Changi station for this homework. \n",
    "You can create a DataFrame using Pandas by reading file \"../../assets/data/Changi_daily_rainfall.csv\"."
   ]
  },
  {
   "cell_type": "markdown",
   "metadata": {},
   "source": [
    "### Q1: Fit the GEV distribution\n",
    "\n",
    "Find the annual maximum rainfall based on the daily rainfall. This will result in a data set of 40 values - one per year. Fit the GEV distribution to the time series of annual maximum rainfall. To do this, estimate the GEV parameters using (i) Maximum Likelihood and (ii) L-Moments, respectively. Based on your results, discuss whether extreme rainfall in Singapore is bounded above or not. (Details on fitting a GEV distribution can be found in the [Scipy tutorial](https://xiaoganghe.github.io/python-climate-visuals/chapters/data-analytics/scipy-basic.html)). (40 marks)"
   ]
  },
  {
   "cell_type": "code",
   "execution_count": 2,
   "metadata": {},
   "outputs": [],
   "source": [
    "from scipy.stats import genextreme\n",
    "from scipy.optimize import fsolve\n",
    "import numpy as np\n",
    "import pandas as pd\n",
    "import math\n",
    "\n",
    "# Calculate L-moments based on samples\n",
    "def samlmom3(sample):\n",
    "    \"\"\"\n",
    "    samlmom3 returns the first three L-moments of samples\n",
    "    sample is the 1-d array\n",
    "    n is the total number of the samples, j is the j_th sample\n",
    "    \"\"\"\n",
    "    n = len(sample)\n",
    "    sample = np.sort(sample)[::-1]\n",
    "    b0 = np.mean(sample)\n",
    "    b1 = np.array([(n - j - 1) * sample[j] / n / (n - 1)\n",
    "                   for j in range(n)]).sum()\n",
    "    b2 = np.array([(n - j - 1) * (n - j - 2) * sample[j] / n / (n - 1) / (n - 2)\n",
    "                   for j in range(n - 1)]).sum()\n",
    "    lmom1 = b0\n",
    "    lmom2 = 2 * b1 - b0\n",
    "    lmom3 = 6 * (b2 - b1) + b0\n",
    "\n",
    "    return lmom1, lmom2, lmom3\n",
    "\n",
    "def pargev_fsolve(lmom):\n",
    "    \"\"\"\n",
    "    pargev_fsolve estimates the parameters of the Generalized Extreme Value \n",
    "    distribution given the L-moments of the data\n",
    "    \"\"\"\n",
    "    lmom_ratios = [lmom[0], lmom[1], lmom[2]/lmom[1]]\n",
    "    f = lambda x, t: 2 * (1 - 3**(-x))/(1 - 2**(-x)) - 3 - t \n",
    "    G = fsolve(f, 0.01, lmom_ratios[2])\n",
    "    para3 = G\n",
    "    GAM = math.gamma(1 + G)\n",
    "    para2 = lmom_ratios[1] * G / (GAM * (1 - 2 ** -G))\n",
    "    para1 = lmom_ratios[0] - para2 * (1 - GAM) / G\n",
    "    return para1[0], para2[0], para3[0]\n"
   ]
  },
  {
   "cell_type": "code",
   "execution_count": 3,
   "metadata": {},
   "outputs": [
    {
     "name": "stdout",
     "output_type": "stream",
     "text": [
      "Maximum Likelihood: loc_LME=101.1678211072257, sca_LME=39.24690874747871, shp_LME=0.02668390757775726\n",
      "L-Moments: loc_LMM=101.88198201624115, sca_LMM=43.00458155155795, shp_LMM=0.08500214105957563\n"
     ]
    }
   ],
   "source": [
    "df = pd.read_csv('../../assets/data/Changi_daily_rainfall.csv', \n",
    "                 index_col=0, header=0, parse_dates=True)\n",
    "samples = df.resample('Y').max().values.flatten()\n",
    "shp_LME, loc_LME, sca_LME = genextreme.fit(samples)\n",
    "\n",
    "LMM = samlmom3(samples)\n",
    "loc_LMM, sca_LMM, shp_LMM = pargev_fsolve(LMM)\n",
    "\n",
    "print('Maximum Likelihood: loc_LME={}, sca_LME={}, shp_LME={}'.format(loc_LME, sca_LME, shp_LME))\n",
    "print('L-Moments: loc_LMM={}, sca_LMM={}, shp_LMM={}'.format(loc_LMM, sca_LMM, shp_LMM))"
   ]
  },
  {
   "cell_type": "code",
   "execution_count": 4,
   "metadata": {},
   "outputs": [],
   "source": [
    "# According to the estimated parameters, both shp_LME and shp_LMM are positive. \n",
    "# Therefore, extreme rainfall distribution in Singapore is characterized as “heavy” tailed\n",
    "# that is unbounded above. （Refer to Slide 19 of Week 10's lecture.）"
   ]
  },
  {
   "cell_type": "markdown",
   "metadata": {},
   "source": [
    "### Q2: Determine the return level\n",
    "\n",
    "Based on the estimated GEV parameters using L-Moments in Q1, determine the return level (i.e., magnitude of extreme rainfall) of a 20-year, 50-year and 100-year rainfall event. (30 marks)."
   ]
  },
  {
   "cell_type": "code",
   "execution_count": 5,
   "metadata": {},
   "outputs": [
    {
     "name": "stdout",
     "output_type": "stream",
     "text": [
      "The return level:\n",
      "20-year: 214.76504059731164 mm\n",
      "50-year: 244.69311978158987 mm\n",
      "100-year: 265.6165801276135 mm\n"
     ]
    }
   ],
   "source": [
    "def get_return_level(return_period, ppf):\n",
    "    \"\"\"\n",
    "    calculate return level using ppf given the return period.\n",
    "    \n",
    "    \"\"\"\n",
    "    \n",
    "    prob = 1 - 1 / return_period\n",
    "    return_level = ppf(prob)\n",
    "    \n",
    "    return return_level\n",
    "\n",
    "LMMGEV = genextreme(shp_LMM, loc=loc_LMM, scale=sca_LMM)\n",
    "\n",
    "level20 = get_return_level(20, LMMGEV.ppf)\n",
    "level50 = get_return_level(50, LMMGEV.ppf)\n",
    "level100 = get_return_level(100, LMMGEV.ppf)\n",
    "\n",
    "print('The return level:')\n",
    "print('20-year: {} mm'.format(level20))\n",
    "print('50-year: {} mm'.format(level50))\n",
    "print('100-year: {} mm'.format(level100))"
   ]
  },
  {
   "cell_type": "markdown",
   "metadata": {},
   "source": [
    "### Q3: Estimate the return period\n",
    "\n",
    "Based on the estimated GEV parameters using L-Moments in Q1, what is the return period if daily rainfall is 300 mm? (30 marks)"
   ]
  },
  {
   "cell_type": "code",
   "execution_count": 6,
   "metadata": {},
   "outputs": [
    {
     "name": "stdout",
     "output_type": "stream",
     "text": [
      "Return period of 300 mm is : 346.327754435381 year\n"
     ]
    }
   ],
   "source": [
    "def get_return_period(return_level, cdf):\n",
    "    \"\"\"\n",
    "    calculate return period using CDF given the return level.\n",
    "    \n",
    "    \"\"\"\n",
    "    \n",
    "    prob = cdf(return_level)\n",
    "    return_period = 1 / (1 - prob)\n",
    "    \n",
    "    return return_period\n",
    "\n",
    "return_period = get_return_period(300, LMMGEV.cdf)\n",
    "print('Return period of 300 mm is : {} year'.format(return_period))"
   ]
  }
 ],
 "metadata": {
  "kernelspec": {
   "display_name": "Python 3",
   "language": "python",
   "name": "python3"
  },
  "language_info": {
   "codemirror_mode": {
    "name": "ipython",
    "version": 3
   },
   "file_extension": ".py",
   "mimetype": "text/x-python",
   "name": "python",
   "nbconvert_exporter": "python",
   "pygments_lexer": "ipython3",
   "version": "3.7.10"
  },
  "toc": {
   "base_numbering": 1,
   "nav_menu": {},
   "number_sections": true,
   "sideBar": true,
   "skip_h1_title": false,
   "title_cell": "Table of Contents",
   "title_sidebar": "Contents",
   "toc_cell": false,
   "toc_position": {},
   "toc_section_display": true,
   "toc_window_display": false
  }
 },
 "nbformat": 4,
 "nbformat_minor": 5
}
