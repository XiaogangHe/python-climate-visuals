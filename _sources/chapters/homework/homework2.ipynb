{
 "cells": [
  {
   "cell_type": "markdown",
   "id": "ea863e05",
   "metadata": {
    "pycharm": {
     "name": "#%% md\n"
    }
   },
   "source": [
    "# HW#2: Visualizing Historical Temperature Changes in Singapore\n",
    "\n",
    "```{admonition} Objectives\n",
    ":class: tip\n",
    "\n",
    "This homework will provide you a real-world example in terms of:\n",
    "* how to visualize the GEV distribution\n",
    "* how to visualize time series of temperature anomalies and the trend\n",
    "* how to make beautiful, accessible, and understandable data visualizations\n",
    "\n",
    "Happy coding!\n",
    "```"
   ]
  },
  {
   "cell_type": "markdown",
   "id": "af48d568",
   "metadata": {
    "pycharm": {
     "name": "#%% md\n"
    }
   },
   "source": [
    "```{admonition} Submission Guide\n",
    "\n",
    "Deadline: **Sunday 11:59 pm, 19th November 2023** \n",
    "(Note: Late submissions will not be accepted). \n",
    "\n",
    "Please upload your solutions to [Canvas](https://canvas.nus.edu.sg/courses/47849/assignments) in a Jupyter Notebook format with the name \"Homework2_StudentID.ipynb\". Make sure to write down your student ID and full name in the cell below. \n",
    "\n",
    "For any questions, feel free to contact Prof. Xiaogang HE ([hexg@nus.edu.sg](mailto:hexg@nus.edu.sg)), or Zhixiao NIU ([niu.zhixiao@u.nus.edu](mailto:niu.zhixiao@u.nus.edu)).\n",
    "\n",
    "```"
   ]
  },
  {
   "cell_type": "code",
   "execution_count": 1,
   "id": "c8ae81f2",
   "metadata": {
    "pycharm": {
     "name": "#%%\n"
    }
   },
   "outputs": [],
   "source": [
    "## Fill your student ID and full name below.\n",
    "\n",
    "# Student ID:\n",
    "# Full name:"
   ]
  },
  {
   "cell_type": "markdown",
   "id": "5abc96cb",
   "metadata": {
    "pycharm": {
     "name": "#%% md\n"
    }
   },
   "source": [
    "**Data**:\n",
    "You will need to use the historical (1982-2020) daily mean air temperature data measured at Singapore's Changi station for this homework.\n",
    "You can create a DataFrame using Pandas by reading the file \"../../assets/data/Changi_daily_temperature.csv\"."
   ]
  },
  {
   "cell_type": "markdown",
   "id": "1b60eb96",
   "metadata": {},
   "source": [
    "## Task 1: Visualize the GEV distribution (30 marks)\n",
    "To visualize the GEV distribution, you can:\n",
    "1. Fit the Generalized Extreme Value (GEV) distribution to annual maximum daily temperature data and estimate the GEV parameters using the **Maximum Likelihood method**.\n",
    "2. Plot the probability density function (PDF) curve to to represent the distribution directly.\n",
    "3. Calculate the return level for a 20-year event and mark it on the plot.\n",
    "4. Fill the figure with different colors regarding the calculated return level as the dividing line.\n",
    "5. Ensure that the necessary non-data elements are included, such as title, x/y axis labels, legend, etc. (you can check the [Matplotlib tutorial](https://xiaoganghe.github.io/python-climate-visuals/chapters/data-visuals/matplotlib-basic.html) for details)."
   ]
  },
  {
   "cell_type": "code",
   "execution_count": 2,
   "id": "77f174cb",
   "metadata": {},
   "outputs": [],
   "source": [
    "# Your solutions go here.\n",
    "# Use the + icon in the toolbar to add a cell."
   ]
  },
  {
   "cell_type": "markdown",
   "id": "67c41c3b",
   "metadata": {},
   "source": [
    "## Task 2: Visualize the trend of temperature anomaly ( 70 marks )\n",
    "### Q1: Visualize the time series and trend of historical temperature anomalies of Singapore (35 marks)\n",
    "- Calculate the annual mean temperature from the daily data. This will result in a data set of 39 values — one per year. (5 marks)\n",
    "- Calculate the annual temperature anomalies using the first 15-year period as the baseline. (Hint: the anomalies is calculated by substracting the mean temperature over year 1982 to 1996 from the yearly mean temperature.) (5 marks)\n",
    "- Make a line graph of these annual temperature anomalies and make sure that the necessary non-data elements are included. (10 marks)\n",
    "- Based on the annual temperature anomalies above, visualize the trend using a 10-year moving window. (15 marks)"
   ]
  },
  {
   "cell_type": "code",
   "execution_count": 3,
   "id": "a6aa6f17",
   "metadata": {
    "pycharm": {
     "name": "#%%\n"
    }
   },
   "outputs": [],
   "source": [
    "# Your solutions go here.\n",
    "# Use the + icon in the toolbar to add a cell."
   ]
  },
  {
   "cell_type": "markdown",
   "id": "43a25e7c",
   "metadata": {
    "pycharm": {
     "name": "#%% md\n"
    }
   },
   "source": [
    "### Q2: Add climate stripes for Singapore (35 marks)\n",
    "\n",
    "- Reproduce the [climate stripes](https://showyourstripes.info/s/asia/singapore) for Singapore using `Matplotlib`. (20 marks)\n",
    "- Use your generated climate stripes as the background and then overlay the time series and the trend of annual anomalies (from Q1) on top of the climate stripes. (15 marks)\n",
    "\n",
    "Tips:  \n",
    "- You can refer to [this GitHub repository](https://github.com/josephshea/ClimateStripes/blob/master/ClimateStripes-Canada.ipynb) to make the climate stripes.  \n",
    "- To make a pretty and accessible (colorblind safe) chart, you might want to fine tune the aesthetics (e.g., color palette of the diverging colorbar) of your chart. "
   ]
  },
  {
   "cell_type": "code",
   "execution_count": 4,
   "id": "39b394e4",
   "metadata": {
    "pycharm": {
     "name": "#%%\n"
    }
   },
   "outputs": [],
   "source": [
    "# Your solutions go here.\n",
    "# Use the + icon in the toolbar to add a cell."
   ]
  }
 ],
 "metadata": {
  "kernelspec": {
   "display_name": "Python 3 (ipykernel)",
   "language": "python",
   "name": "python3"
  },
  "language_info": {
   "codemirror_mode": {
    "name": "ipython",
    "version": 3
   },
   "file_extension": ".py",
   "mimetype": "text/x-python",
   "name": "python",
   "nbconvert_exporter": "python",
   "pygments_lexer": "ipython3",
   "version": "3.11.6"
  },
  "toc": {
   "base_numbering": 1,
   "nav_menu": {},
   "number_sections": true,
   "sideBar": true,
   "skip_h1_title": false,
   "title_cell": "Table of Contents",
   "title_sidebar": "Contents",
   "toc_cell": false,
   "toc_position": {},
   "toc_section_display": true,
   "toc_window_display": false
  },
  "varInspector": {
   "cols": {
    "lenName": 16,
    "lenType": 16,
    "lenVar": 40
   },
   "kernels_config": {
    "python": {
     "delete_cmd_postfix": "",
     "delete_cmd_prefix": "del ",
     "library": "var_list.py",
     "varRefreshCmd": "print(var_dic_list())"
    },
    "r": {
     "delete_cmd_postfix": ") ",
     "delete_cmd_prefix": "rm(",
     "library": "var_list.r",
     "varRefreshCmd": "cat(var_dic_list()) "
    }
   },
   "types_to_exclude": [
    "module",
    "function",
    "builtin_function_or_method",
    "instance",
    "_Feature"
   ],
   "window_display": false
  }
 },
 "nbformat": 4,
 "nbformat_minor": 5
}
