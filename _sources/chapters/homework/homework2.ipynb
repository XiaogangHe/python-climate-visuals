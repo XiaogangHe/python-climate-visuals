{
 "cells": [
  {
   "cell_type": "markdown",
   "id": "ea863e05",
   "metadata": {},
   "source": [
    "## HW#2: Visualizing Historical Temperature Changes in Singapore\n",
    "\n",
    "```{admonition} Objectives\n",
    ":class: tip\n",
    "\n",
    "This homework will provide you a real-world example in terms of:\n",
    "* how to visualize time series of temperature anomalies and the trend, and\n",
    "* how to make beautiful, accessible, and understandable data visualizations.\n",
    "\n",
    "Happy coding!\n",
    "```"
   ]
  },
  {
   "cell_type": "markdown",
   "id": "af48d568",
   "metadata": {},
   "source": [
    "```{admonition} Submission Guide\n",
    "\n",
    "Deadline: **Sunday 11:59 pm, 14th November 2021** \n",
    "(Note: Late submissions will not be accepted). \n",
    "\n",
    "Please upload your solutions to LumiNUS in a Jupyter Notebook format with the name \"Homework2_StudentID.ipynb\". Make sure to write down your student ID and full name in the cell below. \n",
    "\n",
    "For any questions, feel free to contact Prof. Xiaogang HE ([hexg@nus.edu.sg](mailto:hexg@nus.edu.sg)), Huimin WANG ([wanghuimin@u.nus.edu](mailto:wanghuimin@u.nus.edu)) or Zhanwei LIU ([liuzhanwei@u.nus.edu](mailto:liuzhanwei@u.nus.edu)).\n",
    "\n",
    "```"
   ]
  },
  {
   "cell_type": "code",
   "execution_count": 1,
   "id": "c8ae81f2",
   "metadata": {},
   "outputs": [],
   "source": [
    "### Fill your student ID and full name below.\n",
    "\n",
    "# Student ID:\n",
    "# Full name:"
   ]
  },
  {
   "cell_type": "markdown",
   "id": "5abc96cb",
   "metadata": {},
   "source": [
    "**Data**:\n",
    "You will need to use the historical (1982-2020) daily mean air temperature data measured at Singapore's Changi station for this homework. \n",
    "You can create a DataFrame using Pandas by reading the file \"../../assets/data/Changi_daily_temperature.csv\"."
   ]
  },
  {
   "cell_type": "markdown",
   "id": "89af3af8",
   "metadata": {},
   "source": [
    "### Q1: Visualize the time series of historical temperature anomalies of Singapore\n",
    "\n",
    "- Calculate the annual mean temperature from the daily data. This will result in a data set of 39 values — one per year. (10 marks)\n",
    "- Calculate the annual temperature anomalies using the first 10-year period as the baseline. To do this, you need to (1) calculate the decadal mean temperature over the first 10 years (1982—1991) and (2) subtract the decadal mean for each year. (15 marks)\n",
    "- Make a line graph of these annual temperature anomalies and make sure that you have included necessary non-data elements, such as title, x/y axis labels, legend, etc (you can check the `Matplotlib` [tutorial](https://xiaoganghe.github.io/python-climate-visuals/chapters/data-visuals/matplotlib-basic.html#line-plots) for details). (15 marks)"
   ]
  },
  {
   "cell_type": "code",
   "execution_count": 2,
   "id": "a6aa6f17",
   "metadata": {},
   "outputs": [],
   "source": [
    "# Your solutions go here.\n",
    "# Use the + icon in the toolbar to add a cell."
   ]
  },
  {
   "cell_type": "markdown",
   "id": "c03f010a",
   "metadata": {},
   "source": [
    "### Q2: Visualize the trend of temperature anomaly\n",
    "\n",
    "Based on the annual temperature anomalies in Q1, visualize the trend using a 5-year moving window. (20 marks)"
   ]
  },
  {
   "cell_type": "code",
   "execution_count": 3,
   "id": "a782552a",
   "metadata": {},
   "outputs": [],
   "source": [
    "# Your solutions go here.\n",
    "# Use the + icon in the toolbar to add a cell."
   ]
  },
  {
   "cell_type": "markdown",
   "id": "43a25e7c",
   "metadata": {},
   "source": [
    "### Q3: Plot climate stripes for Singapore\n",
    "\n",
    "- Reproduce the [climate stripes](https://showyourstripes.info/s/asia/singapore) for Singapore using `Matplotlib`. (20 marks)\n",
    "- Use your generated climate strips as the background and then overlay the time series of annual anomalies (from Q1) and the trend (from Q2) on top of the climate strips. (20 marks)\n",
    "\n",
    "Tips: (1) You can refer to [this GitHub repository](https://github.com/josephshea/ClimateStripes/blob/master/ClimateStripes-Canada.ipynb) to make the climate strips. (2) To make a pretty and accessible (colorblind safe) chart, you might want to fine tune the aesthetics (e.g., color palette of the diverging colorbar) of your chart. "
   ]
  },
  {
   "cell_type": "code",
   "execution_count": 4,
   "id": "39b394e4",
   "metadata": {},
   "outputs": [],
   "source": [
    "# Your solutions go here.\n",
    "# Use the + icon in the toolbar to add a cell."
   ]
  },
  {
   "cell_type": "code",
   "execution_count": null,
   "id": "3c1d011a",
   "metadata": {},
   "outputs": [],
   "source": []
  }
 ],
 "metadata": {
  "kernelspec": {
   "display_name": "Python 3 (ipykernel)",
   "language": "python",
   "name": "python3"
  },
  "language_info": {
   "codemirror_mode": {
    "name": "ipython",
    "version": 3
   },
   "file_extension": ".py",
   "mimetype": "text/x-python",
   "name": "python",
   "nbconvert_exporter": "python",
   "pygments_lexer": "ipython3",
   "version": "3.8.8"
  },
  "toc": {
   "base_numbering": 1,
   "nav_menu": {},
   "number_sections": true,
   "sideBar": true,
   "skip_h1_title": false,
   "title_cell": "Table of Contents",
   "title_sidebar": "Contents",
   "toc_cell": false,
   "toc_position": {},
   "toc_section_display": true,
   "toc_window_display": false
  }
 },
 "nbformat": 4,
 "nbformat_minor": 5
}
