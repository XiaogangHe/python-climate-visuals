{
 "cells": [
  {
   "cell_type": "markdown",
   "id": "ea863e05",
   "metadata": {},
   "source": [
    "# HW#1: Extreme Rainfall Deficit in Singapore \n",
    "\n",
    "```{admonition} Objectives\n",
    ":class: tip\n",
    "\n",
    "This homework will help you gain a better understanding in terms of the ways how to:\n",
    "* Fit Generalized Extreme Value (GEV) distribution \n",
    "* Estimate the return level of extreme rainfall deficit\n",
    "\n",
    "Happy coding!\n",
    "```"
   ]
  },
  {
   "cell_type": "markdown",
   "id": "af48d568",
   "metadata": {},
   "source": [
    "```{admonition} Submission Guide\n",
    "\n",
    "Deadline: **Sunday 11:59 pm, 5th November 2023** \n",
    "(Note: Late submissions will not be accepted). \n",
    "\n",
    "Please upload your solutions to [Canvas](https://canvas.nus.edu.sg/courses/47849/assignments) in a Jupyter Notebook format with the name \"Homework1_StudentID.ipynb\". Make sure to write down your student ID and full name in the cell below. \n",
    "\n",
    "For any questions, feel free to contact Prof. Xiaogang HE ([hexg@nus.edu.sg](mailto:hexg@nus.edu.sg)), or Zhixiao NIU ([niu.zhixiao@u.nus.edu](mailto:niu.zhixiao@u.nus.edu)).\n",
    "\n",
    "```"
   ]
  },
  {
   "cell_type": "code",
   "execution_count": 1,
   "id": "c8ae81f2",
   "metadata": {},
   "outputs": [],
   "source": [
    "## Fill your student ID and full name below.\n",
    "\n",
    "# Student ID:\n",
    "# Full name:"
   ]
  },
  {
   "cell_type": "markdown",
   "id": "5abc96cb",
   "metadata": {},
   "source": [
    "**Data**:\n",
    "You will need to use the historical (1981-2020) daily total rainfall at Singapore's Changi station for this homework. \n",
    "You can create a DataFrame using Pandas by reading file \"../../assets/data/Changi_daily_rainfall.csv\"."
   ]
  },
  {
   "cell_type": "markdown",
   "id": "89af3af8",
   "metadata": {},
   "source": [
    "## Q1: Calculate extreme rainfall statisitics\n",
    "\n",
    "First, divide the data into the following seasons: DJF (Dec-Jan-Feb), MAM (Mar-Apr-May), JJA (Jun-Jul-Aug), and SON (Sep-Oct-Nov) using Pandas' `filtering` methods. Calculate the following statistics of daily rainfall for each season: (i) mean; (ii) variance; (iii) skewness; and (iv) kurtosis. Based on the results, identify the driest season. (Details on the filtering method can be found in the [Pandas tutorial](https://xiaoganghe.github.io/python-climate-visuals/chapters/data-analytics/pandas-basic.html)). (Hint: The driest season can refer to the season with the lowest mean of daily rainfall) (10 marks)"
   ]
  },
  {
   "cell_type": "code",
   "execution_count": 2,
   "id": "a6aa6f17",
   "metadata": {},
   "outputs": [],
   "source": [
    "# Your solutions go here.\n",
    "# using the + icon in the toolbar to add a cell."
   ]
  },
  {
   "cell_type": "markdown",
   "id": "c03f010a",
   "metadata": {},
   "source": [
    "## Q2: Fit the GEV distribution \n",
    "\n",
    "For the driest season you identified in Q1, find the seasonal maximum rainfall deficit based on the 30-day moving average rainfall deficit (please use centered moving average). This will result in a data set of 40 values, one value for each year. Fit two GEV distributions of seasonal maximum rainfall deficit using data from the first 20 years (1981-2000) and the last 20 years (2001-2020) separately. To do this, estimate the GEV parameters using (i) Maximum Likelihood, and (ii) L-Moments, respectively. (Details on fitting a GEV distribution can be found in the [Scipy tutorial](https://xiaoganghe.github.io/python-climate-visuals/chapters/data-analytics/scipy-basic.html)). (Hint: The rainfall deficit can be obtained by subtracting the 30-day moving average rainfall from the mean rainfall calculated in Q1) (40 marks)"
   ]
  },
  {
   "cell_type": "code",
   "execution_count": 3,
   "id": "a782552a",
   "metadata": {},
   "outputs": [],
   "source": [
    "# Your solutions go here.\n",
    "# using the + icon in the toolbar to add a cell."
   ]
  },
  {
   "cell_type": "markdown",
   "id": "7062d933",
   "metadata": {},
   "source": [
    "## Q3: Compare differences in GEV distributions\n",
    "\n",
    "Based on the estimated GEV parameters using L-Moments in Q2, discuss, for the driest season, whether there are statistical differences between the two distributions estimated from the first and last 20 years. (Hint: You can use the KS test to compare the underlying distributions of the two samples) (30 marks)"
   ]
  },
  {
   "cell_type": "code",
   "execution_count": 4,
   "id": "e811c398",
   "metadata": {},
   "outputs": [],
   "source": [
    "# Your solutions go here.\n",
    "# using the + icon in the toolbar to add a cell."
   ]
  },
  {
   "cell_type": "markdown",
   "id": "3ddc466e",
   "metadata": {},
   "source": [
    "## Q4: Estimate the return level of the extreme events\n",
    "\n",
    "Based on the estimated GEV parameters using L-Moments in Q2, estimate the rainfall deficit for events with return periods of 50 years, 100 years, and 200 years. (Hint: You can use the GEV distribution fitted from the data of the last 20 years.) (20 marks)"
   ]
  },
  {
   "cell_type": "code",
   "execution_count": 5,
   "id": "e5362d61",
   "metadata": {},
   "outputs": [],
   "source": [
    "# Your solutions go here.\n",
    "# using the + icon in the toolbar to add a cell."
   ]
  }
 ],
 "metadata": {
  "kernelspec": {
   "display_name": "Python 3 (ipykernel)",
   "language": "python",
   "name": "python3"
  },
  "language_info": {
   "codemirror_mode": {
    "name": "ipython",
    "version": 3
   },
   "file_extension": ".py",
   "mimetype": "text/x-python",
   "name": "python",
   "nbconvert_exporter": "python",
   "pygments_lexer": "ipython3",
   "version": "3.11.6"
  },
  "toc": {
   "base_numbering": 1,
   "nav_menu": {},
   "number_sections": true,
   "sideBar": true,
   "skip_h1_title": false,
   "title_cell": "Table of Contents",
   "title_sidebar": "Contents",
   "toc_cell": false,
   "toc_position": {},
   "toc_section_display": true,
   "toc_window_display": false
  }
 },
 "nbformat": 4,
 "nbformat_minor": 5
}
