{
 "cells": [
  {
   "cell_type": "markdown",
   "id": "8555c22d",
   "metadata": {},
   "source": [
    "# SciPy tutorial"
   ]
  },
  {
   "cell_type": "markdown",
   "id": "9f2b3aa6",
   "metadata": {
    "id": "lZMyAdqhL9hY"
   },
   "source": [
    "[SciPy](https://www.scipy.org/) is the core library for scientific computing in Python. It provides many user-friendly and efficient numerical routines, such as routines for numerical integration, interpolation, optimization, linear algebra, and **statistics**. `SciPy` is composed of task-specific sub-modules as follows. \n",
    "\n",
    "|Submodule|Fields|\n",
    "|:---|:---|\n",
    "|`scipy.cluster`|Vector quantization / Kmeans|\n",
    "|`scipy.constants`|Physical and mathematical constant|\n",
    "|`scipy.fftpack`|Fourier transform|\n",
    "|`scipy.integrate`|Integration routines|\n",
    "|`scipy.interpolate`|Interpolation|\n",
    "|`scipy.io`|Data input and output|\n",
    "|`scipy.linalg`|Linear algebra routines|\n",
    "|`scipy.ndimage`|n-dimensional image package|\n",
    "|`scipy.odr`|Orthogonal distance regression|\n",
    "|`scipy.optimize`|Optimization|\n",
    "|`scipy.signal`|Signal processing|\n",
    "|`scipy.sparse`|Sparse matrices|\n",
    "|`scipy.spatial`|Spatial data structures and algorithms|\n",
    "|`scipy.special`|Any special mathematical functions|\n",
    "|<u>**`scipy.stats`**</u>|<u>**Statistics**</u>|\n",
    "\n",
    "`scipy.stats` module contains a large number of summary and frequency statistics, probability distributions, correlation functions, statistical tests, kernel density estimation, quasi-Monte Carlo functionality, and so on. \n",
    "\n",
    "In this tutorial, we will cover:\n",
    "* `scipy.stats`: Statistics, Distributions, Statistical tests and Correlations\n",
    "* Extreme Value Analysis\n",
    "\n",
    "All `scipy` sub-modules depend on `numpy`, but are mostly independent of each other. The standard way of importing NumPy and these SciPy sub-modules is:"
   ]
  },
  {
   "cell_type": "code",
   "execution_count": 1,
   "id": "c043185b",
   "metadata": {
    "id": "58QdX8BLL9hZ"
   },
   "outputs": [
    {
     "name": "stdout",
     "output_type": "stream",
     "text": [
      "scipy.stats\n"
     ]
    }
   ],
   "source": [
    "import numpy as np\n",
    "from scipy import stats\n",
    "print(stats.__name__)"
   ]
  },
  {
   "cell_type": "markdown",
   "id": "253ffce5",
   "metadata": {},
   "source": [
    "## Descriptive Statistics"
   ]
  },
  {
   "cell_type": "markdown",
   "id": "a790d92d",
   "metadata": {},
   "source": [
    "When we have a new dataset in hand, we need to have an descriptive or summary view of the data. This could normally be done through two main approaches:\n",
    "1. ***The quantitative approach*** describes and summarizes data numerically using statistics. We focus on this approach in this `scipy.stats` tutorial.\n",
    "2. *The visual approach* illustrates data with charts, plots, histograms, and other graphs. This approach is covered in the tutorial of `matplotlib`."
   ]
  },
  {
   "cell_type": "markdown",
   "id": "a614d453",
   "metadata": {},
   "source": [
    "There are multiple ways to obtain descriptive statistics of the dataset in Python. Note that `SciPy` is established based on `NumPy` and it offers additional functionality compared to `NumPy`. Common statistics already exist in `NumPy` (such as `mean`, `median`, `var`). For more complicated statistics such as `iqr`, `skew`, `kurtosis`, we need to use `scipy.stats`."
   ]
  },
  {
   "cell_type": "code",
   "execution_count": 2,
   "id": "c1f72b4c",
   "metadata": {
    "scrolled": true
   },
   "outputs": [
    {
     "name": "stdout",
     "output_type": "stream",
     "text": [
      "[[10.  14.  11.   7.   9.5]\n",
      " [ 8.   9.  17.  14.5 12. ]\n",
      " [15.   7.  11.5 10.  10.5]\n",
      " [11.  11.   9.  12.  14. ]]\n",
      "Mean:  [11.    10.25  12.125 10.875 11.5  ]\n",
      "Median:  [10.5  10.   11.25 11.   11.25]\n",
      "Variance:  [ 8.66666667  8.91666667 11.72916667 10.0625      3.83333333]\n",
      "IQR:  [2.5   3.25  2.375 3.375 2.25 ]\n",
      "Skewness:  [ 0.54309084  0.24394285  0.80172768 -0.11813453  0.34616807]\n",
      "Kurtosis:  [ 1.5        -0.41610621  2.53815357 -0.32082096 -0.768431  ]\n"
     ]
    }
   ],
   "source": [
    "A = np.array([[10, 14, 11, 7, 9.5], [8, 9, 17, 14.5, 12],\n",
    "              [15, 7, 11.5, 10, 10.5], [11, 11, 9, 12, 14]])\n",
    "print(A)\n",
    "\n",
    "# Mean (Location Parameter)\n",
    "print(\"Mean: \", np.mean(A, axis=0))\n",
    "\n",
    "# Median (Location Parameter)\n",
    "print(\"Median: \", np.median(A, axis=0))\n",
    "\n",
    "# Variance (Scale Parameter)\n",
    "print(\"Variance: \", np.var(A, axis=0, ddof=1))  #ddof=1 provides an unbiased estimator of the variance\n",
    "\n",
    "# IQR (Scale Parameter)\n",
    "print(\"IQR: \", stats.iqr(A, axis=0))\n",
    "\n",
    "# Skewness (Shape Parameter)\n",
    "print(\"Skewness: \", stats.skew(A, axis=0))\n",
    "\n",
    "# Kurtosis (Shape Parameter)\n",
    "print(\"Kurtosis: \", stats.kurtosis(A, axis=0, bias=False))"
   ]
  },
  {
   "cell_type": "markdown",
   "id": "0757bd06",
   "metadata": {},
   "source": [
    "As we often use `pandas` to handle data, we could use the Pandas function `describe()` to have an instant look at common statistics of the DataFrame (or Series). Next is an example of summarizing daily rainfall."
   ]
  },
  {
   "cell_type": "code",
   "execution_count": 3,
   "id": "17845537",
   "metadata": {
    "scrolled": true
   },
   "outputs": [
    {
     "name": "stdout",
     "output_type": "stream",
     "text": [
      "            Daily Rainfall Total (mm)\n",
      "Date                                 \n",
      "1981-01-01                        0.0\n",
      "1981-01-02                        0.0\n",
      "1981-01-03                        0.0\n",
      "1981-01-04                        0.0\n",
      "1981-01-05                        0.0\n",
      "       Daily Rainfall Total (mm)\n",
      "count               14610.000000\n",
      "mean                    5.721629\n",
      "std                    14.194586\n",
      "min                     0.000000\n",
      "25%                     0.000000\n",
      "50%                     0.000000\n",
      "75%                     4.200000\n",
      "max                   216.200000\n"
     ]
    }
   ],
   "source": [
    "import pandas as pd\n",
    "\n",
    "dr = pd.read_csv('../../assets/data/Changi_daily_rainfall.csv', index_col=0, header=0, parse_dates=True)\n",
    "print(dr.head())\n",
    "print(dr.describe())"
   ]
  },
  {
   "cell_type": "markdown",
   "id": "f78365ad",
   "metadata": {},
   "source": [
    "We could also get specific statistics by directly operating on the DataFrame. In this case, the unbiased estimator is used by default."
   ]
  },
  {
   "cell_type": "code",
   "execution_count": 4,
   "id": "feb5c251",
   "metadata": {},
   "outputs": [
    {
     "name": "stdout",
     "output_type": "stream",
     "text": [
      "Daily Rainfall Total (mm)    5.721629\n",
      "dtype: float64\n",
      "Daily Rainfall Total (mm)    0.0\n",
      "dtype: float64\n",
      "Daily Rainfall Total (mm)    201.486277\n",
      "dtype: float64\n",
      "Daily Rainfall Total (mm)    5.130516\n",
      "dtype: float64\n",
      "Daily Rainfall Total (mm)    40.832293\n",
      "dtype: float64\n"
     ]
    }
   ],
   "source": [
    "# Mean (Location Parameter)\n",
    "print(dr.mean())\n",
    "\n",
    "# Median (Location Parameter)\n",
    "print(dr.median())\n",
    "\n",
    "# Variance (Scale Parameter)\n",
    "print(dr.var())\n",
    "\n",
    "# Skewness (Shape Parameter)\n",
    "print(dr.skew())\n",
    "\n",
    "# Kurtosis (Shape Parameter)\n",
    "print(dr.kurtosis())"
   ]
  },
  {
   "cell_type": "markdown",
   "id": "b096a0c7",
   "metadata": {},
   "source": [
    "## Distributions"
   ]
  },
  {
   "cell_type": "markdown",
   "id": "54a20593",
   "metadata": {},
   "source": [
    "`scipy.stats` contains a lot of objects for specific distributions, including **continuous distributions** and **discrete distributions**.\n",
    "\n",
    "+ **Continuous distributions**\n",
    "\n",
    "Some examples are `norm` (normal distribution), `gamma` (gamma distribution), `uniform` (uniform distribution). Each object of continuous distributions comes with many useful methods, such as its PDF (probability density function), its CDF (cumulative distribution function) and so on.\n",
    "\n",
    "Normally, we would directly import specific distributions into Python for convenience. Next is the example of a normal distribution whose mean is 5 and standard deviation is 2."
   ]
  },
  {
   "cell_type": "code",
   "execution_count": 5,
   "id": "53cfe528",
   "metadata": {},
   "outputs": [],
   "source": [
    "from scipy.stats import norm\n",
    "\n",
    "bins = np.arange(5 - 3 * 2, 5 + 3 * 2, 0.01)\n",
    "\n",
    "PDF = norm.pdf(bins, loc=5, scale=2)  # generate PDF in bins\n",
    "CDF = norm.cdf(bins, loc=5, scale=2)  # generate CDF in bins\n",
    "SF = norm.sf(bins, loc=5, scale=2)  # generate survival function (1-CDF)\n",
    "PPF = norm.ppf(0.5, loc=5, scale=2)  # obtain percent point (inverse of CDF)\n",
    "RVS = norm.rvs(loc=5, scale=2, size=1000)  # generate 1000 random variates\n",
    "MMS = norm.stats(loc=5, scale=2, moments='mvsk')  # obtain the four moments"
   ]
  },
  {
   "cell_type": "code",
   "execution_count": 6,
   "id": "c597cf75",
   "metadata": {},
   "outputs": [
    {
     "data": {
      "image/png": "[encoded data removed]",
      "text/plain": [
       "<Figure size 432x288 with 1 Axes>"
      ]
     },
     "metadata": {
      "needs_background": "light"
     },
     "output_type": "display_data"
    },
    {
     "data": {
      "image/png": "[encoded data removed]",
      "text/plain": [
       "<Figure size 432x288 with 1 Axes>"
      ]
     },
     "metadata": {
      "needs_background": "light"
     },
     "output_type": "display_data"
    }
   ],
   "source": [
    "import matplotlib.pyplot as plt\n",
    "\n",
    "plt.plot(bins, PDF)\n",
    "plt.ylabel(\"PDF\")\n",
    "plt.show()\n",
    "\n",
    "plt.plot(bins, CDF)\n",
    "plt.ylabel(\"CDF\")\n",
    "plt.show()"
   ]
  },
  {
   "cell_type": "markdown",
   "id": "3c5c4a44",
   "metadata": {},
   "source": [
    "One common practice is to fit a dataset into a distribution. Next is an example."
   ]
  },
  {
   "cell_type": "markdown",
   "id": "84ef2630",
   "metadata": {},
   "source": [
    "```{margin} Note on SciPy version\n",
    "If you are using SciPy locally with a version former than 1.7.0, the choice of `method` in `fit()` is not supported, which leads to the error `TypeError: Unknown arguments: {'method': 'MLE'}` when running the `fit()` function. The solution is to remove the choice of `method` (i.e. `mu, sigma = norm.fit(samples)`).  \n",
    "```"
   ]
  },
  {
   "cell_type": "code",
   "execution_count": 7,
   "id": "17389c92",
   "metadata": {},
   "outputs": [
    {
     "name": "stdout",
     "output_type": "stream",
     "text": [
      "4.958541517790965 2.0137494019413795\n"
     ]
    },
    {
     "data": {
      "image/png": "[encoded data removed]",
      "text/plain": [
       "<Figure size 432x288 with 1 Axes>"
      ]
     },
     "metadata": {
      "needs_background": "light"
     },
     "output_type": "display_data"
    }
   ],
   "source": [
    "samples = norm.rvs(loc=5, scale=2, size=1000)  # pesudo dataset\n",
    "mu, sigma = norm.fit(samples, method=\"MLE\")  # do a maximum-likelihood fit\n",
    "print(mu, sigma)\n",
    "\n",
    "# Plot figure\n",
    "bins = np.arange(mu - 3 * sigma, mu + 3 * sigma, 0.01)\n",
    "plt.hist(samples, density=True, histtype='stepfilled',\n",
    "         alpha=0.2, label='Samples')\n",
    "plt.plot(bins, norm.pdf(bins, loc=mu, scale=sigma),\n",
    "         'k-', lw=2, label='Fit')\n",
    "plt.legend(loc='best', frameon=False)\n",
    "plt.show()"
   ]
  },
  {
   "cell_type": "markdown",
   "id": "94e17188",
   "metadata": {},
   "source": [
    "::: {note}\n",
    "The distribution objects in `scipy.stats` could be employed in two ways. The first is to input distribution parameters every time, as in the example above. The other way is to create a **\"frozen\" distribution** object by fixing the distribution parameters. For example, `distr = norm(loc=5, scale=2)`. The example in the following section of discrete distributions employs this way. \n",
    ":::"
   ]
  },
  {
   "cell_type": "markdown",
   "id": "61815126",
   "metadata": {},
   "source": [
    "+ **Discrete distributions**\n",
    "\n",
    "Some examples are `bernoulli` (Bernoulli distribution), `binom` (binomial distribution), `poisson` (poisson distribution). Similarly, each object of discrete distributions comes with some useful methods, such as its PMF (probability mass function), its CDF (cumulative distribution function) and so on."
   ]
  },
  {
   "cell_type": "code",
   "execution_count": 8,
   "id": "fae6394c",
   "metadata": {},
   "outputs": [],
   "source": [
    "from scipy.stats import binom\n",
    "\n",
    "n, p = 5, 0.4\n",
    "distr = binom(n, p)  # frozen distribution\n",
    "x = np.arange(0, 5)\n",
    "\n",
    "PMF = distr.pmf(x)  # generate PMF in x\n",
    "CDF = distr.cdf(x)  # generate CDF in x\n",
    "MMS = distr.stats(moments='mvsk')  # obtain the four moments\n",
    "RVS = distr.rvs(size=1000)  # generate random variates"
   ]
  },
  {
   "cell_type": "code",
   "execution_count": 9,
   "id": "21554254",
   "metadata": {},
   "outputs": [
    {
     "data": {
      "image/png": "[encoded data removed]",
      "text/plain": [
       "<Figure size 432x288 with 1 Axes>"
      ]
     },
     "metadata": {
      "needs_background": "light"
     },
     "output_type": "display_data"
    },
    {
     "data": {
      "image/png": "[encoded data removed]",
      "text/plain": [
       "<Figure size 432x288 with 1 Axes>"
      ]
     },
     "metadata": {
      "needs_background": "light"
     },
     "output_type": "display_data"
    }
   ],
   "source": [
    "plt.plot(x, PMF, 'bo')\n",
    "plt.vlines(x, 0, PMF, 'b', lw=1)\n",
    "plt.ylabel(\"PMF\")\n",
    "plt.show()\n",
    "\n",
    "plt.plot(x, CDF, 'bo')\n",
    "plt.vlines(x, 0, CDF, 'b', lw=1)\n",
    "plt.ylabel(\"CDF\")\n",
    "plt.show()"
   ]
  },
  {
   "cell_type": "markdown",
   "id": "6a30de37",
   "metadata": {},
   "source": [
    "For a full list of probability distributions in `scipy.stats`, please refer to this [official website](https://docs.scipy.org/doc/scipy/reference/stats.html#probability-distributions)."
   ]
  },
  {
   "cell_type": "markdown",
   "id": "9d306bd0",
   "metadata": {},
   "source": [
    "## Statistical Tests"
   ]
  },
  {
   "cell_type": "markdown",
   "id": "059b1162",
   "metadata": {},
   "source": [
    "`scipy.stats` contains a lot of common statistical tests, such as `ttest_ind` (T-test for the means of two independent samples), `kstest` (Kolmogorov-Smirnov test for goodness of fit) and so on.\n",
    "\n",
    "For instance, if we have two sets of observations, that we assume are generated from Gaussian processes, we can use a T-test `stats.ttest_ind` to decide whether the means of two sets of observations are significantly different."
   ]
  },
  {
   "cell_type": "code",
   "execution_count": 10,
   "id": "56cfd1a5",
   "metadata": {
    "scrolled": true
   },
   "outputs": [
    {
     "name": "stdout",
     "output_type": "stream",
     "text": [
      "-3.903717533207091 0.00016522186307202223\n"
     ]
    }
   ],
   "source": [
    "a = np.random.normal(0, 1, size=100)  # Sample A\n",
    "b = np.random.normal(1, 1, size=10)   # Sample B\n",
    "T, p = stats.ttest_ind(a, b)          # T-test\n",
    "print(T, p)"
   ]
  },
  {
   "cell_type": "markdown",
   "id": "edf48a02",
   "metadata": {},
   "source": [
    "The resulting output in this case is composed of:\n",
    "* T statistic value: a number the sign of which is proportional to the difference between the two random processes and the magnitude is related to the significance of this difference.\n",
    "* p value: the probability of both processes being identical. If it is close to 1, the two processes are almost certainly identical. The closer it is to zero, the more likely it is that the processes have different means."
   ]
  },
  {
   "cell_type": "markdown",
   "id": "3232b709",
   "metadata": {},
   "source": [
    "For a full list of supported statistical tests in `scipy.stats`, please refer to this [official website](https://docs.scipy.org/doc/scipy/reference/stats.html#correlation-functions)."
   ]
  },
  {
   "cell_type": "markdown",
   "id": "a2f2432f",
   "metadata": {},
   "source": [
    "## Correlations"
   ]
  },
  {
   "cell_type": "markdown",
   "id": "f17c5325",
   "metadata": {},
   "source": [
    "`scipy.stats` contains some basic correlation functions, such as `pearsonr` (Pearson correlation coefficient), `spearmanr` (Spearman correlation coefficient), `kendalltau` (Kendall’s tau correlation measure). Next is an example of Kendall’s tau correlation for annual rainfall."
   ]
  },
  {
   "cell_type": "code",
   "execution_count": 11,
   "id": "d547184b",
   "metadata": {},
   "outputs": [
    {
     "name": "stdout",
     "output_type": "stream",
     "text": [
      "      Yearly Rainfall Total (mm)\n",
      "Date                            \n",
      "1981                      1336.3\n",
      "1982                      1581.7\n",
      "1983                      1866.5\n",
      "1984                      2686.7\n",
      "1985                      1483.9\n",
      "-0.0358974358974359 0.7442511261559122\n"
     ]
    }
   ],
   "source": [
    "dr = pd.read_csv('../../assets/data/Changi_daily_rainfall.csv', index_col=0, header=0, parse_dates=True)\n",
    "yr = dr.resample(\"Y\", label=\"right\").sum()  # aggregate annual rainfall total\n",
    "yr.index = yr.index.year\n",
    "yr.columns = [\"Yearly Rainfall Total (mm)\"]\n",
    "print(yr.head())\n",
    "\n",
    "tau, p = stats.kendalltau(yr.index, yr)\n",
    "# tau is Kendall’s tau measure and p is the corresponding p-value\n",
    "print(tau, p)"
   ]
  },
  {
   "cell_type": "markdown",
   "id": "83eaf51c",
   "metadata": {},
   "source": [
    "For more advanced regression models, you may refer to the third-party [machine learning package](https://scikit-learn.org/stable/supervised_learning.html#supervised-learning) `sklearn`, which is also built on NumPy, SciPy and matplotlib. A brief beginner guide of this could also be found in [RealPython](https://realpython.com/linear-regression-in-python/)."
   ]
  },
  {
   "cell_type": "markdown",
   "id": "684c7d36",
   "metadata": {},
   "source": [
    "## Extreme Value Analysis"
   ]
  },
  {
   "cell_type": "markdown",
   "id": "bc7f904d",
   "metadata": {},
   "source": [
    "Extreme value analysis (EVA) is a process primarily to estimate the probability of events that are more extreme than any previously observed. It is widely applied in many fields such as engineering, meteorology, hydrology, finance, etc. For example, we could use EVA to estimate the probability distributions of extreme events and correspondingly estimate the magnitudes of extreme events under specific return periods.\n",
    "\n",
    "In this section, we will take a series of streamflow as an example to show the extreme value analysis for <u>**annual 5-day low-flow**</u> in Python step by step."
   ]
  },
  {
   "cell_type": "markdown",
   "id": "2f98e6f9",
   "metadata": {},
   "source": [
    "### Extract extreme values"
   ]
  },
  {
   "cell_type": "markdown",
   "id": "75b84ecc",
   "metadata": {},
   "source": [
    "We first load the daily streamflow data from the file using `pandas` and calculate the 5-day moving average of streamflow."
   ]
  },
  {
   "cell_type": "code",
   "execution_count": 12,
   "id": "7ed6c711",
   "metadata": {},
   "outputs": [
    {
     "data": {
      "text/html": [
       "<div>\n",
       "<style scoped>\n",
       "    .dataframe tbody tr th:only-of-type {\n",
       "        vertical-align: middle;\n",
       "    }\n",
       "\n",
       "    .dataframe tbody tr th {\n",
       "        vertical-align: top;\n",
       "    }\n",
       "\n",
       "    .dataframe thead th {\n",
       "        text-align: right;\n",
       "    }\n",
       "</style>\n",
       "<table border=\"1\" class=\"dataframe\">\n",
       "  <thead>\n",
       "    <tr style=\"text-align: right;\">\n",
       "      <th></th>\n",
       "      <th>Streamflow</th>\n",
       "    </tr>\n",
       "    <tr>\n",
       "      <th>Date</th>\n",
       "      <th></th>\n",
       "    </tr>\n",
       "  </thead>\n",
       "  <tbody>\n",
       "    <tr>\n",
       "      <th>1981-01-01</th>\n",
       "      <td>40.0</td>\n",
       "    </tr>\n",
       "    <tr>\n",
       "      <th>1981-01-02</th>\n",
       "      <td>39.0</td>\n",
       "    </tr>\n",
       "    <tr>\n",
       "      <th>1981-01-03</th>\n",
       "      <td>41.0</td>\n",
       "    </tr>\n",
       "    <tr>\n",
       "      <th>1981-01-04</th>\n",
       "      <td>39.0</td>\n",
       "    </tr>\n",
       "    <tr>\n",
       "      <th>1981-01-05</th>\n",
       "      <td>37.0</td>\n",
       "    </tr>\n",
       "  </tbody>\n",
       "</table>\n",
       "</div>"
      ],
      "text/plain": [
       "            Streamflow\n",
       "Date                  \n",
       "1981-01-01        40.0\n",
       "1981-01-02        39.0\n",
       "1981-01-03        41.0\n",
       "1981-01-04        39.0\n",
       "1981-01-05        37.0"
      ]
     },
     "execution_count": 12,
     "metadata": {},
     "output_type": "execute_result"
    }
   ],
   "source": [
    "# Load Data\n",
    "ds = pd.read_csv('../../assets/data/Streamflow_02401390.dat', delimiter='\\s+', \n",
    "                 index_col=0, header=None, parse_dates=True)\n",
    "ds.columns = [\"Streamflow\"]\n",
    "ds.index.name = 'Date'\n",
    "ds.head()"
   ]
  },
  {
   "cell_type": "code",
   "execution_count": 13,
   "id": "c02dddfb",
   "metadata": {},
   "outputs": [
    {
     "name": "stdout",
     "output_type": "stream",
     "text": [
      "            5-day flow\n",
      "Date                  \n",
      "1981-01-01         NaN\n",
      "1981-01-02         NaN\n",
      "1981-01-03        39.2\n",
      "1981-01-04        38.4\n",
      "1981-01-05        39.4\n",
      "      Annual low-flow\n",
      "Date                 \n",
      "1981             11.2\n",
      "1982             19.2\n",
      "1983             19.8\n",
      "1984             17.6\n",
      "1985             25.4\n"
     ]
    },
    {
     "data": {
      "image/png": "[encoded data removed]",
      "text/plain": [
       "<Figure size 432x288 with 1 Axes>"
      ]
     },
     "metadata": {
      "needs_background": "light"
     },
     "output_type": "display_data"
    }
   ],
   "source": [
    "# Calculate 5-day flow\n",
    "ds5day = ds.rolling(5, center=True).mean()  # moving average\n",
    "ds5day.columns = [\"5-day flow\"]\n",
    "print(ds5day.head())\n",
    "\n",
    "# Extract annual low-flow\n",
    "lowf = ds5day.resample(\"Y\").min()  # yearly minimum\n",
    "lowf.index = lowf.index.year\n",
    "lowf.columns = [\"Annual low-flow\"]\n",
    "print(lowf.head())\n",
    "\n",
    "# Plot annual 5-day low-flow\n",
    "plt.plot(lowf)\n",
    "plt.xlabel(\"Year\")\n",
    "plt.ylabel(\"Low-flow ($m^3/s$)\")\n",
    "plt.show()"
   ]
  },
  {
   "cell_type": "markdown",
   "id": "a37e93cc",
   "metadata": {},
   "source": [
    "### Fit distribution (parameter estimation)"
   ]
  },
  {
   "cell_type": "markdown",
   "id": "2a61ef92",
   "metadata": {},
   "source": [
    "Next, we fit a distribution to the low-flow data. We assume that annual low-flow follows a generalized extreme value (GEV) distribution `genextreme(c, loc=loc, scale=scale)`, which has three parameters: `loc` (location parameter), `scale` (scale parameter) and `c` (shape parameter)."
   ]
  },
  {
   "cell_type": "code",
   "execution_count": 14,
   "id": "5b752c65",
   "metadata": {},
   "outputs": [],
   "source": [
    "from scipy.stats import genextreme as gev"
   ]
  },
  {
   "cell_type": "markdown",
   "id": "a346f901",
   "metadata": {},
   "source": [
    "Here, we introduce two methods to estimate the parameters, including the **maximum likelihood method (MLE)** and the **method of L-moments**.\n",
    "\n",
    "+ Maximum likelihood method (MLE)"
   ]
  },
  {
   "cell_type": "markdown",
   "id": "e93b4eb0",
   "metadata": {},
   "source": [
    "```{margin} Note on SciPy version\n",
    "If you are using SciPy locally with a version former than 1.7.0, there will be accidental `ValueError` when running the `fit()` function. This is due to the incompatibility of `fit()` function with DataFrame in old versions. The solution is to only input values (NumPy Array) in fitting (i.e. `c0, loc0, scale0  = gev.fit(lowf.values)`).  \n",
    "```"
   ]
  },
  {
   "cell_type": "code",
   "execution_count": 15,
   "id": "64d7f9fa",
   "metadata": {},
   "outputs": [
    {
     "name": "stdout",
     "output_type": "stream",
     "text": [
      "15.808425716808408 5.941316015077605 0.16158787388446866\n"
     ]
    }
   ],
   "source": [
    "c0, loc0, scale0  = gev.fit(lowf, method=\"MLE\")\n",
    "print(loc0, scale0, c0)\n",
    "MLEGEV = gev(c0, loc=loc0, scale=scale0)  # Frozen distribution"
   ]
  },
  {
   "cell_type": "markdown",
   "id": "23faa4a3",
   "metadata": {},
   "source": [
    "+ Method of L-moments (LMM)\n",
    "\n",
    "In the context of EVA, observations are used to fit the distributions of extreme events, which tend to follow a distribution more complicated than the normal distribution in essence. The method of L-moments is more recommended in this case (more details referred to [WikiPedia](https://en.wikipedia.org/wiki/L-moment#:~:text=L-moments%20are%20more%20robust%20than%20conventional%20moments%2C%20and%20existence%20of%20higher%20L-moments%20only%20requires%20that%20the%20random%20variable%20have%20finite%20mean.)). However, `scipy.stats` only includes the common MLE method and method of moments for parameter estimation. We need to code the method of L-moments.\n",
    "\n",
    "The L-moments are established based on the probability weighted moments. To be specific, they are linear combinations of probability weighted moments. The probability weighted moments are defined as\n",
    "\n",
    "$\n",
    "\\begin{align}\n",
    "& \\beta_0=\\int_{0}^{1} xF(x)\\text{d}F(x)\\\\\n",
    "& \\beta_1=\\int_{0}^{1} xF(x)^2\\text{d}F(x) \\tag{1}\\\\\n",
    "& \\beta_2=\\int_{0}^{1} xF(x)^3\\text{d}F(x)\\\\\n",
    "\\end{align}\n",
    "$\n",
    "\n",
    "where $x$ is the random variable of interest and $F(x)$ is the cumulative distribution.\n",
    "\n",
    "The basic idea of the method of L-moments is to **use sample L-moments as the estimates of population L-moments**. Then, if we could get the relationships between the population L-moments and the distribution parameters, we could get the estimates of parameters by plugging sample L-moments. In order to calculate L-moments of samples, we need to calculate probability weighted moments of samples at first. Assume a set of samples $X_j\\ (X_1>X_2>...>X_n)$, probability weighted moments of samples are \n",
    "\n",
    "$\n",
    "\\begin{align}\n",
    "& b_0=\\overline{X} \\\\\n",
    "& b_1=\\sum_{j=1}^{n-1} \\frac{(n-j)X_j}{n(n-1)} \\tag{2}\\\\\n",
    "& b_2=\\sum_{j=1}^{n-2} \\frac{(n-j)(n-j-1)X_j}{n(n-1)(n-2)}\\\\\n",
    "\\end{align}\n",
    "$\n",
    "\n",
    "where $b_0, b_1, b_2$ are the first three unbiased probability weighted moments of samples.\n",
    "\n",
    "The relationship between the first three L-moments and probability weighted moments are \n",
    "\n",
    "$\n",
    "\\begin{align}\n",
    "& \\lambda_1=b_0\\\\\n",
    "& \\lambda_2=2b_1-b_0 \\tag{3}\\\\\n",
    "& \\lambda_3=6b_2-6b_1+b_0\\\\\n",
    "\\end{align}\n",
    "$\n",
    "\n",
    "where $\\lambda_1, \\lambda_2, \\lambda_3$ are the first three L-moments. By plugging equation (2) into equation (3), we could obtain the sample L-moments."
   ]
  },
  {
   "cell_type": "code",
   "execution_count": 16,
   "id": "7a0b8292",
   "metadata": {},
   "outputs": [
    {
     "name": "stdout",
     "output_type": "stream",
     "text": [
      "(18.5, 3.8837241379310328, 0.37207881773398555)\n"
     ]
    }
   ],
   "source": [
    "# Calculate samples L-moments\n",
    "\n",
    "def samlmom3(sample):\n",
    "    \"\"\"\n",
    "    samlmom3 returns the first three L-moments of samples\n",
    "    sample is the 1-d array\n",
    "    n is the total number of the samples, j is the j_th sample\n",
    "    \"\"\"\n",
    "    n = len(sample)\n",
    "    sample = np.sort(sample.reshape(n))[::-1]\n",
    "    b0 = np.mean(sample)\n",
    "    b1 = np.array([(n - j - 1) * sample[j] / n / (n - 1)\n",
    "                   for j in range(n)]).sum()\n",
    "    b2 = np.array([(n - j - 1) * (n - j - 2) * sample[j] / n / (n - 1) / (n - 2)\n",
    "                   for j in range(n - 1)]).sum()\n",
    "    lmom1 = b0\n",
    "    lmom2 = 2 * b1 - b0\n",
    "    lmom3 = 6 * (b2 - b1) + b0\n",
    "\n",
    "    return lmom1, lmom2, lmom3\n",
    "\n",
    "\n",
    "LMM = samlmom3(lowf[\"Annual low-flow\"].values)\n",
    "print(LMM)"
   ]
  },
  {
   "cell_type": "markdown",
   "id": "bd94073d",
   "metadata": {},
   "source": [
    "[Hosking (1990; Table 1)](https://www.jstor.org/stable/2345653?origin=JSTOR-pdf) has proven that for the GEV distribution, the relationships between the L-moments and distribution parameters are \n",
    "\n",
    "$\n",
    "\\begin{align}\n",
    "\\lambda_1 & =\\mu+\\sigma[1-\\Gamma(1+\\xi)]/\\xi \\\\\n",
    "\\lambda_2 & =\\sigma(1-2^{-\\xi})\\Gamma(1+\\xi)/\\xi \\tag{4} \\\\\n",
    "\\frac{\\lambda_3}{\\lambda_2} & =\\frac{2(1-3^{-\\xi})}{1-2^{-\\xi}}-3\n",
    "\\end{align}\n",
    "$\n",
    "\n",
    "where $\\mu, \\sigma, \\xi$ are respectively GEV's location `loc`, scale `scale` and shape `c` parameters. Obviously, there are no explicit solutions to these equations when we plugin the sample L-moments. Luckily, we could resort to the function solver `scipy.optimize.fsolve` in the optimization sub-module of SciPy to get numerical solutions."
   ]
  },
  {
   "cell_type": "code",
   "execution_count": 17,
   "id": "9ab4570a",
   "metadata": {},
   "outputs": [
    {
     "name": "stdout",
     "output_type": "stream",
     "text": [
      "15.587575273199434 6.18294944388195 0.11881321836725452\n"
     ]
    }
   ],
   "source": [
    "# Estimate GEV parameters using the function solver\n",
    "\n",
    "from scipy.optimize import fsolve\n",
    "import math\n",
    "\n",
    "def pargev_fsolve(lmom):\n",
    "    \"\"\"\n",
    "    pargev_fsolve estimates the parameters of the Generalized Extreme Value \n",
    "    distribution given the L-moments of samples\n",
    "    \"\"\"\n",
    "    lmom_ratios = [lmom[0], lmom[1], lmom[2] / lmom[1]]\n",
    "    f = lambda x, t: 2 * (1 - 3**(-x)) / (1 - 2**(-x)) - 3 - t\n",
    "    G = fsolve(f, 0.01, lmom_ratios[2])[0]\n",
    "    para3 = G\n",
    "    GAM = math.gamma(1 + G)\n",
    "    para2 = lmom_ratios[1] * G / (GAM * (1 - 2**-G))\n",
    "    para1 = lmom_ratios[0] - para2 * (1 - GAM) / G\n",
    "    return para1, para2, para3\n",
    "\n",
    "loc1, scale1, c1 = pargev_fsolve(LMM)\n",
    "print(loc1, scale1, c1)"
   ]
  },
  {
   "cell_type": "markdown",
   "id": "112a70b1",
   "metadata": {},
   "source": [
    "Alternatively, a numerical approximation method for the solution of equation (4) was proposed by [Donaldson (1996)](https://www.tandfonline.com/doi/abs/10.1080/03610919608813340)."
   ]
  },
  {
   "cell_type": "code",
   "execution_count": 18,
   "id": "ca9aab39",
   "metadata": {},
   "outputs": [
    {
     "name": "stdout",
     "output_type": "stream",
     "text": [
      "15.587575475184854 6.182949767501039 0.11881328920002591\n"
     ]
    }
   ],
   "source": [
    "# Estimate GEV parameters using numerical approximations\n",
    "\n",
    "from scipy import special\n",
    "import math\n",
    "\n",
    "def pargev(lmom):\n",
    "    \"\"\"\n",
    "    pargev returns the parameters of the Generalized Extreme Value \n",
    "    distribution given the L-moments of samples\n",
    "    \"\"\"\n",
    "    lmom_ratios = [lmom[0], lmom[1], lmom[2]/lmom[1]]\n",
    "    \n",
    "    SMALL = 1e-5\n",
    "    eps = 1e-6\n",
    "    maxit = 20\n",
    "    \n",
    "    # EU IS EULER'S CONSTANT\n",
    "    EU = 0.57721566\n",
    "    DL2 = math.log(2)\n",
    "    DL3 = math.log(3)\n",
    "\n",
    "    # COEFFICIENTS OF RATIONAL-FUNCTION APPROXIMATIONS FOR XI\n",
    "    A0 = 0.28377530\n",
    "    A1 = -1.21096399\n",
    "    A2 = -2.50728214\n",
    "    A3 = -1.13455566\n",
    "    A4 = -0.07138022\n",
    "    B1 = 2.06189696\n",
    "    B2 = 1.31912239\n",
    "    B3 = 0.25077104\n",
    "    C1 = 1.59921491\n",
    "    C2 = -0.48832213\n",
    "    C3 = 0.01573152\n",
    "    D1 = -0.64363929\n",
    "    D2 = 0.08985247\n",
    "    \n",
    "    T3 = lmom_ratios[2]\n",
    "    if lmom_ratios[1] <= 0 or abs(T3) >= 1:\n",
    "        raise ValueError(\"Invalid L-Moments\")\n",
    "    \n",
    "    if T3 <= 0:\n",
    "        G = (A0 + T3 * (A1 + T3 * (A2 + T3 * (A3 + T3 * A4)))) / (1 + T3 * (B1 + T3 * (B2 + T3 * B3)))\n",
    "\n",
    "        if T3 >= -0.8:\n",
    "            para3 = G\n",
    "            GAM = math.exp(special.gammaln(1 + G))\n",
    "            para2 = lmom_ratios[1] * G / (GAM * (1 - 2**-G))\n",
    "            para1 = lmom_ratios[0] - para2 * (1 - GAM) / G\n",
    "            return para1, para2, para3\n",
    "        elif T3 <= -0.97:\n",
    "            G = 1 - math.log(1 + T3) / DL2\n",
    "\n",
    "        T0 = (T3 + 3) * 0.5\n",
    "        for IT in range(1, maxit):\n",
    "            X2 = 2 ** -G\n",
    "            X3 = 3 ** -G\n",
    "            XX2 = 1 - X2\n",
    "            XX3 = 1 - X3\n",
    "            T = XX3 / XX2\n",
    "            DERIV = (XX2 * X3 * DL3 - XX3 * X2 * DL2) / (XX2**2)\n",
    "            GOLD = G\n",
    "            G -= (T - T0) / DERIV\n",
    "\n",
    "            if abs(G - GOLD) <= eps * G:\n",
    "                para3 = G\n",
    "                GAM = math.exp(special.gammaln(1 + G))\n",
    "                para2 = lmom_ratios[1] * G / (GAM * (1 - 2**-G))\n",
    "                para1 = lmom_ratios[0] - para2 * (1 - GAM) / G\n",
    "                return para1, para2, para3\n",
    "        raise Exception(\"Iteration has not converged\")\n",
    "    else:\n",
    "        Z = 1 - T3\n",
    "        G = (-1 + Z * (C1 + Z * (C2 + Z * C3))) / (1 + Z * (D1 + Z * D2))\n",
    "        if abs(G) < SMALL:\n",
    "            para2 = lmom_ratios[1] / DL2\n",
    "            para1 = lmom_ratios[0] - EU * para2\n",
    "            para3 = 0\n",
    "        else:\n",
    "            para3 = G\n",
    "            GAM = math.exp(special.gammaln(1 + G))\n",
    "            para2 = lmom_ratios[1] * G / (GAM * (1 - 2**-G))\n",
    "            para1 = lmom_ratios[0] - para2 * (1 - GAM) / G\n",
    "        return para1, para2, para3\n",
    "\n",
    "\n",
    "loc1, scale1, c1 = pargev(LMM)\n",
    "print(loc1, scale1, c1)\n",
    "LMMGEV = gev(c1, loc=loc1, scale=scale1)  # Frozen distribution"
   ]
  },
  {
   "cell_type": "markdown",
   "id": "69b2fb2a",
   "metadata": {},
   "source": [
    "We could observe that both the function solver and numerical approximations generate almost the same results of distribution parameters."
   ]
  },
  {
   "cell_type": "markdown",
   "id": "aca20208",
   "metadata": {},
   "source": [
    "### Compare with empirical distribution\n",
    "\n",
    "As we have assumed the probability distributions of annual low-flow, it is necessary to examine the performance in characterizing the observation datasets of this distribution along with estimated parameters. Here, we first examine this by directly looking at the ***probability density function (PDF)*** and ***cumulative distribution function (CDF)***; then, we examine this through ***statistical inference***."
   ]
  },
  {
   "cell_type": "markdown",
   "id": "09e539aa",
   "metadata": {},
   "source": [
    "+ Probability density function"
   ]
  },
  {
   "cell_type": "code",
   "execution_count": 19,
   "id": "3f7a6d73",
   "metadata": {},
   "outputs": [
    {
     "data": {
      "image/png": "[encoded data removed]",
      "text/plain": [
       "<Figure size 432x288 with 1 Axes>"
      ]
     },
     "metadata": {
      "needs_background": "light"
     },
     "output_type": "display_data"
    }
   ],
   "source": [
    "# Plot empirical PDF\n",
    "plt.hist(lowf, density=True, histtype='stepfilled',\n",
    "         alpha=0.2, label='Empirical PDF')\n",
    "# Plot estimated PDF based on maximum likelihood method\n",
    "bins = np.linspace(MLEGEV.ppf(0.01), MLEGEV.ppf(0.99), 100)\n",
    "plt.plot(bins, MLEGEV.pdf(bins),\n",
    "         'r-', lw=2, label='Estimated PDF (MLE)')\n",
    "# Plot estimated PDF based on the method of L-moments\n",
    "bins = np.linspace(LMMGEV.ppf(0.01), LMMGEV.ppf(0.99), 100)\n",
    "plt.plot(bins, LMMGEV.pdf(bins),\n",
    "         'b-', lw=2, label='Estimated PDF (LMM)')\n",
    "\n",
    "plt.xlabel(\"Annual 5-day Low-flow ($m^3/s$)\")\n",
    "plt.legend(loc='best', frameon=False)\n",
    "plt.show()"
   ]
  },
  {
   "cell_type": "markdown",
   "id": "86b1b1ad",
   "metadata": {},
   "source": [
    "+ Cumulative distribution function\n",
    "\n",
    "Since we are often more concerned about the rare cases of extreme events (which lies at the edge of PDF), it is also common practice to plot CDF to have a check."
   ]
  },
  {
   "cell_type": "code",
   "execution_count": 20,
   "id": "472052e3",
   "metadata": {},
   "outputs": [
    {
     "data": {
      "image/png": "[encoded data removed]",
      "text/plain": [
       "<Figure size 432x288 with 1 Axes>"
      ]
     },
     "metadata": {
      "needs_background": "light"
     },
     "output_type": "display_data"
    }
   ],
   "source": [
    "# Plot empirical CDF\n",
    "plt.scatter(lowf.sort_values(by = [\"Annual low-flow\"]),\n",
    "            np.arange(1, lowf.size+1, dtype=float)/lowf.size,\n",
    "            color = 'orangered', facecolors='none', label='Empirical CDF')\n",
    "# Plot estimated PDF based on maximum likelihood method\n",
    "bins = np.linspace(MLEGEV.ppf(0.01), MLEGEV.ppf(0.99), 100)\n",
    "plt.plot(bins, MLEGEV.cdf(bins), \n",
    "         'r-', lw=2, label='Estimated CDF (MLE)')\n",
    "# Plot estimated PDF based on the method of L-moments\n",
    "bins = np.linspace(LMMGEV.ppf(0.01), LMMGEV.ppf(0.99), 100)\n",
    "plt.plot(bins, LMMGEV.cdf(bins), \n",
    "         'b-', lw=2, label='Estimated CDF (LMM)')\n",
    "\n",
    "plt.xlabel(\"Annual 5-day Low-flow ($m^3/s$)\")\n",
    "plt.legend(loc='best', frameon=False)\n",
    "plt.show()"
   ]
  },
  {
   "cell_type": "markdown",
   "id": "1fb520e0",
   "metadata": {},
   "source": [
    "+ Statistical inference: Kolmogorov-Smirnov(KS) test\n",
    "\n",
    "There are several tests available to test the performances of distribution fits. Here we used the Kolmogorov-Smirnov(KS) test, which is available in `scipy.stats.kstest`. This is a two-sided test for the null hypothesis that **two independent samples are drawn from the same continuous distribution**. If the K-S statistic is small or the p-value is high, then we cannot reject the hypothesis that the distributions of the two samples are the same."
   ]
  },
  {
   "cell_type": "code",
   "execution_count": 21,
   "id": "62eba48c",
   "metadata": {},
   "outputs": [
    {
     "name": "stdout",
     "output_type": "stream",
     "text": [
      "KstestResult(statistic=0.16666666666666666, pvalue=0.8079631540901643)\n",
      "KstestResult(statistic=0.16666666666666666, pvalue=0.8079631540901643)\n"
     ]
    }
   ],
   "source": [
    "MLEKS = stats.kstest(lowf[\"Annual low-flow\"], MLEGEV.ppf(np.arange(1, lowf.size+1, dtype=float)/lowf.size))\n",
    "print(MLEKS)\n",
    "LMMKS = stats.kstest(lowf[\"Annual low-flow\"], LMMGEV.ppf(np.arange(1, lowf.size+1, dtype=float)/lowf.size))\n",
    "print(LMMKS)"
   ]
  },
  {
   "cell_type": "markdown",
   "id": "a29c487b",
   "metadata": {},
   "source": [
    "### Estimate extreme values for specific return periods"
   ]
  },
  {
   "cell_type": "markdown",
   "id": "39c561e2",
   "metadata": {},
   "source": [
    "One goal of EVA is to estimate the extreme values corresponding to some return periods. In the case of low-flow, the relationship between the non-exceedance probability and the return period is\n",
    "\n",
    "$$P(X\\leq x_{T})=\\frac{1}{T}$$\n",
    "\n",
    "where $x_{T}$ is the extreme annual 5-day low-flow corresponding to the return period of $T$."
   ]
  },
  {
   "cell_type": "code",
   "execution_count": 22,
   "id": "37b33a79",
   "metadata": {},
   "outputs": [
    {
     "name": "stdout",
     "output_type": "stream",
     "text": [
      "               Annual 5-day low-flow\n",
      "Return period                       \n",
      "2                          17.922767\n",
      "5                          12.869493\n",
      "10                         10.503747\n",
      "100                         5.517358\n",
      "1000                        2.330862\n",
      "               Annual 5-day low-flow\n",
      "Return period                       \n",
      "2                          17.805074\n",
      "5                          12.560429\n",
      "10                         10.166638\n",
      "100                         5.234184\n",
      "1000                        2.154865\n"
     ]
    },
    {
     "data": {
      "image/png": "[encoded data removed]",
      "text/plain": [
       "<Figure size 432x288 with 1 Axes>"
      ]
     },
     "metadata": {
      "needs_background": "light"
     },
     "output_type": "display_data"
    }
   ],
   "source": [
    "# return periods from 2 years to 1000 years\n",
    "T = np.arange(2, 1001)\n",
    "\n",
    "# extreme low-flow under each return period\n",
    "LFTmle = MLEGEV.ppf(1.0 / T)\n",
    "LFTmle = pd.DataFrame(LFTmle, index=T, columns=[\"Annual 5-day low-flow\"])\n",
    "LFTmle.index.name = \"Return period\"\n",
    "print(LFTmle.loc[[2, 5, 10, 100, 1000]])\n",
    "\n",
    "LFTlmm = LMMGEV.ppf(1.0 / T)\n",
    "LFTlmm = pd.DataFrame(LFTlmm, index=T, columns=[\"Annual 5-day low-flow\"])\n",
    "LFTlmm.index.name = \"Return period\"\n",
    "print(LFTlmm.loc[[2, 5, 10, 100, 1000]])\n",
    "\n",
    "# Plot low-flow vs return periods\n",
    "plt.plot(T, LFTmle, 'r-', lw=2, label='MLE')\n",
    "plt.plot(T, LFTlmm, 'b-', lw=2, label='LMM')\n",
    "plt.xscale('log')\n",
    "plt.ylabel('Annual 5-day low-flow ($m^3/s$)')\n",
    "plt.xlabel('Return period (years)')\n",
    "plt.legend(loc='best', frameon=False)\n",
    "plt.show()"
   ]
  },
  {
   "cell_type": "markdown",
   "id": "d13372de",
   "metadata": {},
   "source": [
    "## References\n",
    "+ This tutorial was edited based on [Python Statistics Fundamentals](https://realpython.com/python-statistics/), [Scipy Lecture Notes](https://scipy-lectures.org/), `scipy.stats` [official site](https://docs.scipy.org/doc/scipy/reference/stats.html#probability-distributions), [royalosyin's guide to carry out EVA](https://github.com/royalosyin/A-Beginner-Guide-to-Carry-out-Extreme-Value-Analysis-with-Codes-in-Python) and [OpenHydrology's lmoments3 repository](https://github.com/OpenHydrology/lmoments3).\n",
    "+ Only the `scipy.stats` sub-module is introduced here. If you wish to get a quick glimpse on other sub-modules of SciPy, you could refer to [scipy-lectures](https://scipy-lectures.org/intro/scipy.html)."
   ]
  }
 ],
 "metadata": {
  "kernelspec": {
   "display_name": "Python 3 (ipykernel)",
   "language": "python",
   "name": "python3"
  },
  "language_info": {
   "codemirror_mode": {
    "name": "ipython",
    "version": 3
   },
   "file_extension": ".py",
   "mimetype": "text/x-python",
   "name": "python",
   "nbconvert_exporter": "python",
   "pygments_lexer": "ipython3",
   "version": "3.8.8"
  },
  "varInspector": {
   "cols": {
    "lenName": 16,
    "lenType": 16,
    "lenVar": 40
   },
   "kernels_config": {
    "python": {
     "delete_cmd_postfix": "",
     "delete_cmd_prefix": "del ",
     "library": "var_list.py",
     "varRefreshCmd": "print(var_dic_list())"
    },
    "r": {
     "delete_cmd_postfix": ") ",
     "delete_cmd_prefix": "rm(",
     "library": "var_list.r",
     "varRefreshCmd": "cat(var_dic_list()) "
    }
   },
   "types_to_exclude": [
    "module",
    "function",
    "builtin_function_or_method",
    "instance",
    "_Feature"
   ],
   "window_display": false
  }
 },
 "nbformat": 4,
 "nbformat_minor": 5
}
