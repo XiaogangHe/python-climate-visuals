{
 "cells": [
  {
   "cell_type": "markdown",
   "id": "8555c22d",
   "metadata": {},
   "source": [
    "# NumPy tutorial\n",
    "\n",
    "[NumPy](http://www.numpy.org/) is the **core** package for scientific computing in Python. It vastly simplifies manipulating and crunching vectors and matrices. Many of other leading packages rely on NumPy as a infrastructure piece."
   ]
  },
  {
   "cell_type": "markdown",
   "id": "9f2b3aa6",
   "metadata": {
    "id": "lZMyAdqhL9hY"
   },
   "source": [
    "In this tutorial, we will cover:\n",
    "\n",
    "* `numpy`: Array, Array Indexing, Array Manipulation, Array Math & Broadcasting.\n",
    "\n",
    "To use NumPy, we need to import the `numpy` package at first:"
   ]
  },
  {
   "cell_type": "code",
   "execution_count": 1,
   "id": "c043185b",
   "metadata": {
    "id": "58QdX8BLL9hZ"
   },
   "outputs": [
    {
     "name": "stdout",
     "output_type": "stream",
     "text": [
      "1.21.5\n"
     ]
    }
   ],
   "source": [
    "import numpy as np\n",
    "print(np.__version__)"
   ]
  },
  {
   "cell_type": "markdown",
   "id": "253ffce5",
   "metadata": {},
   "source": [
    "## Array and its Creation\n",
    "\n",
    "A NumPy array (a.k.a. [`ndarray`](https://numpy.org/doc/stable/reference/arrays.ndarray.html)) is the core of this package. `ndarray` is a grid of values, all of **the same type** – quite like a special version of list. We can create a NumPy array by passing a python list to it using `np.array()`. NumPy will try to guess a datatype if we do not set it explicitly. Within the ndarray object, some properties are provided for us to know the status of it, such as `dtype` – datatype of elements, `size` – number of elements, `shape` – sizes of all dimensions, [etc](https://numpy.org/doc/stable/reference/generated/numpy.ndarray.html#:~:text=array(%5B2%2C%203%5D)-,Attributes,-Tndarray)."
   ]
  },
  {
   "cell_type": "code",
   "execution_count": 2,
   "id": "6c0e8c45",
   "metadata": {
    "colab": {
     "base_uri": "https://localhost:8080/",
     "height": 52
    },
    "id": "-l3JrGxCL9hc",
    "outputId": "8d9dad18-c734-4a8a-ca8c-44060a40fb79"
   },
   "outputs": [
    {
     "name": "stdout",
     "output_type": "stream",
     "text": [
      "[1 2 3] <class 'numpy.ndarray'>\n",
      "(3,) int64 1\n"
     ]
    }
   ],
   "source": [
    "a = np.array([1, 2, 3])  # Create a rank 1 array from a list\n",
    "print(a, type(a))\n",
    "print(a.shape, a.dtype, a[0])"
   ]
  },
  {
   "cell_type": "markdown",
   "id": "e9dc8e8b-60d3-4859-999b-106c81b3c2d7",
   "metadata": {},
   "source": [
    "<img src=\"../../assets/images/numpy_ndarray.png\" width=\"500\" align=\"center\"/>"
   ]
  },
  {
   "cell_type": "markdown",
   "id": "c79839f6-e41c-490c-91da-3517ff8fa2dc",
   "metadata": {},
   "source": [
    "Using a list of lists with the same size, we could create 2D, 3D, or even higher dimensional arrays."
   ]
  },
  {
   "cell_type": "code",
   "execution_count": 3,
   "id": "db391b87",
   "metadata": {
    "colab": {
     "base_uri": "https://localhost:8080/",
     "height": 52
    },
    "id": "ma6mk-kdL9hh",
    "outputId": "0b54ff2f-e7f1-4b30-c653-9bf81cb8fbb0"
   },
   "outputs": [
    {
     "name": "stdout",
     "output_type": "stream",
     "text": [
      "[[1 2 3 4]\n",
      " [5 6 7 8]] (2, 4) 7\n",
      "[[[111 112 113 114]\n",
      "  [121 122 123 124]]\n",
      "\n",
      " [[211 212 213 214]\n",
      "  [221 222 223 224]]\n",
      "\n",
      " [[311 312 313 314]\n",
      "  [321 322 323 324]]] (3, 2, 4) 123\n"
     ]
    }
   ],
   "source": [
    "b = np.array([[1, 2, 3, 4], [5, 6, 7, 8]])  # Create a rank 2 array\n",
    "print(b, b.shape, b[1, 2])\n",
    "\n",
    "c = np.array([[[111, 112, 113, 114], [121, 122, 123, 124]],\n",
    "              [[211, 212, 213, 214], [221, 222, 223, 224]],\n",
    "              [[311, 312, 313, 314], [321, 322, 323, 324]]])\n",
    "                                            # Create a rank 3 array\n",
    "print(c, c.shape, c[0, 1, 2])"
   ]
  },
  {
   "cell_type": "markdown",
   "id": "56e41464",
   "metadata": {
    "id": "F2qwdyvuL9hn"
   },
   "source": [
    "Numpy also provides many useful [methods](https://numpy.org/doc/stable/reference/routines.array-creation.html) to create arrays for specific purposes. It's common that some methods use a tuple to specify the shape of array you want."
   ]
  },
  {
   "cell_type": "code",
   "execution_count": 4,
   "id": "9e9c3fce",
   "metadata": {
    "colab": {
     "base_uri": "https://localhost:8080/",
     "height": 52
    },
    "id": "mVTN_EBqL9hn",
    "outputId": "d267c65f-ba90-4043-cedb-f468ab1bcc5d"
   },
   "outputs": [
    {
     "name": "stdout",
     "output_type": "stream",
     "text": [
      "[[0.67742525]\n",
      " [0.0784592 ]\n",
      " [0.6098676 ]]\n"
     ]
    }
   ],
   "source": [
    "d = np.arange(5, 50, 10)  # Create an array starting at 5, ending at 50, with a step of 10\n",
    "d = np.zeros((2, 2))      # Create an array of all zeros with shape (2, 2)\n",
    "d = np.ones((1, 2))       # Create an array of all ones with shape (1, 2)\n",
    "d = np.random.random((3, 1))  # Create an array of random values with shape (3, 1)\n",
    "# Try printing them\n",
    "print(d)"
   ]
  },
  {
   "cell_type": "markdown",
   "id": "41b021ba",
   "metadata": {
    "id": "jI5qcSDfL9iC"
   },
   "source": [
    "## Array Indexing\n",
    "\n",
    "The most common ways to pull out a section of arrays include **slicing**, **integer array indexing** and **Boolean array indexing**. We may choose the appropriate indexing methods for different purposes."
   ]
  },
  {
   "cell_type": "markdown",
   "id": "35872ea4",
   "metadata": {},
   "source": [
    "+ ***Slicing***\n",
    "\n",
    "We could specify an index slice in the form `start:end` or `start:end:step` for each dimension of the array to access subarrays, quite similar to slicing python list."
   ]
  },
  {
   "cell_type": "code",
   "execution_count": 5,
   "id": "7269cc5f",
   "metadata": {
    "colab": {
     "base_uri": "https://localhost:8080/",
     "height": 52
    },
    "id": "wLWA0udwL9iD",
    "outputId": "99f08618-c513-4982-8982-b146fc72dab3"
   },
   "outputs": [
    {
     "name": "stdout",
     "output_type": "stream",
     "text": [
      "[[2 3]\n",
      " [6 7]]\n",
      "[[ 1  3]\n",
      " [ 5  7]\n",
      " [ 9 11]]\n"
     ]
    }
   ],
   "source": [
    "a = np.array([[1, 2, 3, 4], [5, 6, 7, 8], [9, 10, 11, 12]])\n",
    "print(a[:2, 1:3])  # Slice 1st to 2nd rows and 2nd to 3rd columns\n",
    "print(a[:, ::2])   # Slice all odd columns"
   ]
  },
  {
   "cell_type": "markdown",
   "id": "4a3bcf5d-9e7e-4f2a-a489-5e5587b3665c",
   "metadata": {},
   "source": [
    "\n",
    "<img src=\"../../assets/images/numpy_slice.png\" width=\"600\" align=\"center\"/>\n"
   ]
  },
  {
   "cell_type": "markdown",
   "id": "4eaba532",
   "metadata": {
    "id": "KahhtZKYL9iF"
   },
   "source": [
    "Note that a slice of an array is always a ***view*** of the same data, so modifying it will modify the original array. If you wish to avoid this, you could use the `copy()` method to create a soft copy when assigned to a new variable. This is also true when you assign the whole array to another variable."
   ]
  },
  {
   "cell_type": "code",
   "execution_count": 6,
   "id": "6ad1d01a",
   "metadata": {
    "colab": {
     "base_uri": "https://localhost:8080/",
     "height": 52
    },
    "id": "1kmtaFHuL9iG",
    "outputId": "ee3ab60c-4064-4a9e-b04c-453d3955f1d1"
   },
   "outputs": [
    {
     "name": "stdout",
     "output_type": "stream",
     "text": [
      "77 77\n",
      "77 2\n"
     ]
    }
   ],
   "source": [
    "a = np.array([[1, 2, 3, 4], [5, 6, 7, 8], [9, 10, 11, 12]])\n",
    "b1 = a[:2, 1:3]\n",
    "b1[0, 0] = 77    # b[0, 0] will be the same piece of data as a[0, 1]\n",
    "print(b1[0, 0], a[0, 1])\n",
    "\n",
    "a = np.array([[1, 2, 3, 4], [5, 6, 7, 8], [9, 10, 11, 12]])\n",
    "b2 = a[:2, 1:3].copy()\n",
    "b2[0, 0] = 77\n",
    "print(b2[0, 0], a[0, 1])"
   ]
  },
  {
   "cell_type": "markdown",
   "id": "b446b2a6",
   "metadata": {
    "id": "VP3916bOL9iP"
   },
   "source": [
    "+ ***Integer array indexing***\n",
    "\n",
    "Integer indexing allows you to index arbitrary elements in the array by separately assign the indexing for each dimension. Note that the resulting array in this way is a copy, so modifying it will **not** modify the original."
   ]
  },
  {
   "cell_type": "code",
   "execution_count": 7,
   "id": "2ac361ab",
   "metadata": {
    "colab": {
     "base_uri": "https://localhost:8080/",
     "height": 52
    },
    "id": "TBnWonIDL9iP",
    "outputId": "c29fa2cd-234e-4765-c70a-6889acc63573"
   },
   "outputs": [
    {
     "name": "stdout",
     "output_type": "stream",
     "text": [
      "[1 5 7]\n",
      "[1 5 7]\n"
     ]
    }
   ],
   "source": [
    "a = np.array([[1, 2, 3], [4, 5, 6], [7, 8, 9], [10, 11, 12]])\n",
    "print(a[[0, 1, 2], [0, 1, 0]]) # Integer indexing\n",
    "\n",
    "# The above example of integer array indexing is equivalent to this:\n",
    "print(np.array([a[0, 0], a[1, 1], a[2, 0]]))"
   ]
  },
  {
   "cell_type": "markdown",
   "id": "44a8d4ff",
   "metadata": {
    "id": "kaipSLafL9iU"
   },
   "source": [
    "This method is useful when we want to conduct an operation on a series of specific elements in the array."
   ]
  },
  {
   "cell_type": "code",
   "execution_count": 8,
   "id": "5202f5cd",
   "metadata": {
    "colab": {
     "base_uri": "https://localhost:8080/",
     "height": 34
    },
    "id": "pAPOoqy5L9iV",
    "outputId": "f812e29b-9218-4767-d3a8-e9854e754e68"
   },
   "outputs": [
    {
     "name": "stdout",
     "output_type": "stream",
     "text": [
      "[[1001    2    3]\n",
      " [   4 1005    6]\n",
      " [1007    8    9]\n",
      " [  10   11   12]]\n"
     ]
    }
   ],
   "source": [
    "row = [0, 1, 2]  # Explicitly express row indices\n",
    "col = [0, 1, 0]  # and col indices\n",
    "a[row, col] += 1000  # Only operate on specific elements\n",
    "print(a)"
   ]
  },
  {
   "cell_type": "markdown",
   "id": "a9f49243",
   "metadata": {
    "id": "NCye3NXhL9iL"
   },
   "source": [
    "You can also mix integer indexing with slice indexing to obtain a subarray. However, note that mixing yields an array of lower rank, while using only slices yields an array of the same rank as the original array."
   ]
  },
  {
   "cell_type": "code",
   "execution_count": 9,
   "id": "2b2eb26b",
   "metadata": {
    "colab": {
     "base_uri": "https://localhost:8080/",
     "height": 69
    },
    "id": "EOiEMsmNL9iL",
    "outputId": "ab2ebe48-9002-45a8-9462-fd490b467f40"
   },
   "outputs": [
    {
     "name": "stdout",
     "output_type": "stream",
     "text": [
      "[1 2 3] (3,)\n",
      "[[1 2 3]] (1, 3)\n"
     ]
    }
   ],
   "source": [
    "a = np.array([[1, 2, 3], [4, 5, 6], [7, 8, 9], [10, 11, 12]])\n",
    "a_1row = a[0, :]     # Mix integer indexing with slice indexing\n",
    "a_2rows = a[0:1, :]  # Slice indexing\n",
    "print(a_1row, a_1row.shape)   # Lower rank\n",
    "print(a_2rows, a_2rows.shape) "
   ]
  },
  {
   "cell_type": "markdown",
   "id": "823fee2e",
   "metadata": {
    "id": "kaE8dBGgL9id"
   },
   "source": [
    "+ ***Boolean array indexing***\n",
    "\n",
    "Boolean array indexing lets you pick out elements of an array based on the Boolean array with the same shape as the original one."
   ]
  },
  {
   "cell_type": "code",
   "execution_count": 10,
   "id": "801a24cb",
   "metadata": {
    "colab": {
     "base_uri": "https://localhost:8080/",
     "height": 69
    },
    "id": "32PusjtKL9id",
    "outputId": "8782e8ec-b78d-44d7-8141-23e39750b854"
   },
   "outputs": [
    {
     "name": "stdout",
     "output_type": "stream",
     "text": [
      "[[False False False]\n",
      " [False False False]\n",
      " [False False  True]\n",
      " [ True  True  True]]\n",
      "[ 9 10 11 12]\n"
     ]
    }
   ],
   "source": [
    "a = np.array([[1, 2, 3], [4, 5, 6], [7, 8, 9], [10, 11, 12]])\n",
    "bool_idx = (a > 8)  # Find the elements of a that are bigger than 2;\n",
    "                    # this returns a numpy array of Booleans of the same\n",
    "                    # shape as a, where each slot of bool_idx tells\n",
    "                    # whether that element of a is > 2.\n",
    "\n",
    "print(bool_idx)\n",
    "print(a[bool_idx])  # Boolean array indexing, return rank 1 array for True positions"
   ]
  },
  {
   "cell_type": "markdown",
   "id": "ea1f0bb8",
   "metadata": {},
   "source": [
    "We can do all of the above in a single concise statement, which is more readable."
   ]
  },
  {
   "cell_type": "code",
   "execution_count": 11,
   "id": "32a614e4",
   "metadata": {
    "colab": {
     "base_uri": "https://localhost:8080/",
     "height": 52
    },
    "id": "cb2IRMXaL9if",
    "outputId": "5983f208-3738-472d-d6ab-11fe85b36c95"
   },
   "outputs": [
    {
     "data": {
      "text/plain": [
       "array([ 9, 10, 11, 12])"
      ]
     },
     "execution_count": 11,
     "metadata": {},
     "output_type": "execute_result"
    }
   ],
   "source": [
    "a[a > 8]"
   ]
  },
  {
   "cell_type": "markdown",
   "id": "cfd9b9f8",
   "metadata": {
    "id": "CdofMonAL9ih"
   },
   "source": [
    "If you want to know more fancy indexing methods you should read the [documentation](https://numpy.org/doc/stable/user/basics.indexing.html)."
   ]
  },
  {
   "cell_type": "markdown",
   "id": "1a8271e7-e27c-4c81-897f-9dbae3f3077b",
   "metadata": {
    "id": "jTctwqdQL9ih",
    "tags": []
   },
   "source": [
    "## Array Manipulation\n",
    "\n",
    "After the creation of an array, it is possible to reshape its sizes with the `reshape()` method."
   ]
  },
  {
   "cell_type": "code",
   "execution_count": 12,
   "id": "adc8eb2a-70dc-43cf-a536-42550ef89528",
   "metadata": {},
   "outputs": [
    {
     "name": "stdout",
     "output_type": "stream",
     "text": [
      "[ 0  1  2  3  4  5  6  7  8  9 10 11]\n",
      "[[ 0  1  2  3]\n",
      " [ 4  5  6  7]\n",
      " [ 8  9 10 11]]\n",
      "[[ 0  1  2  3]\n",
      " [ 4  5  6  7]\n",
      " [ 8  9 10 11]]\n"
     ]
    }
   ],
   "source": [
    "a = np.arange(12)\n",
    "print(a)\n",
    "print(a.reshape((3, 4)))\n",
    "print(np.reshape(a, (3, 4)))  # use the class method and put object as 1st argument is the same"
   ]
  },
  {
   "cell_type": "markdown",
   "id": "d54e2183-f0b9-4921-b69f-61aaef7ebf03",
   "metadata": {},
   "source": [
    "To transpose an array, simply use the `T` property of an array object, or use the `transpose()` method."
   ]
  },
  {
   "cell_type": "code",
   "execution_count": 13,
   "id": "6a366feb",
   "metadata": {
    "colab": {
     "base_uri": "https://localhost:8080/",
     "height": 104
    },
    "id": "63Yl1f3oL9i3",
    "outputId": "c75ac7ba-4351-42f8-a09c-a4e0d966ab50",
    "scrolled": true
   },
   "outputs": [
    {
     "name": "stdout",
     "output_type": "stream",
     "text": [
      "transpose through property\n",
      " [[ 0  4  8]\n",
      " [ 1  5  9]\n",
      " [ 2  6 10]\n",
      " [ 3  7 11]]\n",
      "transpose through method\n",
      " [[ 0  4  8]\n",
      " [ 1  5  9]\n",
      " [ 2  6 10]\n",
      " [ 3  7 11]]\n"
     ]
    }
   ],
   "source": [
    "a = np.arange(12).reshape((3, 4))\n",
    "print(\"transpose through property\\n\", a.T)          # property is like a variable\n",
    "print(\"transpose through method\\n\", a.transpose())  # method is like a function"
   ]
  },
  {
   "cell_type": "markdown",
   "id": "07f2b43f-0638-4bf1-8cb3-2c9259ecf5d9",
   "metadata": {},
   "source": [
    "Numpy also offers several method to join multiple arrays, such as `hstack()` – horizontally concatenate arrays, `vstack()` – vertically concatenate arrays, `concatenate()` – concatenate arrays across the specified axis, [etc](https://numpy.org/doc/stable/reference/routines.array-manipulation.html#joining-arrays). Please mind that the shapes of input arrays must be compatible for specific joining methods."
   ]
  },
  {
   "cell_type": "code",
   "execution_count": 14,
   "id": "8dd62cbc",
   "metadata": {
    "colab": {
     "base_uri": "https://localhost:8080/",
     "height": 34
    },
    "id": "4za4O0m5L9ih",
    "outputId": "2ea4fb80-a4df-43f9-c162-5665895c13ae",
    "scrolled": true
   },
   "outputs": [
    {
     "name": "stdout",
     "output_type": "stream",
     "text": [
      "[[ 0  1  2  3  0  1]\n",
      " [ 4  5  6  7  2  3]\n",
      " [ 8  9 10 11  4  5]]\n",
      "[[ 0  1  2  3]\n",
      " [ 4  5  6  7]\n",
      " [ 8  9 10 11]\n",
      " [ 0  1  2  3]\n",
      " [ 4  5  6  7]]\n"
     ]
    }
   ],
   "source": [
    "a = np.arange(12).reshape((3, 4))\n",
    "b = np.arange(8).reshape((2, 4))\n",
    "c = np.arange(6).reshape((3, 2))\n",
    "\n",
    "ac = np.hstack((a, c))\n",
    "ab = np.vstack((a, b))\n",
    "print(ac)\n",
    "print(ab)"
   ]
  },
  {
   "cell_type": "markdown",
   "id": "3acc17fd-7721-4261-a9fb-e690c0987d35",
   "metadata": {},
   "source": [
    "Besides reshaping and joining, arrays can also be split, tiled, and rearranged in other ways. Please refer to official documention of [array manipulation](https://numpy.org/doc/stable/reference/routines.array-manipulation.html) when you need them."
   ]
  },
  {
   "cell_type": "markdown",
   "id": "78bc88e8-9288-4243-991b-a26970acc0a6",
   "metadata": {
    "id": "TuB-fdhIL9ik",
    "tags": []
   },
   "source": [
    "## Array Math\n",
    "\n",
    "The real power of NumPy is that arrays can be operated for mathematical calculations easily, along with a bunch of mathematical methods provided. Let's see some examples."
   ]
  },
  {
   "cell_type": "markdown",
   "id": "ea5a5263-173c-4f5c-b36d-c560c9acdf2f",
   "metadata": {},
   "source": [
    "### Basic Arithmetic"
   ]
  },
  {
   "cell_type": "code",
   "execution_count": 15,
   "id": "9e8f71dc",
   "metadata": {
    "colab": {
     "base_uri": "https://localhost:8080/",
     "height": 86
    },
    "id": "gHKvBrSKL9il",
    "outputId": "a8a924b1-9d60-4b68-8fd3-e4657ae3f08b"
   },
   "outputs": [
    {
     "name": "stdout",
     "output_type": "stream",
     "text": [
      "[[ 6.  8.]\n",
      " [10. 12.]]\n",
      "[[ 6.  8.]\n",
      " [10. 12.]]\n"
     ]
    }
   ],
   "source": [
    "x = np.array([[1, 2], [3, 4]], dtype=np.float64) # Set data types of elements by dtype\n",
    "y = np.array([[5, 6], [7, 8]], dtype=np.float64)\n",
    "\n",
    "# Elementwise sum; both produce an array\n",
    "print(x + y)\n",
    "print(np.add(x, y))"
   ]
  },
  {
   "cell_type": "code",
   "execution_count": 16,
   "id": "d15db728",
   "metadata": {
    "colab": {
     "base_uri": "https://localhost:8080/",
     "height": 52
    },
    "id": "g0iZuA6bL9ir",
    "outputId": "29927dda-4167-4aa8-fbda-9008b09e4356"
   },
   "outputs": [
    {
     "name": "stdout",
     "output_type": "stream",
     "text": [
      "[[1.         1.41421356]\n",
      " [1.73205081 2.        ]]\n",
      "[[0.         0.69314718]\n",
      " [1.09861229 1.38629436]]\n"
     ]
    }
   ],
   "source": [
    "# Elementwise square root; produces an array\n",
    "print(np.sqrt(x))\n",
    "# Elementwise natural logarithm; produces an array\n",
    "print(np.log(x))"
   ]
  },
  {
   "cell_type": "markdown",
   "id": "016d9e54",
   "metadata": {
    "id": "a5d_uujuL9it"
   },
   "source": [
    "NumPy also supports matrix multiplication. We use `dot()` function to compute inner products of vectors, to multiply a vector by a matrix, and to multiply matrices."
   ]
  },
  {
   "cell_type": "code",
   "execution_count": 17,
   "id": "9aaf317e",
   "metadata": {},
   "outputs": [
    {
     "name": "stdout",
     "output_type": "stream",
     "text": [
      "17\n",
      "17\n",
      "[[19 22]\n",
      " [43 50]]\n",
      "[[19 22]\n",
      " [43 50]]\n"
     ]
    }
   ],
   "source": [
    "x = np.array([[1, 2], [3, 4]])\n",
    "y = np.array([[5, 6], [7, 8]])\n",
    "\n",
    "# Inner product of vectors\n",
    "print(x[0, :].dot(y[0, :]))\n",
    "print(np.dot(x[0, :], y[0, :]))\n",
    "# Matrix / matrix product\n",
    "print(x.dot(y))\n",
    "print(np.dot(x, y))"
   ]
  },
  {
   "cell_type": "markdown",
   "id": "502c3b4e",
   "metadata": {
    "id": "FbE-1If_L9i0"
   },
   "source": [
    "### Aggregation Calculations\n",
    "\n",
    "Additional benefits NumPy gives us are aggregation functions, with which we could get basic statistics of array along different axes. These include `min()`/`max()` – get minimum/maximum value, `sum()` – summation, `mean()` – average, `std()` - standard deviation, and [plenty of others](https://jakevdp.github.io/PythonDataScienceHandbook/02.04-computation-on-arrays-aggregates.html)."
   ]
  },
  {
   "cell_type": "code",
   "execution_count": 18,
   "id": "96027cb0",
   "metadata": {
    "colab": {
     "base_uri": "https://localhost:8080/",
     "height": 69
    },
    "id": "DZUdZvPrL9i0",
    "outputId": "99cad470-d692-4b25-91c9-a57aa25f4c6e",
    "scrolled": true
   },
   "outputs": [
    {
     "name": "stdout",
     "output_type": "stream",
     "text": [
      "21\n",
      "[5 7 9]\n",
      "[ 6 15]\n"
     ]
    }
   ],
   "source": [
    "x = np.array([[1, 2, 3], [4, 5, 6]])\n",
    "\n",
    "print(np.sum(x))          # Sum of all elements; produce a value\n",
    "print(np.sum(x, axis=0))  # Sum along axis 0 (column); produce a lower rank array\n",
    "print(x.sum(axis=1))      # Sum along axis 1 (row); produce a lower rank array\n",
    "# Try others!"
   ]
  },
  {
   "cell_type": "markdown",
   "id": "4395f3d4-f561-45e3-9ff4-26f51f054f80",
   "metadata": {},
   "source": [
    "As you may observe above, we could specify which axis to perform aggregation calculations, but sometimes we may get confused on which one to use so we get what we want, especially when it comes to higher dimensions. Hope the following figure and code help you to comprehend the axis number.\n",
    "\n",
    "<img src=\"../../assets/images/numpy_axis.png\" width=\"700\" align=\"center\"/>"
   ]
  },
  {
   "cell_type": "code",
   "execution_count": 19,
   "id": "04e08192-93c2-4226-a79c-b113d0acdf88",
   "metadata": {},
   "outputs": [
    {
     "name": "stdout",
     "output_type": "stream",
     "text": [
      "Minimum along axis 0:\n",
      "[[ 1  2  3  4]\n",
      " [ 5  6  7  8]\n",
      " [ 9 10 11 12]]\n"
     ]
    }
   ],
   "source": [
    "d1 = np.arange(1, 5)\n",
    "d2 = np.arange(1, 13).reshape((3, 4))\n",
    "d3 = np.arange(1, 25).reshape((2, 3, 4))\n",
    "\n",
    "print(\"Minimum along axis 0:\")\n",
    "print(d3.min(axis=0))  # ❓: Why we have this result?"
   ]
  },
  {
   "cell_type": "markdown",
   "id": "071b4be3",
   "metadata": {
    "id": "REfLrUTcL9i7",
    "tags": []
   },
   "source": [
    "## One more thing: Broadcasting"
   ]
  },
  {
   "cell_type": "markdown",
   "id": "aa13dfcb-838f-4e79-8bbd-57c9ce190d7d",
   "metadata": {
    "id": "EygGAMWqL9i7"
   },
   "source": [
    "Broadcasting is another powerful NumPy mechanism that allows arrays of different shapes to work together when performing arithmetic operations. Let's see an example of dividing an array by a scalar, and an example of changing signs by rows through multiplying."
   ]
  },
  {
   "cell_type": "code",
   "execution_count": 20,
   "id": "5f55f184-692e-4757-b6fb-79c8e558290a",
   "metadata": {},
   "outputs": [
    {
     "name": "stdout",
     "output_type": "stream",
     "text": [
      "[[0.1 0.2 0.3 0.4 0.5]\n",
      " [0.6 0.7 0.8 0.9 1. ]]\n",
      "[[-1 -2 -3 -4 -5]\n",
      " [ 6  7  8  9 10]]\n"
     ]
    }
   ],
   "source": [
    "x = np.arange(1, 11).reshape((2, 5))\n",
    "x_norm = x / 10\n",
    "print(x_norm)\n",
    "\n",
    "sign = np.array([-1, 1]).reshape((2, 1))\n",
    "x_signed = x * sign\n",
    "print(x_signed)"
   ]
  },
  {
   "cell_type": "markdown",
   "id": "c65a3f1b-9794-4784-ad93-b86357c9ed86",
   "metadata": {},
   "source": [
    "<img src=\"../../assets/images/numpy_broadcast1-1.png\" width=\"600\" align=\"center\"/>\n",
    "<img src=\"../../assets/images/numpy_broadcast1-2.png\" width=\"600\" align=\"center\"/>\n",
    "\n",
    "We could see that when shapes of both arrays are *compatible*, NumPy would automatically stretch (replicating) arrays as above so that arithmetic calculations can be directly applied. **But how can we know array shapes are compatible? 🤔**\n",
    "\n",
    "NumPy compares array shapes from back forward. It starts with the trailing (i.e. rightmost) dimensions and works its way left. For each dimension of both arrays, their sizes are compatible when\n",
    "1. they are equal, or\n",
    "2. one of them is 1\n",
    "\n",
    "If these conditions are not met, a `ValueError: operands could not be broadcast together` exception will be thrown, indicating array shapes incompatible. Maybe some compatible examples are more straightforward for us to get a sense of this rule. Let's say we operate between A and B having the following shapes.\n",
    "``` python\n",
    "A      (2d array):  5 x 4\n",
    "B      (1d array):      1\n",
    "Result (2d array):  5 x 4\n",
    "\n",
    "A      (2d array):  5 x 4\n",
    "B      (1d array):      4\n",
    "Result (2d array):  5 x 4\n",
    "\n",
    "A      (3d array):  15 x 3 x 5 # also work for higher dimensions\n",
    "B      (3d array):  15 x 1 x 5\n",
    "Result (3d array):  15 x 3 x 5\n",
    "\n",
    "A      (3d array):  15 x 1 x 5\n",
    "B      (2d array):       3 x 1\n",
    "Result (3d array):  15 x 3 x 5\n",
    "```\n",
    "Numpy will automatically broadcast the dimensions that are different between A and B. Here are examples not compatible.\n",
    "\n",
    "``` python\n",
    "A      (1d array):  3\n",
    "B      (1d array):  4 # trailing dimension not match ❌\n",
    "\n",
    "A      (2d array):      2 x 1\n",
    "B      (3d array):  8 x 4 x 3 # second from last dimensions mismatch ❌\n",
    "```"
   ]
  },
  {
   "cell_type": "markdown",
   "id": "f22912a5-dc2e-4f86-99e8-322411c2d3a7",
   "metadata": {
    "id": "89e2FXxFL9jQ"
   },
   "source": [
    "One successful and interesting broadcasting example is to calculate outer product of two vectors."
   ]
  },
  {
   "cell_type": "code",
   "execution_count": 21,
   "id": "0c905a3c-06d3-4993-a84f-97956ddafa99",
   "metadata": {},
   "outputs": [
    {
     "name": "stdout",
     "output_type": "stream",
     "text": [
      "[[ 1  2  3  4  5]\n",
      " [ 2  4  6  8 10]]\n"
     ]
    }
   ],
   "source": [
    "A = np.arange(1, 6)\n",
    "B = np.arange(1, 3).reshape((2, 1))  # ❓: why we need reshape?\n",
    "\n",
    "Result = A * B\n",
    "print(Result)"
   ]
  },
  {
   "cell_type": "markdown",
   "id": "8f464c06-9e41-4806-83d7-646454d7ff1c",
   "metadata": {},
   "source": [
    "\n",
    "<img src=\"../../assets/images/numpy_broadcast2.png\" width=\"600\" align=\"center\"/>\n"
   ]
  },
  {
   "cell_type": "markdown",
   "id": "ff70749b-15ce-418c-a3b8-7aa6e63b3abf",
   "metadata": {
    "id": "89e2FXxFL9jQ"
   },
   "source": [
    "Broadcasting typically makes your code more ***concise***, ***readable***, and more importantly, ***faster***."
   ]
  },
  {
   "cell_type": "markdown",
   "id": "d13372de",
   "metadata": {},
   "source": [
    "## References\n",
    "+ This tutorial was edited based on the [Python Numpy Tutorial](https://cs231n.github.io/python-numpy-tutorial), and referred to Jay Alammar's [Visual Intro to NumPy](https://jalammar.github.io/visual-numpy/).\n",
    "+ This tutorial has touched on many important things you need about `numpy`, but is far from complete. Check out more on [numpy documentation](https://numpy.org/doc/stable/reference/).\n",
    "+ If you are already familiar with MATLAB, you might find this [tutorial](https://numpy.org/doc/stable/user/numpy-for-matlab-users.html) useful to help distinguish between `numpy` and MATLAB."
   ]
  },
  {
   "cell_type": "code",
   "execution_count": null,
   "id": "2e09b372-1ab0-4f01-8d7e-88df10e9f515",
   "metadata": {},
   "outputs": [],
   "source": []
  }
 ],
 "metadata": {
  "kernelspec": {
   "display_name": "Python 3 (ipykernel)",
   "language": "python",
   "name": "python3"
  },
  "language_info": {
   "codemirror_mode": {
    "name": "ipython",
    "version": 3
   },
   "file_extension": ".py",
   "mimetype": "text/x-python",
   "name": "python",
   "nbconvert_exporter": "python",
   "pygments_lexer": "ipython3",
   "version": "3.9.12"
  },
  "varInspector": {
   "cols": {
    "lenName": 16,
    "lenType": 16,
    "lenVar": 40
   },
   "kernels_config": {
    "python": {
     "delete_cmd_postfix": "",
     "delete_cmd_prefix": "del ",
     "library": "var_list.py",
     "varRefreshCmd": "print(var_dic_list())"
    },
    "r": {
     "delete_cmd_postfix": ") ",
     "delete_cmd_prefix": "rm(",
     "library": "var_list.r",
     "varRefreshCmd": "cat(var_dic_list()) "
    }
   },
   "types_to_exclude": [
    "module",
    "function",
    "builtin_function_or_method",
    "instance",
    "_Feature"
   ],
   "window_display": false
  }
 },
 "nbformat": 4,
 "nbformat_minor": 5
}
