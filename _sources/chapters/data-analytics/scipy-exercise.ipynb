{
 "cells": [
  {
   "cell_type": "markdown",
   "id": "5202ee2c",
   "metadata": {},
   "source": [
    "# SciPy Exercise"
   ]
  },
  {
   "cell_type": "markdown",
   "id": "fe1b9fa4",
   "metadata": {},
   "source": [
    "Choosing a probability distribution to fit daily precipitation depths is important for precipitation frequency analysis, stochastic precipitation modeling, and climate assessments.  Read the file ../../assets/data/Changi_daily_rainfall.csv and complete the following tasks."
   ]
  },
  {
   "cell_type": "markdown",
   "id": "fe90719f",
   "metadata": {},
   "source": [
    "## Task 1\n",
    "Extract the wet-day series for 2020 from the raw daily rainfall dataset and calculate a few descriptive statistics: mean, variance, skewness, kurtosis, L-CV, and L-skewness. Is the distribution left-skewed or right-skewed? Is the distribution more or less peaked than the normal distribution? \n",
    "\n",
    "Note: The wet-day series should be constructed by excluding events whose magnitude is less than 0.25 mm/day (0.25 mm/day is the minimum precipitation that can be recorded by the in situ rain gauge). \n",
    "\n",
    "The L-CV is L-coefficient of variation and can be calculated as:\n",
    "\n",
    "$$\\text{L-CV}=\\tau_2=\\lambda_2/\\lambda_1,$$\n",
    "\n",
    "and the L-skewness is L-coefficient of skewness, which is calculated as:\n",
    "\n",
    "$$\\text{L-skewness}=\\tau_3=\\lambda_3/\\lambda_2,$$\n",
    "\n",
    "where $\\lambda_1$, $\\lambda_2$ and $\\lambda_3$ are the first three L-moments (details can be found in `SciPy tutorial`)"
   ]
  },
  {
   "cell_type": "code",
   "execution_count": 1,
   "id": "3ae47cdd",
   "metadata": {},
   "outputs": [],
   "source": [
    "# Your solution goes here.\n"
   ]
  },
  {
   "cell_type": "markdown",
   "id": "69ba12e4",
   "metadata": {},
   "source": [
    "## Task 2\n",
    "Early studies identified the gamma (G2) distribution as a suitable distribution for wet-day precipitation based on the traditional goodness-of-fit tests. Does wet-day series of Changi follow a gamma distribution?\n",
    "Check the `scipy.stats` documentation and do the following: \n",
    "* fit a gamma distribution to the Changi wet-day series;\n",
    "* print out the estimated parameters;\n",
    "* print out the goodness-of-fit test results using KS test."
   ]
  },
  {
   "cell_type": "code",
   "execution_count": 2,
   "id": "2b40dc9f",
   "metadata": {},
   "outputs": [],
   "source": [
    "# Your solution goes here.\n"
   ]
  }
 ],
 "metadata": {
  "kernelspec": {
   "display_name": "Python 3 (ipykernel)",
   "language": "python",
   "name": "python3"
  },
  "language_info": {
   "codemirror_mode": {
    "name": "ipython",
    "version": 3
   },
   "file_extension": ".py",
   "mimetype": "text/x-python",
   "name": "python",
   "nbconvert_exporter": "python",
   "pygments_lexer": "ipython3",
   "version": "3.9.12"
  },
  "varInspector": {
   "cols": {
    "lenName": 16,
    "lenType": 16,
    "lenVar": 40
   },
   "kernels_config": {
    "python": {
     "delete_cmd_postfix": "",
     "delete_cmd_prefix": "del ",
     "library": "var_list.py",
     "varRefreshCmd": "print(var_dic_list())"
    },
    "r": {
     "delete_cmd_postfix": ") ",
     "delete_cmd_prefix": "rm(",
     "library": "var_list.r",
     "varRefreshCmd": "cat(var_dic_list()) "
    }
   },
   "types_to_exclude": [
    "module",
    "function",
    "builtin_function_or_method",
    "instance",
    "_Feature"
   ],
   "window_display": false
  }
 },
 "nbformat": 4,
 "nbformat_minor": 5
}
