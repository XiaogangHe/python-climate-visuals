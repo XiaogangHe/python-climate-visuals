{
 "cells": [
  {
   "cell_type": "markdown",
   "id": "5202ee2c",
   "metadata": {},
   "source": [
    "# Pandas Exercise"
   ]
  },
  {
   "cell_type": "markdown",
   "id": "4cf0b058",
   "metadata": {},
   "source": [
    "Create a DataFrame by reading file *../../assets/data/Changi_daily_rainfall.csv*. Perform the following two tasks with this DataFrame:"
   ]
  },
  {
   "cell_type": "markdown",
   "id": "fe90719f",
   "metadata": {},
   "source": [
    "## Task 1\n",
    "1. Determine whether the dataframe contains `NaN` values, and if so, fill the `NaN` values with the previous day's value.\n",
    "2. View the first 5 rows and the tail 3 rows, and check total length of data.\n",
    "3. Calculate the number of days with daily rainfall exceeding 0.1 mm and its proportion in the whole year (Multi-year average).\n",
    "4. Find out the three months with the highest monthly rainfall and the three months with the lowest monthly rainfall measured by multi-year average monthly rainfall.\n",
    "\n",
    "\n",
    "Hint: If you complete this task in your local computer (not recommend), please modify the file path accordingly."
   ]
  },
  {
   "cell_type": "code",
   "execution_count": 1,
   "id": "3ae47cdd",
   "metadata": {},
   "outputs": [],
   "source": [
    "# Your solutions go here. Create a separate code chunk for each question\n",
    "# using the + icon to add a cell in the toolbar."
   ]
  },
  {
   "cell_type": "markdown",
   "id": "69ba12e4",
   "metadata": {},
   "source": [
    "## Task 2\n",
    "1. Upsample the DataFrame into 1-year bins and sum the values of the timestamps falling into a bin.\n",
    "2. Calculate the average value of yearly rainfall in 1981-2000 and 2001-2020 and compare them.\n",
    "3. Calculate the year with the largest annual rainfall and corresponding value, and the year with the smallest annual rainfall and corresponding value.\n",
    "4. Calculate the change rate of yearly rainfall in 1981-2020 following the following formula."
   ]
  },
  {
   "cell_type": "markdown",
   "id": "71235b80",
   "metadata": {},
   "source": [
    "$$a = \\frac{\\sum{y}\\sum{x^2}-\\sum{x}\\sum{xy}}{n\\sum{x^2}-(\\sum{x})^2}$$  "
   ]
  },
  {
   "cell_type": "markdown",
   "id": "c531d004",
   "metadata": {},
   "source": [
    "where $a$ = the change rate of yearly rainfall, $x$ = year, $y$ = yearly rainfall, $n$ = the number of years."
   ]
  },
  {
   "cell_type": "code",
   "execution_count": 2,
   "id": "2b40dc9f",
   "metadata": {},
   "outputs": [],
   "source": [
    "# Your solutions go here. Create a separate code chunk for each question\n",
    "# using the + icon to add a cell in the toolbar."
   ]
  }
 ],
 "metadata": {
  "kernelspec": {
   "display_name": "Python 3 (ipykernel)",
   "language": "python",
   "name": "python3"
  },
  "language_info": {
   "codemirror_mode": {
    "name": "ipython",
    "version": 3
   },
   "file_extension": ".py",
   "mimetype": "text/x-python",
   "name": "python",
   "nbconvert_exporter": "python",
   "pygments_lexer": "ipython3",
   "version": "3.9.7"
  }
 },
 "nbformat": 4,
 "nbformat_minor": 5
}
