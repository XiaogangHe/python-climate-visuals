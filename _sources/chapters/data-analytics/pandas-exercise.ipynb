{
 "cells": [
  {
   "cell_type": "markdown",
   "id": "5202ee2c",
   "metadata": {},
   "source": [
    "# Pandas Exercise"
   ]
  },
  {
   "cell_type": "markdown",
   "id": "4cf0b058",
   "metadata": {},
   "source": [
    "Create a DataFrame by reading the file *../../assets/data/Changi_daily_rainfall.csv*. Perform the following two tasks with this DataFrame."
   ]
  },
  {
   "cell_type": "markdown",
   "id": "fe90719f",
   "metadata": {},
   "source": [
    "## Task 1\n",
    "1. Determine whether the dataframe contains `NaN` values. If so, fill the `NaN` values with the previous day's value.\n",
    "2. Show the first 5 rows and the last 3 rows. Check the data length.\n",
    "3. For each year, calculate the frequency (i.e., number of days) of rainfall events whose magnitude exceeds 0.1 mm/day.\n",
    "4. Find the three months with the highest/lowest long-term averaged monthly rainfall. Are these months within your expection (e.g., Singapore's monsoon seasons)? \n",
    "\n",
    "\n",
    "Note: If you want to do this task on your local computer (not recommended), please modify the file path accordingly."
   ]
  },
  {
   "cell_type": "code",
   "execution_count": 1,
   "id": "3ae47cdd",
   "metadata": {},
   "outputs": [],
   "source": [
    "# Your solutions go here. Create a separate code chunk for each question.\n",
    "# using the + icon to add a cell in the toolbar."
   ]
  },
  {
   "cell_type": "markdown",
   "id": "69ba12e4",
   "metadata": {},
   "source": [
    "## Task 2\n",
    "1. Resample the DataFrame from daily time scale to annual time scale. Calculate the annual total rainfall for each year.\n",
    "2. Compare the long-term averaged annual rainfall in two periods: 1981-2000 and 2001-2020. \n",
    "3. Find the year with the largest/smallest annual rainfall and print their values.\n",
    "4. Calculate the trend of annual rainfall during 1981-2020 using the following formula:"
   ]
  },
  {
   "cell_type": "markdown",
   "id": "71235b80",
   "metadata": {},
   "source": [
    "$$a = \\frac{n\\sum{(xy)}-\\sum{x}\\sum{y}}{n\\sum{x^2}-(\\sum{x})^2}$$  "
   ]
  },
  {
   "cell_type": "markdown",
   "id": "c531d004",
   "metadata": {},
   "source": [
    "where $a$ is the trend of annual rainfall, $x$ is year, $y$ is annual rainfall, and $n$ is the number of years."
   ]
  },
  {
   "cell_type": "code",
   "execution_count": 2,
   "id": "2b40dc9f",
   "metadata": {},
   "outputs": [],
   "source": [
    "# Your solutions go here. Create a separate code chunk for each question\n",
    "# using the + icon to add a cell in the toolbar."
   ]
  }
 ],
 "metadata": {
  "kernelspec": {
   "display_name": "Python 3 (ipykernel)",
   "language": "python",
   "name": "python3"
  },
  "language_info": {
   "codemirror_mode": {
    "name": "ipython",
    "version": 3
   },
   "file_extension": ".py",
   "mimetype": "text/x-python",
   "name": "python",
   "nbconvert_exporter": "python",
   "pygments_lexer": "ipython3",
   "version": "3.9.7"
  }
 },
 "nbformat": 4,
 "nbformat_minor": 5
}
