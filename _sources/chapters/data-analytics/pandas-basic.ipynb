{
 "cells": [
  {
   "cell_type": "markdown",
   "metadata": {
    "id": "uNmG54oocFhS",
    "tags": []
   },
   "source": [
    "# Pandas tutorial"
   ]
  },
  {
   "cell_type": "markdown",
   "metadata": {
    "id": "4fUlUgkJxCN0"
   },
   "source": [
    "## Introduction to Pandas Data Structures\n",
    "The two most common data structures of `pandas` are\n",
    "- `Series`\n",
    "- `DataFrame`\n",
    "\n",
    "The `Series` is designed to accommodate one-dimensional `ndarray` data with axis labels (e.g., time series data), and the `Dataframe` is designed for two-dimensional tabular data with labeled axes (rows and columns)."
   ]
  },
  {
   "cell_type": "markdown",
   "metadata": {
    "id": "IztXhA2_y06M",
    "tags": []
   },
   "source": [
    "## Series\n",
    "As shown below, the structure of the `Series` object is simple, which consists of two columns - **Index** and **Value** - with the same length. The **Value** column holds the data (of any `NumPy` type) which is associated with labels in the **Index** column.\n",
    "\n",
    "|Index|Value|\n",
    "|:---|--:|\n",
    "|0|-1|\n",
    "|1|3|\n",
    "|2|8|"
   ]
  },
  {
   "cell_type": "markdown",
   "metadata": {
    "id": "Dla_aCCz0jGL"
   },
   "source": [
    "### Defining a Series"
   ]
  },
  {
   "cell_type": "markdown",
   "metadata": {
    "id": "58z42k2p0pob"
   },
   "source": [
    "We can call the `pd.Series()` function to create a `Series` object and specify the argument `data` to be a `Numpy` array, a list, a dictionary, or a scalar value."
   ]
  },
  {
   "cell_type": "code",
   "execution_count": 1,
   "metadata": {
    "colab": {
     "base_uri": "https://localhost:8080/"
    },
    "id": "HgmJsMOkxEwz",
    "outputId": "85f15617-533a-4b6c-ad5f-21a1a515ca36"
   },
   "outputs": [
    {
     "name": "stdout",
     "output_type": "stream",
     "text": [
      "0   -1\n",
      "1    3\n",
      "2    8\n",
      "dtype: int64\n",
      "0   -1\n",
      "1    3\n",
      "2    8\n",
      "dtype: int64\n",
      "a   -1\n",
      "b    3\n",
      "c    8\n",
      "dtype: int64\n",
      "0   -1\n",
      "dtype: int64\n"
     ]
    }
   ],
   "source": [
    "import numpy as np\n",
    "import pandas as pd\n",
    "\n",
    "# Since 'data' is the first location parameter, you can also ignore 'data=' and directly specify the value\n",
    "s1 = pd.Series(data=np.array([-1, 3, 8]))    # Numpy array\n",
    "s2 = pd.Series(data=[-1, 3, 8])              # List\n",
    "s3 = pd.Series(data={'a':-1, 'b':3, 'c':8})  # Dictionary\n",
    "s4 = pd.Series(data=-1)                      # Scalar\n",
    "print(s1)\n",
    "print(s2)\n",
    "print(s3)\n",
    "print(s4)"
   ]
  },
  {
   "cell_type": "markdown",
   "metadata": {},
   "source": [
    "As you can see from the output of the `Series` object, the left column is the `Index`, which is a series of labels, and the right is a series of corresponding values."
   ]
  },
  {
   "cell_type": "markdown",
   "metadata": {
    "id": "hd8f3fye1U-0"
   },
   "source": [
    ":::{note}\n",
    "If you do not specify the value of index when creating the series, by default, `Pandas` will assign the sequence number starting from 0 as the index. If the data is in the type of dictionary, the keys will be used as the index of the series.\n",
    ":::"
   ]
  },
  {
   "cell_type": "markdown",
   "metadata": {},
   "source": [
    "In general, it is better to create a `Series` object with meaningful labels to distinguish and identify each value. When constructing the `Series`, the labels are added by specifying the value of the `index` parameter or specifying the `data` as a `dict` object as we mentioned above."
   ]
  },
  {
   "cell_type": "code",
   "execution_count": 2,
   "metadata": {},
   "outputs": [
    {
     "name": "stdout",
     "output_type": "stream",
     "text": [
      "x   -1\n",
      "y    3\n",
      "z    8\n",
      "dtype: int64\n"
     ]
    }
   ],
   "source": [
    "s5 = pd.Series([-1, 3, 8], index=['x', 'y', 'z'])  # specify the index by 'index' option\n",
    "print(s5)"
   ]
  },
  {
   "cell_type": "markdown",
   "metadata": {},
   "source": []
  },
  {
   "cell_type": "markdown",
   "metadata": {
    "id": "_4A5c1aw7-Kx"
   },
   "source": [
    ":::{note}\n",
    "Always keep in mind that when specifying the argument `data` as a `Numpy` array, the values contained in the `NumPy` array are not copied, but are passed by reference. That is, the object is inserted\n",
    "dynamically within the new `Series` object. If the values of `NumPy` array change, those changes will also present in the `Series` object.\n",
    ":::"
   ]
  },
  {
   "cell_type": "code",
   "execution_count": 3,
   "metadata": {
    "colab": {
     "base_uri": "https://localhost:8080/"
    },
    "id": "DUUwGwOQ8OMx",
    "outputId": "7cf443b6-c3ce-45b2-fec3-ce0d1dfa8312"
   },
   "outputs": [
    {
     "name": "stdout",
     "output_type": "stream",
     "text": [
      "[100  20  -3]\n",
      "x    100\n",
      "y     20\n",
      "z     -3\n",
      "dtype: int64\n",
      "\n",
      "\n",
      "[100  20 -40]\n",
      "After reassigning value, the value of series \n",
      "also will be updated automatically:\n",
      "x    100\n",
      "y     20\n",
      "z    -40\n",
      "dtype: int64\n"
     ]
    }
   ],
   "source": [
    "arr = np.array([100, 20, -3])\n",
    "\n",
    "s6 = pd.Series(arr, index=['x', 'y', 'z'] )\n",
    "print(arr)\n",
    "print(s6)\n",
    "\n",
    "arr[2] = -40\n",
    "print('\\n')\n",
    "print(arr)\n",
    "print(\"After reassigning value, the value of series \\nalso will be updated automatically:\")\n",
    "print(s6)"
   ]
  },
  {
   "cell_type": "markdown",
   "metadata": {
    "id": "hzFwRGLy8SXw"
   },
   "source": [
    "As you can see in this example, by changing the third element of the `arr` array, we\n",
    "also modified the corresponding element in the `s6` series."
   ]
  },
  {
   "cell_type": "markdown",
   "metadata": {},
   "source": [
    " You can call the attributes - index and values - of the series to see them separately."
   ]
  },
  {
   "cell_type": "code",
   "execution_count": 4,
   "metadata": {
    "colab": {
     "base_uri": "https://localhost:8080/"
    },
    "id": "5zYY93co3Gua",
    "outputId": "792ed80b-1ce1-4534-82ac-a0d46baaa681"
   },
   "outputs": [
    {
     "name": "stdout",
     "output_type": "stream",
     "text": [
      "[100  20 -40]\n",
      "Index(['x', 'y', 'z'], dtype='object')\n"
     ]
    }
   ],
   "source": [
    "print(s6.values)\n",
    "print(s6.index)"
   ]
  },
  {
   "cell_type": "markdown",
   "metadata": {
    "id": "p4yvywK73WSL"
   },
   "source": [
    "### Selecting the Elements"
   ]
  },
  {
   "cell_type": "markdown",
   "metadata": {
    "id": "YueWcI9s4S4E"
   },
   "source": [
    "You can select any individual element in the same way as `Numpy` arrays by specifying the sequence number."
   ]
  },
  {
   "cell_type": "code",
   "execution_count": 5,
   "metadata": {
    "colab": {
     "base_uri": "https://localhost:8080/"
    },
    "id": "63mQ7uKB3RcV",
    "outputId": "d8aaa802-7097-4421-9517-ad3ec31ee2f6"
   },
   "outputs": [
    {
     "data": {
      "text/plain": [
       "3"
      ]
     },
     "execution_count": 5,
     "metadata": {},
     "output_type": "execute_result"
    }
   ],
   "source": [
    "s = pd.Series(data={'a':-1, 'b':3, 'c':8})\n",
    "s[1]"
   ]
  },
  {
   "cell_type": "markdown",
   "metadata": {
    "id": "308B4HGj4YTk"
   },
   "source": [
    "Or you can specify the value of the index."
   ]
  },
  {
   "cell_type": "code",
   "execution_count": 6,
   "metadata": {
    "colab": {
     "base_uri": "https://localhost:8080/"
    },
    "id": "HLsUPY_03VXE",
    "outputId": "2571bbec-f7c4-43c8-c3cc-61262c8ef9b6"
   },
   "outputs": [
    {
     "data": {
      "text/plain": [
       "-1"
      ]
     },
     "execution_count": 6,
     "metadata": {},
     "output_type": "execute_result"
    }
   ],
   "source": [
    "s['a']"
   ]
  },
  {
   "cell_type": "markdown",
   "metadata": {
    "id": "UqTPQls946Jk"
   },
   "source": [
    "Similar to `Numpy` arrays, you can also select multiple items by specifying number or label slices."
   ]
  },
  {
   "cell_type": "code",
   "execution_count": 7,
   "metadata": {
    "colab": {
     "base_uri": "https://localhost:8080/"
    },
    "id": "hkB3ynGP444G",
    "outputId": "bf8467ce-049a-4eca-8f35-d51f01d3f4ce"
   },
   "outputs": [
    {
     "name": "stdout",
     "output_type": "stream",
     "text": [
      "a   -1\n",
      "b    3\n",
      "dtype: int64\n",
      "a   -1\n",
      "b    3\n",
      "c    8\n",
      "dtype: int64\n"
     ]
    }
   ],
   "source": [
    "print(s[0:2])\n",
    "print(s['a':'c'])"
   ]
  },
  {
   "cell_type": "markdown",
   "metadata": {
    "colab": {
     "base_uri": "https://localhost:8080/"
    },
    "id": "RSPogBVY5F7U",
    "outputId": "d7819983-9bf9-4737-80be-0caebddebe74"
   },
   "source": [
    ":::{note}\n",
    "Notice that the number-based slice does not contain the last element of the slice (like `Numpy` arrays), but the label-based slice contains the last element.\n",
    ":::"
   ]
  },
  {
   "cell_type": "markdown",
   "metadata": {
    "id": "cS6hju4m5Wkl"
   },
   "source": [
    "### Assigning Values to the Elements"
   ]
  },
  {
   "cell_type": "code",
   "execution_count": 8,
   "metadata": {
    "colab": {
     "base_uri": "https://localhost:8080/"
    },
    "id": "nHa2pfm45MAV",
    "outputId": "4befbb4b-52bb-4f53-d44f-90a72c6ddff0"
   },
   "outputs": [
    {
     "data": {
      "text/plain": [
       "a    100\n",
       "b      3\n",
       "c     80\n",
       "dtype: int64"
      ]
     },
     "execution_count": 8,
     "metadata": {},
     "output_type": "execute_result"
    }
   ],
   "source": [
    "s['a'] = 100\n",
    "s[2] = 80\n",
    "s"
   ]
  },
  {
   "cell_type": "markdown",
   "metadata": {
    "id": "DC_s-t5j9NKd"
   },
   "source": [
    "### Filtering Values"
   ]
  },
  {
   "cell_type": "markdown",
   "metadata": {
    "id": "g0iCpNVk9UG1"
   },
   "source": [
    "If you need to get the indexes and values of the elements in the series that are greater than 4, you\n",
    "write the following"
   ]
  },
  {
   "cell_type": "code",
   "execution_count": 9,
   "metadata": {
    "colab": {
     "base_uri": "https://localhost:8080/"
    },
    "id": "7qSr-ZCY8-R1",
    "outputId": "4b736d7e-047d-4b47-bf00-b46241408cc3"
   },
   "outputs": [
    {
     "name": "stdout",
     "output_type": "stream",
     "text": [
      "0    False\n",
      "1    False\n",
      "2     True\n",
      "3    False\n",
      "4     True\n",
      "dtype: bool\n",
      "2     5\n",
      "4    10\n",
      "dtype: int64\n"
     ]
    }
   ],
   "source": [
    "s = pd.Series([1, 3, 5, 2, 10])\n",
    "idx_greater = s > 4\n",
    "# According to Boolean value to filter\n",
    "print(idx_greater)\n",
    "print(s[idx_greater])  # greater than 4"
   ]
  },
  {
   "cell_type": "markdown",
   "metadata": {},
   "source": [
    "Or you can get the elements that satisfy multiple conditions by writing the following"
   ]
  },
  {
   "cell_type": "code",
   "execution_count": 10,
   "metadata": {
    "colab": {
     "base_uri": "https://localhost:8080/"
    },
    "id": "k216zsdJ94FF",
    "outputId": "55e622bf-aacc-439b-f40b-7f2e99d84f67"
   },
   "outputs": [
    {
     "name": "stdout",
     "output_type": "stream",
     "text": [
      "0     True\n",
      "1    False\n",
      "2    False\n",
      "3     True\n",
      "4    False\n",
      "dtype: bool\n",
      "0    1\n",
      "3    2\n",
      "dtype: int64\n"
     ]
    }
   ],
   "source": [
    "# you cannot use `or` `and` or `not` and only can use corresponding operator symbol(|, & and ~)\n",
    "filter_condition = (s.isin([2, 5]) | (s<4)) & ~(s>2) \n",
    "print(filter_condition)\n",
    "print(s[filter_condition])"
   ]
  },
  {
   "cell_type": "markdown",
   "metadata": {
    "id": "-h9y1Hfp9pKd"
   },
   "source": [
    "### Operations and Mathematical Functions"
   ]
  },
  {
   "cell_type": "markdown",
   "metadata": {},
   "source": [
    "The `Series` object can participate in common mathematical operations in a similar way to `Numpy` arrays."
   ]
  },
  {
   "cell_type": "code",
   "execution_count": 11,
   "metadata": {
    "colab": {
     "base_uri": "https://localhost:8080/"
    },
    "id": "U73emWqv9oc9",
    "outputId": "aca90cb4-b058-45f8-f27e-56cefa544a0c"
   },
   "outputs": [
    {
     "data": {
      "text/plain": [
       "0     2.5\n",
       "1     7.5\n",
       "2    12.5\n",
       "3     5.0\n",
       "4    25.0\n",
       "dtype: float64"
      ]
     },
     "execution_count": 11,
     "metadata": {},
     "output_type": "execute_result"
    }
   ],
   "source": [
    "s * 2.5"
   ]
  },
  {
   "cell_type": "code",
   "execution_count": 12,
   "metadata": {
    "colab": {
     "base_uri": "https://localhost:8080/"
    },
    "id": "QRJMt6q89fGG",
    "outputId": "caff13ea-323c-4000-f551-2e8cc9668871"
   },
   "outputs": [
    {
     "data": {
      "text/plain": [
       "0        2.718282\n",
       "1       20.085537\n",
       "2      148.413159\n",
       "3        7.389056\n",
       "4    22026.465795\n",
       "dtype: float64"
      ]
     },
     "execution_count": 12,
     "metadata": {},
     "output_type": "execute_result"
    }
   ],
   "source": [
    "np.exp(s)"
   ]
  },
  {
   "cell_type": "markdown",
   "metadata": {
    "id": "fIqEP4l79xYd"
   },
   "source": [
    "### Nan Value"
   ]
  },
  {
   "cell_type": "markdown",
   "metadata": {
    "id": "Bop2SUHNo4Zi"
   },
   "source": [
    "The `NaN` refers to `Not a Number`, which is generally caused by the missing value. Before data analysis, the `NaN` values need to be addressed."
   ]
  },
  {
   "cell_type": "code",
   "execution_count": 13,
   "metadata": {
    "colab": {
     "base_uri": "https://localhost:8080/"
    },
    "id": "2BGPk6eH-ZkH",
    "outputId": "50a9f511-f8b0-497a-a353-ffc296cd897d"
   },
   "outputs": [
    {
     "data": {
      "text/plain": [
       "0     1.0\n",
       "1     NaN\n",
       "2    10.0\n",
       "3     9.0\n",
       "4    -2.0\n",
       "5     NaN\n",
       "dtype: float64"
      ]
     },
     "execution_count": 13,
     "metadata": {},
     "output_type": "execute_result"
    }
   ],
   "source": [
    "# Declaring a 'Series' including the NaN value\n",
    "s = pd.Series([1, np.NaN, 10, 9, -2, np.NaN])\n",
    "s"
   ]
  },
  {
   "cell_type": "markdown",
   "metadata": {
    "id": "MndqwY5a_xZR"
   },
   "source": [
    "Call `isnull()` or `notnull()` functions to generate boolean value and get the indexes corresponding to the `NaN` value. "
   ]
  },
  {
   "cell_type": "code",
   "execution_count": 14,
   "metadata": {
    "colab": {
     "base_uri": "https://localhost:8080/"
    },
    "id": "NV3Vhg_E_OfT",
    "outputId": "cdd1e5b5-c35c-4d2b-b1b2-2cf1d0e1dab5"
   },
   "outputs": [
    {
     "name": "stdout",
     "output_type": "stream",
     "text": [
      "0    False\n",
      "1     True\n",
      "2    False\n",
      "3    False\n",
      "4    False\n",
      "5     True\n",
      "dtype: bool\n",
      "0     True\n",
      "1    False\n",
      "2     True\n",
      "3     True\n",
      "4     True\n",
      "5    False\n",
      "dtype: bool\n"
     ]
    }
   ],
   "source": [
    "print(s.isnull())\n",
    "print(s.notnull())"
   ]
  },
  {
   "cell_type": "markdown",
   "metadata": {
    "id": "2tzvyVkhAhir"
   },
   "source": [
    "Based on the generated boolean value, the `Series` object with `NaN` value and without `NaN` can be generated by filtering methods mentioned above."
   ]
  },
  {
   "cell_type": "code",
   "execution_count": 15,
   "metadata": {
    "colab": {
     "base_uri": "https://localhost:8080/"
    },
    "id": "SHPJuEDK_-fU",
    "outputId": "3dde60ba-96f7-4da9-da3b-4afab1e2b6de"
   },
   "outputs": [
    {
     "name": "stdout",
     "output_type": "stream",
     "text": [
      "1   NaN\n",
      "5   NaN\n",
      "dtype: float64\n",
      "0     1.0\n",
      "2    10.0\n",
      "3     9.0\n",
      "4    -2.0\n",
      "dtype: float64\n"
     ]
    }
   ],
   "source": [
    "print(s[s.isnull()])\n",
    "print(s[s.notnull()])"
   ]
  },
  {
   "cell_type": "markdown",
   "metadata": {
    "id": "XwOCF7a5Ax8Z"
   },
   "source": [
    "### Operations of Multiple Series"
   ]
  },
  {
   "cell_type": "code",
   "execution_count": 16,
   "metadata": {
    "colab": {
     "base_uri": "https://localhost:8080/"
    },
    "id": "Hfg5GPL1AxSk",
    "outputId": "c4fe3267-821f-4cc9-dcb0-91003fc06221"
   },
   "outputs": [
    {
     "data": {
      "text/plain": [
       "Cambodia        NaN\n",
       "China           NaN\n",
       "Japan           NaN\n",
       "Laos            NaN\n",
       "Malaysia        NaN\n",
       "Singapore       NaN\n",
       "Vietnam      1296.0\n",
       "dtype: float64"
      ]
     },
     "execution_count": 16,
     "metadata": {},
     "output_type": "execute_result"
    }
   ],
   "source": [
    "s = pd.Series({\"Singapore\": 30, \"Malaysia\": 23, \"Vietnam\": 36, \"Cambodia\": 41})\n",
    "s1 = pd.Series({\"China\": 51, \"Japan\": 73, \"Vietnam\": 36, \"Laos\": 31})\n",
    "s * s1"
   ]
  },
  {
   "cell_type": "markdown",
   "metadata": {
    "id": "LljTzdmeCkwf"
   },
   "source": [
    "As you can see, we can only operate on the elements with the same indices in both series. "
   ]
  },
  {
   "cell_type": "markdown",
   "metadata": {
    "id": "TMq2u_KmDK2F"
   },
   "source": [
    "## DataFrame"
   ]
  },
  {
   "cell_type": "markdown",
   "metadata": {
    "id": "qavPZWnvDV6A"
   },
   "source": [
    "Compared with the `Series`, the `DataFrame` can contain two-dimensional data. Its first column and first row are `index` and `columns`, respectively (for DataFrame without multiple indexes). \n",
    "\n",
    "|index|numeric|string|boolean|\n",
    "|:--|:--:|:--:|--:|\n",
    "|0|-1|Singapore|True|\n",
    "|1|3|China|True|\n",
    "|2|8|Japan|False|\n"
   ]
  },
  {
   "cell_type": "markdown",
   "metadata": {
    "id": "9ZR2HB_wGhlu"
   },
   "source": [
    "### Defining a DataFrame"
   ]
  },
  {
   "cell_type": "markdown",
   "metadata": {
    "id": "p9tgtpz4GmyM"
   },
   "source": [
    "Call `DataFrame()` function to create a `DataFrame`. The `Array`, `List` and `dict` can all be the input of `data` argument."
   ]
  },
  {
   "cell_type": "code",
   "execution_count": 17,
   "metadata": {},
   "outputs": [
    {
     "name": "stdout",
     "output_type": "stream",
     "text": [
      "     Country       Capital Population  Isdeveloped\n",
      "a   Malaysia  Kuala Lumpur     daodao        False\n",
      "b  Singapore     Singapore    5850342         True\n",
      "c    Vietnam         Hanoi   97338579         True\n"
     ]
    }
   ],
   "source": [
    "df = pd.DataFrame([[\"Malaysia\", \"Kuala Lumpur\", 'daodao', False],\n",
    "                   [\"Singapore\", \"Singapore\", 5850342, True],\n",
    "                   [\"Vietnam\", \"Hanoi\", 97338579, True]],\n",
    "                  columns=[\"Country\", \"Capital\", \"Population\", \"Isdeveloped\"],\n",
    "                  index=[\"a\", \"b\", \"c\"])\n",
    "print(df)"
   ]
  },
  {
   "cell_type": "code",
   "execution_count": 18,
   "metadata": {
    "colab": {
     "base_uri": "https://localhost:8080/",
     "height": 282
    },
    "id": "Z_SLS6RdDJCu",
    "outputId": "bdaa93e5-e203-4794-8013-2a583218c907"
   },
   "outputs": [
    {
     "name": "stdout",
     "output_type": "stream",
     "text": [
      "    0   1   2   3\n",
      "0  14  35  35  35\n",
      "1  19  34  57  34\n",
      "2  42  74  49  59\n",
      "     Country       Capital  Population  Isdeveloped\n",
      "a   Malaysia  Kuala Lumpur    32365999        False\n",
      "b  Singapore     Singapore     5850342         True\n",
      "c    Vietnam         Hanoi    97338579         True\n",
      "     Country       Capital  Population  Isdeveloped\n",
      "a   Malaysia  Kuala Lumpur    32365999        False\n",
      "b  Singapore     Singapore     5850342         True\n",
      "c    Vietnam         Hanoi    97338579         True\n"
     ]
    }
   ],
   "source": [
    "# Array\n",
    "df = pd.DataFrame(\n",
    "    np.array([[14, 35, 35, 35], [19, 34, 57, 34], [42, 74, 49, 59]]))\n",
    "print(df)\n",
    "\n",
    "# List,  use 'columns' and 'index' parameters to specify the column and index of generated dataframe.\n",
    "df = pd.DataFrame([[\"Malaysia\", \"Kuala Lumpur\", 32365999, False],\n",
    "                   [\"Singapore\", \"Singapore\", 5850342, True],\n",
    "                   [\"Vietnam\", \"Hanoi\", 97338579, True]],\n",
    "                  columns=[\"Country\", \"Capital\", \"Population\", \"Isdeveloped\"],\n",
    "                  index=[\"a\", \"b\", \"c\"])\n",
    "print(df)\n",
    "\n",
    "# dict\n",
    "df = pd.DataFrame({\"Country\": [\"Malaysia\", \"Singapore\", \"Vietnam\"],\n",
    "                   \"Capital\": [\"Kuala Lumpur\", \"Singapore\", \"Hanoi\"],\n",
    "                   \"Population\": [32365999, 5850342, 97338579],\n",
    "                   \"Isdeveloped\": [False, True, True]},\n",
    "                  index=[\"a\", \"b\", \"c\"])\n",
    "print(df)"
   ]
  },
  {
   "cell_type": "markdown",
   "metadata": {
    "id": "X4dipR-iOs_S"
   },
   "source": [
    "### Selecting the Internal Elements"
   ]
  },
  {
   "cell_type": "markdown",
   "metadata": {
    "id": "T88sE7BSP4N4"
   },
   "source": [
    "Similar to `Series`, two ways can be used to select the elements from `DataFrame`. Call `iloc[]` and `loc[]` to select the elements by position and label, respectively ."
   ]
  },
  {
   "cell_type": "code",
   "execution_count": 19,
   "metadata": {
    "colab": {
     "base_uri": "https://localhost:8080/",
     "height": 143
    },
    "id": "1WAeH1hBQ1vk",
    "outputId": "db4dc506-805c-4b54-c33a-8a239e8bb785"
   },
   "outputs": [
    {
     "data": {
      "text/html": [
       "<div>\n",
       "<style scoped>\n",
       "    .dataframe tbody tr th:only-of-type {\n",
       "        vertical-align: middle;\n",
       "    }\n",
       "\n",
       "    .dataframe tbody tr th {\n",
       "        vertical-align: top;\n",
       "    }\n",
       "\n",
       "    .dataframe thead th {\n",
       "        text-align: right;\n",
       "    }\n",
       "</style>\n",
       "<table border=\"1\" class=\"dataframe\">\n",
       "  <thead>\n",
       "    <tr style=\"text-align: right;\">\n",
       "      <th></th>\n",
       "      <th>Country</th>\n",
       "      <th>Capital</th>\n",
       "    </tr>\n",
       "  </thead>\n",
       "  <tbody>\n",
       "    <tr>\n",
       "      <th>a</th>\n",
       "      <td>Malaysia</td>\n",
       "      <td>Kuala Lumpur</td>\n",
       "    </tr>\n",
       "    <tr>\n",
       "      <th>b</th>\n",
       "      <td>Singapore</td>\n",
       "      <td>Singapore</td>\n",
       "    </tr>\n",
       "    <tr>\n",
       "      <th>c</th>\n",
       "      <td>Vietnam</td>\n",
       "      <td>Hanoi</td>\n",
       "    </tr>\n",
       "  </tbody>\n",
       "</table>\n",
       "</div>"
      ],
      "text/plain": [
       "     Country       Capital\n",
       "a   Malaysia  Kuala Lumpur\n",
       "b  Singapore     Singapore\n",
       "c    Vietnam         Hanoi"
      ]
     },
     "execution_count": 19,
     "metadata": {},
     "output_type": "execute_result"
    }
   ],
   "source": [
    "# use ':' to represent select all\n",
    "df.iloc[:, 0:2]"
   ]
  },
  {
   "cell_type": "code",
   "execution_count": 20,
   "metadata": {
    "colab": {
     "base_uri": "https://localhost:8080/",
     "height": 143
    },
    "id": "ap9wwoOIRHw6",
    "outputId": "fecd4833-926b-45d4-ac57-e95b795b2e32"
   },
   "outputs": [
    {
     "data": {
      "text/html": [
       "<div>\n",
       "<style scoped>\n",
       "    .dataframe tbody tr th:only-of-type {\n",
       "        vertical-align: middle;\n",
       "    }\n",
       "\n",
       "    .dataframe tbody tr th {\n",
       "        vertical-align: top;\n",
       "    }\n",
       "\n",
       "    .dataframe thead th {\n",
       "        text-align: right;\n",
       "    }\n",
       "</style>\n",
       "<table border=\"1\" class=\"dataframe\">\n",
       "  <thead>\n",
       "    <tr style=\"text-align: right;\">\n",
       "      <th></th>\n",
       "      <th>Country</th>\n",
       "      <th>Capital</th>\n",
       "      <th>Population</th>\n",
       "    </tr>\n",
       "  </thead>\n",
       "  <tbody>\n",
       "    <tr>\n",
       "      <th>a</th>\n",
       "      <td>Malaysia</td>\n",
       "      <td>Kuala Lumpur</td>\n",
       "      <td>32365999</td>\n",
       "    </tr>\n",
       "    <tr>\n",
       "      <th>b</th>\n",
       "      <td>Singapore</td>\n",
       "      <td>Singapore</td>\n",
       "      <td>5850342</td>\n",
       "    </tr>\n",
       "    <tr>\n",
       "      <th>c</th>\n",
       "      <td>Vietnam</td>\n",
       "      <td>Hanoi</td>\n",
       "      <td>97338579</td>\n",
       "    </tr>\n",
       "  </tbody>\n",
       "</table>\n",
       "</div>"
      ],
      "text/plain": [
       "     Country       Capital  Population\n",
       "a   Malaysia  Kuala Lumpur    32365999\n",
       "b  Singapore     Singapore     5850342\n",
       "c    Vietnam         Hanoi    97338579"
      ]
     },
     "execution_count": 20,
     "metadata": {},
     "output_type": "execute_result"
    }
   ],
   "source": [
    "df.loc[:, \"Country\":\"Population\"]"
   ]
  },
  {
   "cell_type": "code",
   "execution_count": 21,
   "metadata": {
    "colab": {
     "base_uri": "https://localhost:8080/"
    },
    "id": "L9vDO0wORNOV",
    "outputId": "7abaf264-d6c9-4c2f-deb7-eb77e493cc7c"
   },
   "outputs": [
    {
     "data": {
      "text/plain": [
       "Country       Malaysia\n",
       "Population    32365999\n",
       "Name: a, dtype: object"
      ]
     },
     "execution_count": 21,
     "metadata": {},
     "output_type": "execute_result"
    }
   ],
   "source": [
    "df.loc[\"a\", [\"Country\", \"Population\"]]"
   ]
  },
  {
   "cell_type": "code",
   "execution_count": 22,
   "metadata": {
    "colab": {
     "base_uri": "https://localhost:8080/",
     "height": 112
    },
    "id": "kQIe2hvBUXhJ",
    "outputId": "d621f37b-595d-4455-fa10-22c4d1615a44"
   },
   "outputs": [
    {
     "data": {
      "text/html": [
       "<div>\n",
       "<style scoped>\n",
       "    .dataframe tbody tr th:only-of-type {\n",
       "        vertical-align: middle;\n",
       "    }\n",
       "\n",
       "    .dataframe tbody tr th {\n",
       "        vertical-align: top;\n",
       "    }\n",
       "\n",
       "    .dataframe thead th {\n",
       "        text-align: right;\n",
       "    }\n",
       "</style>\n",
       "<table border=\"1\" class=\"dataframe\">\n",
       "  <thead>\n",
       "    <tr style=\"text-align: right;\">\n",
       "      <th></th>\n",
       "      <th>Country</th>\n",
       "      <th>Capital</th>\n",
       "      <th>Population</th>\n",
       "      <th>Isdeveloped</th>\n",
       "    </tr>\n",
       "  </thead>\n",
       "  <tbody>\n",
       "    <tr>\n",
       "      <th>a</th>\n",
       "      <td>Malaysia</td>\n",
       "      <td>Kuala Lumpur</td>\n",
       "      <td>32365999</td>\n",
       "      <td>False</td>\n",
       "    </tr>\n",
       "    <tr>\n",
       "      <th>b</th>\n",
       "      <td>Singapore</td>\n",
       "      <td>Singapore</td>\n",
       "      <td>5850342</td>\n",
       "      <td>True</td>\n",
       "    </tr>\n",
       "  </tbody>\n",
       "</table>\n",
       "</div>"
      ],
      "text/plain": [
       "     Country       Capital  Population  Isdeveloped\n",
       "a   Malaysia  Kuala Lumpur    32365999        False\n",
       "b  Singapore     Singapore     5850342         True"
      ]
     },
     "execution_count": 22,
     "metadata": {},
     "output_type": "execute_result"
    }
   ],
   "source": [
    "df.iloc[[0, 1]] # If you omit number of columns, all columns will be selected "
   ]
  },
  {
   "cell_type": "markdown",
   "metadata": {
    "id": "zsXddPr8Rb_L"
   },
   "source": [
    "Use ```columns```,```index``` and ```values``` attributes to obtain corresponding object value."
   ]
  },
  {
   "cell_type": "code",
   "execution_count": 23,
   "metadata": {
    "colab": {
     "base_uri": "https://localhost:8080/"
    },
    "id": "orBdq5eXR7C8",
    "outputId": "3b58a3a3-5586-41c8-9f4c-85dd5c58502e"
   },
   "outputs": [
    {
     "data": {
      "text/plain": [
       "Index(['a', 'b', 'c'], dtype='object')"
      ]
     },
     "execution_count": 23,
     "metadata": {},
     "output_type": "execute_result"
    }
   ],
   "source": [
    "df.index"
   ]
  },
  {
   "cell_type": "code",
   "execution_count": 24,
   "metadata": {
    "colab": {
     "base_uri": "https://localhost:8080/"
    },
    "id": "-8OqpYNGR8-3",
    "outputId": "1bd3e3a9-f661-49fe-8f9d-7dbe57c8b8c0"
   },
   "outputs": [
    {
     "data": {
      "text/plain": [
       "Index(['Country', 'Capital', 'Population', 'Isdeveloped'], dtype='object')"
      ]
     },
     "execution_count": 24,
     "metadata": {},
     "output_type": "execute_result"
    }
   ],
   "source": [
    "df.columns"
   ]
  },
  {
   "cell_type": "code",
   "execution_count": 25,
   "metadata": {
    "colab": {
     "base_uri": "https://localhost:8080/"
    },
    "id": "jXwC1xlOR_dF",
    "outputId": "2a6ff76a-bc35-4625-fdb1-ad830c31d9f9"
   },
   "outputs": [
    {
     "data": {
      "text/plain": [
       "array([['Malaysia', 'Kuala Lumpur', 32365999, False],\n",
       "       ['Singapore', 'Singapore', 5850342, True],\n",
       "       ['Vietnam', 'Hanoi', 97338579, True]], dtype=object)"
      ]
     },
     "execution_count": 25,
     "metadata": {},
     "output_type": "execute_result"
    }
   ],
   "source": [
    "df.values"
   ]
  },
  {
   "cell_type": "markdown",
   "metadata": {
    "id": "YGEs4EpFRcMg"
   },
   "source": [
    "Select the corresponding column(s) according to the labels or indexes of columns."
   ]
  },
  {
   "cell_type": "code",
   "execution_count": 26,
   "metadata": {
    "colab": {
     "base_uri": "https://localhost:8080/"
    },
    "id": "CjH56421Sv-J",
    "outputId": "d1a3b3b6-7672-420f-de19-cc912bc15a8b"
   },
   "outputs": [
    {
     "data": {
      "text/plain": [
       "a     Malaysia\n",
       "b    Singapore\n",
       "c      Vietnam\n",
       "Name: Country, dtype: object"
      ]
     },
     "execution_count": 26,
     "metadata": {},
     "output_type": "execute_result"
    }
   ],
   "source": [
    "df[\"Country\"]"
   ]
  },
  {
   "cell_type": "code",
   "execution_count": 27,
   "metadata": {
    "colab": {
     "base_uri": "https://localhost:8080/",
     "height": 143
    },
    "id": "IKrXfblfTGsv",
    "outputId": "fd289e61-f8cf-488f-e2d8-77e9e9fed9d3"
   },
   "outputs": [
    {
     "data": {
      "text/html": [
       "<div>\n",
       "<style scoped>\n",
       "    .dataframe tbody tr th:only-of-type {\n",
       "        vertical-align: middle;\n",
       "    }\n",
       "\n",
       "    .dataframe tbody tr th {\n",
       "        vertical-align: top;\n",
       "    }\n",
       "\n",
       "    .dataframe thead th {\n",
       "        text-align: right;\n",
       "    }\n",
       "</style>\n",
       "<table border=\"1\" class=\"dataframe\">\n",
       "  <thead>\n",
       "    <tr style=\"text-align: right;\">\n",
       "      <th></th>\n",
       "      <th>Country</th>\n",
       "      <th>Population</th>\n",
       "    </tr>\n",
       "  </thead>\n",
       "  <tbody>\n",
       "    <tr>\n",
       "      <th>a</th>\n",
       "      <td>Malaysia</td>\n",
       "      <td>32365999</td>\n",
       "    </tr>\n",
       "    <tr>\n",
       "      <th>b</th>\n",
       "      <td>Singapore</td>\n",
       "      <td>5850342</td>\n",
       "    </tr>\n",
       "    <tr>\n",
       "      <th>c</th>\n",
       "      <td>Vietnam</td>\n",
       "      <td>97338579</td>\n",
       "    </tr>\n",
       "  </tbody>\n",
       "</table>\n",
       "</div>"
      ],
      "text/plain": [
       "     Country  Population\n",
       "a   Malaysia    32365999\n",
       "b  Singapore     5850342\n",
       "c    Vietnam    97338579"
      ]
     },
     "execution_count": 27,
     "metadata": {},
     "output_type": "execute_result"
    }
   ],
   "source": [
    "df[[\"Country\", \"Population\"]] # Use list to select multiple columns  "
   ]
  },
  {
   "cell_type": "code",
   "execution_count": 28,
   "metadata": {
    "colab": {
     "base_uri": "https://localhost:8080/"
    },
    "id": "isuc3Lr5Sy1S",
    "outputId": "f780cd1e-8400-4b5d-a9e0-55759ed170f7"
   },
   "outputs": [
    {
     "data": {
      "text/plain": [
       "a     Malaysia\n",
       "b    Singapore\n",
       "c      Vietnam\n",
       "Name: Country, dtype: object"
      ]
     },
     "execution_count": 28,
     "metadata": {},
     "output_type": "execute_result"
    }
   ],
   "source": [
    "df.Country # Also support as atrribute to select"
   ]
  },
  {
   "cell_type": "code",
   "execution_count": 29,
   "metadata": {
    "colab": {
     "base_uri": "https://localhost:8080/",
     "height": 112
    },
    "id": "WZNQGWMwS5wS",
    "outputId": "c21dfe23-db7c-4125-b84c-cffb4d7de295"
   },
   "outputs": [
    {
     "data": {
      "text/html": [
       "<div>\n",
       "<style scoped>\n",
       "    .dataframe tbody tr th:only-of-type {\n",
       "        vertical-align: middle;\n",
       "    }\n",
       "\n",
       "    .dataframe tbody tr th {\n",
       "        vertical-align: top;\n",
       "    }\n",
       "\n",
       "    .dataframe thead th {\n",
       "        text-align: right;\n",
       "    }\n",
       "</style>\n",
       "<table border=\"1\" class=\"dataframe\">\n",
       "  <thead>\n",
       "    <tr style=\"text-align: right;\">\n",
       "      <th></th>\n",
       "      <th>Country</th>\n",
       "      <th>Capital</th>\n",
       "      <th>Population</th>\n",
       "      <th>Isdeveloped</th>\n",
       "    </tr>\n",
       "  </thead>\n",
       "  <tbody>\n",
       "    <tr>\n",
       "      <th>a</th>\n",
       "      <td>Malaysia</td>\n",
       "      <td>Kuala Lumpur</td>\n",
       "      <td>32365999</td>\n",
       "      <td>False</td>\n",
       "    </tr>\n",
       "    <tr>\n",
       "      <th>b</th>\n",
       "      <td>Singapore</td>\n",
       "      <td>Singapore</td>\n",
       "      <td>5850342</td>\n",
       "      <td>True</td>\n",
       "    </tr>\n",
       "  </tbody>\n",
       "</table>\n",
       "</div>"
      ],
      "text/plain": [
       "     Country       Capital  Population  Isdeveloped\n",
       "a   Malaysia  Kuala Lumpur    32365999        False\n",
       "b  Singapore     Singapore     5850342         True"
      ]
     },
     "execution_count": 29,
     "metadata": {},
     "output_type": "execute_result"
    }
   ],
   "source": [
    "df[\"a\":\"b\"] # using label-based slice to select multiple rows"
   ]
  },
  {
   "cell_type": "code",
   "execution_count": 30,
   "metadata": {
    "colab": {
     "base_uri": "https://localhost:8080/",
     "height": 112
    },
    "id": "otn255r2UPa7",
    "outputId": "b446893d-7bdf-4c86-b248-16a32271722a"
   },
   "outputs": [
    {
     "data": {
      "text/html": [
       "<div>\n",
       "<style scoped>\n",
       "    .dataframe tbody tr th:only-of-type {\n",
       "        vertical-align: middle;\n",
       "    }\n",
       "\n",
       "    .dataframe tbody tr th {\n",
       "        vertical-align: top;\n",
       "    }\n",
       "\n",
       "    .dataframe thead th {\n",
       "        text-align: right;\n",
       "    }\n",
       "</style>\n",
       "<table border=\"1\" class=\"dataframe\">\n",
       "  <thead>\n",
       "    <tr style=\"text-align: right;\">\n",
       "      <th></th>\n",
       "      <th>Country</th>\n",
       "      <th>Capital</th>\n",
       "      <th>Population</th>\n",
       "      <th>Isdeveloped</th>\n",
       "    </tr>\n",
       "  </thead>\n",
       "  <tbody>\n",
       "    <tr>\n",
       "      <th>a</th>\n",
       "      <td>Malaysia</td>\n",
       "      <td>Kuala Lumpur</td>\n",
       "      <td>32365999</td>\n",
       "      <td>False</td>\n",
       "    </tr>\n",
       "    <tr>\n",
       "      <th>b</th>\n",
       "      <td>Singapore</td>\n",
       "      <td>Singapore</td>\n",
       "      <td>5850342</td>\n",
       "      <td>True</td>\n",
       "    </tr>\n",
       "  </tbody>\n",
       "</table>\n",
       "</div>"
      ],
      "text/plain": [
       "     Country       Capital  Population  Isdeveloped\n",
       "a   Malaysia  Kuala Lumpur    32365999        False\n",
       "b  Singapore     Singapore     5850342         True"
      ]
     },
     "execution_count": 30,
     "metadata": {},
     "output_type": "execute_result"
    }
   ],
   "source": [
    "df[0:2] # using label-based number to select multiple rows"
   ]
  },
  {
   "cell_type": "markdown",
   "metadata": {
    "id": "HwLCy_xRX8jh"
   },
   "source": [
    "### Assigning value"
   ]
  },
  {
   "cell_type": "code",
   "execution_count": 31,
   "metadata": {
    "colab": {
     "base_uri": "https://localhost:8080/",
     "height": 143
    },
    "id": "yQG6vsZCYMKz",
    "outputId": "78a7e808-6562-4778-9d70-0019ac0d315d"
   },
   "outputs": [
    {
     "data": {
      "text/html": [
       "<div>\n",
       "<style scoped>\n",
       "    .dataframe tbody tr th:only-of-type {\n",
       "        vertical-align: middle;\n",
       "    }\n",
       "\n",
       "    .dataframe tbody tr th {\n",
       "        vertical-align: top;\n",
       "    }\n",
       "\n",
       "    .dataframe thead th {\n",
       "        text-align: right;\n",
       "    }\n",
       "</style>\n",
       "<table border=\"1\" class=\"dataframe\">\n",
       "  <thead>\n",
       "    <tr style=\"text-align: right;\">\n",
       "      <th></th>\n",
       "      <th>Country</th>\n",
       "      <th>Capital</th>\n",
       "      <th>Population</th>\n",
       "      <th>Isdeveloped</th>\n",
       "    </tr>\n",
       "  </thead>\n",
       "  <tbody>\n",
       "    <tr>\n",
       "      <th>a</th>\n",
       "      <td>Malaysia</td>\n",
       "      <td>Kuala Lumpur</td>\n",
       "      <td>32365999</td>\n",
       "      <td>False</td>\n",
       "    </tr>\n",
       "    <tr>\n",
       "      <th>b</th>\n",
       "      <td>Singapore</td>\n",
       "      <td>Singapore</td>\n",
       "      <td>5850342</td>\n",
       "      <td>True</td>\n",
       "    </tr>\n",
       "    <tr>\n",
       "      <th>c</th>\n",
       "      <td>Japan</td>\n",
       "      <td>Tokyo</td>\n",
       "      <td>126476461</td>\n",
       "      <td>True</td>\n",
       "    </tr>\n",
       "  </tbody>\n",
       "</table>\n",
       "</div>"
      ],
      "text/plain": [
       "     Country       Capital  Population  Isdeveloped\n",
       "a   Malaysia  Kuala Lumpur    32365999        False\n",
       "b  Singapore     Singapore     5850342         True\n",
       "c      Japan         Tokyo   126476461         True"
      ]
     },
     "execution_count": 31,
     "metadata": {},
     "output_type": "execute_result"
    }
   ],
   "source": [
    "df1 = df.copy(True)\n",
    "df1.loc[\"c\", \"Country\"] = \"Japan\"\n",
    "df1.loc[\"c\", \"Capital\"] = \"Tokyo\"\n",
    "df1.loc[\"c\", \"Population\"] = 126476461\n",
    "df1.loc[\"c\", \"Isdeveloped\"] = True\n",
    "df1"
   ]
  },
  {
   "cell_type": "code",
   "execution_count": 32,
   "metadata": {
    "colab": {
     "base_uri": "https://localhost:8080/",
     "height": 143
    },
    "id": "8YRRGaGLicMu",
    "outputId": "fa55acf8-00ae-4cf4-f33e-cd5e2efb80e6"
   },
   "outputs": [
    {
     "data": {
      "text/html": [
       "<div>\n",
       "<style scoped>\n",
       "    .dataframe tbody tr th:only-of-type {\n",
       "        vertical-align: middle;\n",
       "    }\n",
       "\n",
       "    .dataframe tbody tr th {\n",
       "        vertical-align: top;\n",
       "    }\n",
       "\n",
       "    .dataframe thead th {\n",
       "        text-align: right;\n",
       "    }\n",
       "</style>\n",
       "<table border=\"1\" class=\"dataframe\">\n",
       "  <thead>\n",
       "    <tr style=\"text-align: right;\">\n",
       "      <th></th>\n",
       "      <th>Country</th>\n",
       "      <th>Capital</th>\n",
       "      <th>Population</th>\n",
       "      <th>Isdeveloped</th>\n",
       "    </tr>\n",
       "  </thead>\n",
       "  <tbody>\n",
       "    <tr>\n",
       "      <th>a</th>\n",
       "      <td>Malaysia</td>\n",
       "      <td>Kuala Lumpur</td>\n",
       "      <td>32365999</td>\n",
       "      <td>False</td>\n",
       "    </tr>\n",
       "    <tr>\n",
       "      <th>b</th>\n",
       "      <td>Singapore</td>\n",
       "      <td>Singapore</td>\n",
       "      <td>5850342</td>\n",
       "      <td>True</td>\n",
       "    </tr>\n",
       "    <tr>\n",
       "      <th>c</th>\n",
       "      <td>Vietnam</td>\n",
       "      <td>Hanoi</td>\n",
       "      <td>97338579</td>\n",
       "      <td>True</td>\n",
       "    </tr>\n",
       "  </tbody>\n",
       "</table>\n",
       "</div>"
      ],
      "text/plain": [
       "     Country       Capital  Population  Isdeveloped\n",
       "a   Malaysia  Kuala Lumpur    32365999        False\n",
       "b  Singapore     Singapore     5850342         True\n",
       "c    Vietnam         Hanoi    97338579         True"
      ]
     },
     "execution_count": 32,
     "metadata": {},
     "output_type": "execute_result"
    }
   ],
   "source": [
    "df1.loc[\"c\"] = [\"Japan\", \"Tokyo\", 126476461, True]\n",
    "df"
   ]
  },
  {
   "cell_type": "markdown",
   "metadata": {
    "id": "cVtprE4hjaBH"
   },
   "source": [
    "### Assigning index, columns, and name of index and columns"
   ]
  },
  {
   "cell_type": "code",
   "execution_count": 33,
   "metadata": {
    "colab": {
     "base_uri": "https://localhost:8080/",
     "height": 175
    },
    "id": "lD6hhowAjxWb",
    "outputId": "da77f8fb-feba-425d-c46e-089815278af3"
   },
   "outputs": [
    {
     "data": {
      "text/html": [
       "<div>\n",
       "<style scoped>\n",
       "    .dataframe tbody tr th:only-of-type {\n",
       "        vertical-align: middle;\n",
       "    }\n",
       "\n",
       "    .dataframe tbody tr th {\n",
       "        vertical-align: top;\n",
       "    }\n",
       "\n",
       "    .dataframe thead th {\n",
       "        text-align: right;\n",
       "    }\n",
       "</style>\n",
       "<table border=\"1\" class=\"dataframe\">\n",
       "  <thead>\n",
       "    <tr style=\"text-align: right;\">\n",
       "      <th></th>\n",
       "      <th>Coun</th>\n",
       "      <th>Cap</th>\n",
       "      <th>Pop</th>\n",
       "      <th>ID</th>\n",
       "    </tr>\n",
       "    <tr>\n",
       "      <th>label</th>\n",
       "      <th></th>\n",
       "      <th></th>\n",
       "      <th></th>\n",
       "      <th></th>\n",
       "    </tr>\n",
       "  </thead>\n",
       "  <tbody>\n",
       "    <tr>\n",
       "      <th>e</th>\n",
       "      <td>Malaysia</td>\n",
       "      <td>Kuala Lumpur</td>\n",
       "      <td>32365999</td>\n",
       "      <td>False</td>\n",
       "    </tr>\n",
       "    <tr>\n",
       "      <th>f</th>\n",
       "      <td>Singapore</td>\n",
       "      <td>Singapore</td>\n",
       "      <td>5850342</td>\n",
       "      <td>True</td>\n",
       "    </tr>\n",
       "    <tr>\n",
       "      <th>g</th>\n",
       "      <td>Japan</td>\n",
       "      <td>Tokyo</td>\n",
       "      <td>126476461</td>\n",
       "      <td>True</td>\n",
       "    </tr>\n",
       "  </tbody>\n",
       "</table>\n",
       "</div>"
      ],
      "text/plain": [
       "            Coun           Cap        Pop     ID\n",
       "label                                           \n",
       "e       Malaysia  Kuala Lumpur   32365999  False\n",
       "f      Singapore     Singapore    5850342   True\n",
       "g          Japan         Tokyo  126476461   True"
      ]
     },
     "execution_count": 33,
     "metadata": {},
     "output_type": "execute_result"
    }
   ],
   "source": [
    "df1.index = [\"e\", \"f\", \"g\"]\n",
    "df1.index.name = \"label\"\n",
    "df1.columns.name = \"attributes\"\n",
    "df1.columns = [\"Coun\", \"Cap\", \"Pop\", \"ID\"]\n",
    "df1"
   ]
  },
  {
   "cell_type": "markdown",
   "metadata": {
    "id": "6VyTnVDrisVj"
   },
   "source": [
    "### Delete columns from dataframe"
   ]
  },
  {
   "cell_type": "code",
   "execution_count": 34,
   "metadata": {
    "colab": {
     "base_uri": "https://localhost:8080/",
     "height": 175
    },
    "id": "d9iJskaBjzEL",
    "outputId": "ae349a79-0101-4f10-b735-8465e92f7851"
   },
   "outputs": [
    {
     "data": {
      "text/html": [
       "<div>\n",
       "<style scoped>\n",
       "    .dataframe tbody tr th:only-of-type {\n",
       "        vertical-align: middle;\n",
       "    }\n",
       "\n",
       "    .dataframe tbody tr th {\n",
       "        vertical-align: top;\n",
       "    }\n",
       "\n",
       "    .dataframe thead th {\n",
       "        text-align: right;\n",
       "    }\n",
       "</style>\n",
       "<table border=\"1\" class=\"dataframe\">\n",
       "  <thead>\n",
       "    <tr style=\"text-align: right;\">\n",
       "      <th></th>\n",
       "      <th>Cap</th>\n",
       "      <th>Pop</th>\n",
       "    </tr>\n",
       "    <tr>\n",
       "      <th>label</th>\n",
       "      <th></th>\n",
       "      <th></th>\n",
       "    </tr>\n",
       "  </thead>\n",
       "  <tbody>\n",
       "    <tr>\n",
       "      <th>f</th>\n",
       "      <td>Singapore</td>\n",
       "      <td>5850342</td>\n",
       "    </tr>\n",
       "    <tr>\n",
       "      <th>g</th>\n",
       "      <td>Tokyo</td>\n",
       "      <td>126476461</td>\n",
       "    </tr>\n",
       "  </tbody>\n",
       "</table>\n",
       "</div>"
      ],
      "text/plain": [
       "             Cap        Pop\n",
       "label                      \n",
       "f      Singapore    5850342\n",
       "g          Tokyo  126476461"
      ]
     },
     "execution_count": 34,
     "metadata": {},
     "output_type": "execute_result"
    }
   ],
   "source": [
    "del df1[\"ID\"]\n",
    "# axis = 1 or columns represents delete columns\n",
    "df1.drop([\"Coun\"], axis='columns', inplace=True)\n",
    "\n",
    "# axis = 0 or rows represents delete columns\n",
    "df1.drop([\"e\"], axis='rows', inplace=True)\n",
    "\n",
    "df1"
   ]
  },
  {
   "cell_type": "markdown",
   "metadata": {},
   "source": [
    "When `inplace=True` is passed, the modified `DataFrame` is used in place of the original one, and the operation itself returns `None`. When `inplace=False` is passed (this is the default value, so isn't necessary to specify), the function returns a copy of the modified `DataFrame`."
   ]
  },
  {
   "cell_type": "code",
   "execution_count": 35,
   "metadata": {},
   "outputs": [
    {
     "name": "stdout",
     "output_type": "stream",
     "text": [
      "     Country       Capital  Population  Isdeveloped\n",
      "a   Malaysia  Kuala Lumpur    32365999        False\n",
      "b  Singapore     Singapore     5850342         True\n",
      "c    Vietnam         Hanoi    97338579         True\n",
      "----\n",
      "        Capital  Population  Isdeveloped\n",
      "a  Kuala Lumpur    32365999        False\n",
      "b     Singapore     5850342         True\n",
      "c         Hanoi    97338579         True\n",
      "----\n",
      "None\n"
     ]
    }
   ],
   "source": [
    "# inplace=True\n",
    "df2 = df.copy(True)\n",
    "print(df2)\n",
    "print(\"----\")\n",
    "df2_return = df2.drop([\"Country\"], axis='columns', inplace=True)\n",
    "print(df2)\n",
    "print(\"----\")\n",
    "print(df2_return)"
   ]
  },
  {
   "cell_type": "code",
   "execution_count": 36,
   "metadata": {},
   "outputs": [
    {
     "name": "stdout",
     "output_type": "stream",
     "text": [
      "     Country       Capital  Population  Isdeveloped\n",
      "a   Malaysia  Kuala Lumpur    32365999        False\n",
      "b  Singapore     Singapore     5850342         True\n",
      "c    Vietnam         Hanoi    97338579         True\n",
      "----\n",
      "     Country       Capital  Population  Isdeveloped\n",
      "a   Malaysia  Kuala Lumpur    32365999        False\n",
      "b  Singapore     Singapore     5850342         True\n",
      "c    Vietnam         Hanoi    97338579         True\n",
      "----\n",
      "        Capital  Population  Isdeveloped\n",
      "a  Kuala Lumpur    32365999        False\n",
      "b     Singapore     5850342         True\n",
      "c         Hanoi    97338579         True\n"
     ]
    }
   ],
   "source": [
    "# inplace=False\n",
    "df3 = df.copy(True)\n",
    "print(df3)\n",
    "print(\"----\")\n",
    "df3_return = df3.drop([\"Country\"], axis='columns', inplace=False)\n",
    "print(df3)\n",
    "print(\"----\")\n",
    "print(df3_return)"
   ]
  },
  {
   "cell_type": "markdown",
   "metadata": {
    "id": "hKkyrSiLkiXz"
   },
   "source": [
    "### Filtering\n",
    "Same as ```Series()``` mentioned above."
   ]
  },
  {
   "cell_type": "code",
   "execution_count": 37,
   "metadata": {
    "colab": {
     "base_uri": "https://localhost:8080/",
     "height": 143
    },
    "id": "HBL-GV2akhtj",
    "outputId": "fe333f1a-1a53-46f4-f011-8d22b3af3035"
   },
   "outputs": [
    {
     "data": {
      "text/html": [
       "<div>\n",
       "<style scoped>\n",
       "    .dataframe tbody tr th:only-of-type {\n",
       "        vertical-align: middle;\n",
       "    }\n",
       "\n",
       "    .dataframe tbody tr th {\n",
       "        vertical-align: top;\n",
       "    }\n",
       "\n",
       "    .dataframe thead th {\n",
       "        text-align: right;\n",
       "    }\n",
       "</style>\n",
       "<table border=\"1\" class=\"dataframe\">\n",
       "  <thead>\n",
       "    <tr style=\"text-align: right;\">\n",
       "      <th></th>\n",
       "      <th>0</th>\n",
       "      <th>1</th>\n",
       "      <th>2</th>\n",
       "      <th>3</th>\n",
       "    </tr>\n",
       "  </thead>\n",
       "  <tbody>\n",
       "    <tr>\n",
       "      <th>0</th>\n",
       "      <td>14.0</td>\n",
       "      <td>NaN</td>\n",
       "      <td>NaN</td>\n",
       "      <td>NaN</td>\n",
       "    </tr>\n",
       "    <tr>\n",
       "      <th>1</th>\n",
       "      <td>19.0</td>\n",
       "      <td>NaN</td>\n",
       "      <td>NaN</td>\n",
       "      <td>NaN</td>\n",
       "    </tr>\n",
       "    <tr>\n",
       "      <th>2</th>\n",
       "      <td>NaN</td>\n",
       "      <td>NaN</td>\n",
       "      <td>NaN</td>\n",
       "      <td>NaN</td>\n",
       "    </tr>\n",
       "  </tbody>\n",
       "</table>\n",
       "</div>"
      ],
      "text/plain": [
       "      0   1   2   3\n",
       "0  14.0 NaN NaN NaN\n",
       "1  19.0 NaN NaN NaN\n",
       "2   NaN NaN NaN NaN"
      ]
     },
     "execution_count": 37,
     "metadata": {},
     "output_type": "execute_result"
    }
   ],
   "source": [
    "df2 = pd.DataFrame(np.array([[14, 35, 35, 35],\n",
    "                             [19, 34, 57, 34],\n",
    "                             [42, 74, 49, 59]]))\n",
    "# filtering lesser than 30\n",
    "df2[df2 < 30]"
   ]
  },
  {
   "cell_type": "code",
   "execution_count": 38,
   "metadata": {},
   "outputs": [
    {
     "data": {
      "text/html": [
       "<div>\n",
       "<style scoped>\n",
       "    .dataframe tbody tr th:only-of-type {\n",
       "        vertical-align: middle;\n",
       "    }\n",
       "\n",
       "    .dataframe tbody tr th {\n",
       "        vertical-align: top;\n",
       "    }\n",
       "\n",
       "    .dataframe thead th {\n",
       "        text-align: right;\n",
       "    }\n",
       "</style>\n",
       "<table border=\"1\" class=\"dataframe\">\n",
       "  <thead>\n",
       "    <tr style=\"text-align: right;\">\n",
       "      <th></th>\n",
       "      <th>Country</th>\n",
       "      <th>Capital</th>\n",
       "      <th>Population</th>\n",
       "      <th>Isdeveloped</th>\n",
       "    </tr>\n",
       "  </thead>\n",
       "  <tbody>\n",
       "    <tr>\n",
       "      <th>a</th>\n",
       "      <td>Malaysia</td>\n",
       "      <td>Kuala Lumpur</td>\n",
       "      <td>32365999</td>\n",
       "      <td>False</td>\n",
       "    </tr>\n",
       "    <tr>\n",
       "      <th>b</th>\n",
       "      <td>Singapore</td>\n",
       "      <td>Singapore</td>\n",
       "      <td>5850342</td>\n",
       "      <td>True</td>\n",
       "    </tr>\n",
       "  </tbody>\n",
       "</table>\n",
       "</div>"
      ],
      "text/plain": [
       "     Country       Capital  Population  Isdeveloped\n",
       "a   Malaysia  Kuala Lumpur    32365999        False\n",
       "b  Singapore     Singapore     5850342         True"
      ]
     },
     "execution_count": 38,
     "metadata": {},
     "output_type": "execute_result"
    }
   ],
   "source": [
    "# Filtering accroding to conditions of one column\n",
    "df[df[\"Population\"] < 50000000]"
   ]
  },
  {
   "cell_type": "markdown",
   "metadata": {},
   "source": [
    "You can filter the `DataFrame` according to conditions of multiple columns like the following:"
   ]
  },
  {
   "cell_type": "code",
   "execution_count": 39,
   "metadata": {
    "colab": {
     "base_uri": "https://localhost:8080/",
     "height": 81
    },
    "id": "81iMOSqvl0dR",
    "outputId": "a10cd631-6a05-4ab8-e89f-87d8fbfc5fe7"
   },
   "outputs": [
    {
     "data": {
      "text/html": [
       "<div>\n",
       "<style scoped>\n",
       "    .dataframe tbody tr th:only-of-type {\n",
       "        vertical-align: middle;\n",
       "    }\n",
       "\n",
       "    .dataframe tbody tr th {\n",
       "        vertical-align: top;\n",
       "    }\n",
       "\n",
       "    .dataframe thead th {\n",
       "        text-align: right;\n",
       "    }\n",
       "</style>\n",
       "<table border=\"1\" class=\"dataframe\">\n",
       "  <thead>\n",
       "    <tr style=\"text-align: right;\">\n",
       "      <th></th>\n",
       "      <th>Country</th>\n",
       "      <th>Capital</th>\n",
       "      <th>Population</th>\n",
       "      <th>Isdeveloped</th>\n",
       "    </tr>\n",
       "  </thead>\n",
       "  <tbody>\n",
       "    <tr>\n",
       "      <th>b</th>\n",
       "      <td>Singapore</td>\n",
       "      <td>Singapore</td>\n",
       "      <td>5850342</td>\n",
       "      <td>True</td>\n",
       "    </tr>\n",
       "  </tbody>\n",
       "</table>\n",
       "</div>"
      ],
      "text/plain": [
       "     Country    Capital  Population  Isdeveloped\n",
       "b  Singapore  Singapore     5850342         True"
      ]
     },
     "execution_count": 39,
     "metadata": {},
     "output_type": "execute_result"
    }
   ],
   "source": [
    "df[(df[\"Population\"] < 50000000) & (df[\"Isdeveloped\"] == True)]"
   ]
  },
  {
   "cell_type": "markdown",
   "metadata": {
    "id": "MtbelZ2_mgTd"
   },
   "source": [
    "### Transposition  of a Dataframe\n",
    "Similar to `Numpy` arrays, `Dataframe` can be transposed. `Columns` is interchanged with `Index`."
   ]
  },
  {
   "cell_type": "code",
   "execution_count": 40,
   "metadata": {
    "colab": {
     "base_uri": "https://localhost:8080/",
     "height": 175
    },
    "id": "xwiEfiMhmRxp",
    "outputId": "32abf4f5-5aac-4bd2-c83f-b3b0ea423713"
   },
   "outputs": [
    {
     "data": {
      "text/html": [
       "<div>\n",
       "<style scoped>\n",
       "    .dataframe tbody tr th:only-of-type {\n",
       "        vertical-align: middle;\n",
       "    }\n",
       "\n",
       "    .dataframe tbody tr th {\n",
       "        vertical-align: top;\n",
       "    }\n",
       "\n",
       "    .dataframe thead th {\n",
       "        text-align: right;\n",
       "    }\n",
       "</style>\n",
       "<table border=\"1\" class=\"dataframe\">\n",
       "  <thead>\n",
       "    <tr style=\"text-align: right;\">\n",
       "      <th></th>\n",
       "      <th>a</th>\n",
       "      <th>b</th>\n",
       "      <th>c</th>\n",
       "    </tr>\n",
       "  </thead>\n",
       "  <tbody>\n",
       "    <tr>\n",
       "      <th>Country</th>\n",
       "      <td>Malaysia</td>\n",
       "      <td>Singapore</td>\n",
       "      <td>Vietnam</td>\n",
       "    </tr>\n",
       "    <tr>\n",
       "      <th>Capital</th>\n",
       "      <td>Kuala Lumpur</td>\n",
       "      <td>Singapore</td>\n",
       "      <td>Hanoi</td>\n",
       "    </tr>\n",
       "    <tr>\n",
       "      <th>Population</th>\n",
       "      <td>32365999</td>\n",
       "      <td>5850342</td>\n",
       "      <td>97338579</td>\n",
       "    </tr>\n",
       "    <tr>\n",
       "      <th>Isdeveloped</th>\n",
       "      <td>False</td>\n",
       "      <td>True</td>\n",
       "      <td>True</td>\n",
       "    </tr>\n",
       "  </tbody>\n",
       "</table>\n",
       "</div>"
      ],
      "text/plain": [
       "                        a          b         c\n",
       "Country          Malaysia  Singapore   Vietnam\n",
       "Capital      Kuala Lumpur  Singapore     Hanoi\n",
       "Population       32365999    5850342  97338579\n",
       "Isdeveloped         False       True      True"
      ]
     },
     "execution_count": 40,
     "metadata": {},
     "output_type": "execute_result"
    }
   ],
   "source": [
    "df1 = df.T\n",
    "df1"
   ]
  },
  {
   "cell_type": "code",
   "execution_count": 41,
   "metadata": {
    "colab": {
     "base_uri": "https://localhost:8080/"
    },
    "id": "duI3aSK-nhJj",
    "outputId": "b519bb1a-5ef0-41e0-d11f-6cace3966e58"
   },
   "outputs": [
    {
     "data": {
      "text/plain": [
       "Index(['Country', 'Capital', 'Population', 'Isdeveloped'], dtype='object')"
      ]
     },
     "execution_count": 41,
     "metadata": {},
     "output_type": "execute_result"
    }
   ],
   "source": [
    "df1.index"
   ]
  },
  {
   "cell_type": "code",
   "execution_count": 42,
   "metadata": {
    "colab": {
     "base_uri": "https://localhost:8080/"
    },
    "id": "QvGKIfdQnjgj",
    "outputId": "de4c58ce-e502-4540-ba41-200b985ef825"
   },
   "outputs": [
    {
     "data": {
      "text/plain": [
       "Index(['a', 'b', 'c'], dtype='object')"
      ]
     },
     "execution_count": 42,
     "metadata": {},
     "output_type": "execute_result"
    }
   ],
   "source": [
    "df1.columns"
   ]
  },
  {
   "cell_type": "markdown",
   "metadata": {
    "id": "TGs_RJSorGtS"
   },
   "source": [
    "### Merge of Dataframe\n",
    "Call `concat()`, `append()` functions to merge multiple dataframes."
   ]
  },
  {
   "cell_type": "code",
   "execution_count": 43,
   "metadata": {
    "id": "QNRoOWMnrI5R"
   },
   "outputs": [],
   "source": [
    "df1 = pd.DataFrame(np.random.rand(3,4))\n",
    "df2 = pd.DataFrame(np.random.rand(3,4))\n",
    "df3 = pd.DataFrame(np.random.rand(6,4))\n",
    "df4 = pd.DataFrame(np.random.rand(3,6))"
   ]
  },
  {
   "cell_type": "code",
   "execution_count": 44,
   "metadata": {
    "colab": {
     "base_uri": "https://localhost:8080/",
     "height": 143
    },
    "id": "6p6-t5j3sYO0",
    "outputId": "5fc49951-84dd-456d-b856-954f15318dbc"
   },
   "outputs": [
    {
     "data": {
      "text/html": [
       "<div>\n",
       "<style scoped>\n",
       "    .dataframe tbody tr th:only-of-type {\n",
       "        vertical-align: middle;\n",
       "    }\n",
       "\n",
       "    .dataframe tbody tr th {\n",
       "        vertical-align: top;\n",
       "    }\n",
       "\n",
       "    .dataframe thead th {\n",
       "        text-align: right;\n",
       "    }\n",
       "</style>\n",
       "<table border=\"1\" class=\"dataframe\">\n",
       "  <thead>\n",
       "    <tr style=\"text-align: right;\">\n",
       "      <th></th>\n",
       "      <th>0</th>\n",
       "      <th>1</th>\n",
       "      <th>2</th>\n",
       "      <th>3</th>\n",
       "      <th>4</th>\n",
       "      <th>5</th>\n",
       "    </tr>\n",
       "  </thead>\n",
       "  <tbody>\n",
       "    <tr>\n",
       "      <th>0</th>\n",
       "      <td>0.762714</td>\n",
       "      <td>0.858052</td>\n",
       "      <td>0.776502</td>\n",
       "      <td>0.638984</td>\n",
       "      <td>NaN</td>\n",
       "      <td>NaN</td>\n",
       "    </tr>\n",
       "    <tr>\n",
       "      <th>1</th>\n",
       "      <td>0.471129</td>\n",
       "      <td>0.267836</td>\n",
       "      <td>0.254934</td>\n",
       "      <td>0.253276</td>\n",
       "      <td>NaN</td>\n",
       "      <td>NaN</td>\n",
       "    </tr>\n",
       "    <tr>\n",
       "      <th>2</th>\n",
       "      <td>0.707000</td>\n",
       "      <td>0.777724</td>\n",
       "      <td>0.558135</td>\n",
       "      <td>0.986818</td>\n",
       "      <td>NaN</td>\n",
       "      <td>NaN</td>\n",
       "    </tr>\n",
       "    <tr>\n",
       "      <th>0</th>\n",
       "      <td>0.074334</td>\n",
       "      <td>0.126026</td>\n",
       "      <td>0.693853</td>\n",
       "      <td>0.912386</td>\n",
       "      <td>NaN</td>\n",
       "      <td>NaN</td>\n",
       "    </tr>\n",
       "    <tr>\n",
       "      <th>1</th>\n",
       "      <td>0.923675</td>\n",
       "      <td>0.611228</td>\n",
       "      <td>0.677037</td>\n",
       "      <td>0.468289</td>\n",
       "      <td>NaN</td>\n",
       "      <td>NaN</td>\n",
       "    </tr>\n",
       "    <tr>\n",
       "      <th>2</th>\n",
       "      <td>0.783764</td>\n",
       "      <td>0.636263</td>\n",
       "      <td>0.955992</td>\n",
       "      <td>0.948850</td>\n",
       "      <td>NaN</td>\n",
       "      <td>NaN</td>\n",
       "    </tr>\n",
       "    <tr>\n",
       "      <th>0</th>\n",
       "      <td>0.076652</td>\n",
       "      <td>0.323236</td>\n",
       "      <td>0.364225</td>\n",
       "      <td>0.592753</td>\n",
       "      <td>NaN</td>\n",
       "      <td>NaN</td>\n",
       "    </tr>\n",
       "    <tr>\n",
       "      <th>1</th>\n",
       "      <td>0.530635</td>\n",
       "      <td>0.670411</td>\n",
       "      <td>0.373705</td>\n",
       "      <td>0.312885</td>\n",
       "      <td>NaN</td>\n",
       "      <td>NaN</td>\n",
       "    </tr>\n",
       "    <tr>\n",
       "      <th>2</th>\n",
       "      <td>0.276990</td>\n",
       "      <td>0.854123</td>\n",
       "      <td>0.746126</td>\n",
       "      <td>0.203922</td>\n",
       "      <td>NaN</td>\n",
       "      <td>NaN</td>\n",
       "    </tr>\n",
       "    <tr>\n",
       "      <th>3</th>\n",
       "      <td>0.912820</td>\n",
       "      <td>0.000955</td>\n",
       "      <td>0.449610</td>\n",
       "      <td>0.837823</td>\n",
       "      <td>NaN</td>\n",
       "      <td>NaN</td>\n",
       "    </tr>\n",
       "    <tr>\n",
       "      <th>4</th>\n",
       "      <td>0.198221</td>\n",
       "      <td>0.405951</td>\n",
       "      <td>0.300153</td>\n",
       "      <td>0.774865</td>\n",
       "      <td>NaN</td>\n",
       "      <td>NaN</td>\n",
       "    </tr>\n",
       "    <tr>\n",
       "      <th>5</th>\n",
       "      <td>0.705421</td>\n",
       "      <td>0.537044</td>\n",
       "      <td>0.930815</td>\n",
       "      <td>0.067547</td>\n",
       "      <td>NaN</td>\n",
       "      <td>NaN</td>\n",
       "    </tr>\n",
       "    <tr>\n",
       "      <th>0</th>\n",
       "      <td>0.234938</td>\n",
       "      <td>0.463968</td>\n",
       "      <td>0.051037</td>\n",
       "      <td>0.309350</td>\n",
       "      <td>0.853706</td>\n",
       "      <td>0.905196</td>\n",
       "    </tr>\n",
       "    <tr>\n",
       "      <th>1</th>\n",
       "      <td>0.380458</td>\n",
       "      <td>0.198140</td>\n",
       "      <td>0.691971</td>\n",
       "      <td>0.759215</td>\n",
       "      <td>0.363329</td>\n",
       "      <td>0.516518</td>\n",
       "    </tr>\n",
       "    <tr>\n",
       "      <th>2</th>\n",
       "      <td>0.058123</td>\n",
       "      <td>0.392317</td>\n",
       "      <td>0.933684</td>\n",
       "      <td>0.663953</td>\n",
       "      <td>0.597008</td>\n",
       "      <td>0.935246</td>\n",
       "    </tr>\n",
       "  </tbody>\n",
       "</table>\n",
       "</div>"
      ],
      "text/plain": [
       "          0         1         2         3         4         5\n",
       "0  0.762714  0.858052  0.776502  0.638984       NaN       NaN\n",
       "1  0.471129  0.267836  0.254934  0.253276       NaN       NaN\n",
       "2  0.707000  0.777724  0.558135  0.986818       NaN       NaN\n",
       "0  0.074334  0.126026  0.693853  0.912386       NaN       NaN\n",
       "1  0.923675  0.611228  0.677037  0.468289       NaN       NaN\n",
       "2  0.783764  0.636263  0.955992  0.948850       NaN       NaN\n",
       "0  0.076652  0.323236  0.364225  0.592753       NaN       NaN\n",
       "1  0.530635  0.670411  0.373705  0.312885       NaN       NaN\n",
       "2  0.276990  0.854123  0.746126  0.203922       NaN       NaN\n",
       "3  0.912820  0.000955  0.449610  0.837823       NaN       NaN\n",
       "4  0.198221  0.405951  0.300153  0.774865       NaN       NaN\n",
       "5  0.705421  0.537044  0.930815  0.067547       NaN       NaN\n",
       "0  0.234938  0.463968  0.051037  0.309350  0.853706  0.905196\n",
       "1  0.380458  0.198140  0.691971  0.759215  0.363329  0.516518\n",
       "2  0.058123  0.392317  0.933684  0.663953  0.597008  0.935246"
      ]
     },
     "execution_count": 44,
     "metadata": {},
     "output_type": "execute_result"
    }
   ],
   "source": [
    "# Vertical merging by default.\n",
    "pd.concat([df1, df2, df3, df4])"
   ]
  },
  {
   "cell_type": "markdown",
   "metadata": {},
   "source": [
    ":::{note}\n",
    "As you see, when the shapes of dataframes don't match, blank positions will be filled by `NaN` values.\n",
    ":::"
   ]
  },
  {
   "cell_type": "code",
   "execution_count": 45,
   "metadata": {},
   "outputs": [
    {
     "data": {
      "text/html": [
       "<div>\n",
       "<style scoped>\n",
       "    .dataframe tbody tr th:only-of-type {\n",
       "        vertical-align: middle;\n",
       "    }\n",
       "\n",
       "    .dataframe tbody tr th {\n",
       "        vertical-align: top;\n",
       "    }\n",
       "\n",
       "    .dataframe thead th {\n",
       "        text-align: right;\n",
       "    }\n",
       "</style>\n",
       "<table border=\"1\" class=\"dataframe\">\n",
       "  <thead>\n",
       "    <tr style=\"text-align: right;\">\n",
       "      <th></th>\n",
       "      <th>0</th>\n",
       "      <th>1</th>\n",
       "      <th>2</th>\n",
       "      <th>3</th>\n",
       "    </tr>\n",
       "  </thead>\n",
       "  <tbody>\n",
       "    <tr>\n",
       "      <th>0</th>\n",
       "      <td>0.762714</td>\n",
       "      <td>0.858052</td>\n",
       "      <td>0.776502</td>\n",
       "      <td>0.638984</td>\n",
       "    </tr>\n",
       "    <tr>\n",
       "      <th>1</th>\n",
       "      <td>0.471129</td>\n",
       "      <td>0.267836</td>\n",
       "      <td>0.254934</td>\n",
       "      <td>0.253276</td>\n",
       "    </tr>\n",
       "    <tr>\n",
       "      <th>2</th>\n",
       "      <td>0.707000</td>\n",
       "      <td>0.777724</td>\n",
       "      <td>0.558135</td>\n",
       "      <td>0.986818</td>\n",
       "    </tr>\n",
       "    <tr>\n",
       "      <th>0</th>\n",
       "      <td>0.074334</td>\n",
       "      <td>0.126026</td>\n",
       "      <td>0.693853</td>\n",
       "      <td>0.912386</td>\n",
       "    </tr>\n",
       "    <tr>\n",
       "      <th>1</th>\n",
       "      <td>0.923675</td>\n",
       "      <td>0.611228</td>\n",
       "      <td>0.677037</td>\n",
       "      <td>0.468289</td>\n",
       "    </tr>\n",
       "    <tr>\n",
       "      <th>2</th>\n",
       "      <td>0.783764</td>\n",
       "      <td>0.636263</td>\n",
       "      <td>0.955992</td>\n",
       "      <td>0.948850</td>\n",
       "    </tr>\n",
       "  </tbody>\n",
       "</table>\n",
       "</div>"
      ],
      "text/plain": [
       "          0         1         2         3\n",
       "0  0.762714  0.858052  0.776502  0.638984\n",
       "1  0.471129  0.267836  0.254934  0.253276\n",
       "2  0.707000  0.777724  0.558135  0.986818\n",
       "0  0.074334  0.126026  0.693853  0.912386\n",
       "1  0.923675  0.611228  0.677037  0.468289\n",
       "2  0.783764  0.636263  0.955992  0.948850"
      ]
     },
     "execution_count": 45,
     "metadata": {},
     "output_type": "execute_result"
    }
   ],
   "source": [
    "result = df1.append(df2)\n",
    "result"
   ]
  },
  {
   "cell_type": "markdown",
   "metadata": {},
   "source": [
    "Conduct horizontal merging by specifying `axis` argument as 'columns' or 1. "
   ]
  },
  {
   "cell_type": "code",
   "execution_count": 46,
   "metadata": {},
   "outputs": [
    {
     "data": {
      "text/html": [
       "<div>\n",
       "<style scoped>\n",
       "    .dataframe tbody tr th:only-of-type {\n",
       "        vertical-align: middle;\n",
       "    }\n",
       "\n",
       "    .dataframe tbody tr th {\n",
       "        vertical-align: top;\n",
       "    }\n",
       "\n",
       "    .dataframe thead th {\n",
       "        text-align: right;\n",
       "    }\n",
       "</style>\n",
       "<table border=\"1\" class=\"dataframe\">\n",
       "  <thead>\n",
       "    <tr style=\"text-align: right;\">\n",
       "      <th></th>\n",
       "      <th>0</th>\n",
       "      <th>1</th>\n",
       "      <th>2</th>\n",
       "      <th>3</th>\n",
       "      <th>0</th>\n",
       "      <th>1</th>\n",
       "      <th>2</th>\n",
       "      <th>3</th>\n",
       "      <th>0</th>\n",
       "      <th>1</th>\n",
       "      <th>2</th>\n",
       "      <th>3</th>\n",
       "      <th>0</th>\n",
       "      <th>1</th>\n",
       "      <th>2</th>\n",
       "      <th>3</th>\n",
       "      <th>4</th>\n",
       "      <th>5</th>\n",
       "    </tr>\n",
       "  </thead>\n",
       "  <tbody>\n",
       "    <tr>\n",
       "      <th>0</th>\n",
       "      <td>0.762714</td>\n",
       "      <td>0.858052</td>\n",
       "      <td>0.776502</td>\n",
       "      <td>0.638984</td>\n",
       "      <td>0.074334</td>\n",
       "      <td>0.126026</td>\n",
       "      <td>0.693853</td>\n",
       "      <td>0.912386</td>\n",
       "      <td>0.076652</td>\n",
       "      <td>0.323236</td>\n",
       "      <td>0.364225</td>\n",
       "      <td>0.592753</td>\n",
       "      <td>0.234938</td>\n",
       "      <td>0.463968</td>\n",
       "      <td>0.051037</td>\n",
       "      <td>0.309350</td>\n",
       "      <td>0.853706</td>\n",
       "      <td>0.905196</td>\n",
       "    </tr>\n",
       "    <tr>\n",
       "      <th>1</th>\n",
       "      <td>0.471129</td>\n",
       "      <td>0.267836</td>\n",
       "      <td>0.254934</td>\n",
       "      <td>0.253276</td>\n",
       "      <td>0.923675</td>\n",
       "      <td>0.611228</td>\n",
       "      <td>0.677037</td>\n",
       "      <td>0.468289</td>\n",
       "      <td>0.530635</td>\n",
       "      <td>0.670411</td>\n",
       "      <td>0.373705</td>\n",
       "      <td>0.312885</td>\n",
       "      <td>0.380458</td>\n",
       "      <td>0.198140</td>\n",
       "      <td>0.691971</td>\n",
       "      <td>0.759215</td>\n",
       "      <td>0.363329</td>\n",
       "      <td>0.516518</td>\n",
       "    </tr>\n",
       "    <tr>\n",
       "      <th>2</th>\n",
       "      <td>0.707000</td>\n",
       "      <td>0.777724</td>\n",
       "      <td>0.558135</td>\n",
       "      <td>0.986818</td>\n",
       "      <td>0.783764</td>\n",
       "      <td>0.636263</td>\n",
       "      <td>0.955992</td>\n",
       "      <td>0.948850</td>\n",
       "      <td>0.276990</td>\n",
       "      <td>0.854123</td>\n",
       "      <td>0.746126</td>\n",
       "      <td>0.203922</td>\n",
       "      <td>0.058123</td>\n",
       "      <td>0.392317</td>\n",
       "      <td>0.933684</td>\n",
       "      <td>0.663953</td>\n",
       "      <td>0.597008</td>\n",
       "      <td>0.935246</td>\n",
       "    </tr>\n",
       "    <tr>\n",
       "      <th>3</th>\n",
       "      <td>NaN</td>\n",
       "      <td>NaN</td>\n",
       "      <td>NaN</td>\n",
       "      <td>NaN</td>\n",
       "      <td>NaN</td>\n",
       "      <td>NaN</td>\n",
       "      <td>NaN</td>\n",
       "      <td>NaN</td>\n",
       "      <td>0.912820</td>\n",
       "      <td>0.000955</td>\n",
       "      <td>0.449610</td>\n",
       "      <td>0.837823</td>\n",
       "      <td>NaN</td>\n",
       "      <td>NaN</td>\n",
       "      <td>NaN</td>\n",
       "      <td>NaN</td>\n",
       "      <td>NaN</td>\n",
       "      <td>NaN</td>\n",
       "    </tr>\n",
       "    <tr>\n",
       "      <th>4</th>\n",
       "      <td>NaN</td>\n",
       "      <td>NaN</td>\n",
       "      <td>NaN</td>\n",
       "      <td>NaN</td>\n",
       "      <td>NaN</td>\n",
       "      <td>NaN</td>\n",
       "      <td>NaN</td>\n",
       "      <td>NaN</td>\n",
       "      <td>0.198221</td>\n",
       "      <td>0.405951</td>\n",
       "      <td>0.300153</td>\n",
       "      <td>0.774865</td>\n",
       "      <td>NaN</td>\n",
       "      <td>NaN</td>\n",
       "      <td>NaN</td>\n",
       "      <td>NaN</td>\n",
       "      <td>NaN</td>\n",
       "      <td>NaN</td>\n",
       "    </tr>\n",
       "    <tr>\n",
       "      <th>5</th>\n",
       "      <td>NaN</td>\n",
       "      <td>NaN</td>\n",
       "      <td>NaN</td>\n",
       "      <td>NaN</td>\n",
       "      <td>NaN</td>\n",
       "      <td>NaN</td>\n",
       "      <td>NaN</td>\n",
       "      <td>NaN</td>\n",
       "      <td>0.705421</td>\n",
       "      <td>0.537044</td>\n",
       "      <td>0.930815</td>\n",
       "      <td>0.067547</td>\n",
       "      <td>NaN</td>\n",
       "      <td>NaN</td>\n",
       "      <td>NaN</td>\n",
       "      <td>NaN</td>\n",
       "      <td>NaN</td>\n",
       "      <td>NaN</td>\n",
       "    </tr>\n",
       "  </tbody>\n",
       "</table>\n",
       "</div>"
      ],
      "text/plain": [
       "          0         1         2         3         0         1         2  \\\n",
       "0  0.762714  0.858052  0.776502  0.638984  0.074334  0.126026  0.693853   \n",
       "1  0.471129  0.267836  0.254934  0.253276  0.923675  0.611228  0.677037   \n",
       "2  0.707000  0.777724  0.558135  0.986818  0.783764  0.636263  0.955992   \n",
       "3       NaN       NaN       NaN       NaN       NaN       NaN       NaN   \n",
       "4       NaN       NaN       NaN       NaN       NaN       NaN       NaN   \n",
       "5       NaN       NaN       NaN       NaN       NaN       NaN       NaN   \n",
       "\n",
       "          3         0         1         2         3         0         1  \\\n",
       "0  0.912386  0.076652  0.323236  0.364225  0.592753  0.234938  0.463968   \n",
       "1  0.468289  0.530635  0.670411  0.373705  0.312885  0.380458  0.198140   \n",
       "2  0.948850  0.276990  0.854123  0.746126  0.203922  0.058123  0.392317   \n",
       "3       NaN  0.912820  0.000955  0.449610  0.837823       NaN       NaN   \n",
       "4       NaN  0.198221  0.405951  0.300153  0.774865       NaN       NaN   \n",
       "5       NaN  0.705421  0.537044  0.930815  0.067547       NaN       NaN   \n",
       "\n",
       "          2         3         4         5  \n",
       "0  0.051037  0.309350  0.853706  0.905196  \n",
       "1  0.691971  0.759215  0.363329  0.516518  \n",
       "2  0.933684  0.663953  0.597008  0.935246  \n",
       "3       NaN       NaN       NaN       NaN  \n",
       "4       NaN       NaN       NaN       NaN  \n",
       "5       NaN       NaN       NaN       NaN  "
      ]
     },
     "execution_count": 46,
     "metadata": {},
     "output_type": "execute_result"
    }
   ],
   "source": [
    "pd.concat([df1, df2, df3, df4], axis='columns')"
   ]
  },
  {
   "cell_type": "markdown",
   "metadata": {
    "id": "0ZrXBTOe2OwV"
   },
   "source": [
    "### View data"
   ]
  },
  {
   "cell_type": "code",
   "execution_count": 47,
   "metadata": {
    "colab": {
     "base_uri": "https://localhost:8080/",
     "height": 206
    },
    "id": "hSvCDzAQzGa0",
    "outputId": "1a210448-21e5-41e3-bed0-e746924a8ffc"
   },
   "outputs": [
    {
     "data": {
      "text/html": [
       "<div>\n",
       "<style scoped>\n",
       "    .dataframe tbody tr th:only-of-type {\n",
       "        vertical-align: middle;\n",
       "    }\n",
       "\n",
       "    .dataframe tbody tr th {\n",
       "        vertical-align: top;\n",
       "    }\n",
       "\n",
       "    .dataframe thead th {\n",
       "        text-align: right;\n",
       "    }\n",
       "</style>\n",
       "<table border=\"1\" class=\"dataframe\">\n",
       "  <thead>\n",
       "    <tr style=\"text-align: right;\">\n",
       "      <th></th>\n",
       "      <th>0</th>\n",
       "      <th>1</th>\n",
       "      <th>2</th>\n",
       "      <th>3</th>\n",
       "    </tr>\n",
       "  </thead>\n",
       "  <tbody>\n",
       "    <tr>\n",
       "      <th>0</th>\n",
       "      <td>0.120009</td>\n",
       "      <td>0.188495</td>\n",
       "      <td>0.907858</td>\n",
       "      <td>0.135513</td>\n",
       "    </tr>\n",
       "    <tr>\n",
       "      <th>1</th>\n",
       "      <td>0.234355</td>\n",
       "      <td>0.130909</td>\n",
       "      <td>0.168339</td>\n",
       "      <td>0.480043</td>\n",
       "    </tr>\n",
       "  </tbody>\n",
       "</table>\n",
       "</div>"
      ],
      "text/plain": [
       "          0         1         2         3\n",
       "0  0.120009  0.188495  0.907858  0.135513\n",
       "1  0.234355  0.130909  0.168339  0.480043"
      ]
     },
     "execution_count": 47,
     "metadata": {},
     "output_type": "execute_result"
    }
   ],
   "source": [
    "df1 = pd.DataFrame(np.random.rand(100,4))\n",
    "df1.head(2)"
   ]
  },
  {
   "cell_type": "code",
   "execution_count": 48,
   "metadata": {
    "colab": {
     "base_uri": "https://localhost:8080/",
     "height": 206
    },
    "id": "5XENzsu22Y3P",
    "outputId": "d7c42ec8-b57d-4e67-83d3-2de602c5112f"
   },
   "outputs": [
    {
     "data": {
      "text/html": [
       "<div>\n",
       "<style scoped>\n",
       "    .dataframe tbody tr th:only-of-type {\n",
       "        vertical-align: middle;\n",
       "    }\n",
       "\n",
       "    .dataframe tbody tr th {\n",
       "        vertical-align: top;\n",
       "    }\n",
       "\n",
       "    .dataframe thead th {\n",
       "        text-align: right;\n",
       "    }\n",
       "</style>\n",
       "<table border=\"1\" class=\"dataframe\">\n",
       "  <thead>\n",
       "    <tr style=\"text-align: right;\">\n",
       "      <th></th>\n",
       "      <th>0</th>\n",
       "      <th>1</th>\n",
       "      <th>2</th>\n",
       "      <th>3</th>\n",
       "    </tr>\n",
       "  </thead>\n",
       "  <tbody>\n",
       "    <tr>\n",
       "      <th>97</th>\n",
       "      <td>0.616317</td>\n",
       "      <td>0.451546</td>\n",
       "      <td>0.598741</td>\n",
       "      <td>0.330549</td>\n",
       "    </tr>\n",
       "    <tr>\n",
       "      <th>98</th>\n",
       "      <td>0.421269</td>\n",
       "      <td>0.060775</td>\n",
       "      <td>0.201096</td>\n",
       "      <td>0.959810</td>\n",
       "    </tr>\n",
       "    <tr>\n",
       "      <th>99</th>\n",
       "      <td>0.744710</td>\n",
       "      <td>0.924623</td>\n",
       "      <td>0.887182</td>\n",
       "      <td>0.311219</td>\n",
       "    </tr>\n",
       "  </tbody>\n",
       "</table>\n",
       "</div>"
      ],
      "text/plain": [
       "           0         1         2         3\n",
       "97  0.616317  0.451546  0.598741  0.330549\n",
       "98  0.421269  0.060775  0.201096  0.959810\n",
       "99  0.744710  0.924623  0.887182  0.311219"
      ]
     },
     "execution_count": 48,
     "metadata": {},
     "output_type": "execute_result"
    }
   ],
   "source": [
    "df1.tail(3)"
   ]
  },
  {
   "cell_type": "markdown",
   "metadata": {
    "id": "BO5bWmD_2otG"
   },
   "source": [
    "### Computational tools"
   ]
  },
  {
   "cell_type": "markdown",
   "metadata": {
    "id": "ljMMyQvH3Ece"
   },
   "source": [
    "Compute covariance and *Pearson correlation coefficients* between different columns."
   ]
  },
  {
   "cell_type": "code",
   "execution_count": 49,
   "metadata": {
    "colab": {
     "base_uri": "https://localhost:8080/",
     "height": 206
    },
    "id": "XQOrSrUx23pk",
    "outputId": "e0fea7d4-e519-4f4e-c800-4fd752f7938b"
   },
   "outputs": [
    {
     "data": {
      "text/html": [
       "<div>\n",
       "<style scoped>\n",
       "    .dataframe tbody tr th:only-of-type {\n",
       "        vertical-align: middle;\n",
       "    }\n",
       "\n",
       "    .dataframe tbody tr th {\n",
       "        vertical-align: top;\n",
       "    }\n",
       "\n",
       "    .dataframe thead th {\n",
       "        text-align: right;\n",
       "    }\n",
       "</style>\n",
       "<table border=\"1\" class=\"dataframe\">\n",
       "  <thead>\n",
       "    <tr style=\"text-align: right;\">\n",
       "      <th></th>\n",
       "      <th>c1</th>\n",
       "      <th>c2</th>\n",
       "      <th>c3</th>\n",
       "      <th>c4</th>\n",
       "      <th>c5</th>\n",
       "    </tr>\n",
       "  </thead>\n",
       "  <tbody>\n",
       "    <tr>\n",
       "      <th>c1</th>\n",
       "      <td>0.072849</td>\n",
       "      <td>0.010317</td>\n",
       "      <td>-0.029626</td>\n",
       "      <td>0.039523</td>\n",
       "      <td>0.038606</td>\n",
       "    </tr>\n",
       "    <tr>\n",
       "      <th>c2</th>\n",
       "      <td>0.010317</td>\n",
       "      <td>0.052021</td>\n",
       "      <td>0.044289</td>\n",
       "      <td>0.010545</td>\n",
       "      <td>0.043784</td>\n",
       "    </tr>\n",
       "    <tr>\n",
       "      <th>c3</th>\n",
       "      <td>-0.029626</td>\n",
       "      <td>0.044289</td>\n",
       "      <td>0.085641</td>\n",
       "      <td>0.002518</td>\n",
       "      <td>0.012171</td>\n",
       "    </tr>\n",
       "    <tr>\n",
       "      <th>c4</th>\n",
       "      <td>0.039523</td>\n",
       "      <td>0.010545</td>\n",
       "      <td>0.002518</td>\n",
       "      <td>0.039808</td>\n",
       "      <td>0.002057</td>\n",
       "    </tr>\n",
       "    <tr>\n",
       "      <th>c5</th>\n",
       "      <td>0.038606</td>\n",
       "      <td>0.043784</td>\n",
       "      <td>0.012171</td>\n",
       "      <td>0.002057</td>\n",
       "      <td>0.082732</td>\n",
       "    </tr>\n",
       "  </tbody>\n",
       "</table>\n",
       "</div>"
      ],
      "text/plain": [
       "          c1        c2        c3        c4        c5\n",
       "c1  0.072849  0.010317 -0.029626  0.039523  0.038606\n",
       "c2  0.010317  0.052021  0.044289  0.010545  0.043784\n",
       "c3 -0.029626  0.044289  0.085641  0.002518  0.012171\n",
       "c4  0.039523  0.010545  0.002518  0.039808  0.002057\n",
       "c5  0.038606  0.043784  0.012171  0.002057  0.082732"
      ]
     },
     "execution_count": 49,
     "metadata": {},
     "output_type": "execute_result"
    }
   ],
   "source": [
    "df1 = pd.DataFrame(np.random.rand(5, 5), index=['i1', 'i2', 'i3', 'i4', 'i5'],\n",
    "                   columns=['c1', 'c2', 'c3', 'c4', 'c5'])\n",
    "df1.cov()"
   ]
  },
  {
   "cell_type": "code",
   "execution_count": 50,
   "metadata": {
    "colab": {
     "base_uri": "https://localhost:8080/",
     "height": 206
    },
    "id": "abEPT2W32_Ni",
    "outputId": "d36f8fe3-534e-4240-8c30-5337d2110f19"
   },
   "outputs": [
    {
     "data": {
      "text/html": [
       "<div>\n",
       "<style scoped>\n",
       "    .dataframe tbody tr th:only-of-type {\n",
       "        vertical-align: middle;\n",
       "    }\n",
       "\n",
       "    .dataframe tbody tr th {\n",
       "        vertical-align: top;\n",
       "    }\n",
       "\n",
       "    .dataframe thead th {\n",
       "        text-align: right;\n",
       "    }\n",
       "</style>\n",
       "<table border=\"1\" class=\"dataframe\">\n",
       "  <thead>\n",
       "    <tr style=\"text-align: right;\">\n",
       "      <th></th>\n",
       "      <th>c1</th>\n",
       "      <th>c2</th>\n",
       "      <th>c3</th>\n",
       "      <th>c4</th>\n",
       "      <th>c5</th>\n",
       "    </tr>\n",
       "  </thead>\n",
       "  <tbody>\n",
       "    <tr>\n",
       "      <th>c1</th>\n",
       "      <td>1.000000</td>\n",
       "      <td>0.167595</td>\n",
       "      <td>-0.375082</td>\n",
       "      <td>0.733923</td>\n",
       "      <td>0.497288</td>\n",
       "    </tr>\n",
       "    <tr>\n",
       "      <th>c2</th>\n",
       "      <td>0.167595</td>\n",
       "      <td>1.000000</td>\n",
       "      <td>0.663530</td>\n",
       "      <td>0.231728</td>\n",
       "      <td>0.667411</td>\n",
       "    </tr>\n",
       "    <tr>\n",
       "      <th>c3</th>\n",
       "      <td>-0.375082</td>\n",
       "      <td>0.663530</td>\n",
       "      <td>1.000000</td>\n",
       "      <td>0.043122</td>\n",
       "      <td>0.144595</td>\n",
       "    </tr>\n",
       "    <tr>\n",
       "      <th>c4</th>\n",
       "      <td>0.733923</td>\n",
       "      <td>0.231728</td>\n",
       "      <td>0.043122</td>\n",
       "      <td>1.000000</td>\n",
       "      <td>0.035848</td>\n",
       "    </tr>\n",
       "    <tr>\n",
       "      <th>c5</th>\n",
       "      <td>0.497288</td>\n",
       "      <td>0.667411</td>\n",
       "      <td>0.144595</td>\n",
       "      <td>0.035848</td>\n",
       "      <td>1.000000</td>\n",
       "    </tr>\n",
       "  </tbody>\n",
       "</table>\n",
       "</div>"
      ],
      "text/plain": [
       "          c1        c2        c3        c4        c5\n",
       "c1  1.000000  0.167595 -0.375082  0.733923  0.497288\n",
       "c2  0.167595  1.000000  0.663530  0.231728  0.667411\n",
       "c3 -0.375082  0.663530  1.000000  0.043122  0.144595\n",
       "c4  0.733923  0.231728  0.043122  1.000000  0.035848\n",
       "c5  0.497288  0.667411  0.144595  0.035848  1.000000"
      ]
     },
     "execution_count": 50,
     "metadata": {},
     "output_type": "execute_result"
    }
   ],
   "source": [
    "df1.corr() # method = pearson (default), optional: kendall, spearman"
   ]
  },
  {
   "cell_type": "code",
   "execution_count": 51,
   "metadata": {},
   "outputs": [
    {
     "data": {
      "text/html": [
       "<div>\n",
       "<style scoped>\n",
       "    .dataframe tbody tr th:only-of-type {\n",
       "        vertical-align: middle;\n",
       "    }\n",
       "\n",
       "    .dataframe tbody tr th {\n",
       "        vertical-align: top;\n",
       "    }\n",
       "\n",
       "    .dataframe thead th {\n",
       "        text-align: right;\n",
       "    }\n",
       "</style>\n",
       "<table border=\"1\" class=\"dataframe\">\n",
       "  <thead>\n",
       "    <tr style=\"text-align: right;\">\n",
       "      <th></th>\n",
       "      <th>c1</th>\n",
       "      <th>c2</th>\n",
       "      <th>c3</th>\n",
       "      <th>c4</th>\n",
       "      <th>c5</th>\n",
       "    </tr>\n",
       "  </thead>\n",
       "  <tbody>\n",
       "    <tr>\n",
       "      <th>c1</th>\n",
       "      <td>1.0</td>\n",
       "      <td>0.2</td>\n",
       "      <td>-0.4</td>\n",
       "      <td>0.6</td>\n",
       "      <td>0.0</td>\n",
       "    </tr>\n",
       "    <tr>\n",
       "      <th>c2</th>\n",
       "      <td>0.2</td>\n",
       "      <td>1.0</td>\n",
       "      <td>0.4</td>\n",
       "      <td>-0.2</td>\n",
       "      <td>0.4</td>\n",
       "    </tr>\n",
       "    <tr>\n",
       "      <th>c3</th>\n",
       "      <td>-0.4</td>\n",
       "      <td>0.4</td>\n",
       "      <td>1.0</td>\n",
       "      <td>0.0</td>\n",
       "      <td>-0.2</td>\n",
       "    </tr>\n",
       "    <tr>\n",
       "      <th>c4</th>\n",
       "      <td>0.6</td>\n",
       "      <td>-0.2</td>\n",
       "      <td>0.0</td>\n",
       "      <td>1.0</td>\n",
       "      <td>-0.4</td>\n",
       "    </tr>\n",
       "    <tr>\n",
       "      <th>c5</th>\n",
       "      <td>0.0</td>\n",
       "      <td>0.4</td>\n",
       "      <td>-0.2</td>\n",
       "      <td>-0.4</td>\n",
       "      <td>1.0</td>\n",
       "    </tr>\n",
       "  </tbody>\n",
       "</table>\n",
       "</div>"
      ],
      "text/plain": [
       "     c1   c2   c3   c4   c5\n",
       "c1  1.0  0.2 -0.4  0.6  0.0\n",
       "c2  0.2  1.0  0.4 -0.2  0.4\n",
       "c3 -0.4  0.4  1.0  0.0 -0.2\n",
       "c4  0.6 -0.2  0.0  1.0 -0.4\n",
       "c5  0.0  0.4 -0.2 -0.4  1.0"
      ]
     },
     "execution_count": 51,
     "metadata": {},
     "output_type": "execute_result"
    }
   ],
   "source": [
    "df1.corr(method='kendall')"
   ]
  },
  {
   "cell_type": "markdown",
   "metadata": {
    "id": "YgNRhMC33wLE"
   },
   "source": [
    "Compute the average value, maximum, minimum and sum of different columns or rows."
   ]
  },
  {
   "cell_type": "code",
   "execution_count": 52,
   "metadata": {
    "colab": {
     "base_uri": "https://localhost:8080/"
    },
    "id": "eB30h7LY4Id_",
    "outputId": "da797f9a-c6bc-460f-c0ef-1b5fe1837d58"
   },
   "outputs": [
    {
     "data": {
      "text/plain": [
       "c1    0.270279\n",
       "c2    0.583126\n",
       "c3    0.513368\n",
       "c4    0.594373\n",
       "c5    0.513454\n",
       "dtype: float64"
      ]
     },
     "execution_count": 52,
     "metadata": {},
     "output_type": "execute_result"
    }
   ],
   "source": [
    "# compute average value of each column by default.\n",
    "df1.mean()"
   ]
  },
  {
   "cell_type": "markdown",
   "metadata": {},
   "source": [
    "Compute the sum of each row by specifying the `axis` argument as 'columns' or 1."
   ]
  },
  {
   "cell_type": "code",
   "execution_count": 53,
   "metadata": {
    "colab": {
     "base_uri": "https://localhost:8080/"
    },
    "id": "hJqgdgdT4MdK",
    "outputId": "65f7a511-d303-4f2f-8c51-a648f73006a7"
   },
   "outputs": [
    {
     "data": {
      "text/plain": [
       "i1    1.783832\n",
       "i2    2.723690\n",
       "i3    2.868875\n",
       "i4    3.505750\n",
       "i5    1.490860\n",
       "dtype: float64"
      ]
     },
     "execution_count": 53,
     "metadata": {},
     "output_type": "execute_result"
    }
   ],
   "source": [
    "df1.sum(axis=1)"
   ]
  },
  {
   "cell_type": "markdown",
   "metadata": {},
   "source": [
    "Display a summary of the characteristics of the dataframe"
   ]
  },
  {
   "cell_type": "code",
   "execution_count": 54,
   "metadata": {
    "colab": {
     "base_uri": "https://localhost:8080/",
     "height": 300
    },
    "id": "LsmR45W44ORW",
    "outputId": "52db656b-c446-480e-a9ca-cbf5cb39b925"
   },
   "outputs": [
    {
     "data": {
      "text/html": [
       "<div>\n",
       "<style scoped>\n",
       "    .dataframe tbody tr th:only-of-type {\n",
       "        vertical-align: middle;\n",
       "    }\n",
       "\n",
       "    .dataframe tbody tr th {\n",
       "        vertical-align: top;\n",
       "    }\n",
       "\n",
       "    .dataframe thead th {\n",
       "        text-align: right;\n",
       "    }\n",
       "</style>\n",
       "<table border=\"1\" class=\"dataframe\">\n",
       "  <thead>\n",
       "    <tr style=\"text-align: right;\">\n",
       "      <th></th>\n",
       "      <th>c1</th>\n",
       "      <th>c2</th>\n",
       "      <th>c3</th>\n",
       "      <th>c4</th>\n",
       "      <th>c5</th>\n",
       "    </tr>\n",
       "  </thead>\n",
       "  <tbody>\n",
       "    <tr>\n",
       "      <th>count</th>\n",
       "      <td>5.000000</td>\n",
       "      <td>5.000000</td>\n",
       "      <td>5.000000</td>\n",
       "      <td>5.000000</td>\n",
       "      <td>5.000000</td>\n",
       "    </tr>\n",
       "    <tr>\n",
       "      <th>mean</th>\n",
       "      <td>0.270279</td>\n",
       "      <td>0.583126</td>\n",
       "      <td>0.513368</td>\n",
       "      <td>0.594373</td>\n",
       "      <td>0.513454</td>\n",
       "    </tr>\n",
       "    <tr>\n",
       "      <th>std</th>\n",
       "      <td>0.269905</td>\n",
       "      <td>0.228082</td>\n",
       "      <td>0.292646</td>\n",
       "      <td>0.199518</td>\n",
       "      <td>0.287631</td>\n",
       "    </tr>\n",
       "    <tr>\n",
       "      <th>min</th>\n",
       "      <td>0.032103</td>\n",
       "      <td>0.304754</td>\n",
       "      <td>0.110865</td>\n",
       "      <td>0.385178</td>\n",
       "      <td>0.260918</td>\n",
       "    </tr>\n",
       "    <tr>\n",
       "      <th>25%</th>\n",
       "      <td>0.151029</td>\n",
       "      <td>0.382652</td>\n",
       "      <td>0.378931</td>\n",
       "      <td>0.448209</td>\n",
       "      <td>0.309769</td>\n",
       "    </tr>\n",
       "    <tr>\n",
       "      <th>50%</th>\n",
       "      <td>0.199557</td>\n",
       "      <td>0.681723</td>\n",
       "      <td>0.491654</td>\n",
       "      <td>0.526626</td>\n",
       "      <td>0.349577</td>\n",
       "    </tr>\n",
       "    <tr>\n",
       "      <th>75%</th>\n",
       "      <td>0.235567</td>\n",
       "      <td>0.708488</td>\n",
       "      <td>0.738092</td>\n",
       "      <td>0.804465</td>\n",
       "      <td>0.766280</td>\n",
       "    </tr>\n",
       "    <tr>\n",
       "      <th>max</th>\n",
       "      <td>0.733140</td>\n",
       "      <td>0.838012</td>\n",
       "      <td>0.847301</td>\n",
       "      <td>0.807389</td>\n",
       "      <td>0.880727</td>\n",
       "    </tr>\n",
       "  </tbody>\n",
       "</table>\n",
       "</div>"
      ],
      "text/plain": [
       "             c1        c2        c3        c4        c5\n",
       "count  5.000000  5.000000  5.000000  5.000000  5.000000\n",
       "mean   0.270279  0.583126  0.513368  0.594373  0.513454\n",
       "std    0.269905  0.228082  0.292646  0.199518  0.287631\n",
       "min    0.032103  0.304754  0.110865  0.385178  0.260918\n",
       "25%    0.151029  0.382652  0.378931  0.448209  0.309769\n",
       "50%    0.199557  0.681723  0.491654  0.526626  0.349577\n",
       "75%    0.235567  0.708488  0.738092  0.804465  0.766280\n",
       "max    0.733140  0.838012  0.847301  0.807389  0.880727"
      ]
     },
     "execution_count": 54,
     "metadata": {},
     "output_type": "execute_result"
    }
   ],
   "source": [
    "df1.describe()"
   ]
  },
  {
   "cell_type": "markdown",
   "metadata": {
    "id": "qL0xo3jE21cj"
   },
   "source": [
    "### Data ranking"
   ]
  },
  {
   "cell_type": "code",
   "execution_count": 55,
   "metadata": {},
   "outputs": [
    {
     "data": {
      "text/html": [
       "<div>\n",
       "<style scoped>\n",
       "    .dataframe tbody tr th:only-of-type {\n",
       "        vertical-align: middle;\n",
       "    }\n",
       "\n",
       "    .dataframe tbody tr th {\n",
       "        vertical-align: top;\n",
       "    }\n",
       "\n",
       "    .dataframe thead th {\n",
       "        text-align: right;\n",
       "    }\n",
       "</style>\n",
       "<table border=\"1\" class=\"dataframe\">\n",
       "  <thead>\n",
       "    <tr style=\"text-align: right;\">\n",
       "      <th></th>\n",
       "      <th>Country</th>\n",
       "      <th>Capital</th>\n",
       "      <th>Population</th>\n",
       "      <th>Isdeveloped</th>\n",
       "    </tr>\n",
       "  </thead>\n",
       "  <tbody>\n",
       "    <tr>\n",
       "      <th>c</th>\n",
       "      <td>Vietnam</td>\n",
       "      <td>Hanoi</td>\n",
       "      <td>97338579</td>\n",
       "      <td>True</td>\n",
       "    </tr>\n",
       "    <tr>\n",
       "      <th>a</th>\n",
       "      <td>Malaysia</td>\n",
       "      <td>Kuala Lumpur</td>\n",
       "      <td>32365999</td>\n",
       "      <td>False</td>\n",
       "    </tr>\n",
       "    <tr>\n",
       "      <th>b</th>\n",
       "      <td>Singapore</td>\n",
       "      <td>Singapore</td>\n",
       "      <td>5850342</td>\n",
       "      <td>True</td>\n",
       "    </tr>\n",
       "  </tbody>\n",
       "</table>\n",
       "</div>"
      ],
      "text/plain": [
       "     Country       Capital  Population  Isdeveloped\n",
       "c    Vietnam         Hanoi    97338579         True\n",
       "a   Malaysia  Kuala Lumpur    32365999        False\n",
       "b  Singapore     Singapore     5850342         True"
      ]
     },
     "execution_count": 55,
     "metadata": {},
     "output_type": "execute_result"
    }
   ],
   "source": [
    "df1 = df.copy(deep=True)\n",
    "df1.sort_values(by=['Population', 'Country'], ascending=False, na_position='first')"
   ]
  },
  {
   "cell_type": "markdown",
   "metadata": {
    "id": "MkRbeFSU5bhC"
   },
   "source": [
    "## NaN value"
   ]
  },
  {
   "cell_type": "code",
   "execution_count": 56,
   "metadata": {
    "colab": {
     "base_uri": "https://localhost:8080/",
     "height": 206
    },
    "id": "Pth4B8Up5oMe",
    "outputId": "98534856-c078-4698-fbc9-691486f9189d"
   },
   "outputs": [
    {
     "data": {
      "text/html": [
       "<div>\n",
       "<style scoped>\n",
       "    .dataframe tbody tr th:only-of-type {\n",
       "        vertical-align: middle;\n",
       "    }\n",
       "\n",
       "    .dataframe tbody tr th {\n",
       "        vertical-align: top;\n",
       "    }\n",
       "\n",
       "    .dataframe thead th {\n",
       "        text-align: right;\n",
       "    }\n",
       "</style>\n",
       "<table border=\"1\" class=\"dataframe\">\n",
       "  <thead>\n",
       "    <tr style=\"text-align: right;\">\n",
       "      <th></th>\n",
       "      <th>c1</th>\n",
       "      <th>c2</th>\n",
       "      <th>c3</th>\n",
       "      <th>c4</th>\n",
       "      <th>c5</th>\n",
       "    </tr>\n",
       "  </thead>\n",
       "  <tbody>\n",
       "    <tr>\n",
       "      <th>i1</th>\n",
       "      <td>0.395908</td>\n",
       "      <td>NaN</td>\n",
       "      <td>0.023958</td>\n",
       "      <td>0.068045</td>\n",
       "      <td>0.167061</td>\n",
       "    </tr>\n",
       "    <tr>\n",
       "      <th>i2</th>\n",
       "      <td>0.829452</td>\n",
       "      <td>0.347866</td>\n",
       "      <td>0.230082</td>\n",
       "      <td>0.263961</td>\n",
       "      <td>0.281139</td>\n",
       "    </tr>\n",
       "    <tr>\n",
       "      <th>i3</th>\n",
       "      <td>0.414833</td>\n",
       "      <td>0.764508</td>\n",
       "      <td>NaN</td>\n",
       "      <td>0.351841</td>\n",
       "      <td>0.732755</td>\n",
       "    </tr>\n",
       "    <tr>\n",
       "      <th>i4</th>\n",
       "      <td>0.441945</td>\n",
       "      <td>NaN</td>\n",
       "      <td>0.411494</td>\n",
       "      <td>NaN</td>\n",
       "      <td>0.960713</td>\n",
       "    </tr>\n",
       "    <tr>\n",
       "      <th>i5</th>\n",
       "      <td>0.292331</td>\n",
       "      <td>0.366752</td>\n",
       "      <td>0.915061</td>\n",
       "      <td>0.908130</td>\n",
       "      <td>0.084584</td>\n",
       "    </tr>\n",
       "  </tbody>\n",
       "</table>\n",
       "</div>"
      ],
      "text/plain": [
       "          c1        c2        c3        c4        c5\n",
       "i1  0.395908       NaN  0.023958  0.068045  0.167061\n",
       "i2  0.829452  0.347866  0.230082  0.263961  0.281139\n",
       "i3  0.414833  0.764508       NaN  0.351841  0.732755\n",
       "i4  0.441945       NaN  0.411494       NaN  0.960713\n",
       "i5  0.292331  0.366752  0.915061  0.908130  0.084584"
      ]
     },
     "execution_count": 56,
     "metadata": {},
     "output_type": "execute_result"
    }
   ],
   "source": [
    "df1 = pd.DataFrame(np.random.rand(5, 5), index=['i1', 'i2', 'i3', 'i4', 'i5'],\n",
    "                   columns=['c1', 'c2', 'c3', 'c4', 'c5'])\n",
    "df1.iloc[0, 1] = np.nan\n",
    "df1.iloc[2, 2] = np.nan\n",
    "df1.iloc[3, 1] = np.nan\n",
    "df1.iloc[3, 3] = np.nan\n",
    "df1"
   ]
  },
  {
   "cell_type": "code",
   "execution_count": 57,
   "metadata": {
    "colab": {
     "base_uri": "https://localhost:8080/",
     "height": 206
    },
    "id": "2XoP9Bwr9wWN",
    "outputId": "a5e3991c-2e58-4d15-eb08-08e3d67a6279"
   },
   "outputs": [
    {
     "name": "stdout",
     "output_type": "stream",
     "text": [
      "       c1     c2     c3     c4     c5\n",
      "i1  False   True  False  False  False\n",
      "i2  False  False  False  False  False\n",
      "i3  False  False   True  False  False\n",
      "i4  False   True  False   True  False\n",
      "i5  False  False  False  False  False\n",
      "      c1     c2     c3     c4    c5\n",
      "i1  True  False   True   True  True\n",
      "i2  True   True   True   True  True\n",
      "i3  True   True  False   True  True\n",
      "i4  True  False   True  False  True\n",
      "i5  True   True   True   True  True\n",
      "       c1     c2     c3     c4     c5\n",
      "i1  False   True  False  False  False\n",
      "i2  False  False  False  False  False\n",
      "i3  False  False   True  False  False\n",
      "i4  False   True  False   True  False\n",
      "i5  False  False  False  False  False\n"
     ]
    }
   ],
   "source": [
    "# detecting nan value\n",
    "print(df1.isnull())\n",
    "print(df1.notnull())\n",
    "print(df1.isna())"
   ]
  },
  {
   "cell_type": "markdown",
   "metadata": {},
   "source": [
    "After detecting `NaN` with Boolean values, you can easily get the number of `NaN` values"
   ]
  },
  {
   "cell_type": "code",
   "execution_count": 58,
   "metadata": {},
   "outputs": [
    {
     "data": {
      "text/plain": [
       "i1    1\n",
       "i2    0\n",
       "i3    1\n",
       "i4    2\n",
       "i5    0\n",
       "dtype: int64"
      ]
     },
     "execution_count": 58,
     "metadata": {},
     "output_type": "execute_result"
    }
   ],
   "source": [
    "# False:0, True:1\n",
    "df1.isnull().sum(axis=1)"
   ]
  },
  {
   "cell_type": "markdown",
   "metadata": {},
   "source": [
    "Fill `NaN` with a specific value or a value generated by some rules"
   ]
  },
  {
   "cell_type": "code",
   "execution_count": 59,
   "metadata": {
    "colab": {
     "base_uri": "https://localhost:8080/",
     "height": 206
    },
    "id": "mmE-Vtkc-POU",
    "outputId": "57f9ef90-800f-497f-eb13-f4a309d8530a"
   },
   "outputs": [
    {
     "data": {
      "text/html": [
       "<div>\n",
       "<style scoped>\n",
       "    .dataframe tbody tr th:only-of-type {\n",
       "        vertical-align: middle;\n",
       "    }\n",
       "\n",
       "    .dataframe tbody tr th {\n",
       "        vertical-align: top;\n",
       "    }\n",
       "\n",
       "    .dataframe thead th {\n",
       "        text-align: right;\n",
       "    }\n",
       "</style>\n",
       "<table border=\"1\" class=\"dataframe\">\n",
       "  <thead>\n",
       "    <tr style=\"text-align: right;\">\n",
       "      <th></th>\n",
       "      <th>c1</th>\n",
       "      <th>c2</th>\n",
       "      <th>c3</th>\n",
       "      <th>c4</th>\n",
       "      <th>c5</th>\n",
       "    </tr>\n",
       "  </thead>\n",
       "  <tbody>\n",
       "    <tr>\n",
       "      <th>i1</th>\n",
       "      <td>0.395908</td>\n",
       "      <td>0.000000</td>\n",
       "      <td>0.023958</td>\n",
       "      <td>0.068045</td>\n",
       "      <td>0.167061</td>\n",
       "    </tr>\n",
       "    <tr>\n",
       "      <th>i2</th>\n",
       "      <td>0.829452</td>\n",
       "      <td>0.347866</td>\n",
       "      <td>0.230082</td>\n",
       "      <td>0.263961</td>\n",
       "      <td>0.281139</td>\n",
       "    </tr>\n",
       "    <tr>\n",
       "      <th>i3</th>\n",
       "      <td>0.414833</td>\n",
       "      <td>0.764508</td>\n",
       "      <td>0.000000</td>\n",
       "      <td>0.351841</td>\n",
       "      <td>0.732755</td>\n",
       "    </tr>\n",
       "    <tr>\n",
       "      <th>i4</th>\n",
       "      <td>0.441945</td>\n",
       "      <td>0.000000</td>\n",
       "      <td>0.411494</td>\n",
       "      <td>0.000000</td>\n",
       "      <td>0.960713</td>\n",
       "    </tr>\n",
       "    <tr>\n",
       "      <th>i5</th>\n",
       "      <td>0.292331</td>\n",
       "      <td>0.366752</td>\n",
       "      <td>0.915061</td>\n",
       "      <td>0.908130</td>\n",
       "      <td>0.084584</td>\n",
       "    </tr>\n",
       "  </tbody>\n",
       "</table>\n",
       "</div>"
      ],
      "text/plain": [
       "          c1        c2        c3        c4        c5\n",
       "i1  0.395908  0.000000  0.023958  0.068045  0.167061\n",
       "i2  0.829452  0.347866  0.230082  0.263961  0.281139\n",
       "i3  0.414833  0.764508  0.000000  0.351841  0.732755\n",
       "i4  0.441945  0.000000  0.411494  0.000000  0.960713\n",
       "i5  0.292331  0.366752  0.915061  0.908130  0.084584"
      ]
     },
     "execution_count": 59,
     "metadata": {},
     "output_type": "execute_result"
    }
   ],
   "source": [
    "# fill NaN value using a specific value\n",
    "df1.fillna(value=0)"
   ]
  },
  {
   "cell_type": "code",
   "execution_count": 60,
   "metadata": {
    "colab": {
     "base_uri": "https://localhost:8080/",
     "height": 206
    },
    "id": "CWl_6asY-VWN",
    "outputId": "de39f3a8-85fc-4639-dce3-264213a09c5d"
   },
   "outputs": [
    {
     "data": {
      "text/html": [
       "<div>\n",
       "<style scoped>\n",
       "    .dataframe tbody tr th:only-of-type {\n",
       "        vertical-align: middle;\n",
       "    }\n",
       "\n",
       "    .dataframe tbody tr th {\n",
       "        vertical-align: top;\n",
       "    }\n",
       "\n",
       "    .dataframe thead th {\n",
       "        text-align: right;\n",
       "    }\n",
       "</style>\n",
       "<table border=\"1\" class=\"dataframe\">\n",
       "  <thead>\n",
       "    <tr style=\"text-align: right;\">\n",
       "      <th></th>\n",
       "      <th>c1</th>\n",
       "      <th>c2</th>\n",
       "      <th>c3</th>\n",
       "      <th>c4</th>\n",
       "      <th>c5</th>\n",
       "    </tr>\n",
       "  </thead>\n",
       "  <tbody>\n",
       "    <tr>\n",
       "      <th>i1</th>\n",
       "      <td>0.395908</td>\n",
       "      <td>NaN</td>\n",
       "      <td>0.023958</td>\n",
       "      <td>0.068045</td>\n",
       "      <td>0.167061</td>\n",
       "    </tr>\n",
       "    <tr>\n",
       "      <th>i2</th>\n",
       "      <td>0.829452</td>\n",
       "      <td>0.347866</td>\n",
       "      <td>0.230082</td>\n",
       "      <td>0.263961</td>\n",
       "      <td>0.281139</td>\n",
       "    </tr>\n",
       "    <tr>\n",
       "      <th>i3</th>\n",
       "      <td>0.414833</td>\n",
       "      <td>0.764508</td>\n",
       "      <td>0.230082</td>\n",
       "      <td>0.351841</td>\n",
       "      <td>0.732755</td>\n",
       "    </tr>\n",
       "    <tr>\n",
       "      <th>i4</th>\n",
       "      <td>0.441945</td>\n",
       "      <td>0.764508</td>\n",
       "      <td>0.411494</td>\n",
       "      <td>0.351841</td>\n",
       "      <td>0.960713</td>\n",
       "    </tr>\n",
       "    <tr>\n",
       "      <th>i5</th>\n",
       "      <td>0.292331</td>\n",
       "      <td>0.366752</td>\n",
       "      <td>0.915061</td>\n",
       "      <td>0.908130</td>\n",
       "      <td>0.084584</td>\n",
       "    </tr>\n",
       "  </tbody>\n",
       "</table>\n",
       "</div>"
      ],
      "text/plain": [
       "          c1        c2        c3        c4        c5\n",
       "i1  0.395908       NaN  0.023958  0.068045  0.167061\n",
       "i2  0.829452  0.347866  0.230082  0.263961  0.281139\n",
       "i3  0.414833  0.764508  0.230082  0.351841  0.732755\n",
       "i4  0.441945  0.764508  0.411494  0.351841  0.960713\n",
       "i5  0.292331  0.366752  0.915061  0.908130  0.084584"
      ]
     },
     "execution_count": 60,
     "metadata": {},
     "output_type": "execute_result"
    }
   ],
   "source": [
    "# fill NaN value using a method\n",
    "# set inplace to True, the changes will act on dataframe\n",
    "df1.fillna(method=\"ffill\") # other method: ‘backfill’, ‘bfill’, ‘pad’"
   ]
  },
  {
   "cell_type": "code",
   "execution_count": 61,
   "metadata": {
    "colab": {
     "base_uri": "https://localhost:8080/",
     "height": 206
    },
    "id": "uPaPb4xm_AWA",
    "outputId": "b314d87c-dc4f-457f-ec1c-dc7074a73da4"
   },
   "outputs": [
    {
     "data": {
      "text/html": [
       "<div>\n",
       "<style scoped>\n",
       "    .dataframe tbody tr th:only-of-type {\n",
       "        vertical-align: middle;\n",
       "    }\n",
       "\n",
       "    .dataframe tbody tr th {\n",
       "        vertical-align: top;\n",
       "    }\n",
       "\n",
       "    .dataframe thead th {\n",
       "        text-align: right;\n",
       "    }\n",
       "</style>\n",
       "<table border=\"1\" class=\"dataframe\">\n",
       "  <thead>\n",
       "    <tr style=\"text-align: right;\">\n",
       "      <th></th>\n",
       "      <th>c1</th>\n",
       "      <th>c2</th>\n",
       "      <th>c3</th>\n",
       "      <th>c4</th>\n",
       "      <th>c5</th>\n",
       "    </tr>\n",
       "  </thead>\n",
       "  <tbody>\n",
       "    <tr>\n",
       "      <th>i1</th>\n",
       "      <td>0.395908</td>\n",
       "      <td>NaN</td>\n",
       "      <td>0.023958</td>\n",
       "      <td>0.068045</td>\n",
       "      <td>0.167061</td>\n",
       "    </tr>\n",
       "    <tr>\n",
       "      <th>i2</th>\n",
       "      <td>0.829452</td>\n",
       "      <td>0.347866</td>\n",
       "      <td>0.230082</td>\n",
       "      <td>0.263961</td>\n",
       "      <td>0.281139</td>\n",
       "    </tr>\n",
       "    <tr>\n",
       "      <th>i3</th>\n",
       "      <td>0.414833</td>\n",
       "      <td>0.764508</td>\n",
       "      <td>0.230082</td>\n",
       "      <td>0.351841</td>\n",
       "      <td>0.732755</td>\n",
       "    </tr>\n",
       "    <tr>\n",
       "      <th>i4</th>\n",
       "      <td>0.441945</td>\n",
       "      <td>0.764508</td>\n",
       "      <td>0.411494</td>\n",
       "      <td>0.351841</td>\n",
       "      <td>0.960713</td>\n",
       "    </tr>\n",
       "    <tr>\n",
       "      <th>i5</th>\n",
       "      <td>0.292331</td>\n",
       "      <td>0.366752</td>\n",
       "      <td>0.915061</td>\n",
       "      <td>0.908130</td>\n",
       "      <td>0.084584</td>\n",
       "    </tr>\n",
       "  </tbody>\n",
       "</table>\n",
       "</div>"
      ],
      "text/plain": [
       "          c1        c2        c3        c4        c5\n",
       "i1  0.395908       NaN  0.023958  0.068045  0.167061\n",
       "i2  0.829452  0.347866  0.230082  0.263961  0.281139\n",
       "i3  0.414833  0.764508  0.230082  0.351841  0.732755\n",
       "i4  0.441945  0.764508  0.411494  0.351841  0.960713\n",
       "i5  0.292331  0.366752  0.915061  0.908130  0.084584"
      ]
     },
     "execution_count": 61,
     "metadata": {},
     "output_type": "execute_result"
    }
   ],
   "source": [
    "df1.fillna(method=\"pad\")"
   ]
  },
  {
   "cell_type": "code",
   "execution_count": 62,
   "metadata": {
    "colab": {
     "base_uri": "https://localhost:8080/",
     "height": 175
    },
    "id": "mB_g5EN7Ak7v",
    "outputId": "fbdf760a-8fe4-47eb-cd45-94890ee08585"
   },
   "outputs": [
    {
     "data": {
      "text/html": [
       "<div>\n",
       "<style scoped>\n",
       "    .dataframe tbody tr th:only-of-type {\n",
       "        vertical-align: middle;\n",
       "    }\n",
       "\n",
       "    .dataframe tbody tr th {\n",
       "        vertical-align: top;\n",
       "    }\n",
       "\n",
       "    .dataframe thead th {\n",
       "        text-align: right;\n",
       "    }\n",
       "</style>\n",
       "<table border=\"1\" class=\"dataframe\">\n",
       "  <thead>\n",
       "    <tr style=\"text-align: right;\">\n",
       "      <th></th>\n",
       "      <th>c1</th>\n",
       "      <th>c2</th>\n",
       "      <th>c3</th>\n",
       "      <th>c4</th>\n",
       "      <th>c5</th>\n",
       "    </tr>\n",
       "  </thead>\n",
       "  <tbody>\n",
       "    <tr>\n",
       "      <th>i2</th>\n",
       "      <td>0.829452</td>\n",
       "      <td>0.347866</td>\n",
       "      <td>0.230082</td>\n",
       "      <td>0.263961</td>\n",
       "      <td>0.281139</td>\n",
       "    </tr>\n",
       "    <tr>\n",
       "      <th>i5</th>\n",
       "      <td>0.292331</td>\n",
       "      <td>0.366752</td>\n",
       "      <td>0.915061</td>\n",
       "      <td>0.908130</td>\n",
       "      <td>0.084584</td>\n",
       "    </tr>\n",
       "  </tbody>\n",
       "</table>\n",
       "</div>"
      ],
      "text/plain": [
       "          c1        c2        c3        c4        c5\n",
       "i2  0.829452  0.347866  0.230082  0.263961  0.281139\n",
       "i5  0.292331  0.366752  0.915061  0.908130  0.084584"
      ]
     },
     "execution_count": 62,
     "metadata": {},
     "output_type": "execute_result"
    }
   ],
   "source": [
    "# delete NaN value\n",
    "# ‘any’ : If any NA values are present, drop that row or column.\n",
    "# ‘all’ : If all values are NA, drop that row or column.\n",
    "\n",
    "# 0, or ‘index’ : Drop rows which contain missing values.\n",
    "# 1, or ‘columns’ : Drop columns which contain missing value.\n",
    "df1.dropna(axis=\"index\", how=\"any\")"
   ]
  },
  {
   "cell_type": "markdown",
   "metadata": {
    "id": "L9VPonmsD0y8"
   },
   "source": [
    "## Date index"
   ]
  },
  {
   "cell_type": "markdown",
   "metadata": {},
   "source": [
    "Date index is very useful for you to deal with time series. You can create a date index by the `date_range` function. The date index mentioned here is usually discrete with equal intervals and it usually has three features: starting date, end date, and frequency (or intervals)."
   ]
  },
  {
   "cell_type": "code",
   "execution_count": 63,
   "metadata": {
    "id": "UASqMuqFD1MB"
   },
   "outputs": [
    {
     "name": "stdout",
     "output_type": "stream",
     "text": [
      "DatetimeIndex(['2018-01-01 00:00:00', '2018-01-01 01:00:00',\n",
      "               '2018-01-01 02:00:00'],\n",
      "              dtype='datetime64[ns]', freq='H')\n",
      "DatetimeIndex(['2021-09-28 00:00:00', '2021-09-28 10:00:00',\n",
      "               '2021-09-28 20:00:00', '2021-09-29 06:00:00',\n",
      "               '2021-09-29 16:00:00'],\n",
      "              dtype='datetime64[ns]', freq='10H')\n"
     ]
    }
   ],
   "source": [
    "dti = pd.date_range(\"2018-01-01\", periods=3, freq=\"H\")\n",
    "print(dti)\n",
    "dti = pd.date_range(start=\"2021-09-28\", end=\"2021-09-30\", freq=\"10H\")\n",
    "print(dti)"
   ]
  },
  {
   "cell_type": "markdown",
   "metadata": {},
   "source": [
    "Manipulating and converting date times with timezone information"
   ]
  },
  {
   "cell_type": "code",
   "execution_count": 64,
   "metadata": {},
   "outputs": [
    {
     "data": {
      "text/plain": [
       "DatetimeIndex(['2021-09-28 00:00:00+00:00', '2021-09-28 10:00:00+00:00',\n",
       "               '2021-09-28 20:00:00+00:00', '2021-09-29 06:00:00+00:00',\n",
       "               '2021-09-29 16:00:00+00:00'],\n",
       "              dtype='datetime64[ns, UTC]', freq='10H')"
      ]
     },
     "execution_count": 64,
     "metadata": {},
     "output_type": "execute_result"
    }
   ],
   "source": [
    "dti = pd.date_range(start=\"2021-09-28\", end=\"2021-09-30\", freq=\"10H\")\n",
    "dti = dti.tz_localize(\"UTC\")\n",
    "dti"
   ]
  },
  {
   "cell_type": "code",
   "execution_count": 65,
   "metadata": {},
   "outputs": [
    {
     "data": {
      "text/plain": [
       "DatetimeIndex(['2021-09-28 00:00:00+08:00', '2021-09-28 10:00:00+08:00',\n",
       "               '2021-09-28 20:00:00+08:00', '2021-09-29 06:00:00+08:00',\n",
       "               '2021-09-29 16:00:00+08:00'],\n",
       "              dtype='datetime64[ns, Asia/Singapore]', freq=None)"
      ]
     },
     "execution_count": 65,
     "metadata": {},
     "output_type": "execute_result"
    }
   ],
   "source": [
    "dti = pd.date_range(start=\"2021-09-28\", end=\"2021-09-30\", freq=\"10H\")\n",
    "dti = dti.tz_localize(\"Asia/Singapore\")\n",
    "dti"
   ]
  },
  {
   "cell_type": "markdown",
   "metadata": {},
   "source": [
    "Using the `origin` option, one can specify an alternative starting point for the creation of a `DatetimeIndex`. For example, to use 1900-01-01 00:00:00 as the starting time and hour as the unit period length:"
   ]
  },
  {
   "cell_type": "code",
   "execution_count": 66,
   "metadata": {},
   "outputs": [
    {
     "data": {
      "text/plain": [
       "DatetimeIndex(['1900-01-05 04:00:00', '1900-01-05 05:00:00',\n",
       "               '1900-01-05 06:00:00'],\n",
       "              dtype='datetime64[ns]', freq=None)"
      ]
     },
     "execution_count": 66,
     "metadata": {},
     "output_type": "execute_result"
    }
   ],
   "source": [
    "pd.to_datetime([100, 101, 102], unit=\"h\", origin=pd.Timestamp(\"1900-01-01 00:00:00\"))"
   ]
  },
  {
   "cell_type": "markdown",
   "metadata": {},
   "source": [
    "Supported units are `D`: day, `h`: hour, `m`: minute, and `s`: second."
   ]
  },
  {
   "cell_type": "markdown",
   "metadata": {},
   "source": [
    ":::{tip}\n",
    "The time labels of climate products is usually given as a start time point and discrete time interval, and then represented by a column of integers. In this case, we can use the above ways to construct time labels.\n",
    ":::"
   ]
  },
  {
   "cell_type": "markdown",
   "metadata": {
    "id": "TACd0sy3LEkr"
   },
   "source": [
    "## Upsampling and Downsampling"
   ]
  },
  {
   "cell_type": "markdown",
   "metadata": {
    "id": "715aar99N1ov"
   },
   "source": [
    "* Upsampling: Increase the frequency of the samples by interpolation, such as from minutes to seconds. \n",
    "* Downsampling: Decrease the frequency of the samples by aggregation, such as from months to years.\n"
   ]
  },
  {
   "cell_type": "code",
   "execution_count": 67,
   "metadata": {
    "colab": {
     "base_uri": "https://localhost:8080/",
     "height": 238
    },
    "id": "8hO0jujq4l7S",
    "outputId": "e1514541-4ffe-4d0e-df7d-7803864ffd4b"
   },
   "outputs": [
    {
     "data": {
      "text/html": [
       "<div>\n",
       "<style scoped>\n",
       "    .dataframe tbody tr th:only-of-type {\n",
       "        vertical-align: middle;\n",
       "    }\n",
       "\n",
       "    .dataframe tbody tr th {\n",
       "        vertical-align: top;\n",
       "    }\n",
       "\n",
       "    .dataframe thead th {\n",
       "        text-align: right;\n",
       "    }\n",
       "</style>\n",
       "<table border=\"1\" class=\"dataframe\">\n",
       "  <thead>\n",
       "    <tr style=\"text-align: right;\">\n",
       "      <th></th>\n",
       "      <th>Daily Rainfall Total (mm)</th>\n",
       "    </tr>\n",
       "    <tr>\n",
       "      <th>Date</th>\n",
       "      <th></th>\n",
       "    </tr>\n",
       "  </thead>\n",
       "  <tbody>\n",
       "    <tr>\n",
       "      <th>1981-01-01</th>\n",
       "      <td>0.0</td>\n",
       "    </tr>\n",
       "    <tr>\n",
       "      <th>1981-01-02</th>\n",
       "      <td>0.0</td>\n",
       "    </tr>\n",
       "    <tr>\n",
       "      <th>1981-01-03</th>\n",
       "      <td>0.0</td>\n",
       "    </tr>\n",
       "    <tr>\n",
       "      <th>1981-01-04</th>\n",
       "      <td>0.0</td>\n",
       "    </tr>\n",
       "    <tr>\n",
       "      <th>1981-01-05</th>\n",
       "      <td>0.0</td>\n",
       "    </tr>\n",
       "  </tbody>\n",
       "</table>\n",
       "</div>"
      ],
      "text/plain": [
       "            Daily Rainfall Total (mm)\n",
       "Date                                 \n",
       "1981-01-01                        0.0\n",
       "1981-01-02                        0.0\n",
       "1981-01-03                        0.0\n",
       "1981-01-04                        0.0\n",
       "1981-01-05                        0.0"
      ]
     },
     "execution_count": 67,
     "metadata": {},
     "output_type": "execute_result"
    }
   ],
   "source": [
    "# prepare data, this section will be introduced in the next tutorial\n",
    "# Data Source: http://www.weather.gov.sg/climate-historical-daily/\n",
    "data = pd.read_csv('../../assets/data/Changi_daily_rainfall.csv', index_col=0, header=0, parse_dates=True)\n",
    "data.head()"
   ]
  },
  {
   "cell_type": "code",
   "execution_count": 68,
   "metadata": {
    "colab": {
     "base_uri": "https://localhost:8080/",
     "height": 238
    },
    "id": "ELSbqmyqKLrx",
    "outputId": "2fd19060-6ce1-48f8-a9b9-b5457e79fe4f"
   },
   "outputs": [
    {
     "data": {
      "text/html": [
       "<div>\n",
       "<style scoped>\n",
       "    .dataframe tbody tr th:only-of-type {\n",
       "        vertical-align: middle;\n",
       "    }\n",
       "\n",
       "    .dataframe tbody tr th {\n",
       "        vertical-align: top;\n",
       "    }\n",
       "\n",
       "    .dataframe thead th {\n",
       "        text-align: right;\n",
       "    }\n",
       "</style>\n",
       "<table border=\"1\" class=\"dataframe\">\n",
       "  <thead>\n",
       "    <tr style=\"text-align: right;\">\n",
       "      <th></th>\n",
       "      <th>Yearly Rainfall Total (mm)</th>\n",
       "    </tr>\n",
       "    <tr>\n",
       "      <th>Date</th>\n",
       "      <th></th>\n",
       "    </tr>\n",
       "  </thead>\n",
       "  <tbody>\n",
       "    <tr>\n",
       "      <th>1981-12-31</th>\n",
       "      <td>1336.3</td>\n",
       "    </tr>\n",
       "    <tr>\n",
       "      <th>1982-12-31</th>\n",
       "      <td>1581.7</td>\n",
       "    </tr>\n",
       "    <tr>\n",
       "      <th>1983-12-31</th>\n",
       "      <td>1866.5</td>\n",
       "    </tr>\n",
       "    <tr>\n",
       "      <th>1984-12-31</th>\n",
       "      <td>2686.7</td>\n",
       "    </tr>\n",
       "    <tr>\n",
       "      <th>1985-12-31</th>\n",
       "      <td>1483.9</td>\n",
       "    </tr>\n",
       "  </tbody>\n",
       "</table>\n",
       "</div>"
      ],
      "text/plain": [
       "            Yearly Rainfall Total (mm)\n",
       "Date                                  \n",
       "1981-12-31                      1336.3\n",
       "1982-12-31                      1581.7\n",
       "1983-12-31                      1866.5\n",
       "1984-12-31                      2686.7\n",
       "1985-12-31                      1483.9"
      ]
     },
     "execution_count": 68,
     "metadata": {},
     "output_type": "execute_result"
    }
   ],
   "source": [
    "# Downsampling: Convert monthly data to yearly data by sum or max\n",
    "df = data.copy(deep=True)\n",
    "dfsum = df.resample(\"Y\").sum()\n",
    "dfsum.columns = [\"Yearly Rainfall Total (mm)\"]\n",
    "dfsum.head()"
   ]
  },
  {
   "cell_type": "code",
   "execution_count": 69,
   "metadata": {
    "colab": {
     "base_uri": "https://localhost:8080/",
     "height": 238
    },
    "id": "nBnCqjCgMwy9",
    "outputId": "778e5a3c-2a29-4a25-f8cd-8e5c14ac2d82"
   },
   "outputs": [
    {
     "data": {
      "text/html": [
       "<div>\n",
       "<style scoped>\n",
       "    .dataframe tbody tr th:only-of-type {\n",
       "        vertical-align: middle;\n",
       "    }\n",
       "\n",
       "    .dataframe tbody tr th {\n",
       "        vertical-align: top;\n",
       "    }\n",
       "\n",
       "    .dataframe thead th {\n",
       "        text-align: right;\n",
       "    }\n",
       "</style>\n",
       "<table border=\"1\" class=\"dataframe\">\n",
       "  <thead>\n",
       "    <tr style=\"text-align: right;\">\n",
       "      <th></th>\n",
       "      <th>Yearly Rainfall Maximum (mm)</th>\n",
       "    </tr>\n",
       "    <tr>\n",
       "      <th>Date</th>\n",
       "      <th></th>\n",
       "    </tr>\n",
       "  </thead>\n",
       "  <tbody>\n",
       "    <tr>\n",
       "      <th>1981-12-31</th>\n",
       "      <td>71.5</td>\n",
       "    </tr>\n",
       "    <tr>\n",
       "      <th>1982-12-31</th>\n",
       "      <td>109.0</td>\n",
       "    </tr>\n",
       "    <tr>\n",
       "      <th>1983-12-31</th>\n",
       "      <td>181.8</td>\n",
       "    </tr>\n",
       "    <tr>\n",
       "      <th>1984-12-31</th>\n",
       "      <td>154.4</td>\n",
       "    </tr>\n",
       "    <tr>\n",
       "      <th>1985-12-31</th>\n",
       "      <td>86.8</td>\n",
       "    </tr>\n",
       "  </tbody>\n",
       "</table>\n",
       "</div>"
      ],
      "text/plain": [
       "            Yearly Rainfall Maximum (mm)\n",
       "Date                                    \n",
       "1981-12-31                          71.5\n",
       "1982-12-31                         109.0\n",
       "1983-12-31                         181.8\n",
       "1984-12-31                         154.4\n",
       "1985-12-31                          86.8"
      ]
     },
     "execution_count": 69,
     "metadata": {},
     "output_type": "execute_result"
    }
   ],
   "source": [
    "dfmax = df.resample(\"Y\").max()\n",
    "dfmax.columns = [\"Yearly Rainfall Maximum (mm)\"]\n",
    "dfmax.head()"
   ]
  },
  {
   "cell_type": "code",
   "execution_count": 70,
   "metadata": {
    "colab": {
     "base_uri": "https://localhost:8080/",
     "height": 238
    },
    "id": "8ltRovoTPQap",
    "outputId": "4af94db3-d67f-4ce9-cc54-cd1ed009b6dc"
   },
   "outputs": [
    {
     "data": {
      "text/html": [
       "<div>\n",
       "<style scoped>\n",
       "    .dataframe tbody tr th:only-of-type {\n",
       "        vertical-align: middle;\n",
       "    }\n",
       "\n",
       "    .dataframe tbody tr th {\n",
       "        vertical-align: top;\n",
       "    }\n",
       "\n",
       "    .dataframe thead th {\n",
       "        text-align: right;\n",
       "    }\n",
       "</style>\n",
       "<table border=\"1\" class=\"dataframe\">\n",
       "  <thead>\n",
       "    <tr style=\"text-align: right;\">\n",
       "      <th></th>\n",
       "      <th>Yearly Rainfall Maximum (mm)</th>\n",
       "    </tr>\n",
       "    <tr>\n",
       "      <th>Date</th>\n",
       "      <th></th>\n",
       "    </tr>\n",
       "  </thead>\n",
       "  <tbody>\n",
       "    <tr>\n",
       "      <th>1981-12-31</th>\n",
       "      <td>71.5</td>\n",
       "    </tr>\n",
       "    <tr>\n",
       "      <th>1982-01-10</th>\n",
       "      <td>NaN</td>\n",
       "    </tr>\n",
       "    <tr>\n",
       "      <th>1982-01-20</th>\n",
       "      <td>NaN</td>\n",
       "    </tr>\n",
       "    <tr>\n",
       "      <th>1982-01-30</th>\n",
       "      <td>NaN</td>\n",
       "    </tr>\n",
       "    <tr>\n",
       "      <th>1982-02-09</th>\n",
       "      <td>NaN</td>\n",
       "    </tr>\n",
       "  </tbody>\n",
       "</table>\n",
       "</div>"
      ],
      "text/plain": [
       "            Yearly Rainfall Maximum (mm)\n",
       "Date                                    \n",
       "1981-12-31                          71.5\n",
       "1982-01-10                           NaN\n",
       "1982-01-20                           NaN\n",
       "1982-01-30                           NaN\n",
       "1982-02-09                           NaN"
      ]
     },
     "execution_count": 70,
     "metadata": {},
     "output_type": "execute_result"
    }
   ],
   "source": [
    "# Upsampling: Convert monthly data to 10 days' data \n",
    "# by directly return (asfreq) or forward filling (pad/ffill)\n",
    "dfmax.resample('10D').asfreq()[0:5]"
   ]
  },
  {
   "cell_type": "code",
   "execution_count": 71,
   "metadata": {
    "colab": {
     "base_uri": "https://localhost:8080/",
     "height": 238
    },
    "id": "EHbEwjiJP5gW",
    "outputId": "0188d49f-50f9-4271-e765-d3636bdd0292"
   },
   "outputs": [
    {
     "data": {
      "text/html": [
       "<div>\n",
       "<style scoped>\n",
       "    .dataframe tbody tr th:only-of-type {\n",
       "        vertical-align: middle;\n",
       "    }\n",
       "\n",
       "    .dataframe tbody tr th {\n",
       "        vertical-align: top;\n",
       "    }\n",
       "\n",
       "    .dataframe thead th {\n",
       "        text-align: right;\n",
       "    }\n",
       "</style>\n",
       "<table border=\"1\" class=\"dataframe\">\n",
       "  <thead>\n",
       "    <tr style=\"text-align: right;\">\n",
       "      <th></th>\n",
       "      <th>Yearly Rainfall Maximum (mm)</th>\n",
       "    </tr>\n",
       "    <tr>\n",
       "      <th>Date</th>\n",
       "      <th></th>\n",
       "    </tr>\n",
       "  </thead>\n",
       "  <tbody>\n",
       "    <tr>\n",
       "      <th>1981-12-31</th>\n",
       "      <td>71.5</td>\n",
       "    </tr>\n",
       "    <tr>\n",
       "      <th>1982-01-10</th>\n",
       "      <td>71.5</td>\n",
       "    </tr>\n",
       "    <tr>\n",
       "      <th>1982-01-20</th>\n",
       "      <td>71.5</td>\n",
       "    </tr>\n",
       "    <tr>\n",
       "      <th>1982-01-30</th>\n",
       "      <td>71.5</td>\n",
       "    </tr>\n",
       "    <tr>\n",
       "      <th>1982-02-09</th>\n",
       "      <td>71.5</td>\n",
       "    </tr>\n",
       "  </tbody>\n",
       "</table>\n",
       "</div>"
      ],
      "text/plain": [
       "            Yearly Rainfall Maximum (mm)\n",
       "Date                                    \n",
       "1981-12-31                          71.5\n",
       "1982-01-10                          71.5\n",
       "1982-01-20                          71.5\n",
       "1982-01-30                          71.5\n",
       "1982-02-09                          71.5"
      ]
     },
     "execution_count": 71,
     "metadata": {},
     "output_type": "execute_result"
    }
   ],
   "source": [
    "dfmax.resample('10D').pad()[0:5]"
   ]
  },
  {
   "cell_type": "code",
   "execution_count": 72,
   "metadata": {
    "colab": {
     "base_uri": "https://localhost:8080/",
     "height": 238
    },
    "id": "rBZMSwS9RJSx",
    "outputId": "33f7a093-4f5c-474d-9c7b-2e866b60b133"
   },
   "outputs": [
    {
     "data": {
      "text/html": [
       "<div>\n",
       "<style scoped>\n",
       "    .dataframe tbody tr th:only-of-type {\n",
       "        vertical-align: middle;\n",
       "    }\n",
       "\n",
       "    .dataframe tbody tr th {\n",
       "        vertical-align: top;\n",
       "    }\n",
       "\n",
       "    .dataframe thead th {\n",
       "        text-align: right;\n",
       "    }\n",
       "</style>\n",
       "<table border=\"1\" class=\"dataframe\">\n",
       "  <thead>\n",
       "    <tr style=\"text-align: right;\">\n",
       "      <th></th>\n",
       "      <th>Yearly Rainfall Maximum (mm)</th>\n",
       "    </tr>\n",
       "    <tr>\n",
       "      <th>Date</th>\n",
       "      <th></th>\n",
       "    </tr>\n",
       "  </thead>\n",
       "  <tbody>\n",
       "    <tr>\n",
       "      <th>1981-12-31</th>\n",
       "      <td>71.5</td>\n",
       "    </tr>\n",
       "    <tr>\n",
       "      <th>1982-01-01</th>\n",
       "      <td>71.5</td>\n",
       "    </tr>\n",
       "    <tr>\n",
       "      <th>1982-01-02</th>\n",
       "      <td>71.5</td>\n",
       "    </tr>\n",
       "    <tr>\n",
       "      <th>1982-01-03</th>\n",
       "      <td>NaN</td>\n",
       "    </tr>\n",
       "    <tr>\n",
       "      <th>1982-01-04</th>\n",
       "      <td>NaN</td>\n",
       "    </tr>\n",
       "  </tbody>\n",
       "</table>\n",
       "</div>"
      ],
      "text/plain": [
       "            Yearly Rainfall Maximum (mm)\n",
       "Date                                    \n",
       "1981-12-31                          71.5\n",
       "1982-01-01                          71.5\n",
       "1982-01-02                          71.5\n",
       "1982-01-03                           NaN\n",
       "1982-01-04                           NaN"
      ]
     },
     "execution_count": 72,
     "metadata": {},
     "output_type": "execute_result"
    }
   ],
   "source": [
    "dfmax.resample('D').ffill(limit=2)[0:5]"
   ]
  },
  {
   "cell_type": "markdown",
   "metadata": {},
   "source": [
    "## Group DataFrame"
   ]
  },
  {
   "cell_type": "markdown",
   "metadata": {},
   "source": [
    "You can group `DataFrame` using a mapper or by a Series of columns via the `groupby` function. "
   ]
  },
  {
   "cell_type": "code",
   "execution_count": 73,
   "metadata": {},
   "outputs": [
    {
     "name": "stdout",
     "output_type": "stream",
     "text": [
      "          Wind Speed\n",
      "Station             \n",
      "Changi           7.5\n",
      "Climenti        11.0\n",
      "          Wind Speed\n",
      "Station             \n",
      "Changi          10.0\n",
      "Climenti        16.0\n"
     ]
    }
   ],
   "source": [
    "# Calculate average and maximum wind speed of each station\n",
    "df = pd.DataFrame({'Station': ['Changi', 'Changi',\n",
    "                              'Climenti', 'Climenti'],\n",
    "                   'Wind Speed': [10., 5., 6., 16.]})\n",
    "print(df.groupby(['Station']).mean())\n",
    "print(df.groupby(['Station']).max())"
   ]
  },
  {
   "cell_type": "markdown",
   "metadata": {},
   "source": [
    "You can also apply custom function to manipulate each group data via `.apply()` function"
   ]
  },
  {
   "cell_type": "code",
   "execution_count": 74,
   "metadata": {},
   "outputs": [
    {
     "data": {
      "text/html": [
       "<div>\n",
       "<style scoped>\n",
       "    .dataframe tbody tr th:only-of-type {\n",
       "        vertical-align: middle;\n",
       "    }\n",
       "\n",
       "    .dataframe tbody tr th {\n",
       "        vertical-align: top;\n",
       "    }\n",
       "\n",
       "    .dataframe thead th {\n",
       "        text-align: right;\n",
       "    }\n",
       "</style>\n",
       "<table border=\"1\" class=\"dataframe\">\n",
       "  <thead>\n",
       "    <tr style=\"text-align: right;\">\n",
       "      <th></th>\n",
       "      <th>Wind Speed</th>\n",
       "    </tr>\n",
       "  </thead>\n",
       "  <tbody>\n",
       "    <tr>\n",
       "      <th>0</th>\n",
       "      <td>0.714286</td>\n",
       "    </tr>\n",
       "    <tr>\n",
       "      <th>1</th>\n",
       "      <td>0.000000</td>\n",
       "    </tr>\n",
       "    <tr>\n",
       "      <th>2</th>\n",
       "      <td>1.000000</td>\n",
       "    </tr>\n",
       "    <tr>\n",
       "      <th>3</th>\n",
       "      <td>0.000000</td>\n",
       "    </tr>\n",
       "    <tr>\n",
       "      <th>4</th>\n",
       "      <td>0.714286</td>\n",
       "    </tr>\n",
       "    <tr>\n",
       "      <th>5</th>\n",
       "      <td>1.000000</td>\n",
       "    </tr>\n",
       "  </tbody>\n",
       "</table>\n",
       "</div>"
      ],
      "text/plain": [
       "   Wind Speed\n",
       "0    0.714286\n",
       "1    0.000000\n",
       "2    1.000000\n",
       "3    0.000000\n",
       "4    0.714286\n",
       "5    1.000000"
      ]
     },
     "execution_count": 74,
     "metadata": {},
     "output_type": "execute_result"
    }
   ],
   "source": [
    "# custom function\n",
    "df = pd.DataFrame({'Station': ['Changi', 'Changi', 'Changi',\n",
    "                              'Climenti', 'Climenti', 'Climenti'],\n",
    "                   'Wind Speed': [10., 5., 12, 6., 16., 20]})\n",
    "def groupNormalization(w):\n",
    "    return (w-w.min())/(w.max()-w.min())\n",
    "df.groupby(['Station']).apply(groupNormalization)"
   ]
  },
  {
   "cell_type": "markdown",
   "metadata": {},
   "source": [
    "## Input/Output of data"
   ]
  },
  {
   "cell_type": "markdown",
   "metadata": {},
   "source": [
    "Typically, you can read data from files ending with \". xlsx\" and \". csv\" using `read_excel()` and `read_csv()` functions, respectively. The `index_col` and `header` arguments are used to specify the column and row to be used as `index` and `columns` of the dataframe. You can also set `parse_dates` as `True` to parse `index` as the date format. If your date format is uncommon, you can specify the `date_parser` argument to be a function for converting a sequence of string columns to an array of datetime instances."
   ]
  },
  {
   "cell_type": "code",
   "execution_count": 75,
   "metadata": {},
   "outputs": [
    {
     "data": {
      "text/html": [
       "<div>\n",
       "<style scoped>\n",
       "    .dataframe tbody tr th:only-of-type {\n",
       "        vertical-align: middle;\n",
       "    }\n",
       "\n",
       "    .dataframe tbody tr th {\n",
       "        vertical-align: top;\n",
       "    }\n",
       "\n",
       "    .dataframe thead th {\n",
       "        text-align: right;\n",
       "    }\n",
       "</style>\n",
       "<table border=\"1\" class=\"dataframe\">\n",
       "  <thead>\n",
       "    <tr style=\"text-align: right;\">\n",
       "      <th></th>\n",
       "      <th>Daily Rainfall Total (mm)</th>\n",
       "    </tr>\n",
       "    <tr>\n",
       "      <th>Date</th>\n",
       "      <th></th>\n",
       "    </tr>\n",
       "  </thead>\n",
       "  <tbody>\n",
       "    <tr>\n",
       "      <th>1981-01-01</th>\n",
       "      <td>0.0</td>\n",
       "    </tr>\n",
       "    <tr>\n",
       "      <th>1981-01-02</th>\n",
       "      <td>0.0</td>\n",
       "    </tr>\n",
       "    <tr>\n",
       "      <th>1981-01-03</th>\n",
       "      <td>0.0</td>\n",
       "    </tr>\n",
       "    <tr>\n",
       "      <th>1981-01-04</th>\n",
       "      <td>0.0</td>\n",
       "    </tr>\n",
       "    <tr>\n",
       "      <th>1981-01-05</th>\n",
       "      <td>0.0</td>\n",
       "    </tr>\n",
       "  </tbody>\n",
       "</table>\n",
       "</div>"
      ],
      "text/plain": [
       "            Daily Rainfall Total (mm)\n",
       "Date                                 \n",
       "1981-01-01                        0.0\n",
       "1981-01-02                        0.0\n",
       "1981-01-03                        0.0\n",
       "1981-01-04                        0.0\n",
       "1981-01-05                        0.0"
      ]
     },
     "execution_count": 75,
     "metadata": {},
     "output_type": "execute_result"
    }
   ],
   "source": [
    "df = pd.read_csv('../../assets/data/Changi_daily_rainfall.csv', index_col=0, header=0, \n",
    "                 parse_dates=True)\n",
    "df.head()"
   ]
  },
  {
   "cell_type": "code",
   "execution_count": 76,
   "metadata": {},
   "outputs": [
    {
     "data": {
      "text/html": [
       "<div>\n",
       "<style scoped>\n",
       "    .dataframe tbody tr th:only-of-type {\n",
       "        vertical-align: middle;\n",
       "    }\n",
       "\n",
       "    .dataframe tbody tr th {\n",
       "        vertical-align: top;\n",
       "    }\n",
       "\n",
       "    .dataframe thead th {\n",
       "        text-align: right;\n",
       "    }\n",
       "</style>\n",
       "<table border=\"1\" class=\"dataframe\">\n",
       "  <thead>\n",
       "    <tr style=\"text-align: right;\">\n",
       "      <th></th>\n",
       "      <th>Daily Rainfall Total (mm)</th>\n",
       "    </tr>\n",
       "    <tr>\n",
       "      <th>Date</th>\n",
       "      <th></th>\n",
       "    </tr>\n",
       "  </thead>\n",
       "  <tbody>\n",
       "    <tr>\n",
       "      <th>1981-01-01</th>\n",
       "      <td>0.0</td>\n",
       "    </tr>\n",
       "    <tr>\n",
       "      <th>1981-01-02</th>\n",
       "      <td>0.0</td>\n",
       "    </tr>\n",
       "    <tr>\n",
       "      <th>1981-01-03</th>\n",
       "      <td>0.0</td>\n",
       "    </tr>\n",
       "    <tr>\n",
       "      <th>1981-01-04</th>\n",
       "      <td>0.0</td>\n",
       "    </tr>\n",
       "    <tr>\n",
       "      <th>1981-01-05</th>\n",
       "      <td>0.0</td>\n",
       "    </tr>\n",
       "  </tbody>\n",
       "</table>\n",
       "</div>"
      ],
      "text/plain": [
       "            Daily Rainfall Total (mm)\n",
       "Date                                 \n",
       "1981-01-01                        0.0\n",
       "1981-01-02                        0.0\n",
       "1981-01-03                        0.0\n",
       "1981-01-04                        0.0\n",
       "1981-01-05                        0.0"
      ]
     },
     "execution_count": 76,
     "metadata": {},
     "output_type": "execute_result"
    }
   ],
   "source": [
    "custom_dateparse = lambda x: pd.to_datetime(x, format='%Y-%m-%d')\n",
    "df = pd.read_csv('../../assets/data/Changi_daily_rainfall.csv', index_col=0, header=0, \n",
    "                 parse_dates=True, date_parser=custom_dateparse)\n",
    "df.head()"
   ]
  },
  {
   "cell_type": "markdown",
   "metadata": {},
   "source": [
    "You can also specify the `parse_dates` argument as a `list` to parse a column as a date format."
   ]
  },
  {
   "cell_type": "code",
   "execution_count": 77,
   "metadata": {},
   "outputs": [
    {
     "data": {
      "text/html": [
       "<div>\n",
       "<style scoped>\n",
       "    .dataframe tbody tr th:only-of-type {\n",
       "        vertical-align: middle;\n",
       "    }\n",
       "\n",
       "    .dataframe tbody tr th {\n",
       "        vertical-align: top;\n",
       "    }\n",
       "\n",
       "    .dataframe thead th {\n",
       "        text-align: right;\n",
       "    }\n",
       "</style>\n",
       "<table border=\"1\" class=\"dataframe\">\n",
       "  <thead>\n",
       "    <tr style=\"text-align: right;\">\n",
       "      <th></th>\n",
       "      <th>Daily Rainfall Total (mm)</th>\n",
       "    </tr>\n",
       "    <tr>\n",
       "      <th>Date</th>\n",
       "      <th></th>\n",
       "    </tr>\n",
       "  </thead>\n",
       "  <tbody>\n",
       "    <tr>\n",
       "      <th>1981-01-01</th>\n",
       "      <td>0.0</td>\n",
       "    </tr>\n",
       "    <tr>\n",
       "      <th>1981-01-02</th>\n",
       "      <td>0.0</td>\n",
       "    </tr>\n",
       "    <tr>\n",
       "      <th>1981-01-03</th>\n",
       "      <td>0.0</td>\n",
       "    </tr>\n",
       "    <tr>\n",
       "      <th>1981-01-04</th>\n",
       "      <td>0.0</td>\n",
       "    </tr>\n",
       "    <tr>\n",
       "      <th>1981-01-05</th>\n",
       "      <td>0.0</td>\n",
       "    </tr>\n",
       "  </tbody>\n",
       "</table>\n",
       "</div>"
      ],
      "text/plain": [
       "            Daily Rainfall Total (mm)\n",
       "Date                                 \n",
       "1981-01-01                        0.0\n",
       "1981-01-02                        0.0\n",
       "1981-01-03                        0.0\n",
       "1981-01-04                        0.0\n",
       "1981-01-05                        0.0"
      ]
     },
     "execution_count": 77,
     "metadata": {},
     "output_type": "execute_result"
    }
   ],
   "source": [
    "df = pd.read_csv('../../assets/data/Changi_daily_rainfall.csv', index_col=0, header=0, \n",
    "                 parse_dates=[0])\n",
    "df.head()"
   ]
  },
  {
   "cell_type": "markdown",
   "metadata": {},
   "source": [
    "The usage of `read_excel()` function is the same as the `read_csv()`"
   ]
  },
  {
   "cell_type": "markdown",
   "metadata": {},
   "source": [
    ":::{tip}\n",
    "1. The `Series` objects can be regarded as the special `DataFrames` object. Actually, when you extract one column from the `DataFrames`, it will be converted to the `Series`.\n",
    "2. The `DataFrame` object has many of the same usages as the `Numpy` array and you can learn by analogy.\n",
    ":::"
   ]
  },
  {
   "cell_type": "markdown",
   "metadata": {},
   "source": [
    "## References\n",
    "+ [Pandas documentation](https://pandas.pydata.org/docs/).\n",
    "+ [10 minutes to pandas](https://pandas.pydata.org/pandas-docs/stable/user_guide/10min.html)\n",
    "+ [Python Data Analytics](https://www.apress.com/gp/book/9781484209585)"
   ]
  }
 ],
 "metadata": {
  "colab": {
   "collapsed_sections": [],
   "name": "Pandas 40 mins tutorial for climate change.ipynb",
   "provenance": []
  },
  "kernelspec": {
   "display_name": "Python 3 (ipykernel)",
   "language": "python",
   "name": "python3"
  },
  "language_info": {
   "codemirror_mode": {
    "name": "ipython",
    "version": 3
   },
   "file_extension": ".py",
   "mimetype": "text/x-python",
   "name": "python",
   "nbconvert_exporter": "python",
   "pygments_lexer": "ipython3",
   "version": "3.9.7"
  },
  "toc": {
   "base_numbering": 1,
   "nav_menu": {},
   "number_sections": true,
   "sideBar": true,
   "skip_h1_title": false,
   "title_cell": "Table of Contents",
   "title_sidebar": "Contents",
   "toc_cell": false,
   "toc_position": {
    "height": "calc(100% - 180px)",
    "left": "10px",
    "top": "150px",
    "width": "426.667px"
   },
   "toc_section_display": true,
   "toc_window_display": true
  }
 },
 "nbformat": 4,
 "nbformat_minor": 4
}
