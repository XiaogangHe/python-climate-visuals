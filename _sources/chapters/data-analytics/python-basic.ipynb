{
 "cells": [
  {
   "cell_type": "markdown",
   "metadata": {
    "id": "qVrTo-LhL9eS"
   },
   "source": [
    "# Python tutorial"
   ]
  },
  {
   "cell_type": "markdown",
   "metadata": {},
   "source": [
    "Since 2021 Q4, Python has become the [most popular programming language](https://madnight.github.io/githut/#/pull_requests/2022/1). Python code is often said to be almost like pseudocode as it allows you to express powerful ideas in very few codes while being readable. As an example, here is an implementation of the classic quicksort algorithm in Python:"
   ]
  },
  {
   "cell_type": "code",
   "execution_count": 1,
   "metadata": {
    "scrolled": true
   },
   "outputs": [
    {
     "name": "stdout",
     "output_type": "stream",
     "text": [
      "[1, 1, 2, 3, 6, 8, 10]\n"
     ]
    }
   ],
   "source": [
    "def quicksort(arr):\n",
    "    if len(arr) <= 1:\n",
    "        return arr\n",
    "    pivot = arr[len(arr) // 2]\n",
    "    left = [x for x in arr if x < pivot]\n",
    "    middle = [x for x in arr if x == pivot]\n",
    "    right = [x for x in arr if x > pivot]\n",
    "    return quicksort(left) + middle + quicksort(right)\n",
    "\n",
    "print(quicksort([3, 6, 8, 10, 1, 2, 1]))"
   ]
  },
  {
   "cell_type": "markdown",
   "metadata": {},
   "source": [
    "If you are already familiar with Python, you may choose to skip this tutorial; however, if not, this tutorial will be a quick crash course on Python programming as the basis for subsequent tutorials on data analytics and visualization. In this tutorial, we will cover:\n",
    "\n",
    "* Coding environment of Python\n",
    "* Basic data types and Containers\n",
    "* Control flows and Functions \n",
    "* Classes and Module imports\n",
    "* How to look for help"
   ]
  },
  {
   "cell_type": "markdown",
   "metadata": {
    "tags": []
   },
   "source": [
    "## Jupyter Notebooks\n",
    "\n",
    "Before we dive into Python, we'd like to briefly talk about *notebooks*.\n",
    "A [Jupyter notebook](https://jupyter.org/try) allows you to execute Python code in your web browser, along with writing your own documentation. In Jupyter notebook, the basic unit is blocks, which categorize into two types: \n",
    "1. **Code blocks**, where we write and execute Python codes, and \n",
    "2. **Markdown blocks**, where we write our thoughts in texts. \n",
    "\n",
    "Jupyter makes it an excellent place to test our codes in pieces and record your excellent ideas at the same time; for this reason, it is widely used in data analytics. What's more🤔? the [Binder](https://mybinder.org/) service allows us to run Python codes entirely in the *cloud*. Binder is basically Jupyter notebook on steroids: it's free, requires no setup, comes preinstalled with many packages, and is easy to share with the world.\n",
    "\n",
    "We will use Jupyter notebooks through this module and all the tutorials: \n",
    "+ **Run Tutorials in Binder (recommended)**.\n",
    "Just click the rocket logo 🚀 and binder at the very top of each tutorial.\n",
    "+ **Run Tutorials in Jupyter Notebook**.\n",
    "If you wish to run the notebook locally, we would recommend installing [Anaconda](https://www.anaconda.com/products/individual) to manage your computer environment. After installation, you could open `Anaconda Navigator` and launch Jupyter Notebook in 'Home' page. You will get the same page as Binder. In 'Environments' Page, you could install many third-party packages."
   ]
  },
  {
   "cell_type": "markdown",
   "metadata": {
    "id": "NwS_hu4xL9eo"
   },
   "source": [
    "## Basic data types"
   ]
  },
  {
   "cell_type": "markdown",
   "metadata": {
    "id": "DL5sMSZ9L9eq"
   },
   "source": [
    "### Numbers"
   ]
  },
  {
   "cell_type": "markdown",
   "metadata": {
    "id": "MGS0XEWoL9er"
   },
   "source": [
    "Integers and floats work as you would expect from other languages. When initializing variables, Python would assign proper data types. Python has a built-in function `type()` to look at the type."
   ]
  },
  {
   "cell_type": "code",
   "execution_count": 2,
   "metadata": {
    "colab": {
     "base_uri": "https://localhost:8080/",
     "height": 52
    },
    "id": "KheDr_zDL9es",
    "outputId": "1db9f4d3-2e0d-4008-f78a-161ed52c4359"
   },
   "outputs": [
    {
     "name": "stdout",
     "output_type": "stream",
     "text": [
      "3 <class 'int'>\n",
      "1.0 <class 'float'>\n"
     ]
    }
   ],
   "source": [
    "x = 3  # x is a variable which is assigned with a numeric value: 3\n",
    "y = 1.0\n",
    "\n",
    "print(x, type(x))  #print() is a built-in function for printing \n",
    "print(y, type(y))"
   ]
  },
  {
   "cell_type": "markdown",
   "metadata": {},
   "source": [
    "Python also supports common operators for numbers, as well as assignment operators."
   ]
  },
  {
   "cell_type": "code",
   "execution_count": 3,
   "metadata": {
    "colab": {
     "base_uri": "https://localhost:8080/",
     "height": 86
    },
    "id": "sk_8DFcuL9ey",
    "outputId": "dd60a271-3457-465d-e16a-41acf12a56ab"
   },
   "outputs": [
    {
     "name": "stdout",
     "output_type": "stream",
     "text": [
      "4\n",
      "6\n",
      "9\n",
      "1\n"
     ]
    }
   ],
   "source": [
    "print(x + 1)  # Addition\n",
    "print(x * 2)  # Multiplication\n",
    "print(x ** 2) # Exponentiation\n",
    "print(x // 2) # Floor division"
   ]
  },
  {
   "cell_type": "code",
   "execution_count": 4,
   "metadata": {
    "colab": {
     "base_uri": "https://localhost:8080/",
     "height": 52
    },
    "id": "U4Jl8K0tL9e4",
    "outputId": "07e3db14-3781-42b7-8ba6-042b3f9f72ba"
   },
   "outputs": [
    {
     "name": "stdout",
     "output_type": "stream",
     "text": [
      "1.0\n",
      "2.0\n",
      "4.0\n"
     ]
    }
   ],
   "source": [
    "print(y)\n",
    "y += 1  # Same as y = y + 1\n",
    "print(y)\n",
    "y *= 2  # Same as y = y * 2\n",
    "print(y)"
   ]
  },
  {
   "cell_type": "markdown",
   "metadata": {
    "id": "EqRS7qhBL9fC"
   },
   "source": [
    "### Booleans"
   ]
  },
  {
   "cell_type": "markdown",
   "metadata": {
    "id": "Nv_LIVOJL9fD"
   },
   "source": [
    "In Python, the two Boolean constants are written as `True` and `False`."
   ]
  },
  {
   "cell_type": "code",
   "execution_count": 5,
   "metadata": {
    "colab": {
     "base_uri": "https://localhost:8080/",
     "height": 34
    },
    "id": "RvoImwgGL9fE",
    "outputId": "1517077b-edca-463f-857b-6a8c386cd387",
    "scrolled": true
   },
   "outputs": [
    {
     "name": "stdout",
     "output_type": "stream",
     "text": [
      "<class 'bool'> <class 'bool'>\n"
     ]
    }
   ],
   "source": [
    "t, f = True, False  # Python can do multiple assignments in one line\n",
    "print(type(t), type(f))"
   ]
  },
  {
   "cell_type": "markdown",
   "metadata": {
    "id": "YQgmQfOgL9fI"
   },
   "source": [
    "Now let's look at logial operators for Booleans: `and`, `or` and `not`."
   ]
  },
  {
   "cell_type": "code",
   "execution_count": 6,
   "metadata": {
    "colab": {
     "base_uri": "https://localhost:8080/",
     "height": 86
    },
    "id": "6zYm7WzCL9fK",
    "outputId": "f3cebe76-5af4-473a-8127-88a1fd60560f",
    "scrolled": true
   },
   "outputs": [
    {
     "name": "stdout",
     "output_type": "stream",
     "text": [
      "False\n",
      "True\n",
      "False\n"
     ]
    }
   ],
   "source": [
    "print(t and f) # Logical AND;\n",
    "print(t or f)  # Logical OR;\n",
    "print(not t)   # Logical NOT;"
   ]
  },
  {
   "cell_type": "markdown",
   "metadata": {},
   "source": [
    "We could do comparison operators to number pairs, which produce Boolean results."
   ]
  },
  {
   "cell_type": "code",
   "execution_count": 7,
   "metadata": {},
   "outputs": [
    {
     "name": "stdout",
     "output_type": "stream",
     "text": [
      "False\n",
      "True\n"
     ]
    }
   ],
   "source": [
    "x, y, z = 3, 1.0, 3.0\n",
    "print(x < y)   # Return True if x is LESS than y\n",
    "print(x == z)  # Return True if x is EQUAL to y"
   ]
  },
  {
   "cell_type": "markdown",
   "metadata": {
    "id": "UQnQWFEyL9fP"
   },
   "source": [
    "### Strings"
   ]
  },
  {
   "cell_type": "code",
   "execution_count": 8,
   "metadata": {
    "colab": {
     "base_uri": "https://localhost:8080/",
     "height": 34
    },
    "id": "AijEDtPFL9fP",
    "outputId": "2a6b0cd7-58f1-43cf-e6b7-bf940d532549"
   },
   "outputs": [
    {
     "name": "stdout",
     "output_type": "stream",
     "text": [
      "hello 5\n"
     ]
    }
   ],
   "source": [
    "h = 'hello'   # String literals can use single quotes\n",
    "w = \"world\"   # or double quotes\n",
    "print(h, len(h))"
   ]
  },
  {
   "cell_type": "markdown",
   "metadata": {},
   "source": [
    "When using `+` operator for strings, it performs the concatenation; but this could not used to string and numbers."
   ]
  },
  {
   "cell_type": "code",
   "execution_count": 9,
   "metadata": {},
   "outputs": [
    {
     "name": "stdout",
     "output_type": "stream",
     "text": [
      "hello world\n"
     ]
    }
   ],
   "source": [
    "hw = h + ' ' + w  # String concatenation\n",
    "print(hw)"
   ]
  },
  {
   "cell_type": "code",
   "execution_count": 10,
   "metadata": {},
   "outputs": [
    {
     "ename": "TypeError",
     "evalue": "can only concatenate str (not \"int\") to str",
     "output_type": "error",
     "traceback": [
      "\u001b[0;31m---------------------------------------------------------------------------\u001b[0m",
      "\u001b[0;31mTypeError\u001b[0m                                 Traceback (most recent call last)",
      "Input \u001b[0;32mIn [10]\u001b[0m, in \u001b[0;36m<cell line: 1>\u001b[0;34m()\u001b[0m\n\u001b[0;32m----> 1\u001b[0m hw1 \u001b[38;5;241m=\u001b[39m \u001b[43mh\u001b[49m\u001b[43m \u001b[49m\u001b[38;5;241;43m+\u001b[39;49m\u001b[43m \u001b[49m\u001b[38;5;124;43m'\u001b[39;49m\u001b[38;5;124;43m \u001b[39;49m\u001b[38;5;124;43m'\u001b[39;49m\u001b[43m \u001b[49m\u001b[38;5;241;43m+\u001b[39;49m\u001b[43m \u001b[49m\u001b[43mw\u001b[49m\u001b[43m \u001b[49m\u001b[38;5;241;43m+\u001b[39;49m\u001b[43m \u001b[49m\u001b[38;5;241;43m1\u001b[39;49m\n",
      "\u001b[0;31mTypeError\u001b[0m: can only concatenate str (not \"int\") to str"
     ]
    }
   ],
   "source": [
    "hw1 = h + ' ' + w + 1  # Cannot concatenate with numbers"
   ]
  },
  {
   "cell_type": "markdown",
   "metadata": {},
   "source": [
    "However, we could format strings based on other variables. One common way is to use `%` in the string inserting values that come after, quite similar to C and Matlab."
   ]
  },
  {
   "cell_type": "code",
   "execution_count": 11,
   "metadata": {
    "colab": {
     "base_uri": "https://localhost:8080/",
     "height": 34
    },
    "id": "Nji1_UjYL9fY",
    "outputId": "0149b0ca-425a-4a34-8e24-8dff7080922e"
   },
   "outputs": [
    {
     "name": "stdout",
     "output_type": "stream",
     "text": [
      "hello world     ! Number: 1\n"
     ]
    }
   ],
   "source": [
    "hw1 = \"%s %-10s! Number: %d\"%(h, w, 1) # String formatting\n",
    "print(hw1)"
   ]
  },
  {
   "cell_type": "markdown",
   "metadata": {},
   "source": [
    "The above way insert values in the order they appear. Another way to format strings is to place `{}` within strings and use the `format()` method of strings to insert values. This allows us to insert values in different orders or even use a value multiple times. Distinct to the above method, this method ."
   ]
  },
  {
   "cell_type": "code",
   "execution_count": 12,
   "metadata": {},
   "outputs": [
    {
     "name": "stdout",
     "output_type": "stream",
     "text": [
      "hello world! Number: 2\n",
      "world hello! Number: 3.00 hello\n"
     ]
    }
   ],
   "source": [
    "hw2 = '{} {}! Number: {}'.format(h, w, 2)  # String formatting by sequence\n",
    "print(hw2)\n",
    "hw3 = '{1} {0}! Number: {2:.2f} {0}'.format(h, w, 3)  # String formatting by specifying orders and formats\n",
    "print(hw3)"
   ]
  },
  {
   "cell_type": "markdown",
   "metadata": {
    "id": "bUpl35bIL9fc"
   },
   "source": [
    "String in Python is also an object, which comes with many useful methods; for example:"
   ]
  },
  {
   "cell_type": "code",
   "execution_count": 13,
   "metadata": {
    "colab": {
     "base_uri": "https://localhost:8080/",
     "height": 121
    },
    "id": "VOxGatlsL9fd",
    "outputId": "ab009df3-8643-4d3e-f85f-a813b70db9cb"
   },
   "outputs": [
    {
     "name": "stdout",
     "output_type": "stream",
     "text": [
      "hello\n",
      "HELLO\n",
      "he(ell)(ell)o\n"
     ]
    }
   ],
   "source": [
    "print(h)\n",
    "print(h.upper())       # Convert a string to uppercase; prints \"HELLO\"\n",
    "print(h.replace('l', '(ell)'))  # Replace all instances of one substring with another"
   ]
  },
  {
   "cell_type": "markdown",
   "metadata": {
    "id": "06cayXLtL9fi"
   },
   "source": [
    "You can find more information about Python basic data types in the official [documantion](https://docs.python.org/3.7/library/stdtypes.html), such as a list of [all string methods](https://docs.python.org/3.7/library/stdtypes.html#string-methods)."
   ]
  },
  {
   "cell_type": "markdown",
   "metadata": {
    "id": "p-6hClFjL9fk"
   },
   "source": [
    "## Containers"
   ]
  },
  {
   "cell_type": "markdown",
   "metadata": {
    "id": "FD9H18eQL9fk"
   },
   "source": [
    "It would be really cumbersome to manage each single data with a separate variable. Python includes four built-in container types to store collections of data: **lists**, **dictionaries**, **sets**, and **tuples**."
   ]
  },
  {
   "cell_type": "markdown",
   "metadata": {
    "id": "UsIWOe0LL9fn"
   },
   "source": [
    "### Lists"
   ]
  },
  {
   "cell_type": "markdown",
   "metadata": {
    "id": "wzxX7rgWL9fn"
   },
   "source": [
    "Lists are used to store multiple items in a single variable. In Python syntax, they are enclosed in square brackets `[]` with data separated by a comma `,`. Note that elements in Python lists can be different data types."
   ]
  },
  {
   "cell_type": "code",
   "execution_count": 14,
   "metadata": {
    "colab": {
     "base_uri": "https://localhost:8080/",
     "height": 52
    },
    "id": "hk3A8pPcL9fp",
    "outputId": "b545939a-580c-4356-db95-7ad3670b46e4",
    "scrolled": true
   },
   "outputs": [
    {
     "name": "stdout",
     "output_type": "stream",
     "text": [
      "[3, 1, 'foo'] 3\n"
     ]
    }
   ],
   "source": [
    "ls = [3, 1, 'foo']  # This list contains three elements with different types\n",
    "print(ls, len(ls))  # Built-in function len() return the number of elements"
   ]
  },
  {
   "cell_type": "markdown",
   "metadata": {},
   "source": [
    "After creation, we could use `append` method to add elements to the end of lists, and `pop` method to remove a specific element. Some other methods of list objects can be found [here](https://docs.python.org/3/tutorial/datastructures.html)."
   ]
  },
  {
   "cell_type": "code",
   "execution_count": 15,
   "metadata": {
    "colab": {
     "base_uri": "https://localhost:8080/",
     "height": 34
    },
    "id": "vJ0x5cF-L9fx",
    "outputId": "a97731a3-70e1-4553-d9e0-2aea227cac80",
    "scrolled": true
   },
   "outputs": [
    {
     "name": "stdout",
     "output_type": "stream",
     "text": [
      "[3, 1, 'foo', 'bar']\n",
      "[3, 1, 'foo']\n"
     ]
    }
   ],
   "source": [
    "ls.append('bar') # Add a new element to the end of the list\n",
    "print(ls)\n",
    "ls.pop()         # Remove and return the last element of the list\n",
    "print(ls)"
   ]
  },
  {
   "attachments": {
    "197c0d76-bd8d-47fb-a946-e1706393a447.png": {
     "image/png": "[encoded data removed]"
    }
   },
   "cell_type": "markdown",
   "metadata": {},
   "source": [
    "There are two ways to retrive value(s) in lists:\n",
    "\n",
    "1. **Index** one item:\n",
    "Just use index number within enclosed brackets `[]`. Note that in python, **indexing starts from 0**. Indexing can also be **in reverse order using negative values** as following.\n",
    "<div>\n",
    "<img src=\"attachment:197c0d76-bd8d-47fb-a946-e1706393a447.png\" width=\"500\"/>\n",
    "</div>"
   ]
  },
  {
   "cell_type": "code",
   "execution_count": 16,
   "metadata": {},
   "outputs": [
    {
     "name": "stdout",
     "output_type": "stream",
     "text": [
      "foo\n",
      "foo\n"
     ]
    }
   ],
   "source": [
    "print(ls[2])     # Indexing 3rd element; list indexing starts from 0\n",
    "print(ls[-1])    # Negative indices count from the end of the list"
   ]
  },
  {
   "cell_type": "markdown",
   "metadata": {
    "id": "ovahhxd_L9f5"
   },
   "source": [
    "2. **Slice** a part: \n",
    "Slicing is done by defining the index values of the first element (a) and the last element (b) in the form of parentlist `[a:b]`. **Note that b is not included in the resulting slicing**. If a (or b) is not defined then slicing will include from the first (or till the last)."
   ]
  },
  {
   "cell_type": "code",
   "execution_count": 17,
   "metadata": {
    "colab": {
     "base_uri": "https://localhost:8080/",
     "height": 139
    },
    "id": "ninq666bL9f6",
    "outputId": "c3c2ed92-7358-4fdb-bbc0-e90f82e7e941",
    "scrolled": true
   },
   "outputs": [
    {
     "name": "stdout",
     "output_type": "stream",
     "text": [
      "[0, 1, 2, 3, 4, 5, 6]\n",
      "[2, 3]\n",
      "[2, 3, 4, 5, 6]\n",
      "[0, 1, 2, 3, 4, 5]\n",
      "[0, 1, 8, 9, 4, 5, 6]\n"
     ]
    }
   ],
   "source": [
    "nums = [0, 1, 2, 3, 4, 5, 6]\n",
    "print(nums)\n",
    "print(nums[2:4])    # Get a slice from index 2 to 4 (exclusive)\n",
    "print(nums[2:])     # Get a slice from index 2 to the end\n",
    "print(nums[:-1])    # Slice indices can also be negative\n",
    "nums[2:4] = [8, 9]  # Assign a new sublist to a slice\n",
    "print(nums)"
   ]
  },
  {
   "cell_type": "markdown",
   "metadata": {},
   "source": [
    "You can also slice with a fixed step length (c): `[a:b:c]`."
   ]
  },
  {
   "cell_type": "code",
   "execution_count": 18,
   "metadata": {},
   "outputs": [
    {
     "name": "stdout",
     "output_type": "stream",
     "text": [
      "[0, 8, 4]\n",
      "[6, 5, 4, 9, 8, 1, 0]\n"
     ]
    }
   ],
   "source": [
    "print(nums[:-1:2])  # Get a slice from index 0 to -1 (exclusive) in a step length of 2\n",
    "print(nums[::-1])   # Get a slice of whole list in reverse order"
   ]
  },
  {
   "cell_type": "markdown",
   "metadata": {},
   "source": [
    "We will meet slicing again in `NumPy` [tutorial](./numpy-basic.ipynb)."
   ]
  },
  {
   "cell_type": "markdown",
   "metadata": {
    "id": "H8xsUEFpL9gZ"
   },
   "source": [
    "### Dictionaries"
   ]
  },
  {
   "cell_type": "markdown",
   "metadata": {},
   "source": [
    "A dictionary stores pairs of `key` and `value` in the form of braces `{key: value}`. Dictionaries are more like a database because here you can index a particular sequence with your user-defined string."
   ]
  },
  {
   "cell_type": "code",
   "execution_count": 19,
   "metadata": {},
   "outputs": [
    {
     "name": "stdout",
     "output_type": "stream",
     "text": [
      "cute\n"
     ]
    }
   ],
   "source": [
    "d = {'cat': 'cute', 'dog': 'furry'}  # Create a new dictionary with some data\n",
    "print(d['cat'])       # Get an value from a dictionary"
   ]
  },
  {
   "cell_type": "code",
   "execution_count": 20,
   "metadata": {},
   "outputs": [
    {
     "name": "stdout",
     "output_type": "stream",
     "text": [
      "False\n",
      "True\n"
     ]
    }
   ],
   "source": [
    "print('fish' in d)  # `in` is the membership operator to check the presence\n",
    "d['fish'] = 'wet'   # Set a new entry in a dictionary\n",
    "print('fish' in d)"
   ]
  },
  {
   "cell_type": "markdown",
   "metadata": {},
   "source": [
    "One useful built-in method of dictionaries is `get` where you can get the value with a default for the cases when the key does not exist."
   ]
  },
  {
   "cell_type": "code",
   "execution_count": 21,
   "metadata": {},
   "outputs": [
    {
     "name": "stdout",
     "output_type": "stream",
     "text": [
      "N/A\n",
      "wet\n"
     ]
    }
   ],
   "source": [
    "print(d.get('monkey', 'N/A'))  # Get a value with a default\n",
    "print(d.get('fish', 'N/A'))    # Get a value with a default"
   ]
  },
  {
   "cell_type": "markdown",
   "metadata": {
    "id": "qPsHSKB1L9hF"
   },
   "source": [
    "### Tuples"
   ]
  },
  {
   "cell_type": "markdown",
   "metadata": {
    "id": "kucc0LKVL9hG"
   },
   "source": [
    "A tuple is an **immutable** ordered version of lists in the form of parentheses `()`. A tuple is in many ways similar to a list; one of the most important differences is that tuples can be used as keys in dictionaries, while lists cannot."
   ]
  },
  {
   "cell_type": "code",
   "execution_count": 22,
   "metadata": {
    "colab": {
     "base_uri": "https://localhost:8080/",
     "height": 69
    },
    "id": "9wHUyTKxL9hH",
    "outputId": "cdc5f620-04fe-4b0b-df7a-55b061d23d88"
   },
   "outputs": [
    {
     "name": "stdout",
     "output_type": "stream",
     "text": [
      "{(5, 6): 'Group A', (7, 8): 'Group B'} <class 'tuple'>\n",
      "Group A Group B\n"
     ]
    }
   ],
   "source": [
    "t1 = (5, 6)  # Create a tuple\n",
    "t2 = (7, 8)\n",
    "d = {t1:'Group A', t2:'Group B'}\n",
    "\n",
    "print(d, type(t1))\n",
    "print(d[t1], d[(7, 8)])       "
   ]
  },
  {
   "cell_type": "code",
   "execution_count": 23,
   "metadata": {
    "colab": {
     "base_uri": "https://localhost:8080/",
     "height": 165
    },
    "id": "HoO8zYKzL9hJ",
    "outputId": "28862bfc-0298-40d7-f8c4-168e109d2d93",
    "scrolled": true
   },
   "outputs": [
    {
     "ename": "TypeError",
     "evalue": "'tuple' object does not support item assignment",
     "output_type": "error",
     "traceback": [
      "\u001b[0;31m---------------------------------------------------------------------------\u001b[0m",
      "\u001b[0;31mTypeError\u001b[0m                                 Traceback (most recent call last)",
      "Input \u001b[0;32mIn [23]\u001b[0m, in \u001b[0;36m<cell line: 1>\u001b[0;34m()\u001b[0m\n\u001b[0;32m----> 1\u001b[0m t1[\u001b[38;5;241m0\u001b[39m] \u001b[38;5;241m=\u001b[39m \u001b[38;5;241m1\u001b[39m\n",
      "\u001b[0;31mTypeError\u001b[0m: 'tuple' object does not support item assignment"
     ]
    }
   ],
   "source": [
    "t1[0] = 1  # Tuple is immutable after initialization; "
   ]
  },
  {
   "cell_type": "markdown",
   "metadata": {},
   "source": [
    "## Control Flow"
   ]
  },
  {
   "cell_type": "markdown",
   "metadata": {
    "tags": []
   },
   "source": [
    "### Conditions: `if-elif-else`\n",
    "Control flow of conditions is used to specify different codes of algorithms to run under different conditions. Next is an example. **Note that there should be indentation with four blanks for each section of algorithms.**"
   ]
  },
  {
   "cell_type": "code",
   "execution_count": 24,
   "metadata": {},
   "outputs": [
    {
     "name": "stdout",
     "output_type": "stream",
     "text": [
      "x<y\n"
     ]
    }
   ],
   "source": [
    "x, y = 10, 12\n",
    "\n",
    "if x > y:\n",
    "    print(\"x>y\")  # Four blanks before the algorithm\n",
    "elif x < y:\n",
    "    print(\"x<y\")  # Four blanks before the algorithm\n",
    "else:\n",
    "    print(\"x=y\")  # Four blanks before the algorithm"
   ]
  },
  {
   "cell_type": "markdown",
   "metadata": {
    "jp-MarkdownHeadingCollapsed": true,
    "tags": []
   },
   "source": [
    "### Loops:\n",
    "Control flow of loops is used to iterate codes for each element in containers or under a specific condition."
   ]
  },
  {
   "cell_type": "markdown",
   "metadata": {},
   "source": [
    "+ **`for` loops** across an <u>iterable object</u>\n",
    "\n",
    "List itself is a typical iterable object. Here is an example that iterates over list's elements. Python built-in function `range(a, b)` also returns an iterable sequence from a to b (b not included) with increments by 1 (by default), which is quite common in `for` loops."
   ]
  },
  {
   "cell_type": "code",
   "execution_count": 25,
   "metadata": {},
   "outputs": [
    {
     "name": "stdout",
     "output_type": "stream",
     "text": [
      "[1, 2, 3]\n",
      "[4, 5, 6]\n",
      "[7, 8, 9]\n",
      "Bye\n"
     ]
    }
   ],
   "source": [
    "list_of_lists = [[1, 2, 3], [4, 5, 6], [7, 8, 9]]\n",
    "\n",
    "for list1 in list_of_lists:  # Iterate over elements in list_of_lists\n",
    "    print(list1)             # Four blanks before the algorithm\n",
    "print('Bye')    # Without four blanck, this is not a part of iterations"
   ]
  },
  {
   "cell_type": "code",
   "execution_count": 26,
   "metadata": {},
   "outputs": [
    {
     "name": "stdout",
     "output_type": "stream",
     "text": [
      "[1, 2, 3]\n",
      "[4, 5, 6]\n"
     ]
    }
   ],
   "source": [
    "for i in range(0, 2):\n",
    "    print(list_of_lists[i])"
   ]
  },
  {
   "cell_type": "markdown",
   "metadata": {
    "tags": []
   },
   "source": [
    "For a dictionary, its `item()` method returns an iterable list of keys and values, which could also be employed in `for` loops. As long as we have an iterable item, we could use it for `for` loops."
   ]
  },
  {
   "cell_type": "code",
   "execution_count": 27,
   "metadata": {},
   "outputs": [
    {
     "name": "stdout",
     "output_type": "stream",
     "text": [
      "A person has 2 legs\n",
      "A cat has 4 legs\n",
      "A spider has 8 legs\n"
     ]
    }
   ],
   "source": [
    "d = {'person': 2, 'cat': 4, 'spider': 8}\n",
    "\n",
    "for animal, legs in d.items():\n",
    "    print('A {} has {} legs'.format(animal, legs))"
   ]
  },
  {
   "cell_type": "markdown",
   "metadata": {},
   "source": [
    "+ **`while` loops** under a specific <u>condition</u>"
   ]
  },
  {
   "cell_type": "code",
   "execution_count": 28,
   "metadata": {
    "scrolled": true
   },
   "outputs": [
    {
     "name": "stdout",
     "output_type": "stream",
     "text": [
      "1\n",
      "4\n"
     ]
    }
   ],
   "source": [
    "i = 1\n",
    "while i < 3:    # Iterate when i smaller than 3\n",
    "    print(i**2) # Four blanks before each line of algorithm\n",
    "    i += 1      # Four blanks before"
   ]
  },
  {
   "cell_type": "markdown",
   "metadata": {},
   "source": [
    "### List comprehension and dictionary comprehension\n",
    "As a special feature, comprehension offers a shorter loop syntax within one line. We can employ control flows of other lists for the initialization of a new list."
   ]
  },
  {
   "cell_type": "code",
   "execution_count": 29,
   "metadata": {},
   "outputs": [
    {
     "name": "stdout",
     "output_type": "stream",
     "text": [
      "[0, 1, 4, 9, 16]\n",
      "[0, 4, 16]\n"
     ]
    }
   ],
   "source": [
    "nums = [0, 1, 2, 3, 4]\n",
    "squares = [x**2 for x in nums]\n",
    "print(squares)\n",
    "\n",
    "even_squares = [x**2 for x in nums if x % 2 == 0]\n",
    "print(even_squares)"
   ]
  },
  {
   "cell_type": "markdown",
   "metadata": {},
   "source": [
    "Similarly, for dictionaries, we could use dictionary comprehension to create a new dictionary based on an existing list."
   ]
  },
  {
   "cell_type": "code",
   "execution_count": 30,
   "metadata": {},
   "outputs": [
    {
     "name": "stdout",
     "output_type": "stream",
     "text": [
      "{0: 0, 2: 4, 4: 16}\n"
     ]
    }
   ],
   "source": [
    "even_num_to_square = {x: x**2 for x in nums if x % 2 == 0}\n",
    "print(even_num_to_square)"
   ]
  },
  {
   "cell_type": "markdown",
   "metadata": {
    "id": "AXA4jrEOL9hM"
   },
   "source": [
    "## Functions"
   ]
  },
  {
   "cell_type": "markdown",
   "metadata": {
    "id": "WaRms-QfL9hN"
   },
   "source": [
    "Python functions are defined using the `def` keyword. Here is an example function `sign(x)` which return the sign of `x`. To call a function, use the function name followed by parenthesis."
   ]
  },
  {
   "cell_type": "code",
   "execution_count": 31,
   "metadata": {
    "colab": {
     "base_uri": "https://localhost:8080/",
     "height": 69
    },
    "id": "kiMDUr58L9hN",
    "outputId": "9f53bf9a-7b2a-4c51-9def-398e4677cd6c",
    "scrolled": true
   },
   "outputs": [
    {
     "name": "stdout",
     "output_type": "stream",
     "text": [
      "-1 is negative\n",
      "0 is zero\n",
      "1 is positive\n"
     ]
    }
   ],
   "source": [
    "def sign(x):  # Define a function with one argument x\n",
    "    '''determine the sign of a single value'''\n",
    "    if x > 0:  # four blanks before each line within the function body\n",
    "        return 'positive'  # another four blanks within `if` expressions\n",
    "    elif x < 0:\n",
    "        return 'negative'\n",
    "    else:\n",
    "        return 'zero'\n",
    "\n",
    "for x in [-1, 0, 1]: \n",
    "    print(\"{} is {}\".format(x, sign(x)))  # Use parenthesis to run functions "
   ]
  },
  {
   "cell_type": "markdown",
   "metadata": {},
   "source": [
    "The above function could be read as: a function by name `sign` is defined, which accepts one argument `x`. The statements of this function is an if-elif-else condition flow, returning a string `positive` if `x > 0`, `negative` if `x < 0`, or `zero` when `x == 0`."
   ]
  },
  {
   "cell_type": "markdown",
   "metadata": {
    "id": "U-QJFt8TL9hR"
   },
   "source": [
    "We often define functions to take optional keyword arguments, like this:"
   ]
  },
  {
   "cell_type": "code",
   "execution_count": 32,
   "metadata": {
    "colab": {
     "base_uri": "https://localhost:8080/",
     "height": 52
    },
    "id": "PfsZ3DazL9hR",
    "outputId": "6e6af832-67d8-4d8c-949b-335927684ae3"
   },
   "outputs": [
    {
     "name": "stdout",
     "output_type": "stream",
     "text": [
      "Hello, Bob!\n",
      "HELLO, FRED\n"
     ]
    }
   ],
   "source": [
    "def hello(name, loud=False):\n",
    "    if loud:\n",
    "        print('HELLO, {}'.format(name.upper()))\n",
    "    else:\n",
    "        print('Hello, {}!'.format(name))\n",
    "\n",
    "hello('Bob')  # Without specifin second argument, function would take default for it\n",
    "hello('Fred', loud=True)"
   ]
  },
  {
   "cell_type": "markdown",
   "metadata": {},
   "source": [
    "For the case of one line simple algorithm within the function, Python offers a short `lambda` syntax in the form of `lambda arguments: expression`. The following is an example to calculate $y=x^3+x^2+x$."
   ]
  },
  {
   "cell_type": "code",
   "execution_count": 33,
   "metadata": {},
   "outputs": [
    {
     "name": "stdout",
     "output_type": "stream",
     "text": [
      "-1\n"
     ]
    }
   ],
   "source": [
    "y = lambda x: x**3 + x**2 + x  # define a simple lambda funtion\n",
    "print(y(-1))  # call it"
   ]
  },
  {
   "cell_type": "markdown",
   "metadata": {
    "id": "ObA9PRtQL9hT"
   },
   "source": [
    "## Classes and Objects"
   ]
  },
  {
   "cell_type": "markdown",
   "metadata": {
    "id": "hAzL_lTkL9hU"
   },
   "source": [
    "Using the above knowledge, we can already code the process of algorithms we want. However, the real magic and power of Python are its numerous online packages, supported by evolving and active communities. Before diving into them, let's take a very brief look at the object-oriented programming paradigm in Python, as almost all packages use this paradigm to pack their codes. TBH, almost everything in Python are objects.\n",
    "\n",
    "Object-oriented programming defines a `class` – a \"blueprint\" for creating objects – at first; then we create an instance (**object**), which will incorporate its own properties and methods as defined by `class`. Properties are the **variables** reflecting status of this instance, and methods are the **functions** we could operate on an instance. The syntax for defining classes in Python is straightforward. Note that `.` is used to assign properties, and `__init__` is required for each class as the instance initialization method.\n",
    "\n",
    "**Let's try the following Car 🚗 class example:**"
   ]
  },
  {
   "cell_type": "code",
   "execution_count": 34,
   "metadata": {},
   "outputs": [],
   "source": [
    "class Car():\n",
    "    \n",
    "    def __init__(self, company, model, year):  \n",
    "        \"\"\"initialize the properties of a car\"\"\"\n",
    "        self.company = company  # claim one property of object\n",
    "        self.model = model\n",
    "        self.year = year\n",
    "        self.odometer = 0\n",
    "        \n",
    "    def get_info(self):  # functions are the methods of object\n",
    "        \"\"\"return car information in a string\"\"\"\n",
    "        car_info = \"{} {} {}\".format(self.year, self.company, self.model)\n",
    "        return car_info\n",
    "        \n",
    "    def run(self, distance):\n",
    "        \"\"\"run car for a distance\"\"\"\n",
    "        self.odometer += distance\n",
    "    \n",
    "    def read_odometer(self):\n",
    "        \"\"\"return the distances the car has run through\"\"\"\n",
    "        odo_info = \"This car has run {} km.\".format(self.odometer)\n",
    "        return odo_info"
   ]
  },
  {
   "attachments": {
    "d9bad949-0fee-4840-9f8e-dceb96dcb228.png": {
     "image/png": "[encoded data removed]"
    }
   },
   "cell_type": "markdown",
   "metadata": {},
   "source": [
    "<div>\n",
    "<img src=\"attachment:d9bad949-0fee-4840-9f8e-dceb96dcb228.png\" width=\"700\"/>\n",
    "</div>\n",
    "\n",
    "Let's say now I buy a new car:"
   ]
  },
  {
   "cell_type": "code",
   "execution_count": 35,
   "metadata": {},
   "outputs": [
    {
     "name": "stdout",
     "output_type": "stream",
     "text": [
      "Tesla\n",
      "2022 Tesla Model 3\n"
     ]
    }
   ],
   "source": [
    "my_lovely_car = Car(\"Tesla\", \"Model 3\", 2022)  # calling class name would trigger __init__ to create an instance\n",
    "print(my_lovely_car.company)     # retrive a property\n",
    "print(my_lovely_car.get_info())  # call a method"
   ]
  },
  {
   "cell_type": "markdown",
   "metadata": {},
   "source": [
    "And today I take this car out, and wish to look at distances it has already run by."
   ]
  },
  {
   "cell_type": "code",
   "execution_count": 36,
   "metadata": {},
   "outputs": [
    {
     "name": "stdout",
     "output_type": "stream",
     "text": [
      "This car has run 0 km.\n",
      "This car has run 5.5 km.\n"
     ]
    }
   ],
   "source": [
    "print(my_lovely_car.read_odometer())\n",
    "my_lovely_car.run(5.5)\n",
    "print(my_lovely_car.read_odometer())"
   ]
  },
  {
   "cell_type": "code",
   "execution_count": 37,
   "metadata": {},
   "outputs": [
    {
     "name": "stdout",
     "output_type": "stream",
     "text": [
      "This car has run 8.5 km.\n"
     ]
    }
   ],
   "source": [
    "Car.run(my_lovely_car, 3)  # methods can also be called under the class name\n",
    "print(Car.read_odometer(my_lovely_car))"
   ]
  },
  {
   "cell_type": "markdown",
   "metadata": {},
   "source": [
    "## Import modules"
   ]
  },
  {
   "cell_type": "markdown",
   "metadata": {},
   "source": [
    "It's time to leverage on numerous Python-based packages to empower our codes. We could import modules by a statement of `import`. To access one of the functions, we could specify the name of the module and the name of the classes or functions, concatenating by a dot `.`."
   ]
  },
  {
   "cell_type": "code",
   "execution_count": 38,
   "metadata": {},
   "outputs": [
    {
     "name": "stdout",
     "output_type": "stream",
     "text": [
      "<module 'numpy' from '/Users/Shared/anaconda3/lib/python3.9/site-packages/numpy/__init__.py'>\n",
      "[1 2 3 4]\n"
     ]
    }
   ],
   "source": [
    "import numpy  # import third-party NumPy module\n",
    "\n",
    "print(numpy)\n",
    "print(numpy.arange(1, 5))  # arange function generates an array with evenly spaced values"
   ]
  },
  {
   "cell_type": "markdown",
   "metadata": {},
   "source": [
    "Sometimes, in order to facilitate scripting we assign a short alias to the module name; we may also directly import specific functions or subpackages so that we could use it without the module name."
   ]
  },
  {
   "cell_type": "code",
   "execution_count": 39,
   "metadata": {},
   "outputs": [
    {
     "name": "stdout",
     "output_type": "stream",
     "text": [
      "[1 2 3]\n",
      "0.17016023155694282\n"
     ]
    }
   ],
   "source": [
    "# Assign a short alias to make it easier for us to use it\n",
    "import numpy as np\n",
    "print(np.arange(1, 4))\n",
    "\n",
    "# Import a submodule in module\n",
    "from numpy import random  # random is a submodule of numpy for random sampling\n",
    "print(random.random())    # random.random() function generates a random value"
   ]
  },
  {
   "cell_type": "code",
   "execution_count": 40,
   "metadata": {},
   "outputs": [],
   "source": [
    "# Try this!!!\n",
    "import antigravity"
   ]
  },
  {
   "cell_type": "markdown",
   "metadata": {},
   "source": [
    "## One more thing: Looking for help\n",
    "As you may observe, coding is also a journey of DEBUG 🐞. Learning how to solve problems is also important for programmers. Here are some suggestions when you feel stuck or confused.\n",
    "\n",
    "### Print documentation\n",
    "It is almost impossible to memorize the tremendous amounts of packages and functions. Using built-in function `help()` can quickly print out the capability description of the function, as well as what are the inputs and outputs of this function:"
   ]
  },
  {
   "cell_type": "code",
   "execution_count": 41,
   "metadata": {},
   "outputs": [
    {
     "name": "stdout",
     "output_type": "stream",
     "text": [
      "Help on function ones in module numpy:\n",
      "\n",
      "ones(shape, dtype=None, order='C', *, like=None)\n",
      "    Return a new array of given shape and type, filled with ones.\n",
      "    \n",
      "    Parameters\n",
      "    ----------\n",
      "    shape : int or sequence of ints\n",
      "        Shape of the new array, e.g., ``(2, 3)`` or ``2``.\n",
      "    dtype : data-type, optional\n",
      "        The desired data-type for the array, e.g., `numpy.int8`.  Default is\n",
      "        `numpy.float64`.\n",
      "    order : {'C', 'F'}, optional, default: C\n",
      "        Whether to store multi-dimensional data in row-major\n",
      "        (C-style) or column-major (Fortran-style) order in\n",
      "        memory.\n",
      "    like : array_like\n",
      "        Reference object to allow the creation of arrays which are not\n",
      "        NumPy arrays. If an array-like passed in as ``like`` supports\n",
      "        the ``__array_function__`` protocol, the result will be defined\n",
      "        by it. In this case, it ensures the creation of an array object\n",
      "        compatible with that passed in via this argument.\n",
      "    \n",
      "        .. versionadded:: 1.20.0\n",
      "    \n",
      "    Returns\n",
      "    -------\n",
      "    out : ndarray\n",
      "        Array of ones with the given shape, dtype, and order.\n",
      "    \n",
      "    See Also\n",
      "    --------\n",
      "    ones_like : Return an array of ones with shape and type of input.\n",
      "    empty : Return a new uninitialized array.\n",
      "    zeros : Return a new array setting values to zero.\n",
      "    full : Return a new array of given shape filled with value.\n",
      "    \n",
      "    \n",
      "    Examples\n",
      "    --------\n",
      "    >>> np.ones(5)\n",
      "    array([1., 1., 1., 1., 1.])\n",
      "    \n",
      "    >>> np.ones((5,), dtype=int)\n",
      "    array([1, 1, 1, 1, 1])\n",
      "    \n",
      "    >>> np.ones((2, 1))\n",
      "    array([[1.],\n",
      "           [1.]])\n",
      "    \n",
      "    >>> s = (2,2)\n",
      "    >>> np.ones(s)\n",
      "    array([[1.,  1.],\n",
      "           [1.,  1.]])\n",
      "\n"
     ]
    }
   ],
   "source": [
    "import numpy as np\n",
    "\n",
    "help(np.ones)  # Look for documentation of ones funcion in Numpy"
   ]
  },
  {
   "cell_type": "markdown",
   "metadata": {},
   "source": [
    "### Read online official documentation\n",
    "When learning a new package, it's always good to briefly read its official documentation. A typical well-documented package offers ***User Guide*** (introducing the framework to work around the package), ***API references*** (listing details of each entry in the package), and ***gallery*** (showing off their good examples).\n",
    "\n",
    "Try browsing the [official website of machine learning package](https://scikit-learn.org/stable/index.html) `scikit-learn`! Its doc combines theory, codes, and visualization to deliver ideas.\n",
    "\n",
    "### Search in community: Stack Overflow\n",
    "Python can also be titled as an internet-based programming language, not only because there are so many open-source third-party packages available online, but also due to actively engaged communities. [StackOverflow](https://stackoverflow.com) is a great Q&A website to search for similar questions from community buddies as you have. The answers supported by community the most will show at first following the question."
   ]
  },
  {
   "cell_type": "markdown",
   "metadata": {},
   "source": [
    "## References\n",
    "+ This tutorial was edited based on the [Python Numpy Tutorial](https://cs231n.github.io/python-numpy-tutorial), [Andreas Ernst's Python4Maths](https://gitlab.erc.monash.edu.au/andrease/Python4Maths/tree/master), and [W3Schools](https://www.w3schools.com/python/default.asp).\n",
    "+ This tutorial only touched Python basics that you need to know. You may refer to the official documentation of [Python Standard Library](https://docs.python.org/3.7/library/index.html) for detailed information when necessary."
   ]
  }
 ],
 "metadata": {
  "colab": {
   "collapsed_sections": [],
   "name": "colab-tutorial.ipynb",
   "provenance": [],
   "toc_visible": true
  },
  "kernelspec": {
   "display_name": "Python 3 (ipykernel)",
   "language": "python",
   "name": "python3"
  },
  "language_info": {
   "codemirror_mode": {
    "name": "ipython",
    "version": 3
   },
   "file_extension": ".py",
   "mimetype": "text/x-python",
   "name": "python",
   "nbconvert_exporter": "python",
   "pygments_lexer": "ipython3",
   "version": "3.9.12"
  },
  "varInspector": {
   "cols": {
    "lenName": 16,
    "lenType": 16,
    "lenVar": 40
   },
   "kernels_config": {
    "python": {
     "delete_cmd_postfix": "",
     "delete_cmd_prefix": "del ",
     "library": "var_list.py",
     "varRefreshCmd": "print(var_dic_list())"
    },
    "r": {
     "delete_cmd_postfix": ") ",
     "delete_cmd_prefix": "rm(",
     "library": "var_list.r",
     "varRefreshCmd": "cat(var_dic_list()) "
    }
   },
   "types_to_exclude": [
    "module",
    "function",
    "builtin_function_or_method",
    "instance",
    "_Feature"
   ],
   "window_display": false
  }
 },
 "nbformat": 4,
 "nbformat_minor": 4
}
