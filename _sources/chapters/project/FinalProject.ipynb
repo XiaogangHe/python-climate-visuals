{
 "cells": [
  {
   "cell_type": "markdown",
   "id": "ea863e05",
   "metadata": {},
   "source": [
    "## Visualizing Emerging Risks of Urban Heat Waves in Southeast Asia under Climate Change\n",
    "\n",
    "```{admonition} Project Overview\n",
    ":class: tip\n",
    "\n",
    "Design static visualizations to unravel the invisible risks of urban heat waves in Southeast Asia using the latest climate model simulations.\n",
    "\n",
    "```"
   ]
  },
  {
   "cell_type": "markdown",
   "id": "af48d568",
   "metadata": {},
   "source": [
    "```{admonition} Submission Guide\n",
    "\n",
    "Deadline: **Tuesday 11:59 pm, 30th November 2021** \n",
    "(Note: Late submissions will not be accepted). \n",
    "\n",
    "You must submit your project to LumiNUS. Please upload a Jupyter Notebook with the name “FinalProject_StudentID.ipynb”. You need to include your codes, figures and the required write-ups in a single Jupyter Notebook file. Make sure to write down your student ID and full name in the cell below.\n",
    "\n",
    "For any questions, feel free to contact Prof. Xiaogang HE ([hexg@nus.edu.sg](mailto:hexg@nus.edu.sg)), Huimin WANG ([wanghuimin@u.nus.edu](mailto:wanghuimin@u.nus.edu)) or Zhanwei LIU ([liuzhanwei@u.nus.edu](mailto:liuzhanwei@u.nus.edu)).\n",
    "\n",
    "```"
   ]
  },
  {
   "cell_type": "code",
   "execution_count": 1,
   "id": "c8ae81f2",
   "metadata": {},
   "outputs": [],
   "source": [
    "### Fill your student ID and full name below.\n",
    "\n",
    "# Student ID:\n",
    "# Full name:"
   ]
  },
  {
   "cell_type": "markdown",
   "id": "5abc96cb",
   "metadata": {},
   "source": [
    "### Data Description\n",
    "\n",
    "Each of you has been randomly assigned a city in Southeast Asia (see Figure below) according to your student ID. For this project, you only need to work on the city that we assigned to you. Simulated daily temperature (unit: K) from the latest climate models have been provided (available [here](https://hydrology.princeton.edu/data/hexg/CE3201_final_project_data/)). This data have been divided into two parts: historical (1850.01.01-2014.12.31) simulations (`studentID_historical.nc`) and future (2015.01.01-2100.12.31)  projections (`studentID_future.nc`). Please note that these two files have different dimensions. Historical data is a 2-D array with 10 climate models and 60265 time steps. However, future data is a 3-D array with 10 climate models, 2 climate scenarios (ssp126: sustainable development scenario; ssp585: fossil-fuel based development; check SSP details [here](https://www.carbonbrief.org/explainer-how-shared-socioeconomic-pathways-explore-future-climate-change)), and 31411 time steps. Please check the [Xarray tutorial](https://xiaoganghe.github.io/python-climate-visuals/chapters/data-analytics/xarray-basic.html#read-from-url) for more details (e.g., how to read the data directly from the URL)."
   ]
  },
  {
   "cell_type": "markdown",
   "id": "d38d15ed",
   "metadata": {},
   "source": [
    "<img src=\"../../assets/images/selected_city.png\" width=\"80%\" align=\"center\"/>"
   ]
  },
  {
   "cell_type": "markdown",
   "id": "89af3af8",
   "metadata": {},
   "source": [
    "### Task 1 (30 marks)\n",
    "\n",
    "Create “warming” stripes to visualize historical (1950-2014) and future (2015-2100) warming trends. You can use the annual average temperature from 1850 to 1900 as the baseline to calculate annual temperature anomalies for the required periods (1950-2014 and 2015-2100). "
   ]
  },
  {
   "cell_type": "code",
   "execution_count": 2,
   "id": "a6aa6f17",
   "metadata": {},
   "outputs": [],
   "source": [
    "# Your solutions go here.\n",
    "# Use the + icon in the toolbar to add a cell."
   ]
  },
  {
   "cell_type": "markdown",
   "id": "c03f010a",
   "metadata": {},
   "source": [
    "### Task 2 (50 marks)\n",
    "\n",
    "Design graphs to visualize the changing risks of heat extremes from 1950 to 2100. One possible option is to create “return period” stripes to reflect the changing frequency of heat extremes. To do this, you can:\n",
    "- fit a Generalized Extreme Value (GEV) distribution using annual maximum daily temperature over the baseline period (1850-1900); \n",
    "- based on your fitted GEV, determine the return period for each year over 1950-2100 given its annual maximum temperature; \n",
    "- use your “warming” stripes codes to create similar “return period” stripes but replace temperature anomalies with your calculated return periods."
   ]
  },
  {
   "cell_type": "code",
   "execution_count": 3,
   "id": "a782552a",
   "metadata": {},
   "outputs": [],
   "source": [
    "# Your solutions go here.\n",
    "# Use the + icon in the toolbar to add a cell."
   ]
  },
  {
   "cell_type": "markdown",
   "id": "43a25e7c",
   "metadata": {},
   "source": [
    "### Short Write-ups (20 marks)\n",
    "\n",
    "- What story are you trying to tell? (Hints: You could discuss major findings from your analysis, key takeaways, and possible implications.) \n",
    "- Why did you choose such a design and how does it facilitate effective communication? (Hints: You could provide some rationale in terms of your choice of chart types, use of color, size, etc.)"
   ]
  },
  {
   "cell_type": "code",
   "execution_count": 4,
   "id": "39b394e4",
   "metadata": {},
   "outputs": [],
   "source": [
    "# Your solutions go here.\n",
    "# Use the + icon in the toolbar to add a cell."
   ]
  },
  {
   "cell_type": "markdown",
   "id": "030b48e3",
   "metadata": {},
   "source": [
    "### Tips:\n",
    "- For both tasks, design your visualizations to **incorporate uncertainties** from (1) climate models (which exist over the entire period from 1950-2100) and (2) climate scenarios (which only exist during 2015-2100). \n",
    "- While you can create 20 (10 climate models $\\times$ 2 climate scenarios) similar warming stripes for Task 1 and Task 2, respectively, I hope you could come up with some creative design (e.g., layout, chart types) to visualize all information with a minimum number of graphs. \n",
    "- You can recycle your codes from HW1 and HW2. \n",
    "- Official IPCC visual style guide can be found [here](https://www.ipcc.ch/site/assets/uploads/2019/04/IPCC-visual-style-guide.pdf). \n",
    "- Feel free to make your own design. "
   ]
  },
  {
   "cell_type": "code",
   "execution_count": null,
   "id": "f5414fa3",
   "metadata": {},
   "outputs": [],
   "source": []
  }
 ],
 "metadata": {
  "kernelspec": {
   "display_name": "Python 3",
   "language": "python",
   "name": "python3"
  },
  "language_info": {
   "codemirror_mode": {
    "name": "ipython",
    "version": 3
   },
   "file_extension": ".py",
   "mimetype": "text/x-python",
   "name": "python",
   "nbconvert_exporter": "python",
   "pygments_lexer": "ipython3",
   "version": "3.8.8"
  },
  "toc": {
   "base_numbering": 1,
   "nav_menu": {},
   "number_sections": true,
   "sideBar": true,
   "skip_h1_title": false,
   "title_cell": "Table of Contents",
   "title_sidebar": "Contents",
   "toc_cell": false,
   "toc_position": {},
   "toc_section_display": true,
   "toc_window_display": false
  }
 },
 "nbformat": 4,
 "nbformat_minor": 5
}
