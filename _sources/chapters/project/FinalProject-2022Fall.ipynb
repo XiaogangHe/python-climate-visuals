{
 "cells": [
  {
   "cell_type": "markdown",
   "id": "ea863e05",
   "metadata": {},
   "source": [
    "## Visualizing Urban Heat Stress and Labor Productivity Loss in Southeast Asia under Climate Change\n",
    "\n",
    "```{admonition} Project Overview\n",
    ":class: tip\n",
    "\n",
    "Design static visualizations to unravel the invisible risks of urban heat waves in Southeast Asia using the latest climate model simulations.\n",
    "\n",
    "```"
   ]
  },
  {
   "cell_type": "markdown",
   "id": "af48d568",
   "metadata": {},
   "source": [
    "```{admonition} Submission Guide\n",
    "\n",
    "Deadline: **Tuesday 11:59 pm, 29th November 2022** \n",
    "(Note: Late submissions will not be accepted). \n",
    "\n",
    "You must submit your project to LumiNUS. Please upload a Jupyter Notebook with the name “FinalProject_StudentID.ipynb”. You need to include your codes, figures and the required write-ups in a single Jupyter Notebook file. Make sure to write down your student ID and full name in the cell below.\n",
    "\n",
    "For any questions, feel free to contact Prof. Xiaogang HE ([hexg@nus.edu.sg](mailto:hexg@nus.edu.sg)), Haoling CHEN ([h.chen@u.nus.edu](mailto:h.chen@u.nus.edu)), or Meilian LI ([limeilian@u.nus.edu](mailto:limeilian@u.nus.edu)).\n",
    "\n",
    "```"
   ]
  },
  {
   "cell_type": "code",
   "execution_count": 1,
   "id": "c8ae81f2",
   "metadata": {},
   "outputs": [],
   "source": [
    "### Fill your student ID and full name below.\n",
    "\n",
    "# Student ID:\n",
    "# Full name:"
   ]
  },
  {
   "cell_type": "markdown",
   "id": "5abc96cb",
   "metadata": {},
   "source": [
    "### Data Description\n",
    "\n",
    "Each of you has been randomly assigned a city in Southeast Asia (see Figure below) according to your student ID. For this project, you only need to work on the city that we assigned to you. Simulated near-surface air temperature (tas, unit: K) and near-surface specific humidity (huss, unit: 1) from the latest climate models have been provided (available [here](https://s3.ap-southeast-1.amazonaws.com/2022.nus.ce3201-finalproject)). This data have been divided into two parts: historical (1850.01.01-2014.12.31) simulations (`CityName_hist.csv`) and future (2015.01.01-2099.12.31)  projections (`CityName_future.csv`). Historical data contains 12 climate models and 60265 time steps. However, future data contains 12 climate models, 2 climate scenarios (ssp245: sustainable development scenario; ssp585: fossil-fuel based development; check SSP details [here](https://www.carbonbrief.org/explainer-how-shared-socioeconomic-pathways-explore-future-climate-change)), and 31046 time steps. Please check the [Pandas tutorial](https://xiaoganghe.github.io/python-climate-visuals/chapters/data-analytics/pandas-basic.html#input-output-of-datal) for more details on how to read the `.csv` file."
   ]
  },
  {
   "cell_type": "markdown",
   "id": "d38d15ed",
   "metadata": {},
   "source": [
    "<img src=\"../../assets/images/selected_city.png\" width=\"80%\" align=\"center\"/>"
   ]
  },
  {
   "cell_type": "code",
   "execution_count": 2,
   "id": "d09b7c22",
   "metadata": {},
   "outputs": [
    {
     "name": "stdout",
     "output_type": "stream",
     "text": [
      "Singapore\n"
     ]
    }
   ],
   "source": [
    "# Run the following script to obtain the city assigned to you. \n",
    "# Note: You must use the assigned city for this project.\n",
    "\n",
    "def getCityName(studentID):\n",
    "    \n",
    "    import json\n",
    "    studentCity = json.load(open('../../assets/data/2022_FinalProject_Student_City.json'))\n",
    "    \n",
    "    if studentID not in studentCity.keys():\n",
    "        raise ValueError('%s is not a correct student ID!'%studentID)\n",
    "    else:\n",
    "        return studentCity[studentID]\n",
    "\n",
    "# Example: (please use your own ID)\n",
    "studentID = 'A0239321L'\n",
    "cityName = getCityName(studentID)\n",
    "\n",
    "print(cityName)"
   ]
  },
  {
   "cell_type": "code",
   "execution_count": 3,
   "id": "6274a575",
   "metadata": {},
   "outputs": [],
   "source": [
    "# Run the following script to obtain the data assigned to you. \n",
    "cityName = \"Singapore\"\n",
    "\n",
    "def load_data(cityName):\n",
    "    \n",
    "    import pandas as pd\n",
    "    url = \"https://s3.ap-southeast-1.amazonaws.com/2022.nus.ce3201-finalproject\"\n",
    "    hist_address = url + \"/\" + cityName + \"_hist.csv\"\n",
    "    future_address = url + \"/\" + cityName + \"_future.csv\"\n",
    "    \n",
    "    # Refer to https://pandas.pydata.org/pandas-docs/stable/user_guide/advanced.html\n",
    "    # for more details about MultiIndex of DataFrame \n",
    "    hist = pd.read_csv(hist_address, header=[0,1], \n",
    "                       index_col=0, parse_dates=True)\n",
    "    idx = pd.IndexSlice\n",
    "    huss_hist = hist.loc[:,idx[\"huss\",:]].droplevel(level=0,axis=1)\n",
    "    tas_hist = hist.loc[:,idx[\"tas\",:]].droplevel(level=0,axis=1)\n",
    "    \n",
    "    future = pd.read_csv(future_address, header=[0,1,2], \n",
    "                         index_col=0, parse_dates=True)\n",
    "    huss_ssp245 = future.loc[:,idx[\"huss\",\"ssp245\",:]].droplevel(level=[0,1],axis=1)\n",
    "    huss_ssp585 = future.loc[:,idx[\"huss\",\"ssp585\",:]].droplevel(level=[0,1],axis=1)\n",
    "    tas_ssp245 = future.loc[:,idx[\"tas\",\"ssp245\",:]].droplevel(level=[0,1],axis=1)\n",
    "    tas_ssp585 = future.loc[:,idx[\"tas\",\"ssp585\",:]].droplevel(level=[0,1],axis=1)\n",
    "    \n",
    "    return huss_hist, tas_hist, huss_ssp245, huss_ssp585, tas_ssp245, tas_ssp585\n",
    "\n",
    "huss_hist, tas_hist, huss_ssp245, huss_ssp585, tas_ssp245, tas_ssp585 = load_data(cityName)"
   ]
  },
  {
   "cell_type": "markdown",
   "id": "89af3af8",
   "metadata": {},
   "source": [
    "### Task 1 (20 marks)\n",
    "\n",
    "Create “warming” stripes to visualize historical (1950-2014) and future (2015-2099) warming trends. You can use the annual average temperature from 1850 to 1900 as the baseline to calculate annual temperature anomalies for the required periods (1950-2014 and 2015-2099). "
   ]
  },
  {
   "cell_type": "code",
   "execution_count": 4,
   "id": "a6aa6f17",
   "metadata": {},
   "outputs": [],
   "source": [
    "# Your solutions go here.\n",
    "# Use the + icon in the toolbar to add a cell."
   ]
  },
  {
   "cell_type": "markdown",
   "id": "c03f010a",
   "metadata": {},
   "source": [
    "### Task 2 (40 marks)\n",
    "\n",
    "Visualize the changing risks of heat extremes from 1950 to 2100. To do this, you need to:\n",
    "\n",
    "- Fit Generalized Extreme Value (GEV) distributions using annual and monthly maximum daily temperature over different periods, respectively (e.g., 1850-1900, 1950-2014, 2015-2099).\n",
    "- Visualize the shift in your fitted GEV distributions (based on annual maximum daily temperature) across different scenarios and periods along the horizontal axis.\n",
    "- Visualize the seasonal shift in your fitted GEV distributions along the vertical axis for monthly maximum daily temperature. (Hint: Something similar to the [Ridgeline plot](https://www.data-to-viz.com/graph/ridgeline.html#:~:text=Definition,presented%20with%20a%20slight%20overlap.))"
   ]
  },
  {
   "cell_type": "code",
   "execution_count": 5,
   "id": "432ead68",
   "metadata": {},
   "outputs": [],
   "source": [
    "# Your solutions go here.\n",
    "# Use the + icon in the toolbar to add a cell."
   ]
  },
  {
   "cell_type": "markdown",
   "id": "43a25e7c",
   "metadata": {},
   "source": [
    "### Task 3 (20 marks)\n",
    "\n",
    "Climate-driven extreme heat can undermine the working capacity of individuals, resulting in lower productivity. Based on the identified annual heatwave events in Task 2, analyze historical and future reduced labor productivity caused by extreme heat.\n",
    "To do this, you need to:\n",
    "\n",
    "- Write your own functions to calculate the wet bulb global temperature (WBGT) using specific humidity and temperature as inputs (see Eq (1) in Appendix).\n",
    "- Write your own functions to calculate the productivity index using the empirical labor productivity function (see Eqs (3) in Appendix).\n",
    "- Design your own graphs to visualize the heat-induced productivity loss under different climate change scenarios and across different periods."
   ]
  },
  {
   "cell_type": "code",
   "execution_count": 6,
   "id": "b9813f27",
   "metadata": {},
   "outputs": [],
   "source": [
    "# Your solutions go here.\n",
    "# Use the + icon in the toolbar to add a cell."
   ]
  },
  {
   "cell_type": "markdown",
   "id": "200070e4",
   "metadata": {},
   "source": [
    "### Short Write-ups (20 marks)\n",
    "- What story are you trying to tell? (Hints: You could discuss major findings from your analysis, key takeaways, and possible implications.)\n",
    "- Why did you choose such a design and how does it facilitate effective communication? (Hint: you could provide some rationale in terms of your choice of chart types, use of color, size, etc.)"
   ]
  },
  {
   "cell_type": "code",
   "execution_count": 7,
   "id": "d53eb7d9",
   "metadata": {},
   "outputs": [],
   "source": [
    "# Your write-ups go here.\n",
    "# Use the + icon in the toolbar to add a cell."
   ]
  },
  {
   "cell_type": "markdown",
   "id": "030b48e3",
   "metadata": {},
   "source": [
    "### Tips\n",
    "- For all tasks, design your visualizations to **incorporate uncertainties** from (1) climate models (which exist over the entire period from 1950-2100) and (2) climate scenarios (which only exist during 2015-2100).\n",
    "- While you can create 24 (12 climate models × 2 climate scenarios) similar warming stripes for Task 1 and Task 2, respectively, I hope you could come up with some creative design (e.g., layout, chart types) to visualize all information with a minimum number of graphs.\n",
    "- You can recycle your codes from HW1 and HW2.\n",
    "- Official IPCC visual style guide can be found [here](https://www.ipcc.ch/site/assets/uploads/2019/04/IPCC-visual-style-guide.pdf).\n",
    "- Feel free to make your own design. You can also utilize [animation for storytelling](https://ipyvizzu.vizzuhq.com/)."
   ]
  },
  {
   "cell_type": "markdown",
   "id": "3fc14425",
   "metadata": {},
   "source": [
    "### Appendix\n",
    "The Wet Bulb Globe Temperature (WBGT) is one of the most commonly used heat stress indexes. It can be calculated as:\n",
    "\n",
    "$$\\text{WBGT}=0.567t+0.393e+3.94,\\tag{1}$$\n",
    "\n",
    "where $t$ is temperature (°C) and $e$ is vapor pressure. Given specific humidity $q$, the vapor pressure $e$ can be obtained by:\n",
    "\n",
    "$$e \\approx \\frac{qp}{0.622 + 0.378q}\\tag{2},$$\n",
    "\n",
    "where $p=1013.25$ hPa.\n",
    "\n",
    "Empirical labor productivity functions have been widely applied to assess heat stress-induced labor reduction. Here, we can use the following two-parameter logistic function to estimate labor productivity:\n",
    "\n",
    "$$\\text{productivity}=0.1+\\frac{0.9}{1+(\\text{WBGT}/\\alpha_1)^{\\alpha_2}}\\tag{3},$$\n",
    "\n",
    "where $\\alpha_1 = 32.93$ and $\\alpha_2 = 17.81$ (for moderate workload condition).\n",
    "\n",
    "### References\n",
    "- Kong, Q., & Huber, M. (2022). Explicit calculations of wet‐bulb globe temperature compared with approximations and why it matters for labor productivity. Earth’s Future, 10(3). https://doi.org/10.1029/2021EF002334\n",
    "- García-León, D., Casanueva, A., Standardi, G., Burgstall, A., Flouris, A. D., & Nybo, L. (2021). Current and projected regional economic impacts of heatwaves in Europe. Nature Communications, 12(1), 5807. https://doi.org/10.1038/s41467-021-26050-z\n",
    "- [Humidity Measures (r-project.org)](https://cran.r-project.org/web/packages/humidity/vignettes/humidity-measures.html)"
   ]
  }
 ],
 "metadata": {
  "kernelspec": {
   "display_name": "Python 3",
   "language": "python",
   "name": "python3"
  },
  "language_info": {
   "codemirror_mode": {
    "name": "ipython",
    "version": 3
   },
   "file_extension": ".py",
   "mimetype": "text/x-python",
   "name": "python",
   "nbconvert_exporter": "python",
   "pygments_lexer": "ipython3",
   "version": "3.8.8"
  },
  "toc": {
   "base_numbering": 1,
   "nav_menu": {},
   "number_sections": true,
   "sideBar": true,
   "skip_h1_title": false,
   "title_cell": "Table of Contents",
   "title_sidebar": "Contents",
   "toc_cell": false,
   "toc_position": {},
   "toc_section_display": true,
   "toc_window_display": false
  },
  "vscode": {
   "interpreter": {
    "hash": "916dbcbb3f70747c44a77c7bcd40155683ae19c65e1c03b4aa3499c5328201f1"
   }
  }
 },
 "nbformat": 4,
 "nbformat_minor": 5
}
